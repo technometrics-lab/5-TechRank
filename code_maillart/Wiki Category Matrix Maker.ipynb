{
 "cells": [
  {
   "cell_type": "code",
   "execution_count": 4,
   "id": "legitimate-tablet",
   "metadata": {
    "collapsed": false,
    "jupyter": {
     "outputs_hidden": false
    }
   },
   "outputs": [
    {
     "name": "stderr",
     "output_type": "stream",
     "text": [
      "VERBOSE:pywiki:Starting 1 threads...\n"
     ]
    },
    {
     "name": "stdout",
     "output_type": "stream",
     "text": [
      "Populating the interactive namespace from numpy and matplotlib\n"
     ]
    }
   ],
   "source": [
    "import pywikibot\n",
    "from pywikibot import pagegenerators\n",
    "from pywikibot import userlib\n",
    "import mwparserfromhell as pfh\n",
    "import datetime\n",
    "import pandas as pd\n",
    "import numpy as np\n",
    "from collections import defaultdict\n",
    "import datetime\n",
    "import scipy.stats as ss\n",
    "import operator\n",
    "import os\n",
    "import json\n",
    "import re\n",
    "import MySQLdb\n",
    "\n",
    "%pylab inline\n",
    "\n",
    "\n",
    "enwp, dewp, frwp = (pywikibot.Site(lang, 'wikipedia') for lang in ['en', 'de', 'fr'])"
   ]
  },
  {
   "cell_type": "code",
   "execution_count": 5,
   "id": "hydraulic-automation",
   "metadata": {
    "collapsed": false,
    "jupyter": {
     "outputs_hidden": false
    }
   },
   "outputs": [],
   "source": [
    "#Infonoise metric of Stvilia (2005) in concept, although the implementation may differ since we are not stopping and stemming words, because of the multiple languages we need to handle\n",
    "\n",
    "def readable_text_length(wikicode):\n",
    "    #could also use wikicode.filter_text()\n",
    "    return float(len(wikicode.strip_code()))\n",
    "\n",
    "def infonoise(wikicode):\n",
    "    wikicode.strip_code()\n",
    "    ratio = readable_text_length(wikicode) / float(len(wikicode))\n",
    "    return ratio\n",
    "\n",
    "#Helper function to mine for section headings, of course if there is a lead it doesn't quite make sense.\n",
    "\n",
    "def section_headings(wikicode):\n",
    "    sections = wikicode.get_sections()\n",
    "    sec_headings = map( lambda s: filter( lambda l: l != '=', s), map(lambda a: a.split(sep='\\n', maxsplit=1)[0], sections))\n",
    "    return sec_headings\n",
    "\n",
    "#i don't know why mwparserfromhell's .fitler_tags() isn't working at the moment. going to hack it for now\n",
    "import re\n",
    "def num_refs(wikicode):\n",
    "    text = str(wikicode)\n",
    "    reftags = re.findall('<(\\ )*?ref', text)\n",
    "    return len(reftags)\n",
    "\n",
    "def article_refs(wikicode):\n",
    "    sections = wikicode.get_sections()\n",
    "    return float(reduce( lambda a,b: a+b ,map(num_refs, sections)))\n",
    "\n",
    "#Predicate for links and files in English French and Swahili\n",
    "\n",
    "def link_a_file(linkstr):\n",
    "    fnames = [u'File:', u'Fichier:', u'Image:', u'Picha:']\n",
    "    bracknames = map(lambda a: '[[' + a, fnames)\n",
    "    return any(map(lambda b: linkstr.startswith(b), bracknames))\n",
    "\n",
    "def link_a_cat(linkstr):\n",
    "    cnames =[u'Category:', u'Catégorie:', u'Jamii:']\n",
    "    bracknames = map(lambda a: '[[' + a, cnames)\n",
    "    return any(map(lambda b: linkstr.startswith(b), bracknames))\n",
    "\n",
    "def num_reg_links(wikicode):\n",
    "    reg_links = filter(lambda a: not link_a_file(a) and not link_a_cat(a), wikicode.filter_wikilinks())\n",
    "    return float(len(reg_links))\n",
    "\n",
    "def num_file_links(wikicode):\n",
    "    file_links = filter(lambda a: link_a_file(a), wikicode.filter_wikilinks())\n",
    "    return float(len(file_links))\n",
    "\n",
    "def report_actionable_metrics(wikicode, completeness_weight=0.8, infonoise_weight=0.6, images_weight=0.3):\n",
    "    completeness = completeness_weight * num_reg_links(wikicode)\n",
    "    informativeness = (infonoise_weight * infonoise(wikicode) ) + (images_weight * num_file_links(wikicode) )\n",
    "    numheadings = len(section_headings(wikicode))\n",
    "    articlelength = readable_text_length(wikicode)\n",
    "    referencerate = article_refs(wikicode) / readable_text_length(wikicode)\n",
    "\n",
    "    return {'completeness': completeness, 'informativeness': informativeness, 'numheadings': numheadings, \n",
    "            'articlelength': articlelength, 'referencerate': referencerate}\n",
    "\n",
    "def calculate_article_metric(article_name, metric):\n",
    "    page = pywikibot.Page(enwp, article_name)\n",
    "    page_text = page.get()\n",
    "    wikicode = pfh.parse(page_text)\n",
    "    metrics = report_actionable_metrics(wikicode)\n",
    "    return metrics[metric]"
   ]
  },
  {
   "cell_type": "code",
   "execution_count": 6,
   "id": "recorded-while",
   "metadata": {
    "collapsed": false,
    "jupyter": {
     "outputs_hidden": false
    }
   },
   "outputs": [],
   "source": [
    "def calculate_edit_hours(user, cursor):\n",
    "    starttime = datetime.datetime.now()\n",
    "    qstring = u'''SELECT rev_timestamp FROM enwiki_p.revision_userindex WHERE rev_user_text like \"'''+ user + u'''\";'''\n",
    "    uqstring = qstring.encode('utf-8')\n",
    "    cursor.execute(uqstring)\n",
    "    results = cursor.fetchall()\n",
    "    clean_results = map(lambda t: t[0], results)\n",
    "    timestamps = map(pywikibot.Timestamp.fromtimestampformat, clean_results)\n",
    "    #print len(timestamps)                                                                                                                                     \n",
    "    edit_sessions = []\n",
    "    curr_edit_session = []\n",
    "\n",
    "    prev_timestamp = datetime.datetime(year=2001, month=1, day=1)\n",
    "\n",
    "\n",
    "    for contrib in timestamps:\n",
    "        curr_timestamp = contrib\n",
    "\n",
    "        #if curr_timestamp > snapshot_timestamp:                                                                                                               \n",
    "        #    break                                                                                                                                             \n",
    " \n",
    "        if curr_timestamp-prev_timestamp < datetime.timedelta(hours=1):\n",
    "            curr_edit_session.append(curr_timestamp)\n",
    "            prev_timestamp = curr_timestamp\n",
    "\n",
    "        else:\n",
    "            if curr_edit_session:\n",
    "                edit_sessions.append(curr_edit_session)\n",
    "            curr_edit_session = [curr_timestamp]\n",
    "            prev_timestamp = curr_timestamp\n",
    "\n",
    "    #finally have to add the curr_edit_session to list                                                                                                         \n",
    "    if curr_edit_session:\n",
    "        print 'hea'\n",
    "        edit_sessions.append(curr_edit_session)\n",
    "\n",
    "\n",
    "    #print len(edit_sessions)                                                                                                                                  \n",
    "    def session_length(edit_session):\n",
    "        avg_time = datetime.timedelta(minutes=4, seconds=30)\n",
    "        last = edit_session[-1]\n",
    "        first = edit_session[0]\n",
    "        span = last - first\n",
    "        total = span + avg_time\n",
    "        return total\n",
    "\n",
    "    session_lengths = map(session_length, edit_sessions)\n",
    "    second_lens = map(lambda td: td.total_seconds(), session_lengths)\n",
    "    total_time = sum(second_lens)\n",
    "\n",
    "    took = datetime.datetime.now() - starttime\n",
    "    tooksecs = took.total_seconds()\n",
    "    print 'timestamps per second: ', len(timestamps)/float(tooksecs)\n",
    "    #returning total hours                                                                                                                                     \n",
    "    return total_time / float(3600)\n"
   ]
  },
  {
   "cell_type": "code",
   "execution_count": 7,
   "id": "moral-observer",
   "metadata": {
    "collapsed": false,
    "jupyter": {
     "outputs_hidden": false
    }
   },
   "outputs": [],
   "source": [
    "if not enwp.logged_in: enwp.login()"
   ]
  },
  {
   "cell_type": "code",
   "execution_count": 8,
   "id": "middle-edition",
   "metadata": {
    "collapsed": false,
    "jupyter": {
     "outputs_hidden": false
    }
   },
   "outputs": [],
   "source": [
    "class bipartite_data():\n",
    "    def __init__(self, category_name):\n",
    "        self.category_name = category_name\n",
    "        self.enwp = pywikibot.Site('en', 'wikipedia')\n",
    "        \n",
    "    def load_arts(self):\n",
    "        cat = pywikibot.Category(enwp, self.category_name)\n",
    "        self.articles = list(cat.articles())\n",
    "    \n",
    "        def earliest_revision(article):\n",
    "            revisions  = list(article._revisions.itervalues())\n",
    "            timestamps = map(lambda r: r.timestamp, revisions)\n",
    "            earliest = min(timestamps)\n",
    "            return earliest\n",
    "        \n",
    "        def load_all_revisions(article):\n",
    "            before_count = len(article._revisions)\n",
    "            #print \"before \", before_count\n",
    "            if before_count == 0:\n",
    "                article.getVersionHistory()\n",
    "            else:\n",
    "                enwp.loadrevisions(page=article, starttime=earliest_revision(article))\n",
    "            after_count = len(article._revisions)\n",
    "            #print \"after \", after_count\n",
    "            if before_count == after_count:\n",
    "                return\n",
    "            else:\n",
    "                load_all_revisions(article)\n",
    "            \n",
    "        for article in self.articles:\n",
    "            load_all_revisions(article)\n",
    "    \n",
    "    def make_revision_df(self):\n",
    "        \n",
    "        def make_rev_dict(article):\n",
    "            revdict = {rev.timestamp : {'user' : rev.user, 'article' : article.title()} for rev in article._revisions.itervalues()}\n",
    "            return revdict\n",
    "        \n",
    "        self.all_revisions = pd.DataFrame(columns=['user', 'article'], index=pd.TimeSeries())\n",
    "        \n",
    "        for article in self.articles:\n",
    "            self.all_revisions = self.all_revisions.append(pd.DataFrame.from_dict(data=make_rev_dict(article), orient='index'))\n",
    "            \n",
    "    def remove_bots(self):\n",
    "        self.no_bots = self.all_revisions[self.all_revisions['user'].map(lambda username: not re.findall('bot|stat', username, flags=re.IGNORECASE))]\n",
    "\n",
    "    def remove_min_editors(self, remove_minimum=5):\n",
    "            \n",
    "        user_ar = self.no_bots.groupby(by='user')\n",
    "        edit_sizes = user_ar.size()\n",
    "        min_editors = edit_sizes[ edit_sizes > remove_minimum]\n",
    "    \n",
    "        criterion = self.no_bots['user'].map(lambda user: user in min_editors.index)\n",
    "        min_revisions = self.no_bots[criterion]\n",
    "    \n",
    "        self.sorted_min_revisions = min_revisions.sort(axis=0)\n",
    "    \n",
    "    def make_user_art_dicts(self):\n",
    "        u_grouped = self.sorted_min_revisions.groupby('user')\n",
    "        a_grouped = self.sorted_min_revisions.groupby('article')\n",
    "        \n",
    "        '''these dicts are so we can back translate the indexes in the matrix to real users and articles'''\n",
    "        users = list(u_grouped.groups.iterkeys())\n",
    "        articles = list(a_grouped.groups.iterkeys())\n",
    "        self.user_dict = {username: users.index(username) for username in users}\n",
    "        self.article_dict = {articlename: articles.index(articlename) for articlename in articles}\n",
    "        \n",
    "    def make_contributor_matrix(self):\n",
    "    \n",
    "        ua_grouped = self.sorted_min_revisions.groupby(by = ['user', 'article'])\n",
    "        self.contributor_matrix = np.zeros(shape=(len(self.user_dict), len(self.article_dict)))\n",
    "\n",
    "        for user_article_tuple, timestamps in ua_grouped.groups.iteritems():\n",
    "            user_string = user_article_tuple[0]\n",
    "            article_string = user_article_tuple[1]\n",
    "            user_index = self.user_dict[user_string]\n",
    "            article_index = self.article_dict[article_string]\n",
    "            \n",
    "            self.contributor_matrix[user_index][article_index] = len(timestamps)\n",
    "    \n",
    "    def rank_exogenous_dict(self, exogenous_dict):\n",
    "        exogenous_dict_sorted = sorted(exogenous_dict.iteritems(), key=operator.itemgetter(1))\n",
    "        exogenous_ranks_sorted = [(identup[0], exogenous_dict_sorted.index(identup)) for identup in exogenous_dict_sorted]\n",
    "        return exogenous_ranks_sorted\n",
    "    \n",
    "    def make_exogenous_article_metrics(self):            \n",
    "            exogenous_articles = dict()\n",
    "            \n",
    "            for article in self.article_dict.iterkeys():\n",
    "                exogenous_articles[article] = calculate_article_metric(article, 'articlelength')\n",
    "            \n",
    "            self.exogenous_articles_ranked = self.rank_exogenous_dict(exogenous_articles)\n",
    "    \n",
    "    def make_exogenous_user_metrics(self):\n",
    "        exogenous_users = dict()\n",
    "        '''\n",
    "        conn = MySQLdb.connect(host='enwiki.labsdb', db=\"enwiki_p\", port=3306, read_default_file=\"~/replica.my.cnf\") \n",
    "        cursor = conn.cursor() \n",
    "        '''\n",
    "        for user in self.user_dict.iterkeys():\n",
    "            #exogenous_users[user] = calculate_edit_hours(user,cursor)\n",
    "            exogenous_users[user] = len(user)\n",
    "    \n",
    "        self.exogenous_users_ranked = self.rank_exogenous_dict(exogenous_users)\n",
    "    \n",
    "    def save_everything(self):\n",
    "        directory = self.category_name\n",
    "        today = str(datetime.date.today())\n",
    "        double_directory = 'savedata/' + directory + '/' + today + '/'\n",
    "        \n",
    "        if not os.path.exists(double_directory):\n",
    "            os.makedirs(double_directory)\n",
    "        \n",
    "        mfilename = double_directory  + 'M' + '.npy'\n",
    "        mf = open(mfilename, 'w')\n",
    "        np.save(mf, self.contributor_matrix)\n",
    "        \n",
    "        for filename, filedict in {'user_dict': self.user_dict, \n",
    "                                   'article_dict': self.article_dict,\n",
    "                                   'user_exogenous_ranks': self.exogenous_users_ranked, \n",
    "                                   'article_exogenous_ranks': self.exogenous_articles_ranked}.iteritems():\n",
    "        \n",
    "            path = double_directory  + filename + '.json'\n",
    "            f = open(path, 'w')\n",
    "            json.dump(filedict, f)\n",
    "    \n",
    "    def do_everything(self):\n",
    "        self.load_arts()\n",
    "        self.make_revision_df()\n",
    "        self.remove_bots()\n",
    "        self.remove_min_editors()\n",
    "        self.make_user_art_dicts()\n",
    "        self.make_contributor_matrix()\n",
    "        self.make_exogenous_article_metrics()\n",
    "        self.make_exogenous_user_metrics()\n",
    "        self.save_everything()"
   ]
  },
  {
   "cell_type": "code",
   "execution_count": null,
   "id": "intimate-lighter",
   "metadata": {
    "collapsed": false,
    "jupyter": {
     "outputs_hidden": false
    }
   },
   "outputs": [],
   "source": [
    "def make_snapshots(periods=10):\n",
    "    period_len = len(min_revisions)/float(periods)\n",
    "    \n",
    "    snapshot_dates = list()\n",
    "    \n",
    "    for i in range(1, periods+1):\n",
    "        start = int(0)\n",
    "        end = int(floor(i*period_len)) - 1\n",
    "        print \"b \",str(start),'   e ',str(end)  \n",
    "        \n",
    "        snapshot_dates.append(sorted_min_revisions[start:end].last_valid_index())\n",
    "        \n",
    "        snapshots[i] = sorted_min_revisions[start:end]\n",
    "    \n",
    "    \n",
    "    for i, df in snapshots.iteritems():\n",
    "        directory = name\n",
    "        today = str(datetime.date.today())\n",
    "        double_directory = 'savedata/' + directory + '/' + today + '/'\n",
    "        \n",
    "        if not os.path.exists(double_directory):\n",
    "            os.makedirs(double_directory)\n",
    "        filename = double_directory  + str(i) + '.json'\n",
    "        f = open(filename, 'w')\n",
    "        \n",
    "        snapshots[i].to_json(f)\n",
    "    \n",
    "    return {'snapshots': snapshots, 'snapshot_dates':snapshot_dates}"
   ]
  },
  {
   "cell_type": "code",
   "execution_count": 9,
   "id": "wicked-advice",
   "metadata": {
    "collapsed": false,
    "jupyter": {
     "outputs_hidden": false
    }
   },
   "outputs": [
    {
     "name": "stderr",
     "output_type": "stream",
     "text": [
      "VERBOSE:pywiki:Found 1 wikipedia:en processes running, including this one.\n"
     ]
    }
   ],
   "source": [
    "ele = bipartite_data('Category:Deaths_due_to_elephant_attacks')\n",
    "ele.do_everything()"
   ]
  },
  {
   "cell_type": "code",
   "execution_count": 28,
   "id": "brief-feedback",
   "metadata": {
    "collapsed": false,
    "jupyter": {
     "outputs_hidden": false
    }
   },
   "outputs": [
    {
     "data": {
      "text/html": [
       "<div style=\"max-height:1000px;max-width:1500px;overflow:auto;\">\n",
       "<table border=\"1\" class=\"dataframe\">\n",
       "  <thead>\n",
       "    <tr style=\"text-align: right;\">\n",
       "      <th></th>\n",
       "      <th>article</th>\n",
       "      <th>user</th>\n",
       "    </tr>\n",
       "  </thead>\n",
       "  <tbody>\n",
       "    <tr>\n",
       "      <th>2012-08-15 16:48:37</th>\n",
       "      <td> Jacky Boxberger</td>\n",
       "      <td> Gildir</td>\n",
       "    </tr>\n",
       "    <tr>\n",
       "      <th>2012-08-15 16:50:03</th>\n",
       "      <td> Jacky Boxberger</td>\n",
       "      <td> Gildir</td>\n",
       "    </tr>\n",
       "    <tr>\n",
       "      <th>2012-08-15 16:51:49</th>\n",
       "      <td> Jacky Boxberger</td>\n",
       "      <td> Gildir</td>\n",
       "    </tr>\n",
       "    <tr>\n",
       "      <th>2012-08-15 16:58:44</th>\n",
       "      <td> Jacky Boxberger</td>\n",
       "      <td> Gildir</td>\n",
       "    </tr>\n",
       "    <tr>\n",
       "      <th>2012-08-15 17:07:06</th>\n",
       "      <td> Jacky Boxberger</td>\n",
       "      <td> Gildir</td>\n",
       "    </tr>\n",
       "  </tbody>\n",
       "</table>\n",
       "</div>"
      ],
      "text/plain": [
       "                             article    user\n",
       "2012-08-15 16:48:37  Jacky Boxberger  Gildir\n",
       "2012-08-15 16:50:03  Jacky Boxberger  Gildir\n",
       "2012-08-15 16:51:49  Jacky Boxberger  Gildir\n",
       "2012-08-15 16:58:44  Jacky Boxberger  Gildir\n",
       "2012-08-15 17:07:06  Jacky Boxberger  Gildir"
      ]
     },
     "execution_count": 28,
     "metadata": {},
     "output_type": "execute_result"
    }
   ],
   "source": [
    "ele.all_revisions.head()"
   ]
  },
  {
   "cell_type": "code",
   "execution_count": 13,
   "id": "modified-business",
   "metadata": {
    "collapsed": false,
    "jupyter": {
     "outputs_hidden": false
    }
   },
   "outputs": [],
   "source": [
    "j = ele.articles[1]"
   ]
  },
  {
   "cell_type": "code",
   "execution_count": null,
   "id": "steady-values",
   "metadata": {
    "collapsed": false,
    "jupyter": {
     "outputs_hidden": false
    }
   },
   "outputs": [],
   "source": [
    "def text_at_time(article, latest_time):\n",
    "    "
   ]
  },
  {
   "cell_type": "code",
   "execution_count": 22,
   "id": "caring-insert",
   "metadata": {
    "collapsed": false,
    "jupyter": {
     "outputs_hidden": false
    }
   },
   "outputs": [
    {
     "data": {
      "text/plain": [
       "[Timestamp(2013, 9, 29, 22, 34, 40),\n",
       " Timestamp(2013, 7, 11, 20, 58, 43),\n",
       " Timestamp(2013, 7, 7, 16, 58, 24),\n",
       " Timestamp(2013, 6, 7, 1, 24, 42),\n",
       " Timestamp(2013, 4, 21, 12, 37, 19),\n",
       " Timestamp(2012, 12, 30, 9, 22, 17),\n",
       " Timestamp(2012, 11, 17, 2, 57, 40),\n",
       " Timestamp(2012, 10, 27, 23, 45, 25),\n",
       " Timestamp(2012, 10, 26, 8, 29, 37),\n",
       " Timestamp(2012, 10, 26, 8, 28, 50),\n",
       " Timestamp(2012, 8, 15, 17, 33, 7),\n",
       " Timestamp(2012, 7, 29, 1, 56, 17),\n",
       " Timestamp(2012, 6, 5, 2, 47, 47),\n",
       " Timestamp(2011, 9, 10, 8, 34, 53),\n",
       " Timestamp(2011, 8, 14, 3, 20, 24),\n",
       " Timestamp(2011, 6, 14, 1, 11, 59),\n",
       " Timestamp(2011, 3, 30, 17, 3, 46),\n",
       " Timestamp(2011, 2, 9, 21, 29, 15),\n",
       " Timestamp(2010, 11, 16, 21, 33, 21),\n",
       " Timestamp(2010, 9, 4, 14, 3, 13),\n",
       " Timestamp(2010, 7, 17, 22, 11, 13),\n",
       " Timestamp(2006, 1, 25, 21, 26, 42),\n",
       " Timestamp(2010, 7, 17, 22, 11, 4),\n",
       " Timestamp(2010, 7, 14, 6, 49, 2),\n",
       " Timestamp(2010, 6, 25, 15, 9),\n",
       " Timestamp(2010, 5, 14, 13, 23, 25),\n",
       " Timestamp(2010, 5, 4, 0, 56, 41),\n",
       " Timestamp(2009, 12, 11, 3, 6, 7),\n",
       " Timestamp(2008, 9, 1, 4, 57, 33),\n",
       " Timestamp(2008, 8, 10, 22, 14, 57),\n",
       " Timestamp(2008, 3, 2, 20, 35, 14),\n",
       " Timestamp(2007, 12, 26, 17, 18, 27),\n",
       " Timestamp(2007, 12, 26, 17, 16, 38),\n",
       " Timestamp(2007, 12, 26, 17, 13, 27),\n",
       " Timestamp(2007, 12, 26, 17, 11, 44),\n",
       " Timestamp(2007, 12, 24, 21, 21, 7),\n",
       " Timestamp(2007, 12, 10, 5, 10, 9),\n",
       " Timestamp(2007, 11, 25, 22, 3, 54),\n",
       " Timestamp(2007, 11, 25, 21, 56, 8),\n",
       " Timestamp(2007, 11, 19, 20, 34, 54),\n",
       " Timestamp(2007, 11, 19, 20, 33, 49),\n",
       " Timestamp(2007, 11, 1, 2, 27, 49),\n",
       " Timestamp(2007, 9, 22, 6, 46, 37),\n",
       " Timestamp(2007, 7, 16, 23, 48, 38),\n",
       " Timestamp(2006, 9, 8, 8, 30, 39),\n",
       " Timestamp(2006, 8, 10, 15, 53),\n",
       " Timestamp(2006, 4, 12, 5, 29, 30),\n",
       " Timestamp(2006, 1, 26, 4, 0, 47),\n",
       " Timestamp(2006, 1, 26, 3, 58, 52),\n",
       " Timestamp(2006, 1, 26, 3, 58, 23),\n",
       " Timestamp(2006, 1, 26, 3, 57, 30),\n",
       " Timestamp(2006, 1, 26, 3, 55, 11),\n",
       " Timestamp(2006, 1, 26, 3, 53, 45),\n",
       " Timestamp(2006, 1, 26, 3, 53, 19),\n",
       " Timestamp(2006, 1, 26, 3, 52, 18),\n",
       " Timestamp(2006, 1, 26, 3, 49, 10),\n",
       " Timestamp(2006, 1, 26, 3, 46, 35),\n",
       " Timestamp(2006, 1, 26, 3, 45, 7),\n",
       " Timestamp(2006, 1, 26, 3, 33, 30),\n",
       " Timestamp(2006, 1, 26, 3, 23, 2),\n",
       " Timestamp(2006, 1, 26, 3, 22, 7),\n",
       " Timestamp(2006, 1, 26, 3, 19, 53)]"
      ]
     },
     "execution_count": 22,
     "metadata": {},
     "output_type": "execute_result"
    }
   ],
   "source": [
    "map(lambda a: a[1].timestamp ,  sorted(j._revisions.iteritems(), key=operator.itemgetter(1)) )"
   ]
  },
  {
   "cell_type": "code",
   "execution_count": 68,
   "id": "valuable-poetry",
   "metadata": {
    "collapsed": false,
    "jupyter": {
     "outputs_hidden": false
    }
   },
   "outputs": [],
   "source": [
    "def category_to_save(category_name):\n",
    "    articles = load_arts(category_name)\n",
    "    all_revisions = make_revision_df(articles)\n",
    "    #for removing bot revisons\n",
    "    save_contributor_matrix_and_user_article_dicts(category_name, all_revisions, periods=10, remove_minimum=5)"
   ]
  },
  {
   "cell_type": "code",
   "execution_count": 62,
   "id": "warming-sport",
   "metadata": {
    "collapsed": false,
    "jupyter": {
     "outputs_hidden": false
    }
   },
   "outputs": [],
   "source": [
    "def category_to_snapshots(category_name):\n",
    "    articles = load_arts(category_name)\n",
    "    all_revisions = make_revision_df(articles)\n",
    "    #for removing bot revisons\n",
    "    \n",
    "    snapshots = make_snapshots(category_name, all_revisions, periods=10, remove_minimum=10)\n",
    "    snapshot_dates = snapshots['snapshot_dates']\n",
    "    return snapshots['snapshots']"
   ]
  },
  {
   "cell_type": "code",
   "execution_count": 143,
   "id": "worse-british",
   "metadata": {
    "collapsed": false,
    "jupyter": {
     "outputs_hidden": false
    }
   },
   "outputs": [
    {
     "name": "stdout",
     "output_type": "stream",
     "text": [
      "removing bot edits\n",
      "removing editor with less than edits:  5\n",
      "making contributor matrix\n",
      "making exogenous article variables\n",
      "making exogenous user variables\n",
      "timestamps per second:  67.4370547348\n",
      "timestamps per second:  1760.55897372\n",
      "timestamps per second:  2159.55972013\n",
      "timestamps per second:  1848.16582821\n",
      "timestamps per second:  2252.41892044\n",
      "timestamps per second:  2315.86743807\n",
      "timestamps per second:  2147.07831752\n",
      "timestamps per second:  2264.22825977\n",
      "timestamps per second:  2203.81259767\n",
      "timestamps per second:  95.127408688\n",
      "timestamps per second:  2232.99961055\n",
      "timestamps per second:  68.906454566\n",
      "timestamps per second: "
     ]
    },
    {
     "name": "stderr",
     "output_type": "stream",
     "text": [
      "VERBOSE:pywiki:Found 1 wikipedia:en processes running, including this one.\n"
     ]
    },
    {
     "name": "stdout",
     "output_type": "stream",
     "text": [
      " 1520.74899557\n",
      "timestamps per second:  2092.4486547\n",
      "timestamps per second:  2130.35280114\n",
      "timestamps per second:  1613.51398008\n",
      "timestamps per second:  2322.19857048\n",
      "timestamps per second:  39.2408850782\n",
      "timestamps per second:  405.861195471\n",
      "timestamps per second:  2062.12315171\n",
      "timestamps per second:  2196.8648824\n",
      "timestamps per second:  1653.00662477\n",
      "timestamps per second:  205.920441493\n",
      "timestamps per second:  2126.90352716\n",
      "timestamps per second:  434.516720847\n",
      "timestamps per second:  1907.9640752\n",
      "timestamps per second:  45.8353492399\n",
      "timestamps per second:  2182.53446928\n",
      "timestamps per second:  1208.52495837\n",
      "timestamps per second:  47.3407640799\n",
      "timestamps per second:  1307.77473384\n",
      "timestamps per second:  2175.47056639\n",
      "timestamps per second:  1935.78131467\n",
      "timestamps per second:  1015.95505136\n",
      "timestamps per second:  1797.60885569\n",
      "timestamps per second:  422.757822221\n",
      "timestamps per second:  195.606755508\n",
      "timestamps per second:  1950.00258307\n",
      "timestamps per second:  74.2899843991\n",
      "timestamps per second:  1660.84234869\n",
      "timestamps per second:  1992.61354278\n",
      "timestamps per second:  1489.46827301\n",
      "timestamps per second:  2161.31873861\n",
      "timestamps per second:  1955.70509953\n",
      "timestamps per second:  1832.16380367\n",
      "timestamps per second:  43.4316819643\n",
      "timestamps per second:  962.977759036\n",
      "ranking exogenous variables\n",
      "saving m\n",
      "saving dicts\n"
     ]
    }
   ],
   "source": [
    "category_to_save('Category:Liberal_feminism')"
   ]
  },
  {
   "cell_type": "code",
   "execution_count": "*",
   "id": "posted-peripheral",
   "metadata": {
    "collapsed": false,
    "jupyter": {
     "outputs_hidden": false
    }
   },
   "outputs": [
    {
     "name": "stderr",
     "output_type": "stream",
     "text": [
      "VERBOSE:pywiki:Found 1 wikipedia:en processes running, including this one.\n"
     ]
    },
    {
     "name": "stdout",
     "output_type": "stream",
     "text": [
      "removing bot edits\n",
      "removing editor with less than edits:  5\n",
      "making contributor matrix\n",
      "making exogenous article variables\n",
      "making exogenous user variables\n",
      "timestamps per second:  218.62898661\n",
      "timestamps per second:  1037.39818251\n",
      "timestamps per second:  1486.4050033\n",
      "timestamps per second:  111.600349005\n",
      "timestamps per second:  627.301004979\n",
      "timestamps per second:  136.015151455\n",
      "timestamps per second:  127.965724144\n",
      "timestamps per second:  2229.56555013\n",
      "timestamps per second: "
     ]
    },
    {
     "name": "stderr",
     "output_type": "stream",
     "text": [
      "VERBOSE:pywiki:Found 1 wikipedia:en processes running, including this one.\n"
     ]
    },
    {
     "name": "stdout",
     "output_type": "stream",
     "text": [
      " 265.002745048\n",
      "timestamps per second:  712.425294498\n",
      "timestamps per second:  2192.42596792\n",
      "timestamps per second:  134.272715784\n",
      "timestamps per second: "
     ]
    },
    {
     "name": "stderr",
     "output_type": "stream",
     "text": [
      "VERBOSE:pywiki:Found 1 wikipedia:en processes running, including this one.\n",
      "VERBOSE:pywiki:Found 1 wikipedia:en processes running, including this one.\n"
     ]
    },
    {
     "name": "stdout",
     "output_type": "stream",
     "text": [
      " 1982.43993055\n",
      "timestamps per second: "
     ]
    },
    {
     "name": "stderr",
     "output_type": "stream",
     "text": [
      "VERBOSE:pywiki:Found 1 wikipedia:en processes running, including this one.\n"
     ]
    },
    {
     "name": "stdout",
     "output_type": "stream",
     "text": [
      " 273.449509049\n",
      "timestamps per second:  293.322239054\n",
      "timestamps per second:  371.717416409\n",
      "timestamps per second:  424.701801022\n",
      "timestamps per second:  413.997345232\n",
      "timestamps per second:  565.571637944\n",
      "timestamps per second:  381.278900214\n",
      "timestamps per second:  303.708254605\n",
      "timestamps per second:  500.311142504\n",
      "timestamps per second:  94.8825313009\n",
      "timestamps per second:  251.510144965\n",
      "timestamps per second:  594.500442592\n",
      "timestamps per second: "
     ]
    },
    {
     "name": "stderr",
     "output_type": "stream",
     "text": [
      "VERBOSE:pywiki:Found 1 wikipedia:en processes running, including this one.\n"
     ]
    },
    {
     "name": "stdout",
     "output_type": "stream",
     "text": [
      " 462.630419168\n",
      "timestamps per second:  61.6129387171\n",
      "timestamps per second:  410.613834353\n",
      "timestamps per second: "
     ]
    },
    {
     "name": "stderr",
     "output_type": "stream",
     "text": [
      "VERBOSE:pywiki:Found 1 wikipedia:en processes running, including this one.\n",
      "VERBOSE:pywiki:Found 1 wikipedia:en processes running, including this one.\n"
     ]
    },
    {
     "name": "stdout",
     "output_type": "stream",
     "text": [
      " 49.6346886912\n",
      "timestamps per second:  319.633365483\n",
      "timestamps per second:  94.7767097172\n",
      "timestamps per second:  55.2310143388\n",
      "timestamps per second: "
     ]
    },
    {
     "name": "stderr",
     "output_type": "stream",
     "text": [
      "VERBOSE:pywiki:Found 1 wikipedia:en processes running, including this one.\n"
     ]
    },
    {
     "name": "stdout",
     "output_type": "stream",
     "text": [
      " 397.193608629\n",
      "timestamps per second: "
     ]
    },
    {
     "name": "stderr",
     "output_type": "stream",
     "text": [
      "VERBOSE:pywiki:Found 1 wikipedia:en processes running, including this one.\n"
     ]
    },
    {
     "name": "stdout",
     "output_type": "stream",
     "text": [
      " 290.44773756\n",
      "timestamps per second:  384.563901731\n",
      "timestamps per second:  459.835224401\n",
      "timestamps per second:  349.221051074\n",
      "timestamps per second:  37.501464901\n",
      "timestamps per second:  402.453497527\n",
      "timestamps per second:  50.0643326675\n",
      "timestamps per second:  286.001219039\n",
      "timestamps per second:  527.796232369\n",
      "timestamps per second: "
     ]
    },
    {
     "name": "stderr",
     "output_type": "stream",
     "text": [
      "VERBOSE:pywiki:Found 1 wikipedia:en processes running, including this one.\n"
     ]
    },
    {
     "name": "stdout",
     "output_type": "stream",
     "text": [
      " 372.819269035\n",
      "timestamps per second:  407.342890635\n",
      "timestamps per second: "
     ]
    },
    {
     "name": "stderr",
     "output_type": "stream",
     "text": [
      "VERBOSE:pywiki:Found 1 wikipedia:en processes running, including this one.\n"
     ]
    },
    {
     "name": "stdout",
     "output_type": "stream",
     "text": [
      " 284.897691094\n",
      "timestamps per second:  634.960948462\n",
      "timestamps per second:  405.977101814\n",
      "timestamps per second:  330.617136138\n",
      "timestamps per second:  437.386663383\n",
      "timestamps per second: "
     ]
    },
    {
     "name": "stderr",
     "output_type": "stream",
     "text": [
      "VERBOSE:pywiki:Found 1 wikipedia:en processes running, including this one.\n",
      "VERBOSE:pywiki:Found 1 wikipedia:en processes running, including this one.\n"
     ]
    },
    {
     "name": "stdout",
     "output_type": "stream",
     "text": [
      " 585.190056404\n",
      "timestamps per second:  178.985001017\n",
      "timestamps per second:  143.160244033\n",
      "timestamps per second:  340.751193555\n",
      "timestamps per second: "
     ]
    },
    {
     "name": "stderr",
     "output_type": "stream",
     "text": [
      "VERBOSE:pywiki:Found 1 wikipedia:en processes running, including this one.\n"
     ]
    },
    {
     "name": "stdout",
     "output_type": "stream",
     "text": [
      " 335.489686893\n",
      "timestamps per second:  335.782783522\n",
      "timestamps per second:  431.521222727\n",
      "timestamps per second:  497.876702299\n",
      "timestamps per second: "
     ]
    },
    {
     "name": "stderr",
     "output_type": "stream",
     "text": [
      "VERBOSE:pywiki:Found 1 wikipedia:en processes running, including this one.\n"
     ]
    },
    {
     "name": "stdout",
     "output_type": "stream",
     "text": [
      " 249.602192576\n",
      "timestamps per second:  459.488104188\n",
      "timestamps per second:  1737.84802696\n",
      "timestamps per second:  23.8011178592\n",
      "timestamps per second:  423.557947926\n",
      "timestamps per second:  375.113889813\n",
      "timestamps per second: "
     ]
    },
    {
     "name": "stderr",
     "output_type": "stream",
     "text": [
      "VERBOSE:pywiki:Found 1 wikipedia:en processes running, including this one.\n"
     ]
    },
    {
     "name": "stdout",
     "output_type": "stream",
     "text": [
      " 129.161638993\n",
      "timestamps per second:  268.866784461\n",
      "timestamps per second:  311.363741334\n",
      "timestamps per second:  780.349967901\n",
      "timestamps per second: "
     ]
    },
    {
     "name": "stderr",
     "output_type": "stream",
     "text": [
      "VERBOSE:pywiki:Found 1 wikipedia:en processes running, including this one.\n",
      "VERBOSE:pywiki:Found 1 wikipedia:en processes running, including this one.\n"
     ]
    },
    {
     "name": "stdout",
     "output_type": "stream",
     "text": [
      " 174.459407129\n",
      "timestamps per second:  383.895509666\n",
      "timestamps per second:  294.029772886\n",
      "timestamps per second:  50.4432702372\n",
      "timestamps per second:  29.5156896973\n",
      "timestamps per second:  519.276981658\n",
      "timestamps per second:  1060.94197417\n",
      "timestamps per second:  384.633715501\n",
      "timestamps per second: "
     ]
    },
    {
     "name": "stderr",
     "output_type": "stream",
     "text": [
      "VERBOSE:pywiki:Found 1 wikipedia:en processes running, including this one.\n"
     ]
    },
    {
     "name": "stdout",
     "output_type": "stream",
     "text": [
      " 522.291884731\n",
      "timestamps per second:  455.630368289\n",
      "timestamps per second:  458.66710925\n",
      "timestamps per second:  349.477317499\n",
      "timestamps per second:  2179.77019615\n",
      "timestamps per second:  229.306144176\n",
      "timestamps per second: "
     ]
    },
    {
     "name": "stderr",
     "output_type": "stream",
     "text": [
      "VERBOSE:pywiki:Found 1 wikipedia:en processes running, including this one.\n"
     ]
    },
    {
     "name": "stdout",
     "output_type": "stream",
     "text": [
      " 477.081688792\n",
      "timestamps per second:  496.675035966\n",
      "timestamps per second:  510.84884834\n",
      "timestamps per second:  242.677215036\n",
      "timestamps per second:  459.524230019\n",
      "timestamps per second:  408.205151248\n",
      "timestamps per second:  474.043015713\n",
      "timestamps per second:  933.835871813\n",
      "timestamps per second:  61.6432185347\n",
      "timestamps per second:  1111.16526363\n",
      "timestamps per second:  118.767868202\n",
      "timestamps per second: "
     ]
    },
    {
     "name": "stderr",
     "output_type": "stream",
     "text": [
      "VERBOSE:pywiki:Found 1 wikipedia:en processes running, including this one.\n"
     ]
    },
    {
     "name": "stdout",
     "output_type": "stream",
     "text": [
      " 314.825065922\n",
      "timestamps per second:  537.893283894\n",
      "timestamps per second:  452.41946446\n",
      "timestamps per second:  672.78684066\n",
      "timestamps per second: "
     ]
    },
    {
     "name": "stderr",
     "output_type": "stream",
     "text": [
      "VERBOSE:pywiki:Found 1 wikipedia:en processes running, including this one.\n"
     ]
    },
    {
     "name": "stdout",
     "output_type": "stream",
     "text": [
      " 419.743112569\n",
      "timestamps per second:  286.651642641\n",
      "timestamps per second:  527.630439894\n",
      "timestamps per second:  287.030310145\n",
      "timestamps per second:  410.690184317\n",
      "timestamps per second:  240.090658233\n",
      "timestamps per second:  102.3309204\n",
      "timestamps per second:  543.021858378\n",
      "timestamps per second:  26.4243844219\n",
      "timestamps per second:  459.456135136\n",
      "timestamps per second:  767.981625156\n",
      "timestamps per second: "
     ]
    },
    {
     "name": "stderr",
     "output_type": "stream",
     "text": [
      "VERBOSE:pywiki:Found 1 wikipedia:en processes running, including this one.\n"
     ]
    },
    {
     "name": "stdout",
     "output_type": "stream",
     "text": [
      " 52.4066758042\n",
      "timestamps per second:  228.924821901\n",
      "timestamps per second:  1217.44757019\n",
      "timestamps per second:  187.678204064\n",
      "timestamps per second:  630.413557788\n",
      "timestamps per second:  227.296890065\n",
      "timestamps per second: "
     ]
    },
    {
     "name": "stderr",
     "output_type": "stream",
     "text": [
      "VERBOSE:pywiki:Found 1 wikipedia:en processes running, including this one.\n"
     ]
    },
    {
     "name": "stdout",
     "output_type": "stream",
     "text": [
      " 371.143960549\n",
      "timestamps per second:  894.950152654\n",
      "timestamps per second:  830.416865392\n",
      "timestamps per second:  366.52323164\n",
      "timestamps per second: "
     ]
    },
    {
     "name": "stderr",
     "output_type": "stream",
     "text": [
      "VERBOSE:pywiki:Found 1 wikipedia:en processes running, including this one.\n"
     ]
    },
    {
     "name": "stdout",
     "output_type": "stream",
     "text": [
      " 482.549601772\n",
      "timestamps per second:  711.129165672\n",
      "timestamps per second:  178.669749024\n",
      "timestamps per second:  449.697464073\n",
      "timestamps per second:  138.521785359\n",
      "timestamps per second:  292.704402001\n",
      "timestamps per second: "
     ]
    },
    {
     "name": "stderr",
     "output_type": "stream",
     "text": [
      "VERBOSE:pywiki:Found 1 wikipedia:en processes running, including this one.\n"
     ]
    },
    {
     "name": "stdout",
     "output_type": "stream",
     "text": [
      " 443.918446671\n",
      "timestamps per second:  424.707675916\n",
      "timestamps per second:  298.426342093\n",
      "timestamps per second: "
     ]
    },
    {
     "name": "stderr",
     "output_type": "stream",
     "text": [
      "VERBOSE:pywiki:Found 1 wikipedia:en processes running, including this one.\n"
     ]
    },
    {
     "name": "stdout",
     "output_type": "stream",
     "text": [
      " 44.8319921096\n",
      "timestamps per second:  259.72736435\n",
      "timestamps per second:  343.690108552\n",
      "timestamps per second:  81.6056362293\n",
      "timestamps per second:  647.444888236\n",
      "timestamps per second:  405.38678207\n",
      "timestamps per second:  378.307816233\n",
      "timestamps per second:  512.473593232\n",
      "timestamps per second: "
     ]
    },
    {
     "name": "stderr",
     "output_type": "stream",
     "text": [
      "VERBOSE:pywiki:Found 1 wikipedia:en processes running, including this one.\n"
     ]
    },
    {
     "name": "stdout",
     "output_type": "stream",
     "text": [
      " 980.924240945\n",
      "timestamps per second:  350.814030258\n",
      "timestamps per second:  504.562552304\n",
      "timestamps per second:  31.8757029731\n",
      "timestamps per second:  84.0527851491\n",
      "timestamps per second:  824.079567938\n",
      "timestamps per second: "
     ]
    },
    {
     "name": "stderr",
     "output_type": "stream",
     "text": [
      "VERBOSE:pywiki:Found 1 wikipedia:en processes running, including this one.\n"
     ]
    },
    {
     "name": "stdout",
     "output_type": "stream",
     "text": [
      " 62.8817822494\n",
      "timestamps per second:  280.546978786\n",
      "timestamps per second:  1213.68112399\n",
      "timestamps per second:  458.484547134\n",
      "timestamps per second:  280.325023424\n",
      "timestamps per second: "
     ]
    },
    {
     "name": "stderr",
     "output_type": "stream",
     "text": [
      "VERBOSE:pywiki:Found 1 wikipedia:en processes running, including this one.\n"
     ]
    },
    {
     "name": "stdout",
     "output_type": "stream",
     "text": [
      " 491.090284989\n",
      "timestamps per second:  544.851824953\n",
      "timestamps per second:  1116.75866637\n",
      "timestamps per second:  560.93260185\n",
      "timestamps per second: "
     ]
    },
    {
     "name": "stderr",
     "output_type": "stream",
     "text": [
      "VERBOSE:pywiki:Found 1 wikipedia:en processes running, including this one.\n",
      "VERBOSE:pywiki:Found 1 wikipedia:en processes running, including this one.\n"
     ]
    },
    {
     "name": "stdout",
     "output_type": "stream",
     "text": [
      " 230.557979495\n",
      "timestamps per second:  389.815963728\n",
      "timestamps per second:  428.387682877\n",
      "timestamps per second:  414.340807152\n",
      "timestamps per second:  25.9001377024\n",
      "timestamps per second:  509.743317836\n",
      "timestamps per second: "
     ]
    },
    {
     "name": "stderr",
     "output_type": "stream",
     "text": [
      "VERBOSE:pywiki:Found 1 wikipedia:en processes running, including this one.\n"
     ]
    },
    {
     "name": "stdout",
     "output_type": "stream",
     "text": [
      " 381.510853631\n",
      "timestamps per second: "
     ]
    },
    {
     "name": "stderr",
     "output_type": "stream",
     "text": [
      "VERBOSE:pywiki:Found 1 wikipedia:en processes running, including this one.\n",
      "VERBOSE:pywiki:Found 1 wikipedia:en processes running, including this one.\n"
     ]
    },
    {
     "name": "stdout",
     "output_type": "stream",
     "text": [
      " 631.112165987\n",
      "timestamps per second:  413.773867678\n",
      "timestamps per second:  268.013302299\n",
      "timestamps per second:  342.812497509\n",
      "timestamps per second:  302.458391434\n",
      "timestamps per second: "
     ]
    },
    {
     "name": "stderr",
     "output_type": "stream",
     "text": [
      "VERBOSE:pywiki:Found 1 wikipedia:en processes running, including this one.\n"
     ]
    },
    {
     "name": "stdout",
     "output_type": "stream",
     "text": [
      " 584.875808889\n",
      "timestamps per second:  420.140360475\n",
      "timestamps per second:  529.137387484\n",
      "timestamps per second:  154.684293131\n",
      "timestamps per second: "
     ]
    },
    {
     "name": "stderr",
     "output_type": "stream",
     "text": [
      "VERBOSE:pywiki:Found 1 wikipedia:en processes running, including this one.\n"
     ]
    },
    {
     "name": "stdout",
     "output_type": "stream",
     "text": [
      " 452.667957725\n",
      "timestamps per second:  280.571961944\n",
      "timestamps per second:  263.400500461\n",
      "timestamps per second:  371.397084878\n",
      "timestamps per second:  439.599819241\n",
      "timestamps per second:  34.9008162428\n",
      "timestamps per second:  672.345614219\n",
      "timestamps per second:  332.406176478\n",
      "timestamps per second:  66.1468990334\n",
      "timestamps per second:  42.4226140815\n",
      "timestamps per second:  381.26135119\n",
      "timestamps per second:  344.755473042\n",
      "timestamps per second: "
     ]
    },
    {
     "name": "stderr",
     "output_type": "stream",
     "text": [
      "VERBOSE:pywiki:Found 1 wikipedia:en processes running, including this one.\n"
     ]
    },
    {
     "name": "stdout",
     "output_type": "stream",
     "text": [
      " 564.952487162\n",
      "timestamps per second:  456.617911344\n",
      "timestamps per second:  272.216119806\n",
      "timestamps per second: "
     ]
    },
    {
     "name": "stderr",
     "output_type": "stream",
     "text": [
      "VERBOSE:pywiki:Found 1 wikipedia:en processes running, including this one.\n",
      "VERBOSE:pywiki:Found 1 wikipedia:en processes running, including this one.\n",
      "VERBOSE:pywiki:Found 1 wikipedia:en processes running, including this one.\n"
     ]
    },
    {
     "name": "stdout",
     "output_type": "stream",
     "text": [
      " 41.7759416994\n",
      "timestamps per second:  340.898741848\n",
      "timestamps per second:  271.283887059\n",
      "timestamps per second:  19.8691286725\n",
      "timestamps per second:  413.847298137\n",
      "timestamps per second:  320.617342104\n",
      "timestamps per second:  434.266589666\n",
      "timestamps per second: "
     ]
    },
    {
     "name": "stderr",
     "output_type": "stream",
     "text": [
      "VERBOSE:pywiki:Found 1 wikipedia:en processes running, including this one.\n"
     ]
    },
    {
     "name": "stdout",
     "output_type": "stream",
     "text": [
      " 490.771423133\n",
      "timestamps per second:  393.082142527\n",
      "timestamps per second:  724.857627939\n",
      "timestamps per second:  648.951965018\n",
      "timestamps per second:  547.155099915\n",
      "timestamps per second:  591.857132935\n",
      "timestamps per second:  432.010455087\n",
      "timestamps per second:  376.514792762\n",
      "timestamps per second:  617.311772782\n",
      "timestamps per second:  271.800876503\n",
      "timestamps per second:  29.5107123886\n",
      "timestamps per second: "
     ]
    },
    {
     "name": "stderr",
     "output_type": "stream",
     "text": [
      "VERBOSE:pywiki:Found 1 wikipedia:en processes running, including this one.\n"
     ]
    },
    {
     "name": "stdout",
     "output_type": "stream",
     "text": [
      " 429.835326425\n",
      "timestamps per second: "
     ]
    },
    {
     "name": "stderr",
     "output_type": "stream",
     "text": [
      "VERBOSE:pywiki:Found 1 wikipedia:en processes running, including this one.\n"
     ]
    },
    {
     "name": "stdout",
     "output_type": "stream",
     "text": [
      " 271.462198218\n",
      "timestamps per second:  412.714544563\n",
      "timestamps per second:  316.258936153\n",
      "timestamps per second:  65.5919869742\n",
      "timestamps per second:  61.1703638326\n",
      "timestamps per second: "
     ]
    },
    {
     "name": "stderr",
     "output_type": "stream",
     "text": [
      "VERBOSE:pywiki:Found 1 wikipedia:en processes running, including this one.\n"
     ]
    },
    {
     "name": "stdout",
     "output_type": "stream",
     "text": [
      " 34.6634182092\n",
      "timestamps per second:  416.85339818\n",
      "timestamps per second:  425.577676545\n",
      "timestamps per second:  257.362704374\n",
      "timestamps per second:  549.439455359\n",
      "timestamps per second: "
     ]
    },
    {
     "name": "stderr",
     "output_type": "stream",
     "text": [
      "VERBOSE:pywiki:Found 1 wikipedia:en processes running, including this one.\n"
     ]
    },
    {
     "name": "stdout",
     "output_type": "stream",
     "text": [
      " 1008.99632796\n",
      "timestamps per second:  454.608432826\n",
      "timestamps per second:  1065.33546145\n",
      "timestamps per second:  679.29109676\n",
      "timestamps per second: "
     ]
    },
    {
     "name": "stderr",
     "output_type": "stream",
     "text": [
      "VERBOSE:pywiki:Pausing due to database lag: Waiting for 10.64.32.25: 6 seconds lagged\n",
      "Sleeping for 5.0 seconds, 2014-02-08 04:23:31\n",
      "INFO:pywiki:Sleeping for 5.0 seconds, 2014-02-08 04:23:31\n",
      "VERBOSE:pywiki:Found 1 wikipedia:en processes running, including this one.\n"
     ]
    },
    {
     "name": "stdout",
     "output_type": "stream",
     "text": [
      " 560.210223293\n",
      "timestamps per second:  332.053409039\n",
      "timestamps per second:  431.176099727\n",
      "timestamps per second:  58.2879173311\n",
      "timestamps per second: "
     ]
    },
    {
     "name": "stderr",
     "output_type": "stream",
     "text": [
      "VERBOSE:pywiki:Found 1 wikipedia:en processes running, including this one.\n"
     ]
    },
    {
     "name": "stdout",
     "output_type": "stream",
     "text": [
      " 916.141471444\n",
      "timestamps per second:  317.041942058\n",
      "timestamps per second:  37.407261165\n",
      "timestamps per second:  662.616962387\n",
      "timestamps per second: "
     ]
    },
    {
     "name": "stderr",
     "output_type": "stream",
     "text": [
      "VERBOSE:pywiki:Found 1 wikipedia:en processes running, including this one.\n"
     ]
    },
    {
     "name": "stdout",
     "output_type": "stream",
     "text": [
      " 411.814928707\n",
      "timestamps per second: "
     ]
    },
    {
     "name": "stderr",
     "output_type": "stream",
     "text": [
      "VERBOSE:pywiki:Found 1 wikipedia:en processes running, including this one.\n"
     ]
    },
    {
     "name": "stdout",
     "output_type": "stream",
     "text": [
      " 670.185015242\n",
      "timestamps per second:  591.930041504\n",
      "timestamps per second:  720.086659966\n",
      "timestamps per second: "
     ]
    },
    {
     "name": "stderr",
     "output_type": "stream",
     "text": [
      "VERBOSE:pywiki:Found 1 wikipedia:en processes running, including this one.\n"
     ]
    },
    {
     "name": "stdout",
     "output_type": "stream",
     "text": [
      " 621.189097027\n",
      "timestamps per second:  413.607605364\n",
      "timestamps per second:  466.007810065\n",
      "timestamps per second:  253.277321199\n",
      "timestamps per second:  325.857869007\n",
      "timestamps per second:  316.790420436\n",
      "timestamps per second:  623.716957912\n",
      "timestamps per second: "
     ]
    },
    {
     "name": "stderr",
     "output_type": "stream",
     "text": [
      "VERBOSE:pywiki:Found 1 wikipedia:en processes running, including this one.\n"
     ]
    },
    {
     "name": "stdout",
     "output_type": "stream",
     "text": [
      " 506.923677135\n",
      "timestamps per second:  1302.50818205\n",
      "timestamps per second:  538.909069387\n",
      "timestamps per second: "
     ]
    },
    {
     "name": "stderr",
     "output_type": "stream",
     "text": [
      "VERBOSE:pywiki:Found 1 wikipedia:en processes running, including this one.\n"
     ]
    },
    {
     "name": "stdout",
     "output_type": "stream",
     "text": [
      " 320.116854508\n",
      "timestamps per second:  392.37857134\n",
      "timestamps per second: "
     ]
    },
    {
     "name": "stderr",
     "output_type": "stream",
     "text": [
      "VERBOSE:pywiki:Found 1 wikipedia:en processes running, including this one.\n"
     ]
    },
    {
     "name": "stdout",
     "output_type": "stream",
     "text": [
      " 426.61052935\n",
      "timestamps per second:  518.284330161\n",
      "timestamps per second:  68.2230039441\n",
      "timestamps per second:  474.226234642\n",
      "timestamps per second:  25.7838283828\n",
      "timestamps per second:  714.34597428\n",
      "timestamps per second: "
     ]
    },
    {
     "name": "stderr",
     "output_type": "stream",
     "text": [
      "VERBOSE:pywiki:Found 1 wikipedia:en processes running, including this one.\n"
     ]
    },
    {
     "name": "stdout",
     "output_type": "stream",
     "text": [
      " 99.0244260251\n",
      "timestamps per second:  334.023496546\n",
      "timestamps per second:  994.813416559\n",
      "timestamps per second:  543.995899392\n",
      "timestamps per second:  305.713417917\n",
      "timestamps per second:  595.04558691\n",
      "timestamps per second: "
     ]
    },
    {
     "name": "stderr",
     "output_type": "stream",
     "text": [
      "VERBOSE:pywiki:Found 1 wikipedia:en processes running, including this one.\n",
      "VERBOSE:pywiki:Found 1 wikipedia:en processes running, including this one.\n"
     ]
    },
    {
     "name": "stdout",
     "output_type": "stream",
     "text": [
      " 415.784782719\n",
      "timestamps per second:  470.101819193\n",
      "timestamps per second:  42.1437100513\n",
      "timestamps per second:  498.636091779\n",
      "timestamps per second: "
     ]
    },
    {
     "name": "stderr",
     "output_type": "stream",
     "text": [
      "VERBOSE:pywiki:Found 1 wikipedia:en processes running, including this one.\n",
      "VERBOSE:pywiki:Found 1 wikipedia:en processes running, including this one.\n",
      "VERBOSE:pywiki:Found 1 wikipedia:en processes running, including this one.\n"
     ]
    },
    {
     "name": "stdout",
     "output_type": "stream",
     "text": [
      " 24.1090295407\n",
      "timestamps per second:  254.411484813\n",
      "timestamps per second:  448.433181657\n",
      "timestamps per second:  228.412276791\n",
      "timestamps per second:  900.354988804\n",
      "timestamps per second:  219.860016349\n",
      "timestamps per second:  147.602064833\n",
      "timestamps per second:  629.847375198\n",
      "timestamps per second:  831.876440748\n",
      "timestamps per second:  239.267124292\n",
      "timestamps per second: "
     ]
    },
    {
     "name": "stderr",
     "output_type": "stream",
     "text": [
      "VERBOSE:pywiki:Found 1 wikipedia:en processes running, including this one.\n"
     ]
    },
    {
     "name": "stdout",
     "output_type": "stream",
     "text": [
      " 398.099089202\n",
      "timestamps per second:  163.960665056\n",
      "timestamps per second:  132.717524022\n",
      "timestamps per second:  425.930521622\n",
      "timestamps per second:  38.1641152365\n",
      "timestamps per second:  989.761834451\n",
      "timestamps per second:  183.489907467\n",
      "timestamps per second:  362.042793602\n",
      "timestamps per second:  37.4172144131\n",
      "timestamps per second: "
     ]
    },
    {
     "name": "stderr",
     "output_type": "stream",
     "text": [
      "VERBOSE:pywiki:Found 1 wikipedia:en processes running, including this one.\n"
     ]
    },
    {
     "name": "stdout",
     "output_type": "stream",
     "text": [
      " 886.633992562\n",
      "timestamps per second:  517.077811092\n",
      "timestamps per second:  469.392028167\n",
      "timestamps per second: "
     ]
    },
    {
     "name": "stderr",
     "output_type": "stream",
     "text": [
      "VERBOSE:pywiki:Found 1 wikipedia:en processes running, including this one.\n"
     ]
    },
    {
     "name": "stdout",
     "output_type": "stream",
     "text": [
      " 26.9527249205\n",
      "timestamps per second:  422.622257351\n",
      "timestamps per second:  264.432958837\n",
      "timestamps per second:  198.421714303\n",
      "timestamps per second:  404.341256007\n",
      "timestamps per second:  592.747209372\n",
      "timestamps per second: "
     ]
    },
    {
     "name": "stderr",
     "output_type": "stream",
     "text": [
      "VERBOSE:pywiki:Found 1 wikipedia:en processes running, including this one.\n"
     ]
    },
    {
     "name": "stdout",
     "output_type": "stream",
     "text": [
      " 631.710298662\n",
      "timestamps per second:  466.175765622\n",
      "timestamps per second:  465.600370715\n",
      "timestamps per second:  125.463205675\n",
      "timestamps per second:  151.209251362\n",
      "timestamps per second:  668.798049302\n",
      "timestamps per second: "
     ]
    },
    {
     "name": "stderr",
     "output_type": "stream",
     "text": [
      "VERBOSE:pywiki:Found 1 wikipedia:en processes running, including this one.\n"
     ]
    },
    {
     "name": "stdout",
     "output_type": "stream",
     "text": [
      " 38.8194990344\n",
      "timestamps per second:  439.06545926\n",
      "timestamps per second:  12.3608739491\n",
      "timestamps per second:  188.998778968\n",
      "timestamps per second:  616.398876739\n",
      "timestamps per second: "
     ]
    },
    {
     "name": "stderr",
     "output_type": "stream",
     "text": [
      "VERBOSE:pywiki:Found 1 wikipedia:en processes running, including this one.\n",
      "VERBOSE:pywiki:Found 1 wikipedia:en processes running, including this one.\n",
      "VERBOSE:pywiki:Found 1 wikipedia:en processes running, including this one.\n",
      "VERBOSE:pywiki:Found 1 wikipedia:en processes running, including this one.\n"
     ]
    },
    {
     "name": "stdout",
     "output_type": "stream",
     "text": [
      " 290.549457141\n",
      "timestamps per second:  398.403926585\n",
      "timestamps per second:  619.169884082\n",
      "timestamps per second:  326.287757012\n",
      "timestamps per second:  445.627565286\n",
      "timestamps per second:  253.041504268\n",
      "timestamps per second:  764.482845313\n",
      "timestamps per second:  450.12405674\n",
      "timestamps per second:  945.291853336\n",
      "timestamps per second:  527.798465175\n",
      "timestamps per second:  573.031149711\n",
      "timestamps per second: "
     ]
    },
    {
     "name": "stderr",
     "output_type": "stream",
     "text": [
      "VERBOSE:pywiki:Found 1 wikipedia:en processes running, including this one.\n"
     ]
    },
    {
     "name": "stdout",
     "output_type": "stream",
     "text": [
      " 176.177197811\n",
      "timestamps per second:  259.5461681\n",
      "timestamps per second:  137.232522099\n",
      "timestamps per second:  48.8936696033\n",
      "timestamps per second:  444.660175694\n",
      "timestamps per second:  382.39432305\n",
      "timestamps per second:  30.7446350612\n",
      "timestamps per second:  596.05112687\n",
      "timestamps per second: "
     ]
    },
    {
     "name": "stderr",
     "output_type": "stream",
     "text": [
      "VERBOSE:pywiki:Found 1 wikipedia:en processes running, including this one.\n"
     ]
    },
    {
     "name": "stdout",
     "output_type": "stream",
     "text": [
      " 669.396769472\n",
      "timestamps per second:  36.2848464114\n",
      "timestamps per second:  276.296332736\n",
      "timestamps per second:  390.535848908\n",
      "timestamps per second:  763.882306367\n",
      "timestamps per second:  825.524949198\n",
      "timestamps per second:  342.910311483\n",
      "timestamps per second: "
     ]
    },
    {
     "name": "stderr",
     "output_type": "stream",
     "text": [
      "VERBOSE:pywiki:Found 1 wikipedia:en processes running, including this one.\n"
     ]
    },
    {
     "name": "stdout",
     "output_type": "stream",
     "text": [
      " 43.9286247705\n",
      "timestamps per second:  511.344582951\n",
      "timestamps per second:  313.619134949\n",
      "timestamps per second:  370.855403711\n",
      "timestamps per second:  530.906326617\n",
      "timestamps per second:  671.841074883\n",
      "timestamps per second:  437.9737809\n",
      "timestamps per second: "
     ]
    },
    {
     "name": "stderr",
     "output_type": "stream",
     "text": [
      "VERBOSE:pywiki:Found 1 wikipedia:en processes running, including this one.\n"
     ]
    },
    {
     "name": "stdout",
     "output_type": "stream",
     "text": [
      " 34.9073210626\n",
      "timestamps per second:  379.591395654\n",
      "timestamps per second:  405.519074773\n",
      "timestamps per second:  580.338113432\n",
      "timestamps per second:  384.576011864\n",
      "timestamps per second:  52.7864655502\n",
      "timestamps per second:  336.106792335\n",
      "timestamps per second:  50.0066675557\n",
      "timestamps per second:  39.2312633938\n",
      "timestamps per second:  40.0979995108\n",
      "timestamps per second:  161.574313827\n",
      "timestamps per second:  414.041357598\n",
      "timestamps per second:  236.928544505\n",
      "timestamps per second: "
     ]
    },
    {
     "name": "stderr",
     "output_type": "stream",
     "text": [
      "VERBOSE:pywiki:Found 1 wikipedia:en processes running, including this one.\n"
     ]
    },
    {
     "name": "stdout",
     "output_type": "stream",
     "text": [
      " 457.437971714\n",
      "timestamps per second:  367.444153778\n",
      "timestamps per second:  531.547000549\n",
      "timestamps per second:  181.524526756\n",
      "timestamps per second: "
     ]
    },
    {
     "name": "stderr",
     "output_type": "stream",
     "text": [
      "VERBOSE:pywiki:Found 1 wikipedia:en processes running, including this one.\n"
     ]
    },
    {
     "name": "stdout",
     "output_type": "stream",
     "text": [
      " 153.006000303\n",
      "timestamps per second:  265.843433879\n",
      "timestamps per second: "
     ]
    },
    {
     "name": "stderr",
     "output_type": "stream",
     "text": [
      "VERBOSE:pywiki:Found 1 wikipedia:en processes running, including this one.\n",
      "VERBOSE:pywiki:Found 1 wikipedia:en processes running, including this one.\n",
      "VERBOSE:pywiki:Found 1 wikipedia:en processes running, including this one.\n",
      "VERBOSE:pywiki:Found 1 wikipedia:en processes running, including this one.\n",
      "VERBOSE:pywiki:Found 1 wikipedia:en processes running, including this one.\n",
      "VERBOSE:pywiki:Found 1 wikipedia:en processes running, including this one.\n"
     ]
    },
    {
     "name": "stdout",
     "output_type": "stream",
     "text": [
      " 327.774047821\n",
      "timestamps per second:  413.678232176\n",
      "timestamps per second:  511.065118637\n",
      "timestamps per second: "
     ]
    },
    {
     "name": "stderr",
     "output_type": "stream",
     "text": [
      "VERBOSE:pywiki:Found 1 wikipedia:en processes running, including this one.\n"
     ]
    },
    {
     "name": "stdout",
     "output_type": "stream",
     "text": [
      " 356.366017265\n",
      "timestamps per second:  434.210585467\n",
      "timestamps per second: "
     ]
    },
    {
     "name": "stderr",
     "output_type": "stream",
     "text": [
      "VERBOSE:pywiki:Found 1 wikipedia:en processes running, including this one.\n"
     ]
    },
    {
     "name": "stdout",
     "output_type": "stream",
     "text": [
      " 388.983545394\n",
      "timestamps per second:  906.576442925\n",
      "timestamps per second:  83.9439254578\n",
      "timestamps per second:  584.56328644\n",
      "timestamps per second:  386.384307007\n",
      "timestamps per second:  487.523174087\n",
      "timestamps per second:  450.787045098\n",
      "timestamps per second:  423.177935889\n",
      "timestamps per second:  191.061720885\n",
      "timestamps per second:  288.575821259\n",
      "timestamps per second: "
     ]
    },
    {
     "name": "stderr",
     "output_type": "stream",
     "text": [
      "VERBOSE:pywiki:Found 1 wikipedia:en processes running, including this one.\n",
      "VERBOSE:pywiki:Found 1 wikipedia:en processes running, including this one.\n",
      "VERBOSE:pywiki:Found 1 wikipedia:en processes running, including this one.\n"
     ]
    },
    {
     "name": "stdout",
     "output_type": "stream",
     "text": [
      " 91.2552575472\n",
      "timestamps per second:  341.650038539\n",
      "timestamps per second:  15.8529689969\n",
      "timestamps per second:  476.721601209\n",
      "timestamps per second:  477.382124148\n",
      "timestamps per second: "
     ]
    },
    {
     "name": "stderr",
     "output_type": "stream",
     "text": [
      "VERBOSE:pywiki:Found 1 wikipedia:en processes running, including this one.\n"
     ]
    },
    {
     "name": "stdout",
     "output_type": "stream",
     "text": [
      " 21.7094569108\n",
      "timestamps per second:  261.805803226\n",
      "timestamps per second:  67.7622756712\n",
      "timestamps per second: "
     ]
    },
    {
     "name": "stderr",
     "output_type": "stream",
     "text": [
      "VERBOSE:pywiki:Found 1 wikipedia:en processes running, including this one.\n"
     ]
    },
    {
     "name": "stdout",
     "output_type": "stream",
     "text": [
      " 693.752419241\n",
      "timestamps per second:  300.978257037\n",
      "timestamps per second:  483.739338127\n",
      "timestamps per second:  182.382586557\n",
      "timestamps per second:  50.6629046212\n",
      "timestamps per second:  32.0814869769\n",
      "timestamps per second:  47.6107346336\n",
      "timestamps per second:  98.7499897135\n",
      "timestamps per second:  374.285243738\n",
      "timestamps per second:  89.8324624575\n",
      "timestamps per second:  594.366304589\n",
      "timestamps per second: "
     ]
    },
    {
     "name": "stderr",
     "output_type": "stream",
     "text": [
      "VERBOSE:pywiki:Found 1 wikipedia:en processes running, including this one.\n"
     ]
    },
    {
     "name": "stdout",
     "output_type": "stream",
     "text": [
      " 624.397000606\n",
      "timestamps per second: "
     ]
    },
    {
     "name": "stderr",
     "output_type": "stream",
     "text": [
      "VERBOSE:pywiki:Found 1 wikipedia:en processes running, including this one.\n"
     ]
    },
    {
     "name": "stdout",
     "output_type": "stream",
     "text": [
      " 319.837228776\n",
      "timestamps per second:  436.136241378\n",
      "timestamps per second:  22.4097168532\n",
      "timestamps per second:  643.991076786\n",
      "timestamps per second:  34.8627931198\n",
      "timestamps per second:  341.806528461\n",
      "timestamps per second:  422.089446942\n",
      "timestamps per second: "
     ]
    },
    {
     "name": "stderr",
     "output_type": "stream",
     "text": [
      "VERBOSE:pywiki:Found 1 wikipedia:en processes running, including this one.\n"
     ]
    },
    {
     "name": "stdout",
     "output_type": "stream",
     "text": [
      " 297.223928508\n",
      "timestamps per second:  301.405782765\n",
      "timestamps per second:  39.2798690671\n",
      "timestamps per second:  257.092127357\n",
      "timestamps per second:  600.179506728\n",
      "timestamps per second:  1364.83368666\n",
      "timestamps per second:  616.182909032\n",
      "timestamps per second:  463.393029682\n",
      "timestamps per second: "
     ]
    },
    {
     "name": "stderr",
     "output_type": "stream",
     "text": [
      "VERBOSE:pywiki:Found 1 wikipedia:en processes running, including this one.\n"
     ]
    },
    {
     "name": "stdout",
     "output_type": "stream",
     "text": [
      " 58.864586224\n",
      "timestamps per second:  289.954849045\n",
      "timestamps per second:  374.035544348\n",
      "timestamps per second:  145.973777801\n",
      "timestamps per second: "
     ]
    },
    {
     "name": "stderr",
     "output_type": "stream",
     "text": [
      "VERBOSE:pywiki:Found 1 wikipedia:en processes running, including this one.\n"
     ]
    },
    {
     "name": "stdout",
     "output_type": "stream",
     "text": [
      " 429.864388365\n",
      "timestamps per second:  456.317069053\n",
      "timestamps per second:  86.3543654188\n",
      "timestamps per second:  549.837593498\n",
      "timestamps per second: "
     ]
    },
    {
     "name": "stderr",
     "output_type": "stream",
     "text": [
      "VERBOSE:pywiki:Found 1 wikipedia:en processes running, including this one.\n"
     ]
    },
    {
     "name": "stdout",
     "output_type": "stream",
     "text": [
      " 660.00777895\n",
      "timestamps per second:  447.537295771\n",
      "timestamps per second:  338.892788846\n",
      "timestamps per second:  322.081937645\n",
      "timestamps per second:  87.3482324461\n",
      "timestamps per second:  597.058555863\n",
      "timestamps per second:  445.352514778\n",
      "timestamps per second:  201.269648537\n",
      "timestamps per second:  839.702151188\n",
      "timestamps per second:  410.764624098\n",
      "timestamps per second:  641.986864011\n",
      "timestamps per second:  31.8196281649\n",
      "timestamps per second:  573.95420036\n",
      "timestamps per second: "
     ]
    },
    {
     "name": "stderr",
     "output_type": "stream",
     "text": [
      "VERBOSE:pywiki:Found 1 wikipedia:en processes running, including this one.\n"
     ]
    },
    {
     "name": "stdout",
     "output_type": "stream",
     "text": [
      " 296.168279332\n",
      "timestamps per second:  575.753945249\n",
      "timestamps per second:  45.9345808052\n",
      "timestamps per second:  309.505259709\n",
      "timestamps per second:  529.607128078\n",
      "timestamps per second:  672.191103373\n",
      "timestamps per second:  294.705131144\n",
      "timestamps per second:  339.957671124\n",
      "timestamps per second:  575.76654252\n",
      "timestamps per second:  649.807732054\n",
      "timestamps per second: "
     ]
    },
    {
     "name": "stderr",
     "output_type": "stream",
     "text": [
      "VERBOSE:pywiki:Found 1 wikipedia:en processes running, including this one.\n"
     ]
    },
    {
     "name": "stdout",
     "output_type": "stream",
     "text": [
      " 620.578805294\n",
      "timestamps per second: "
     ]
    },
    {
     "name": "stderr",
     "output_type": "stream",
     "text": [
      "VERBOSE:pywiki:Found 1 wikipedia:en processes running, including this one.\n",
      "VERBOSE:pywiki:Found 1 wikipedia:en processes running, including this one.\n"
     ]
    },
    {
     "name": "stdout",
     "output_type": "stream",
     "text": [
      " 476.256477144\n",
      "timestamps per second:  387.012147921\n",
      "timestamps per second:  24.8039454809\n",
      "timestamps per second:  698.034371123\n",
      "timestamps per second:  701.616036275\n",
      "timestamps per second:  241.883561522\n",
      "timestamps per second:  83.3497055969\n",
      "timestamps per second:  37.5556880437\n",
      "timestamps per second:  311.472566177\n",
      "timestamps per second:  1178.53248406\n",
      "timestamps per second:  1032.55534381\n",
      "timestamps per second:  290.903874357\n",
      "timestamps per second:  277.403348376\n",
      "timestamps per second:  331.354943676\n",
      "timestamps per second:  137.464734701\n",
      "timestamps per second: "
     ]
    },
    {
     "name": "stderr",
     "output_type": "stream",
     "text": [
      "VERBOSE:pywiki:Found 1 wikipedia:en processes running, including this one.\n"
     ]
    },
    {
     "name": "stdout",
     "output_type": "stream",
     "text": [
      " 308.760174668\n",
      "timestamps per second:  355.976588622\n",
      "timestamps per second:  418.128636575\n",
      "timestamps per second:  311.899979649\n",
      "timestamps per second:  398.436939311\n",
      "timestamps per second:  455.515518162\n",
      "timestamps per second: "
     ]
    },
    {
     "name": "stderr",
     "output_type": "stream",
     "text": [
      "VERBOSE:pywiki:Found 1 wikipedia:en processes running, including this one.\n"
     ]
    },
    {
     "name": "stdout",
     "output_type": "stream",
     "text": [
      " 191.476941039\n",
      "timestamps per second:  512.09503049\n",
      "timestamps per second:  280.460235833\n",
      "timestamps per second:  182.274963502\n",
      "timestamps per second:  475.483535311\n",
      "timestamps per second:  37.0964600703\n",
      "timestamps per second:  217.751264545\n",
      "timestamps per second:  207.214844118\n",
      "timestamps per second:  339.76291459\n",
      "timestamps per second:  284.844454582\n",
      "timestamps per second:  617.365974848\n",
      "timestamps per second:  388.107499124\n",
      "timestamps per second:  268.980629021\n",
      "timestamps per second: "
     ]
    },
    {
     "name": "stderr",
     "output_type": "stream",
     "text": [
      "VERBOSE:pywiki:Found 1 wikipedia:en processes running, including this one.\n"
     ]
    },
    {
     "name": "stdout",
     "output_type": "stream",
     "text": [
      " 31.8960371452\n",
      "timestamps per second:  491.46059201\n",
      "timestamps per second:  439.597947039\n",
      "timestamps per second:  1022.8675314\n",
      "timestamps per second:  585.889640255\n",
      "timestamps per second: "
     ]
    },
    {
     "name": "stderr",
     "output_type": "stream",
     "text": [
      "VERBOSE:pywiki:Found 1 wikipedia:en processes running, including this one.\n",
      "VERBOSE:pywiki:Pausing due to database lag: Waiting for 10.64.16.26: 6 seconds lagged\n",
      "Sleeping for 5.0 seconds, 2014-02-08 09:05:22\n",
      "INFO:pywiki:Sleeping for 5.0 seconds, 2014-02-08 09:05:22\n"
     ]
    },
    {
     "name": "stdout",
     "output_type": "stream",
     "text": [
      " 583.997010877\n",
      "timestamps per second:  1987.25815554\n",
      "timestamps per second:  433.893172404\n",
      "timestamps per second: "
     ]
    },
    {
     "name": "stderr",
     "output_type": "stream",
     "text": [
      "VERBOSE:pywiki:Found 1 wikipedia:en processes running, including this one.\n"
     ]
    },
    {
     "name": "stdout",
     "output_type": "stream",
     "text": [
      " 321.483001839\n",
      "timestamps per second:  644.68692049\n",
      "timestamps per second: "
     ]
    },
    {
     "name": "stderr",
     "output_type": "stream",
     "text": [
      "VERBOSE:pywiki:Pausing due to database lag: Waiting for 10.64.16.32: 8 seconds lagged\n",
      "Sleeping for 5.0 seconds, 2014-02-08 09:15:20\n",
      "INFO:pywiki:Sleeping for 5.0 seconds, 2014-02-08 09:15:20\n",
      "VERBOSE:pywiki:Found 1 wikipedia:en processes running, including this one.\n"
     ]
    },
    {
     "name": "stdout",
     "output_type": "stream",
     "text": [
      " 310.144028568\n",
      "timestamps per second:  212.487363776\n",
      "timestamps per second:  494.009143153\n",
      "timestamps per second:  889.084323389\n",
      "timestamps per second:  36.578786133\n",
      "timestamps per second:  445.172850298\n",
      "timestamps per second:  427.893603053\n",
      "timestamps per second:  403.845584767\n",
      "timestamps per second:  687.739702678\n",
      "timestamps per second:  890.341683436\n",
      "timestamps per second: "
     ]
    },
    {
     "name": "stderr",
     "output_type": "stream",
     "text": [
      "VERBOSE:pywiki:Found 1 wikipedia:en processes running, including this one.\n"
     ]
    },
    {
     "name": "stdout",
     "output_type": "stream",
     "text": [
      " 389.129943702\n",
      "timestamps per second:  375.669444116\n",
      "timestamps per second:  26.2603892665\n",
      "timestamps per second:  46.1642153468\n",
      "timestamps per second:  296.988446469\n",
      "timestamps per second:  732.326242826\n",
      "timestamps per second:  49.1939570143\n",
      "timestamps per second:  272.935239557\n",
      "timestamps per second:  392.139307937\n",
      "timestamps per second: "
     ]
    },
    {
     "name": "stderr",
     "output_type": "stream",
     "text": [
      "VERBOSE:pywiki:Found 1 wikipedia:en processes running, including this one.\n"
     ]
    },
    {
     "name": "stdout",
     "output_type": "stream",
     "text": [
      " 928.036963375\n",
      "timestamps per second:  241.422859767\n",
      "timestamps per second:  911.374850599\n",
      "timestamps per second:  30.4501400706\n",
      "timestamps per second: "
     ]
    },
    {
     "name": "stderr",
     "output_type": "stream",
     "text": [
      "VERBOSE:pywiki:Found 1 wikipedia:en processes running, including this one.\n"
     ]
    },
    {
     "name": "stdout",
     "output_type": "stream",
     "text": [
      " 479.410866577\n",
      "timestamps per second:  404.907001989\n",
      "timestamps per second: "
     ]
    },
    {
     "name": "stderr",
     "output_type": "stream",
     "text": [
      "VERBOSE:pywiki:Found 1 wikipedia:en processes running, including this one.\n"
     ]
    },
    {
     "name": "stdout",
     "output_type": "stream",
     "text": [
      " 63.6282413949\n",
      "timestamps per second:  331.172967713\n",
      "timestamps per second:  439.280169934\n",
      "timestamps per second:  45.0477506157\n",
      "timestamps per second: "
     ]
    },
    {
     "name": "stderr",
     "output_type": "stream",
     "text": [
      "VERBOSE:pywiki:Found 1 wikipedia:en processes running, including this one.\n"
     ]
    },
    {
     "name": "stdout",
     "output_type": "stream",
     "text": [
      " 587.927779181\n",
      "timestamps per second:  485.284150928\n",
      "timestamps per second: "
     ]
    },
    {
     "name": "stderr",
     "output_type": "stream",
     "text": [
      "VERBOSE:pywiki:Found 1 wikipedia:en processes running, including this one.\n"
     ]
    },
    {
     "name": "stdout",
     "output_type": "stream",
     "text": [
      " 403.367405896\n",
      "timestamps per second:  193.94958622\n",
      "timestamps per second: "
     ]
    },
    {
     "name": "stderr",
     "output_type": "stream",
     "text": [
      "VERBOSE:pywiki:Found 1 wikipedia:en processes running, including this one.\n"
     ]
    },
    {
     "name": "stdout",
     "output_type": "stream",
     "text": [
      " 299.024538834\n",
      "timestamps per second:  459.920926858\n",
      "timestamps per second:  345.705783361\n",
      "timestamps per second:  76.0384682232\n",
      "timestamps per second:  83.8916577373\n",
      "timestamps per second:  249.15321576\n",
      "timestamps per second:  256.497732027\n",
      "timestamps per second:  441.988440657\n",
      "timestamps per second:  481.805987503\n",
      "timestamps per second:  756.88148264\n",
      "timestamps per second:  39.0376855621\n",
      "timestamps per second:  998.631471848\n",
      "timestamps per second: "
     ]
    },
    {
     "name": "stderr",
     "output_type": "stream",
     "text": [
      "VERBOSE:pywiki:Found 1 wikipedia:en processes running, including this one.\n"
     ]
    },
    {
     "name": "stdout",
     "output_type": "stream",
     "text": [
      " 357.403784315\n",
      "timestamps per second:  501.525247931\n",
      "timestamps per second:  802.73430959\n",
      "timestamps per second:  808.698399477\n",
      "timestamps per second:  359.400287381\n",
      "timestamps per second:  41.4509681104\n",
      "timestamps per second:  709.132503615\n",
      "timestamps per second:  372.485124741\n",
      "timestamps per second:  392.499871372\n",
      "timestamps per second:  673.071199233\n",
      "timestamps per second:  227.128680097\n",
      "timestamps per second:  397.185280314\n",
      "timestamps per second:  134.047658411\n",
      "timestamps per second: "
     ]
    },
    {
     "name": "stderr",
     "output_type": "stream",
     "text": [
      "VERBOSE:pywiki:Found 1 wikipedia:en processes running, including this one.\n",
      "VERBOSE:pywiki:Found 1 wikipedia:en processes running, including this one.\n"
     ]
    },
    {
     "name": "stdout",
     "output_type": "stream",
     "text": [
      " 792.88181835\n",
      "timestamps per second:  268.191303192\n",
      "timestamps per second:  378.143983393\n",
      "timestamps per second:  89.5832360745\n",
      "timestamps per second:  645.078341021\n",
      "timestamps per second: "
     ]
    },
    {
     "name": "stderr",
     "output_type": "stream",
     "text": [
      "VERBOSE:pywiki:Found 1 wikipedia:en processes running, including this one.\n"
     ]
    },
    {
     "name": "stdout",
     "output_type": "stream",
     "text": [
      " 620.733442251\n",
      "timestamps per second:  308.214433626\n",
      "timestamps per second:  233.527239054\n",
      "timestamps per second:  29.9790419243\n",
      "timestamps per second:  178.733565449\n",
      "timestamps per second:  383.923808759\n",
      "timestamps per second:  137.798375666\n",
      "timestamps per second:  293.03929838\n",
      "timestamps per second:  24.7931835274\n",
      "timestamps per second:  636.996518311\n",
      "timestamps per second:  63.4620113756\n",
      "timestamps per second:  83.2535486825\n",
      "timestamps per second: "
     ]
    },
    {
     "name": "stderr",
     "output_type": "stream",
     "text": [
      "VERBOSE:pywiki:Found 1 wikipedia:en processes running, including this one.\n"
     ]
    },
    {
     "name": "stdout",
     "output_type": "stream",
     "text": [
      " 602.819594463\n",
      "timestamps per second:  241.384213877\n",
      "timestamps per second:  73.7173749105\n",
      "timestamps per second:  50.637350412\n",
      "timestamps per second:  168.418842913\n",
      "timestamps per second:  26.662459923\n",
      "timestamps per second: "
     ]
    },
    {
     "name": "stderr",
     "output_type": "stream",
     "text": [
      "VERBOSE:pywiki:Found 1 wikipedia:en processes running, including this one.\n"
     ]
    },
    {
     "name": "stdout",
     "output_type": "stream",
     "text": [
      " 276.136716532\n",
      "timestamps per second:  385.409269213\n",
      "timestamps per second:  191.396979209\n",
      "timestamps per second:  356.854650029\n",
      "timestamps per second: "
     ]
    },
    {
     "name": "stderr",
     "output_type": "stream",
     "text": [
      "VERBOSE:pywiki:Found 1 wikipedia:en processes running, including this one.\n",
      "VERBOSE:pywiki:Found 1 wikipedia:en processes running, including this one.\n",
      "VERBOSE:pywiki:Found 1 wikipedia:en processes running, including this one.\n"
     ]
    },
    {
     "name": "stdout",
     "output_type": "stream",
     "text": [
      " 501.992331264\n",
      "timestamps per second:  254.850964749\n",
      "timestamps per second:  34.4698027293\n",
      "timestamps per second:  338.233039482\n",
      "timestamps per second: "
     ]
    },
    {
     "name": "stderr",
     "output_type": "stream",
     "text": [
      "VERBOSE:pywiki:Found 1 wikipedia:en processes running, including this one.\n"
     ]
    },
    {
     "name": "stdout",
     "output_type": "stream",
     "text": [
      " 417.676708669\n",
      "timestamps per second:  307.521958803\n",
      "timestamps per second:  26.1229228648\n",
      "timestamps per second:  285.934815952\n",
      "timestamps per second: "
     ]
    },
    {
     "name": "stderr",
     "output_type": "stream",
     "text": [
      "VERBOSE:pywiki:Found 1 wikipedia:en processes running, including this one.\n"
     ]
    },
    {
     "name": "stdout",
     "output_type": "stream",
     "text": [
      " 341.399350314\n",
      "timestamps per second:  415.789012541\n",
      "timestamps per second:  437.520022689\n",
      "timestamps per second:  588.203992349\n",
      "timestamps per second:  10.1159225216\n",
      "timestamps per second: "
     ]
    },
    {
     "name": "stderr",
     "output_type": "stream",
     "text": [
      "VERBOSE:pywiki:Found 1 wikipedia:en processes running, including this one.\n"
     ]
    },
    {
     "name": "stdout",
     "output_type": "stream",
     "text": [
      " 556.746188639\n",
      "timestamps per second:  322.730603237\n",
      "timestamps per second:  53.8044701632\n",
      "timestamps per second:  31.6162212292\n",
      "timestamps per second:  1027.84807035\n",
      "timestamps per second:  210.361204958\n",
      "timestamps per second: "
     ]
    },
    {
     "name": "stderr",
     "output_type": "stream",
     "text": [
      "VERBOSE:pywiki:Found 1 wikipedia:en processes running, including this one.\n"
     ]
    },
    {
     "name": "stdout",
     "output_type": "stream",
     "text": [
      " 117.274921735\n",
      "timestamps per second:  343.783909687\n",
      "timestamps per second:  25.4899649194\n",
      "timestamps per second:  408.377024967\n",
      "timestamps per second:  685.906242003\n",
      "timestamps per second:  351.93099932\n",
      "timestamps per second:  499.059464855\n",
      "timestamps per second:  26.7050031823\n",
      "timestamps per second:  981.294614169\n",
      "timestamps per second:  369.945223483\n",
      "timestamps per second:  768.916087127\n",
      "timestamps per second:  311.919066815\n",
      "timestamps per second: "
     ]
    },
    {
     "name": "stderr",
     "output_type": "stream",
     "text": [
      "VERBOSE:pywiki:Found 1 wikipedia:en processes running, including this one.\n"
     ]
    },
    {
     "name": "stdout",
     "output_type": "stream",
     "text": [
      " 99.1153950987\n",
      "timestamps per second:  218.841109246\n",
      "timestamps per second:  29.5130349238\n",
      "timestamps per second:  290.629951954\n",
      "timestamps per second:  342.305953238\n",
      "timestamps per second:  538.265727051\n",
      "timestamps per second:  945.659017279\n",
      "timestamps per second:  468.731518456\n",
      "timestamps per second:  341.573399893\n",
      "timestamps per second:  36.3221253632\n",
      "timestamps per second:  35.2251366575\n",
      "timestamps per second: "
     ]
    },
    {
     "name": "stderr",
     "output_type": "stream",
     "text": [
      "VERBOSE:pywiki:Found 1 wikipedia:en processes running, including this one.\n"
     ]
    }
   ],
   "source": [
    "category_to_save('Category:Feminist_writers')"
   ]
  },
  {
   "cell_type": "code",
   "execution_count": "*",
   "id": "affected-bread",
   "metadata": {
    "collapsed": false,
    "jupyter": {
     "outputs_hidden": false
    }
   },
   "outputs": [],
   "source": [
    "category_to_save('Category:Works_based_on_Sherlock_Holmes')"
   ]
  },
  {
   "cell_type": "code",
   "execution_count": "*",
   "id": "recorded-acoustic",
   "metadata": {
    "collapsed": false,
    "jupyter": {
     "outputs_hidden": false
    }
   },
   "outputs": [],
   "source": [
    "category_to_save('Category:Non-Euclidean_geometry')"
   ]
  },
  {
   "cell_type": "code",
   "execution_count": "*",
   "id": "educational-winning",
   "metadata": {
    "collapsed": false,
    "jupyter": {
     "outputs_hidden": false
    }
   },
   "outputs": [],
   "source": [
    "category_to_save('Category:Military_history_of_the_United_States')"
   ]
  },
  {
   "cell_type": "code",
   "execution_count": null,
   "id": "transsexual-anderson",
   "metadata": {
    "collapsed": false,
    "jupyter": {
     "outputs_hidden": false
    }
   },
   "outputs": [],
   "source": [
    "category_to_save('Category:Yoga')"
   ]
  },
  {
   "cell_type": "code",
   "execution_count": null,
   "id": "persistent-final",
   "metadata": {
    "collapsed": false,
    "jupyter": {
     "outputs_hidden": false
    }
   },
   "outputs": [],
   "source": [
    "'Category:Bicycle_parts'"
   ]
  },
  {
   "cell_type": "code",
   "execution_count": 43,
   "id": "animated-radio",
   "metadata": {
    "collapsed": false,
    "jupyter": {
     "outputs_hidden": false
    }
   },
   "outputs": [],
   "source": [
    "def load_arts(category_name, wp=enwp):\n",
    "\n",
    "    if category_name:\n",
    "        cat = pywikibot.Category(wp, category_name)\n",
    "        articles = list(cat.articles())\n",
    "        save_name = category_name\n",
    "    \n",
    "    load_article_revisions(articles, wp)\n",
    "\n",
    "    return articles"
   ]
  },
  {
   "cell_type": "code",
   "execution_count": 44,
   "id": "wrong-handbook",
   "metadata": {
    "collapsed": false,
    "jupyter": {
     "outputs_hidden": false
    }
   },
   "outputs": [],
   "source": [
    "def make_rev_dict(article):\n",
    "    revdict = {rev.timestamp : {'user' : rev.user, 'article' : article.title()} for rev in article._revisions.itervalues()}\n",
    "    return revdict\n",
    "\n",
    "def make_revision_df(article_list):\n",
    "    all_revisions = pd.DataFrame(columns=['user', 'article'], index=pd.TimeSeries())\n",
    "    \n",
    "    for article in article_list:\n",
    "        all_revisions = all_revisions.append(pd.DataFrame.from_dict(data=make_rev_dict(article), orient='index'))\n",
    "        \n",
    "    return all_revisions"
   ]
  },
  {
   "cell_type": "code",
   "execution_count": 49,
   "id": "attached-advocacy",
   "metadata": {
    "collapsed": false,
    "jupyter": {
     "outputs_hidden": false
    }
   },
   "outputs": [],
   "source": [
    "fem_arts = load_arts(category_name='Category:Feminist_writers')"
   ]
  },
  {
   "cell_type": "code",
   "execution_count": 51,
   "id": "circular-above",
   "metadata": {
    "collapsed": false,
    "jupyter": {
     "outputs_hidden": false
    }
   },
   "outputs": [],
   "source": [
    "all_revs = make_revision_df(fem_arts)"
   ]
  },
  {
   "cell_type": "code",
   "execution_count": 56,
   "id": "simplified-jonathan",
   "metadata": {
    "collapsed": false,
    "jupyter": {
     "outputs_hidden": false
    }
   },
   "outputs": [
    {
     "data": {
      "text/html": [
       "<div style=\"max-height:1000px;max-width:1500px;overflow:auto;\">\n",
       "<table border=\"1\" class=\"dataframe\">\n",
       "  <thead>\n",
       "    <tr style=\"text-align: right;\">\n",
       "      <th></th>\n",
       "      <th>article</th>\n",
       "      <th>user</th>\n",
       "    </tr>\n",
       "  </thead>\n",
       "  <tbody>\n",
       "    <tr>\n",
       "      <th>2011-04-20 04:01:07</th>\n",
       "      <td> Zahida Hina</td>\n",
       "      <td>            Saad31</td>\n",
       "    </tr>\n",
       "    <tr>\n",
       "      <th>2011-05-11 15:05:20</th>\n",
       "      <td> Zahida Hina</td>\n",
       "      <td>            Saad31</td>\n",
       "    </tr>\n",
       "    <tr>\n",
       "      <th>2011-06-01 09:35:58</th>\n",
       "      <td> Zahida Hina</td>\n",
       "      <td>         FrescoBot</td>\n",
       "    </tr>\n",
       "    <tr>\n",
       "      <th>2011-09-13 08:38:03</th>\n",
       "      <td> Zahida Hina</td>\n",
       "      <td>       RjwilmsiBot</td>\n",
       "    </tr>\n",
       "    <tr>\n",
       "      <th>2011-11-13 22:31:09</th>\n",
       "      <td> Zahida Hina</td>\n",
       "      <td>         Waacstats</td>\n",
       "    </tr>\n",
       "    <tr>\n",
       "      <th>2012-01-15 03:37:35</th>\n",
       "      <td> Zahida Hina</td>\n",
       "      <td>           Gooddo1</td>\n",
       "    </tr>\n",
       "    <tr>\n",
       "      <th>2012-01-16 21:37:13</th>\n",
       "      <td> Zahida Hina</td>\n",
       "      <td>   CommonsDelinker</td>\n",
       "    </tr>\n",
       "    <tr>\n",
       "      <th>2012-04-15 10:50:56</th>\n",
       "      <td> Zahida Hina</td>\n",
       "      <td>             Mar4d</td>\n",
       "    </tr>\n",
       "    <tr>\n",
       "      <th>2012-07-20 15:31:04</th>\n",
       "      <td> Zahida Hina</td>\n",
       "      <td>        Justice007</td>\n",
       "    </tr>\n",
       "    <tr>\n",
       "      <th>2012-08-11 10:07:30</th>\n",
       "      <td> Zahida Hina</td>\n",
       "      <td>        Rasoolpuri</td>\n",
       "    </tr>\n",
       "    <tr>\n",
       "      <th>2012-08-11 10:10:17</th>\n",
       "      <td> Zahida Hina</td>\n",
       "      <td>        Justice007</td>\n",
       "    </tr>\n",
       "    <tr>\n",
       "      <th>2012-10-29 08:36:37</th>\n",
       "      <td> Zahida Hina</td>\n",
       "      <td>          BattyBot</td>\n",
       "    </tr>\n",
       "    <tr>\n",
       "      <th>2012-11-13 00:11:16</th>\n",
       "      <td> Zahida Hina</td>\n",
       "      <td>           VIAFbot</td>\n",
       "    </tr>\n",
       "    <tr>\n",
       "      <th>2013-03-23 02:12:39</th>\n",
       "      <td> Zahida Hina</td>\n",
       "      <td>            KLBot2</td>\n",
       "    </tr>\n",
       "    <tr>\n",
       "      <th>2013-03-31 14:37:04</th>\n",
       "      <td> Zahida Hina</td>\n",
       "      <td> Captain Assassin!</td>\n",
       "    </tr>\n",
       "    <tr>\n",
       "      <th>2013-03-31 14:37:38</th>\n",
       "      <td> Zahida Hina</td>\n",
       "      <td> Captain Assassin!</td>\n",
       "    </tr>\n",
       "    <tr>\n",
       "      <th>2013-06-12 20:56:40</th>\n",
       "      <td> Zahida Hina</td>\n",
       "      <td>       92.97.42.59</td>\n",
       "    </tr>\n",
       "    <tr>\n",
       "      <th>2013-12-22 12:14:43</th>\n",
       "      <td> Zahida Hina</td>\n",
       "      <td>     117.196.187.2</td>\n",
       "    </tr>\n",
       "    <tr>\n",
       "      <th>2013-12-22 19:16:07</th>\n",
       "      <td> Zahida Hina</td>\n",
       "      <td>            Geniac</td>\n",
       "    </tr>\n",
       "    <tr>\n",
       "      <th>2013-12-26 14:19:59</th>\n",
       "      <td> Zahida Hina</td>\n",
       "      <td>    202.141.224.13</td>\n",
       "    </tr>\n",
       "  </tbody>\n",
       "</table>\n",
       "</div>"
      ],
      "text/plain": [
       "                         article               user\n",
       "2011-04-20 04:01:07  Zahida Hina             Saad31\n",
       "2011-05-11 15:05:20  Zahida Hina             Saad31\n",
       "2011-06-01 09:35:58  Zahida Hina          FrescoBot\n",
       "2011-09-13 08:38:03  Zahida Hina        RjwilmsiBot\n",
       "2011-11-13 22:31:09  Zahida Hina          Waacstats\n",
       "2012-01-15 03:37:35  Zahida Hina            Gooddo1\n",
       "2012-01-16 21:37:13  Zahida Hina    CommonsDelinker\n",
       "2012-04-15 10:50:56  Zahida Hina              Mar4d\n",
       "2012-07-20 15:31:04  Zahida Hina         Justice007\n",
       "2012-08-11 10:07:30  Zahida Hina         Rasoolpuri\n",
       "2012-08-11 10:10:17  Zahida Hina         Justice007\n",
       "2012-10-29 08:36:37  Zahida Hina           BattyBot\n",
       "2012-11-13 00:11:16  Zahida Hina            VIAFbot\n",
       "2013-03-23 02:12:39  Zahida Hina             KLBot2\n",
       "2013-03-31 14:37:04  Zahida Hina  Captain Assassin!\n",
       "2013-03-31 14:37:38  Zahida Hina  Captain Assassin!\n",
       "2013-06-12 20:56:40  Zahida Hina        92.97.42.59\n",
       "2013-12-22 12:14:43  Zahida Hina      117.196.187.2\n",
       "2013-12-22 19:16:07  Zahida Hina             Geniac\n",
       "2013-12-26 14:19:59  Zahida Hina     202.141.224.13"
      ]
     },
     "execution_count": 56,
     "metadata": {},
     "output_type": "execute_result"
    }
   ],
   "source": [
    "all_revs.tail(20)"
   ]
  },
  {
   "cell_type": "code",
   "execution_count": 24,
   "id": "suburban-diversity",
   "metadata": {
    "collapsed": false,
    "jupyter": {
     "outputs_hidden": false
    }
   },
   "outputs": [],
   "source": [
    "def snapshot_data():\n",
    "    return {'contributor_matrix': None,\n",
    "            'user_dict': None,\n",
    "            'article_dict': None,\n",
    "            'user_exogenous_ranks': None,\n",
    "            'article_exogenous_ranks': None,\n",
    "            'pca_fracs': None}\n",
    "\n",
    "snapshots = defaultdict(snapshot_data)"
   ]
  },
  {
   "cell_type": "code",
   "execution_count": 25,
   "id": "joined-witch",
   "metadata": {
    "collapsed": false,
    "jupyter": {
     "outputs_hidden": false
    }
   },
   "outputs": [],
   "source": [
    "snapshots = defaultdict(snapshot_data)"
   ]
  },
  {
   "cell_type": "code",
   "execution_count": 26,
   "id": "chemical-bottom",
   "metadata": {
    "collapsed": false,
    "jupyter": {
     "outputs_hidden": false
    }
   },
   "outputs": [],
   "source": [
    "snapshots[1]['M'] = 'pig'"
   ]
  },
  {
   "cell_type": "code",
   "execution_count": 27,
   "id": "higher-certificate",
   "metadata": {
    "collapsed": false,
    "jupyter": {
     "outputs_hidden": false
    }
   },
   "outputs": [
    {
     "data": {
      "text/plain": [
       "defaultdict(<function snapshot_data at 0x4eb5e60>, {1: {'user_exogenous_ranks': None, 'article_dict': None, 'article_exogenous_ranks': None, 'M': 'pig', 'pca_fracs': None, 'user_dict': None, 'contributor_matrix': None}})"
      ]
     },
     "execution_count": 27,
     "metadata": {},
     "output_type": "execute_result"
    }
   ],
   "source": [
    "snapshots"
   ]
  },
  {
   "cell_type": "code",
   "execution_count": 74,
   "id": "bulgarian-detail",
   "metadata": {
    "collapsed": false,
    "jupyter": {
     "outputs_hidden": false
    }
   },
   "outputs": [],
   "source": [
    "def make_snapshots(name, all_revisions_df, periods=10, remove_minimum=20):\n",
    "    '''returns a dict period snapshots as determined by number of edits\n",
    "    made by users contributing at least remove_minium edits'''\n",
    "    snapshots = dict()\n",
    "    \n",
    "    user_ar = all_revisions_df.groupby(by='user')\n",
    "    edit_sizes = user_ar.size()\n",
    "    min_editors = edit_sizes[ edit_sizes > 10]\n",
    "    \n",
    "    no_bots = all_revisions_df[all_revisions_df['user'].map(lambda username: not re.findall('bot|stat', username, flags=re.IGNORECASE))]\n",
    "        \n",
    "    criterion = no_bots['user'].map(lambda user: user in min_editors.index)\n",
    "    min_revisions = no_bots[criterion]\n",
    "    \n",
    "    sorted_min_revisions = min_revisions.sort(axis=0)\n",
    "    \n",
    "    period_len = len(min_revisions)/float(periods)\n",
    "    \n",
    "    snapshot_dates = list()\n",
    "    \n",
    "    for i in range(1, periods+1):\n",
    "        start = int(0)\n",
    "        end = int(floor(i*period_len)) - 1\n",
    "        print \"b \",str(start),'   e ',str(end)  \n",
    "        \n",
    "        snapshot_dates.append(sorted_min_revisions[start:end].last_valid_index())\n",
    "        \n",
    "        snapshots[i] = sorted_min_revisions[start:end]\n",
    "    \n",
    "    \n",
    "    for i, df in snapshots.iteritems():\n",
    "        directory = name\n",
    "        today = str(datetime.date.today())\n",
    "        double_directory = 'savedata/' + directory + '/' + today + '/'\n",
    "        \n",
    "        if not os.path.exists(double_directory):\n",
    "            os.makedirs(double_directory)\n",
    "        filename = double_directory  + str(i) + '.json'\n",
    "        f = open(filename, 'w')\n",
    "        \n",
    "        snapshots[i].to_json(f)\n",
    "    \n",
    "    return {'snapshots': snapshots, 'snapshot_dates':snapshot_dates}"
   ]
  },
  {
   "cell_type": "code",
   "execution_count": 142,
   "id": "applied-marketplace",
   "metadata": {
    "collapsed": false,
    "jupyter": {
     "outputs_hidden": false
    }
   },
   "outputs": [],
   "source": [
    "def save_contributor_matrix_and_user_article_dicts(name, all_revisions_df, periods=10, remove_minimum=20):\n",
    "    '''saves the matrix, and the user and article dicts necessary to recover information\n",
    "    and sorted user and article ranks which exogenous measures'''\n",
    "    \n",
    "    user_ar = all_revisions_df.groupby(by='user')\n",
    "    edit_sizes = user_ar.size()\n",
    "    min_editors = edit_sizes[ edit_sizes > remove_minimum]\n",
    "    \n",
    "    print 'removing bot edits' \n",
    "    \n",
    "    no_bots = all_revisions_df[all_revisions_df['user'].map(lambda username: not re.findall('bot|stat', username, flags=re.IGNORECASE))]\n",
    "       \n",
    "    print 'removing editor with less than edits: ', remove_minimum\n",
    "    criterion = no_bots['user'].map(lambda user: user in min_editors.index)\n",
    "    min_revisions = no_bots[criterion]\n",
    "    \n",
    "    sorted_min_revisions = min_revisions.sort(axis=0)\n",
    "    \n",
    "    u_grouped = sorted_min_revisions.groupby('user')\n",
    "    a_grouped = sorted_min_revisions.groupby('article')\n",
    "    ua_grouped = sorted_min_revisions.groupby(by = ['user', 'article'])\n",
    "    \n",
    "    '''these dicts are so we can back translate the indexes in the matrix to real users and articles'''\n",
    "    users = list(u_grouped.groups.iterkeys())\n",
    "    articles = list(a_grouped.groups.iterkeys())\n",
    "    user_dict = {username: users.index(username) for username in users}\n",
    "    article_dict = {articlename: articles.index(articlename) for articlename in articles}\n",
    "    \n",
    "    print 'making contributor matrix'\n",
    "    \n",
    "    contributor_matrix = np.zeros(shape=(len(users), len(articles)))\n",
    "    \n",
    "    for user_article_tuple, timestamps in ua_grouped.groups.iteritems():\n",
    "        user_string = user_article_tuple[0]\n",
    "        article_string = user_article_tuple[1]\n",
    "        user_index = user_dict[user_string]\n",
    "        article_index = article_dict[article_string]\n",
    "        \n",
    "        contributor_matrix[user_index][article_index] = len(timestamps)\n",
    "    \n",
    "    print 'making exogenous article variables'\n",
    "    \n",
    "    exogenous_articles = dict()\n",
    "    \n",
    "    for article in article_dict.iterkeys():\n",
    "        exogenous_articles[article] = calculate_article_metric(article, 'articlelength')\n",
    "    \n",
    "    print 'making exogenous user variables'\n",
    "    exogenous_users = dict()\n",
    "    \n",
    "    for user in user_dict.iterkeys():\n",
    "        exogenous_users[user] = calculate_edit_hours(user)\n",
    "    \n",
    "    \n",
    "    def rank_exogenous_dict(exogenous_dict):\n",
    "        exogenous_dict_sorted = sorted(exogenous_dict.iteritems(), key=operator.itemgetter(1))\n",
    "        \n",
    "        exogenous_ranks_sorted = [(identup[0], exogenous_dict_sorted.index(identup)) for identup in exogenous_dict_sorted]\n",
    "\n",
    "        return exogenous_ranks_sorted\n",
    "    \n",
    "    print 'ranking exogenous variables'\n",
    "    exogenous_articles_ranked = rank_exogenous_dict(exogenous_articles)\n",
    "    exogenous_users_ranked = rank_exogenous_dict(exogenous_users)\n",
    "\n",
    "    #save all the bits\n",
    "    directory = name\n",
    "    today = str(datetime.date.today())\n",
    "    double_directory = 'savedata/' + directory + '/' + today + '/'\n",
    "    \n",
    "    if not os.path.exists(double_directory):\n",
    "        os.makedirs(double_directory)\n",
    "    \n",
    "    print 'saving m'\n",
    "    mfilename = double_directory  + 'M' + '.npy'\n",
    "    mf = open(mfilename, 'w')\n",
    "    np.save(mf, contributor_matrix)\n",
    "    \n",
    "    print 'saving dicts'\n",
    "    for filename, filedict in {'user_dict': user_dict, 'article_dict': article_dict,\n",
    "                               'user_exogenous_ranks': exogenous_users, 'article_exogenous_ranks': exogenous_articles}.iteritems():\n",
    "    \n",
    "        path = double_directory  + filename + '.json'\n",
    "        f = open(path, 'w')\n",
    "        json.dump(filedict, f)\n",
    "    '''\n",
    "    #later we will need to worry about snapshotting\n",
    "    period_len = len(min_revisions)/float(periods)\n",
    "    snapshots = dict()\n",
    "\n",
    "    snapshot_dates = list()\n",
    "    \n",
    "    for i in range(1, periods+1):\n",
    "        start = int(0)\n",
    "        end = int(floor(i*period_len)) - 1\n",
    "        print \"b \",str(start),'   e ',str(end)  \n",
    "        \n",
    "        snapshot_dates.append(sorted_min_revisions[start:end].last_valid_index())\n",
    "        \n",
    "        snapshots[i] = sorted_min_revisions[start:end]\n",
    "    \n",
    "    \n",
    "    for i, df in snapshots.iteritems():\n",
    "        directory = name\n",
    "        today = str(datetime.date.today())\n",
    "        double_directory = 'savedata/' + directory + '/' + today + '/'\n",
    "        \n",
    "        if not os.path.exists(double_directory):\n",
    "            os.makedirs(double_directory)\n",
    "        filename = double_directory  + str(i) + '.json'\n",
    "        f = open(filename, 'w')\n",
    "        \n",
    "        snapshots[i].to_json(f)\n",
    "        \n",
    "    '''\n",
    "    \n",
    "    \n",
    "    "
   ]
  },
  {
   "cell_type": "code",
   "execution_count": 560,
   "id": "direct-samuel",
   "metadata": {
    "collapsed": false,
    "jupyter": {
     "outputs_hidden": false
    }
   },
   "outputs": [],
   "source": [
    "femdates = make_snapshots('fem',ar)['snapshot_dates']"
   ]
  },
  {
   "cell_type": "code",
   "execution_count": 2,
   "id": "roman-cycle",
   "metadata": {
    "collapsed": false,
    "jupyter": {
     "outputs_hidden": false
    }
   },
   "outputs": [],
   "source": [
    "def load_to_matrix(pandas_json_file):\n",
    "    df = pd.read_json(pandas_json_file)\n",
    "    u_grouped = df.groupby('user')\n",
    "    a_grouped = df.groupby('article')\n",
    "    ua_grouped = df.groupby(by = ['user', 'article'])\n",
    "    \n",
    "    '''these dicts are so we can back translate the indexes in the matrix to real users and articles'''\n",
    "    users = list(u_grouped.groups.iterkeys())\n",
    "    articles = list(a_grouped.groups.iterkeys())\n",
    "    user_dict = {username: users.index(username) for username in users}\n",
    "    article_dict = {articlename: articles.index(articlename) for articlename in articles}\n",
    "    \n",
    "    contributor_matrix = np.zeros(shape=(len(users), len(articles)))\n",
    "    \n",
    "    for user_article_tuple, timestamps in ua_grouped.groups.iteritems():\n",
    "        user_string = user_article_tuple[0]\n",
    "        article_string = user_article_tuple[1]\n",
    "        user_index = user_dict[user_string]\n",
    "        article_index = article_dict[article_string]\n",
    "        \n",
    "        contributor_matrix[user_index][article_index] = len(timestamps)\n",
    "        \n",
    "    return {'M':contributor_matrix, 'user_dict': user_dict, 'article_dict': article_dict}"
   ]
  },
  {
   "cell_type": "code",
   "execution_count": 487,
   "id": "enabling-hierarchy",
   "metadata": {
    "collapsed": false,
    "jupyter": {
     "outputs_hidden": false
    }
   },
   "outputs": [],
   "source": [
    "def make_bin_matrix(M):\n",
    "    M[M>0] = 1.0\n",
    "    return M"
   ]
  },
  {
   "cell_type": "code",
   "execution_count": 599,
   "id": "graphic-animal",
   "metadata": {
    "collapsed": false,
    "jupyter": {
     "outputs_hidden": false
    }
   },
   "outputs": [],
   "source": [
    "def plot_M_diff(M_before, M_after):\n",
    "    fig, ax = plt.subplots(nrows=1, ncols=2, sharex=True, sharey=True)\n",
    "    plt.figure(figsize=(10, 15))\n",
    "    ax[0].imshow(M_before, cmap=plt.cm.gray, interpolation='nearest')\n",
    "    ax[1].imshow(M_after, cmap=plt.cm.gray, interpolation='nearest')"
   ]
  },
  {
   "cell_type": "code",
   "execution_count": 607,
   "id": "chinese-terrorist",
   "metadata": {
    "collapsed": false,
    "jupyter": {
     "outputs_hidden": false
    }
   },
   "outputs": [],
   "source": [
    "def plot_M(M):\n",
    "    plt.figure(figsize=(20, 20))\n",
    "    imshow(M, cmap=plt.cm.gray, interpolation='nearest')"
   ]
  },
  {
   "cell_type": "code",
   "execution_count": 608,
   "id": "laughing-seeker",
   "metadata": {
    "collapsed": false,
    "jupyter": {
     "outputs_hidden": false
    }
   },
   "outputs": [],
   "source": [
    "def M_test_triangular(M):\n",
    "    user_edits_sum = M.sum(axis=1)\n",
    "    article_edits_sum = M.sum(axis=0)\n",
    "    \n",
    "    user_edits_order = user_edits_sum.argsort()\n",
    "    article_edits_order = article_edits_sum.argsort()\n",
    "    \n",
    "    M_s = M[user_edits_order,:]\n",
    "    M_ss = M_s[:,article_edits_order]\n",
    "    plot_M(M_ss)"
   ]
  },
  {
   "cell_type": "code",
   "execution_count": 3,
   "id": "minor-occasions",
   "metadata": {
    "collapsed": false,
    "jupyter": {
     "outputs_hidden": false
    }
   },
   "outputs": [],
   "source": [
    "pjf = 'fem/2014-01-29/10.json'\n",
    "parts = load_to_matrix(pjf)\n",
    "M, user_dict, article_dict = parts['M'], parts['user_dict'], parts['article_dict']"
   ]
  },
  {
   "cell_type": "code",
   "execution_count": 609,
   "id": "corporate-carter",
   "metadata": {
    "collapsed": false,
    "jupyter": {
     "outputs_hidden": false
    }
   },
   "outputs": [
    {
     "data": {
      "image/png": "[encoded data removed]",
      "text/plain": [
       "<matplotlib.figure.Figure at 0x169990d0>"
      ]
     },
     "metadata": {},
     "output_type": "display_data"
    }
   ],
   "source": [
    "M_test_triangular(M)"
   ]
  },
  {
   "cell_type": "code",
   "execution_count": 462,
   "id": "developmental-quantity",
   "metadata": {
    "collapsed": false,
    "jupyter": {
     "outputs_hidden": false
    }
   },
   "outputs": [
    {
     "data": {
      "text/plain": [
       "array([[  0, 144, 145, ...,  60, 135, 160],\n",
       "       [  0, 144, 145, ...,  28,  47, 113],\n",
       "       [  0, 146, 147, ...,  91, 105,  50],\n",
       "       ..., \n",
       "       [  0, 139, 140, ..., 193,  27,  50],\n",
       "       [  0, 143, 144, ..., 147, 179, 168],\n",
       "       [  0, 146, 147, ...,  72, 229, 139]])"
      ]
     },
     "execution_count": 462,
     "metadata": {},
     "output_type": "execute_result"
    }
   ],
   "source": [
    "M_sort.argsort(axis=1)"
   ]
  },
  {
   "cell_type": "code",
   "execution_count": 455,
   "id": "ahead-arcade",
   "metadata": {
    "collapsed": false,
    "jupyter": {
     "outputs_hidden": false
    }
   },
   "outputs": [
    {
     "data": {
      "text/plain": [
       "<matplotlib.figure.Figure at 0x117e4990>"
      ]
     },
     "metadata": {},
     "output_type": "display_data"
    },
    {
     "data": {
      "image/png": "[encoded data removed]",
      "text/plain": [
       "<matplotlib.figure.Figure at 0x1113ec50>"
      ]
     },
     "metadata": {},
     "output_type": "display_data"
    }
   ],
   "source": [
    "plotM(M_sort)"
   ]
  },
  {
   "cell_type": "code",
   "execution_count": 394,
   "id": "timely-appearance",
   "metadata": {
    "collapsed": false,
    "jupyter": {
     "outputs_hidden": false
    }
   },
   "outputs": [
    {
     "ename": "ValueError",
     "evalue": "Cannot specify order when the array has no fields.",
     "output_type": "error",
     "traceback": [
      "\u001b[1;31m---------------------------------------------------------------------------\u001b[0m\n\u001b[1;31mValueError\u001b[0m                                Traceback (most recent call last)",
      "\u001b[1;32m<ipython-input-394-109fcc5fbd2c>\u001b[0m in \u001b[0;36m<module>\u001b[1;34m()\u001b[0m\n\u001b[1;32m----> 1\u001b[1;33m \u001b[0mM\u001b[0m\u001b[1;33m.\u001b[0m\u001b[0msort\u001b[0m\u001b[1;33m(\u001b[0m\u001b[0maxis\u001b[0m\u001b[1;33m=\u001b[0m\u001b[1;36m1\u001b[0m\u001b[1;33m,\u001b[0m \u001b[0morder\u001b[0m\u001b[1;33m=\u001b[0m\u001b[0muser_edits_order\u001b[0m\u001b[1;33m)\u001b[0m\u001b[1;33m\u001b[0m\u001b[0m\n\u001b[0m",
      "\u001b[1;31mValueError\u001b[0m: Cannot specify order when the array has no fields."
     ]
    }
   ],
   "source": [
    "M.sort(axis=1, order=user_edits_order)"
   ]
  },
  {
   "cell_type": "code",
   "execution_count": 22,
   "id": "talented-filename",
   "metadata": {
    "collapsed": false,
    "jupyter": {
     "outputs_hidden": false
    }
   },
   "outputs": [],
   "source": []
  },
  {
   "cell_type": "code",
   "execution_count": null,
   "id": "radical-excitement",
   "metadata": {
    "collapsed": false,
    "jupyter": {
     "outputs_hidden": false
    }
   },
   "outputs": [],
   "source": [
    "fems = make_co"
   ]
  },
  {
   "cell_type": "code",
   "execution_count": 632,
   "id": "backed-gross",
   "metadata": {
    "collapsed": false,
    "jupyter": {
     "outputs_hidden": false
    }
   },
   "outputs": [],
   "source": [
    "cum_edits = make_cum_edit_series(sar)"
   ]
  },
  {
   "cell_type": "code",
   "execution_count": 555,
   "id": "ruled-ranch",
   "metadata": {
    "collapsed": false,
    "jupyter": {
     "outputs_hidden": false
    }
   },
   "outputs": [
    {
     "data": {
      "text/plain": [
       "2001-08-31 23:37:28    1\n",
       "2001-09-01 05:09:28    2\n",
       "2001-09-18 10:01:17    3\n",
       "2001-10-27 06:52:45    4\n",
       "2001-10-27 07:01:45    5\n",
       "Name: edits, dtype: int64"
      ]
     },
     "execution_count": 555,
     "metadata": {},
     "output_type": "execute_result"
    }
   ],
   "source": [
    "cum_edits.head()"
   ]
  },
  {
   "cell_type": "code",
   "execution_count": 565,
   "id": "universal-broad",
   "metadata": {
    "collapsed": false,
    "jupyter": {
     "outputs_hidden": false
    }
   },
   "outputs": [
    {
     "data": {
      "text/plain": [
       "2014-01-29 16:05:15    53254\n",
       "2014-01-29 16:07:09    53255\n",
       "2014-01-29 16:11:43    53256\n",
       "2014-01-29 18:09:44    53257\n",
       "2014-01-29 18:12:09    53258\n",
       "Name: edits, dtype: int64"
      ]
     },
     "execution_count": 565,
     "metadata": {},
     "output_type": "execute_result"
    }
   ],
   "source": [
    "cum_edits.tail()"
   ]
  },
  {
   "cell_type": "code",
   "execution_count": 568,
   "id": "characteristic-southeast",
   "metadata": {
    "collapsed": false,
    "jupyter": {
     "outputs_hidden": false
    }
   },
   "outputs": [
    {
     "data": {
      "text/plain": [
       "[Timestamp('2006-06-04 04:46:22', tz=None),\n",
       " Timestamp('2007-01-28 23:53:02', tz=None),\n",
       " Timestamp('2007-09-16 10:52:02', tz=None),\n",
       " Timestamp('2008-04-28 21:20:40', tz=None),\n",
       " Timestamp('2009-04-12 22:07:13', tz=None),\n",
       " Timestamp('2010-04-09 18:45:37', tz=None),\n",
       " Timestamp('2011-03-28 23:38:12', tz=None),\n",
       " Timestamp('2012-05-24 13:44:35', tz=None),\n",
       " Timestamp('2013-03-05 17:57:29', tz=None),\n",
       " Timestamp('2014-01-29 16:05:15', tz=None)]"
      ]
     },
     "execution_count": 568,
     "metadata": {},
     "output_type": "execute_result"
    }
   ],
   "source": [
    "dates"
   ]
  },
  {
   "cell_type": "code",
   "execution_count": 640,
   "id": "competent-dominant",
   "metadata": {
    "collapsed": false,
    "jupyter": {
     "outputs_hidden": false
    }
   },
   "outputs": [
    {
     "data": {
      "text/plain": [
       "<matplotlib.collections.LineCollection at 0x1f362810>"
      ]
     },
     "execution_count": 640,
     "metadata": {},
     "output_type": "execute_result"
    },
    {
     "data": {
      "image/png": "[encoded data removed]",
      "text/plain": [
       "<matplotlib.figure.Figure at 0x1f362890>"
      ]
     },
     "metadata": {},
     "output_type": "display_data"
    }
   ],
   "source": [
    "ax = cum_edits.plot()\n",
    "ymin, ymax = ax.get_ylim()\n",
    "ax.vlines(x=dates, ymin=ymin, ymax=ymax-1, color='r')"
   ]
  },
  {
   "cell_type": "code",
   "execution_count": 613,
   "id": "absolute-peripheral",
   "metadata": {
    "collapsed": false,
    "jupyter": {
     "outputs_hidden": false
    }
   },
   "outputs": [],
   "source": [
    "def plot_cum_edit_series(sar):\n",
    "    '''sar should be an *sorted* by date, all_revisions dataframe like one made by make_revision_df'''\n",
    "    sar['row'] = 1\n",
    "    sar['edits'] = cumsum(sar['row'])\n",
    "    edits = sar['edits']\n",
    "    edits.plot()"
   ]
  },
  {
   "cell_type": "code",
   "execution_count": 47,
   "id": "advanced-accessory",
   "metadata": {
    "collapsed": false,
    "jupyter": {
     "outputs_hidden": false
    }
   },
   "outputs": [],
   "source": [
    "def make_contributor_matrix(category_name=None, outlinks_page_name=None, as_df=False, wp=enwp):\n",
    "\n",
    "    if category_name:\n",
    "        cat = pywikibot.Category(wp, category_name)\n",
    "        articles = list(cat.articles())\n",
    "        save_name = category_name\n",
    "    if outlinks_page_name:\n",
    "        outlinks = pagegenerators.LinkedPageGenerator(pywikibot.Page(wp, outlinks_page_name))\n",
    "        articles = filter(lambda page: page.namespace() == 0, outlinks)\n",
    "        save_name = outlinks_page_name\n",
    "    \n",
    "    load_article_revisions(articles, wp)\n",
    "\n",
    "    contributor_df = make_dataframe(articles)\n",
    "    \n",
    "    save_name = save_name.replace('/', '___')\n",
    "    filename = 'savedata/' + save_name + unicode(datetime.datetime.now())\n",
    "    \n",
    "    minimum_edits_df = minimum_edits(contributor_df)\n",
    "    \n",
    "    minimum_matrix = minimum_edits_df.as_matrix()\n",
    "    \n",
    "    np.save(filename, minimum_matrix)\n",
    "    \n",
    "    if as_df:\n",
    "        return minimum_edits_df\n",
    "    else:\n",
    "        return minimum_matrix"
   ]
  },
  {
   "cell_type": "code",
   "execution_count": 48,
   "id": "radical-cooper",
   "metadata": {
    "collapsed": false,
    "jupyter": {
     "outputs_hidden": false
    }
   },
   "outputs": [],
   "source": [
    "def load_article_revisions(articles, wp):\n",
    "    def earliest_revision(article):\n",
    "        revisions  = list(article._revisions.itervalues())\n",
    "        timestamps = map(lambda r: r.timestamp, revisions)\n",
    "        earliest = min(timestamps)\n",
    "        return earliest\n",
    "    \n",
    "    def load_all_revisions(article, wp):\n",
    "        before_count = len(article._revisions)\n",
    "        #print \"before \", before_count\n",
    "        if before_count == 0:\n",
    "            article.getVersionHistory()\n",
    "        else:\n",
    "            wp.loadrevisions(page=article, starttime=earliest_revision(article))\n",
    "        after_count = len(article._revisions)\n",
    "        #print \"after \", after_count\n",
    "        if before_count == after_count:\n",
    "            return\n",
    "        else:\n",
    "            load_all_revisions(article, wp)\n",
    "        \n",
    "    map(lambda article: load_all_revisions(article, wp), articles)"
   ]
  },
  {
   "cell_type": "code",
   "execution_count": 14,
   "id": "measured-microphone",
   "metadata": {
    "collapsed": false,
    "jupyter": {
     "outputs_hidden": false
    }
   },
   "outputs": [],
   "source": [
    "def make_dataframe(articles):\n",
    "    contributor_dict = make_dict_contributors(articles)\n",
    "    contributor_df = pd.DataFrame.from_dict(data = contributor_dict, orient='index')\n",
    "    contributor_df = contributor_df.fillna(value=0)\n",
    "    contributor_df = contributor_df.convert_objects(convert_numeric=True)\n",
    "    \n",
    "    return contributor_df"
   ]
  },
  {
   "cell_type": "code",
   "execution_count": 15,
   "id": "natural-issue",
   "metadata": {
    "collapsed": false,
    "jupyter": {
     "outputs_hidden": false
    }
   },
   "outputs": [],
   "source": [
    "def minimum_edits(contributor_df, minimum=25):\n",
    "    mrows = contributor_df[contributor_df.apply(lambda row: any(row > 25), axis=1)]\n",
    "    #and now we have to clean to columns which are articles that no one contributed to in our remaining group\n",
    "    minimum_edits_df = mrows.loc[:,mrows.apply(lambda col: any(col > 0), axis=0)]\n",
    "    return minimum_edits_df"
   ]
  },
  {
   "cell_type": "code",
   "execution_count": null,
   "id": "nasty-devon",
   "metadata": {
    "collapsed": false,
    "jupyter": {
     "outputs_hidden": false
    }
   },
   "outputs": [],
   "source": [
    "def no_bots(contributor_df):\n",
    "    mrows = contributor_df[contributor_df.apply(lambda row: any(row > 25), axis=1)]\n",
    "    #and now we have to clean to columns which are articles that no one contributed to in our remaining group\n",
    "    minimum_edits_df = mrows.loc[:,mrows.apply(lambda col: any(col > 0), axis=0)]\n",
    "    return no_bots_df"
   ]
  },
  {
   "cell_type": "code",
   "execution_count": 86,
   "id": "hourly-toilet",
   "metadata": {
    "collapsed": false,
    "jupyter": {
     "outputs_hidden": false
    }
   },
   "outputs": [],
   "source": [
    "mcontribs = list(enwp.usercontribs(user='Woland1234', namespaces=[0], total=None, step=500))"
   ]
  },
  {
   "cell_type": "code",
   "execution_count": 90,
   "id": "compatible-sierra",
   "metadata": {
    "collapsed": false,
    "jupyter": {
     "outputs_hidden": false
    }
   },
   "outputs": [
    {
     "data": {
      "text/plain": [
       "[Timestamp(2013, 8, 22, 22, 13, 28),\n",
       " Timestamp(2013, 5, 18, 6, 51, 20),\n",
       " Timestamp(2013, 5, 18, 6, 50, 14),\n",
       " Timestamp(2013, 5, 18, 6, 47, 30),\n",
       " Timestamp(2013, 3, 12, 1, 8, 24),\n",
       " Timestamp(2013, 3, 12, 1, 5, 32),\n",
       " Timestamp(2013, 3, 12, 0, 55, 49),\n",
       " Timestamp(2013, 3, 12, 0, 46, 36),\n",
       " Timestamp(2013, 3, 12, 0, 42, 4),\n",
       " Timestamp(2013, 3, 7, 20, 47, 46),\n",
       " Timestamp(2013, 3, 7, 5, 55, 45),\n",
       " Timestamp(2013, 3, 7, 5, 54, 22),\n",
       " Timestamp(2013, 3, 7, 5, 51, 30),\n",
       " Timestamp(2013, 2, 18, 5, 42, 18),\n",
       " Timestamp(2013, 2, 2, 1, 23, 9),\n",
       " Timestamp(2012, 12, 22, 18, 23, 35),\n",
       " Timestamp(2012, 5, 22, 2, 18, 27),\n",
       " Timestamp(2012, 5, 2, 20, 44, 12),\n",
       " Timestamp(2012, 3, 11, 16, 48, 16),\n",
       " Timestamp(2012, 2, 8, 4, 58, 5),\n",
       " Timestamp(2012, 2, 8, 2, 45, 46),\n",
       " Timestamp(2012, 1, 16, 3, 30, 1),\n",
       " Timestamp(2012, 1, 16, 3, 28, 59),\n",
       " Timestamp(2012, 1, 11, 20, 2, 33),\n",
       " Timestamp(2012, 1, 2, 20, 5, 4),\n",
       " Timestamp(2012, 1, 2, 19, 33, 25),\n",
       " Timestamp(2011, 12, 31, 22, 5, 5),\n",
       " Timestamp(2011, 12, 30, 18, 45, 40),\n",
       " Timestamp(2011, 12, 30, 18, 21, 32),\n",
       " Timestamp(2011, 12, 30, 17, 58, 20),\n",
       " Timestamp(2011, 12, 30, 17, 54, 7),\n",
       " Timestamp(2011, 12, 30, 6, 6, 16),\n",
       " Timestamp(2011, 12, 27, 8, 40, 31),\n",
       " Timestamp(2011, 12, 27, 8, 28, 33),\n",
       " Timestamp(2011, 12, 25, 9, 9, 16),\n",
       " Timestamp(2011, 12, 25, 9, 5, 48),\n",
       " Timestamp(2011, 12, 25, 9, 3, 48),\n",
       " Timestamp(2011, 12, 18, 4, 40, 5),\n",
       " Timestamp(2011, 12, 17, 7, 5, 48),\n",
       " Timestamp(2011, 12, 17, 7, 2, 15),\n",
       " Timestamp(2011, 12, 16, 21, 54, 9),\n",
       " Timestamp(2011, 12, 16, 21, 47, 21),\n",
       " Timestamp(2011, 12, 16, 21, 46, 41),\n",
       " Timestamp(2011, 12, 15, 3, 9, 30),\n",
       " Timestamp(2011, 12, 12, 10, 55, 7),\n",
       " Timestamp(2011, 12, 11, 5, 16, 13),\n",
       " Timestamp(2011, 12, 11, 5, 9, 39),\n",
       " Timestamp(2011, 12, 11, 5, 7, 41),\n",
       " Timestamp(2011, 12, 11, 4, 54, 8),\n",
       " Timestamp(2011, 12, 6, 0, 46, 53),\n",
       " Timestamp(2011, 12, 5, 20, 47, 11),\n",
       " Timestamp(2011, 11, 29, 9, 48, 29),\n",
       " Timestamp(2011, 11, 29, 5, 23, 33),\n",
       " Timestamp(2011, 11, 29, 5, 22, 3),\n",
       " Timestamp(2011, 11, 25, 5, 33, 43),\n",
       " Timestamp(2011, 11, 23, 6, 28, 48),\n",
       " Timestamp(2011, 11, 23, 5, 54, 7),\n",
       " Timestamp(2011, 11, 22, 6, 23, 1),\n",
       " Timestamp(2011, 11, 15, 2, 30, 49),\n",
       " Timestamp(2011, 11, 14, 23, 54, 5),\n",
       " Timestamp(2011, 11, 14, 23, 44, 33),\n",
       " Timestamp(2011, 10, 17, 3, 13),\n",
       " Timestamp(2011, 10, 16, 22, 10, 28),\n",
       " Timestamp(2011, 10, 16, 22, 9, 3),\n",
       " Timestamp(2011, 10, 16, 22, 8, 20),\n",
       " Timestamp(2011, 10, 16, 22, 7, 6),\n",
       " Timestamp(2011, 10, 12, 20, 10, 1),\n",
       " Timestamp(2011, 10, 12, 20, 8, 23),\n",
       " Timestamp(2011, 9, 26, 3, 54, 52),\n",
       " Timestamp(2011, 9, 26, 3, 41, 39),\n",
       " Timestamp(2011, 9, 19, 3, 2, 44),\n",
       " Timestamp(2011, 9, 19, 3, 1, 13),\n",
       " Timestamp(2011, 9, 19, 3, 0, 42),\n",
       " Timestamp(2011, 9, 19, 2, 59, 59),\n",
       " Timestamp(2011, 9, 8, 6, 19, 51),\n",
       " Timestamp(2011, 9, 8, 6, 9, 46),\n",
       " Timestamp(2011, 9, 8, 5, 57, 42),\n",
       " Timestamp(2011, 9, 8, 5, 56, 27),\n",
       " Timestamp(2011, 8, 28, 7, 29, 37),\n",
       " Timestamp(2011, 8, 22, 4, 18, 15),\n",
       " Timestamp(2011, 8, 22, 3, 13, 30),\n",
       " Timestamp(2011, 8, 22, 3, 12, 29),\n",
       " Timestamp(2011, 8, 22, 2, 58, 53),\n",
       " Timestamp(2011, 8, 22, 2, 47, 29),\n",
       " Timestamp(2011, 8, 22, 2, 39, 22),\n",
       " Timestamp(2011, 8, 21, 18, 50, 17),\n",
       " Timestamp(2011, 8, 3, 4, 15, 31),\n",
       " Timestamp(2011, 8, 3, 4, 13, 58),\n",
       " Timestamp(2011, 7, 4, 4, 38, 14),\n",
       " Timestamp(2011, 7, 4, 4, 35, 28),\n",
       " Timestamp(2011, 7, 4, 4, 30, 34),\n",
       " Timestamp(2011, 7, 2, 2, 19, 8),\n",
       " Timestamp(2011, 7, 2, 1, 37, 11),\n",
       " Timestamp(2011, 6, 27, 20, 30, 49),\n",
       " Timestamp(2011, 6, 27, 20, 27, 58),\n",
       " Timestamp(2011, 6, 13, 21, 15, 35),\n",
       " Timestamp(2011, 6, 13, 21, 14, 10),\n",
       " Timestamp(2011, 6, 13, 21, 13, 24),\n",
       " Timestamp(2011, 6, 13, 21, 12, 9),\n",
       " Timestamp(2011, 6, 13, 21, 10, 59),\n",
       " Timestamp(2011, 6, 13, 21, 10, 18),\n",
       " Timestamp(2011, 6, 13, 21, 9, 43),\n",
       " Timestamp(2011, 5, 25, 9, 11, 32),\n",
       " Timestamp(2011, 5, 22, 3, 14, 23),\n",
       " Timestamp(2011, 5, 22, 2, 40, 36),\n",
       " Timestamp(2011, 5, 22, 0, 43, 36),\n",
       " Timestamp(2011, 5, 22, 0, 20, 31),\n",
       " Timestamp(2011, 5, 22, 0, 9, 7),\n",
       " Timestamp(2011, 5, 22, 0, 6, 32),\n",
       " Timestamp(2011, 5, 22, 0, 0, 6),\n",
       " Timestamp(2011, 5, 21, 23, 58, 37),\n",
       " Timestamp(2011, 5, 21, 23, 48, 6),\n",
       " Timestamp(2011, 5, 21, 17, 26, 11),\n",
       " Timestamp(2011, 5, 21, 17, 25, 12),\n",
       " Timestamp(2011, 5, 20, 6, 12, 4),\n",
       " Timestamp(2011, 5, 20, 5, 38, 59),\n",
       " Timestamp(2011, 5, 19, 23, 13, 42),\n",
       " Timestamp(2011, 5, 19, 20, 55, 3),\n",
       " Timestamp(2011, 5, 19, 20, 24, 6),\n",
       " Timestamp(2011, 5, 19, 20, 18, 41),\n",
       " Timestamp(2011, 5, 19, 20, 17, 28),\n",
       " Timestamp(2011, 5, 19, 20, 1, 52),\n",
       " Timestamp(2011, 5, 19, 19, 45, 45),\n",
       " Timestamp(2011, 5, 19, 19, 44, 22),\n",
       " Timestamp(2011, 5, 18, 5, 46, 54),\n",
       " Timestamp(2011, 5, 18, 5, 41, 54),\n",
       " Timestamp(2011, 5, 18, 5, 38, 28),\n",
       " Timestamp(2011, 5, 18, 5, 36, 29),\n",
       " Timestamp(2011, 5, 18, 5, 35, 46),\n",
       " Timestamp(2011, 5, 18, 5, 35, 10),\n",
       " Timestamp(2011, 5, 18, 5, 34, 13),\n",
       " Timestamp(2011, 5, 18, 4, 15, 14),\n",
       " Timestamp(2011, 5, 18, 4, 12, 36),\n",
       " Timestamp(2011, 5, 18, 1, 42, 12),\n",
       " Timestamp(2011, 5, 18, 1, 40, 36),\n",
       " Timestamp(2011, 5, 17, 21, 26, 34),\n",
       " Timestamp(2011, 5, 17, 21, 23, 35),\n",
       " Timestamp(2011, 5, 17, 21, 22, 48),\n",
       " Timestamp(2011, 5, 17, 21, 20, 12),\n",
       " Timestamp(2011, 5, 17, 21, 19, 20),\n",
       " Timestamp(2011, 5, 17, 21, 17, 45),\n",
       " Timestamp(2011, 5, 17, 20, 48, 5),\n",
       " Timestamp(2011, 5, 17, 20, 47, 34),\n",
       " Timestamp(2011, 5, 17, 20, 35, 23),\n",
       " Timestamp(2011, 5, 17, 20, 34, 42),\n",
       " Timestamp(2011, 5, 17, 20, 33, 24),\n",
       " Timestamp(2011, 5, 17, 20, 32, 28),\n",
       " Timestamp(2011, 5, 17, 20, 31, 56),\n",
       " Timestamp(2011, 5, 17, 20, 30, 47),\n",
       " Timestamp(2011, 5, 17, 20, 30, 33),\n",
       " Timestamp(2011, 5, 17, 20, 30, 22),\n",
       " Timestamp(2011, 5, 17, 20, 28, 44),\n",
       " Timestamp(2011, 5, 17, 20, 27, 24),\n",
       " Timestamp(2011, 5, 17, 20, 26, 51),\n",
       " Timestamp(2011, 5, 17, 18, 8, 7),\n",
       " Timestamp(2011, 5, 17, 18, 6, 12),\n",
       " Timestamp(2011, 5, 17, 17, 11, 54),\n",
       " Timestamp(2011, 5, 17, 16, 53, 23),\n",
       " Timestamp(2011, 5, 17, 16, 52, 3),\n",
       " Timestamp(2011, 5, 17, 6, 58, 25),\n",
       " Timestamp(2011, 5, 17, 6, 57, 24),\n",
       " Timestamp(2011, 5, 17, 3, 58, 43),\n",
       " Timestamp(2011, 5, 17, 3, 57, 18),\n",
       " Timestamp(2011, 5, 17, 1, 58, 32),\n",
       " Timestamp(2011, 5, 17, 1, 46, 5),\n",
       " Timestamp(2011, 5, 17, 1, 45, 10),\n",
       " Timestamp(2011, 5, 16, 21, 4, 17),\n",
       " Timestamp(2011, 5, 16, 20, 52, 51),\n",
       " Timestamp(2011, 5, 16, 20, 48, 4),\n",
       " Timestamp(2011, 5, 13, 18, 43, 50),\n",
       " Timestamp(2011, 5, 13, 18, 36, 50),\n",
       " Timestamp(2011, 5, 13, 4, 44, 51),\n",
       " Timestamp(2011, 5, 13, 2, 18, 55),\n",
       " Timestamp(2011, 5, 13, 2, 18, 55),\n",
       " Timestamp(2011, 5, 13, 2, 17, 13),\n",
       " Timestamp(2011, 5, 13, 2, 14, 11),\n",
       " Timestamp(2011, 5, 8, 0, 27, 35),\n",
       " Timestamp(2011, 5, 7, 4, 21, 14),\n",
       " Timestamp(2011, 5, 7, 4, 17, 25),\n",
       " Timestamp(2011, 5, 6, 21, 58, 26),\n",
       " Timestamp(2011, 5, 6, 21, 57, 33),\n",
       " Timestamp(2011, 5, 6, 21, 56, 30),\n",
       " Timestamp(2011, 5, 6, 21, 18, 15),\n",
       " Timestamp(2011, 5, 6, 21, 17, 8),\n",
       " Timestamp(2011, 5, 6, 4, 57, 30),\n",
       " Timestamp(2011, 5, 6, 4, 55),\n",
       " Timestamp(2011, 5, 6, 4, 43, 4),\n",
       " Timestamp(2011, 5, 6, 4, 39, 30),\n",
       " Timestamp(2011, 5, 1, 23, 45, 6),\n",
       " Timestamp(2011, 5, 1, 22, 28, 17),\n",
       " Timestamp(2011, 5, 1, 20, 39, 50),\n",
       " Timestamp(2011, 5, 1, 20, 13, 19),\n",
       " Timestamp(2011, 4, 30, 19, 22, 2),\n",
       " Timestamp(2011, 4, 30, 19, 18, 3),\n",
       " Timestamp(2011, 4, 30, 19, 13, 28),\n",
       " Timestamp(2011, 4, 30, 19, 11, 59),\n",
       " Timestamp(2011, 4, 30, 19, 9, 22),\n",
       " Timestamp(2011, 4, 30, 18, 21, 16),\n",
       " Timestamp(2011, 4, 30, 18, 19, 18),\n",
       " Timestamp(2011, 4, 30, 18, 15, 54),\n",
       " Timestamp(2011, 4, 30, 18, 14, 25),\n",
       " Timestamp(2011, 4, 30, 17, 47, 1),\n",
       " Timestamp(2011, 4, 30, 17, 20, 3),\n",
       " Timestamp(2011, 4, 30, 17, 14, 48),\n",
       " Timestamp(2011, 4, 30, 17, 13, 45),\n",
       " Timestamp(2011, 4, 30, 17, 7, 51),\n",
       " Timestamp(2011, 4, 30, 17, 3),\n",
       " Timestamp(2011, 4, 30, 17, 2, 18),\n",
       " Timestamp(2011, 4, 30, 12, 39, 10),\n",
       " Timestamp(2011, 4, 30, 12, 37, 8),\n",
       " Timestamp(2011, 4, 30, 12, 28, 10),\n",
       " Timestamp(2011, 4, 30, 12, 17, 40),\n",
       " Timestamp(2011, 4, 30, 12, 7, 31),\n",
       " Timestamp(2011, 4, 30, 11, 36, 27),\n",
       " Timestamp(2011, 4, 30, 11, 34, 25),\n",
       " Timestamp(2011, 4, 30, 11, 27, 46),\n",
       " Timestamp(2011, 4, 30, 11, 26, 27),\n",
       " Timestamp(2011, 4, 30, 11, 21, 3),\n",
       " Timestamp(2011, 4, 30, 11, 18, 33),\n",
       " Timestamp(2011, 4, 30, 11, 17, 39),\n",
       " Timestamp(2011, 4, 30, 11, 5, 33),\n",
       " Timestamp(2011, 4, 30, 11, 4, 25),\n",
       " Timestamp(2011, 4, 30, 11, 3, 32),\n",
       " Timestamp(2011, 4, 30, 10, 59, 50),\n",
       " Timestamp(2011, 4, 30, 10, 59, 32),\n",
       " Timestamp(2011, 4, 30, 10, 31, 42),\n",
       " Timestamp(2011, 4, 29, 7, 13, 56),\n",
       " Timestamp(2011, 4, 29, 7, 12, 43),\n",
       " Timestamp(2011, 4, 29, 7, 9, 56),\n",
       " Timestamp(2011, 4, 29, 7, 8, 58),\n",
       " Timestamp(2011, 4, 29, 7, 7, 30),\n",
       " Timestamp(2011, 4, 29, 7, 5, 46),\n",
       " Timestamp(2011, 4, 29, 6, 58, 7),\n",
       " Timestamp(2011, 4, 29, 6, 51, 7),\n",
       " Timestamp(2011, 4, 29, 6, 31, 30),\n",
       " Timestamp(2011, 4, 29, 5, 21, 21),\n",
       " Timestamp(2011, 4, 29, 5, 12, 50),\n",
       " Timestamp(2011, 4, 29, 5, 11, 43),\n",
       " Timestamp(2011, 4, 29, 4, 54, 15),\n",
       " Timestamp(2011, 4, 29, 4, 42, 43),\n",
       " Timestamp(2011, 4, 29, 4, 40, 2),\n",
       " Timestamp(2011, 4, 29, 4, 38, 8),\n",
       " Timestamp(2011, 4, 29, 4, 36, 19),\n",
       " Timestamp(2011, 4, 29, 4, 35, 12),\n",
       " Timestamp(2011, 4, 29, 4, 34),\n",
       " Timestamp(2011, 4, 29, 4, 32, 4),\n",
       " Timestamp(2011, 4, 29, 4, 30, 9),\n",
       " Timestamp(2011, 4, 29, 4, 25, 8),\n",
       " Timestamp(2011, 4, 29, 4, 22, 22),\n",
       " Timestamp(2011, 4, 29, 4, 13, 29),\n",
       " Timestamp(2011, 4, 29, 4, 6, 27),\n",
       " Timestamp(2011, 4, 29, 3, 38, 19),\n",
       " Timestamp(2011, 4, 29, 3, 37, 31),\n",
       " Timestamp(2011, 4, 29, 3, 34, 20),\n",
       " Timestamp(2011, 4, 29, 3, 33, 11),\n",
       " Timestamp(2011, 4, 29, 3, 20, 12),\n",
       " Timestamp(2011, 4, 29, 1, 22, 6),\n",
       " Timestamp(2011, 4, 29, 1, 19, 1),\n",
       " Timestamp(2011, 4, 29, 1, 9, 33),\n",
       " Timestamp(2011, 4, 29, 1, 8),\n",
       " Timestamp(2011, 4, 29, 1, 7, 30),\n",
       " Timestamp(2011, 4, 29, 1, 4, 36),\n",
       " Timestamp(2011, 4, 29, 1, 0, 36),\n",
       " Timestamp(2011, 4, 29, 0, 56, 14),\n",
       " Timestamp(2011, 4, 29, 0, 52, 36),\n",
       " Timestamp(2011, 4, 29, 0, 46, 53),\n",
       " Timestamp(2011, 4, 29, 0, 45, 47),\n",
       " Timestamp(2011, 4, 29, 0, 44, 48),\n",
       " Timestamp(2011, 4, 29, 0, 40, 14),\n",
       " Timestamp(2011, 4, 29, 0, 37, 11),\n",
       " Timestamp(2011, 4, 28, 14, 35, 1),\n",
       " Timestamp(2011, 4, 28, 14, 34, 10),\n",
       " Timestamp(2011, 4, 28, 14, 26, 19),\n",
       " Timestamp(2011, 4, 28, 14, 23, 10),\n",
       " Timestamp(2011, 4, 28, 14, 20, 2),\n",
       " Timestamp(2011, 4, 28, 14, 13, 2),\n",
       " Timestamp(2011, 4, 28, 14, 1, 27),\n",
       " Timestamp(2011, 4, 28, 13, 58, 18),\n",
       " Timestamp(2011, 4, 28, 13, 53, 37),\n",
       " Timestamp(2011, 4, 28, 13, 53, 16),\n",
       " Timestamp(2011, 4, 28, 13, 52, 49),\n",
       " Timestamp(2011, 4, 28, 13, 51, 40),\n",
       " Timestamp(2011, 4, 28, 13, 45, 59),\n",
       " Timestamp(2011, 4, 28, 13, 44, 43),\n",
       " Timestamp(2011, 4, 28, 13, 43, 5),\n",
       " Timestamp(2011, 4, 28, 13, 40, 15),\n",
       " Timestamp(2011, 4, 28, 13, 37),\n",
       " Timestamp(2011, 4, 28, 13, 36, 10),\n",
       " Timestamp(2011, 4, 28, 13, 34, 25),\n",
       " Timestamp(2011, 4, 28, 13, 27, 49),\n",
       " Timestamp(2011, 4, 28, 13, 26, 25),\n",
       " Timestamp(2011, 4, 28, 13, 25, 24),\n",
       " Timestamp(2011, 4, 28, 13, 24),\n",
       " Timestamp(2011, 4, 28, 13, 9, 28),\n",
       " Timestamp(2011, 4, 28, 13, 5, 29),\n",
       " Timestamp(2011, 4, 28, 13, 4, 21),\n",
       " Timestamp(2011, 4, 28, 13, 1, 9),\n",
       " Timestamp(2011, 4, 28, 12, 58, 19),\n",
       " Timestamp(2011, 4, 28, 12, 56, 21),\n",
       " Timestamp(2011, 4, 28, 12, 54, 38),\n",
       " Timestamp(2011, 4, 28, 12, 50, 56),\n",
       " Timestamp(2011, 4, 28, 12, 45, 34),\n",
       " Timestamp(2011, 4, 28, 12, 41, 28),\n",
       " Timestamp(2011, 4, 28, 12, 41, 8),\n",
       " Timestamp(2011, 4, 28, 12, 40, 8),\n",
       " Timestamp(2011, 4, 28, 12, 39, 42),\n",
       " Timestamp(2011, 4, 28, 12, 38, 7),\n",
       " Timestamp(2011, 4, 27, 23, 2, 8),\n",
       " Timestamp(2011, 4, 27, 23, 1, 26),\n",
       " Timestamp(2011, 4, 27, 19, 35, 23),\n",
       " Timestamp(2011, 4, 27, 19, 35, 15),\n",
       " Timestamp(2011, 4, 27, 19, 29, 9),\n",
       " Timestamp(2011, 4, 27, 19, 22, 19),\n",
       " Timestamp(2011, 4, 27, 19, 17, 27),\n",
       " Timestamp(2011, 4, 27, 4, 22, 42),\n",
       " Timestamp(2011, 4, 27, 4, 21, 53),\n",
       " Timestamp(2011, 4, 26, 3, 55, 39),\n",
       " Timestamp(2011, 4, 26, 3, 27, 45),\n",
       " Timestamp(2011, 4, 25, 23, 26, 31),\n",
       " Timestamp(2011, 4, 25, 11, 3, 49),\n",
       " Timestamp(2011, 4, 25, 10, 56, 49),\n",
       " Timestamp(2011, 4, 25, 10, 51, 10),\n",
       " Timestamp(2011, 4, 25, 10, 49, 55),\n",
       " Timestamp(2011, 4, 25, 10, 27, 17),\n",
       " Timestamp(2011, 4, 25, 8, 51, 52),\n",
       " Timestamp(2011, 4, 25, 7, 42, 30),\n",
       " Timestamp(2011, 4, 25, 7, 15, 4),\n",
       " Timestamp(2011, 4, 25, 6, 16, 5),\n",
       " Timestamp(2011, 4, 25, 2, 9, 20),\n",
       " Timestamp(2011, 4, 25, 0, 48, 28),\n",
       " Timestamp(2011, 4, 25, 0, 47, 10),\n",
       " Timestamp(2011, 4, 25, 0, 46, 35),\n",
       " Timestamp(2011, 4, 25, 0, 46, 8),\n",
       " Timestamp(2011, 4, 24, 3, 39, 20),\n",
       " Timestamp(2011, 4, 24, 3, 37, 32),\n",
       " Timestamp(2011, 4, 24, 3, 30, 55),\n",
       " Timestamp(2011, 4, 24, 2, 16, 18),\n",
       " Timestamp(2011, 4, 24, 2, 12, 38),\n",
       " Timestamp(2011, 4, 24, 2, 9),\n",
       " Timestamp(2011, 4, 23, 21, 16, 51),\n",
       " Timestamp(2011, 4, 23, 20, 56, 54),\n",
       " Timestamp(2011, 4, 23, 20, 53, 12),\n",
       " Timestamp(2011, 4, 23, 20, 52, 21),\n",
       " Timestamp(2011, 4, 23, 20, 50, 9),\n",
       " Timestamp(2011, 4, 23, 20, 45, 46),\n",
       " Timestamp(2011, 4, 23, 20, 33, 55),\n",
       " Timestamp(2011, 4, 23, 20, 32, 48),\n",
       " Timestamp(2011, 4, 23, 20, 32, 27),\n",
       " Timestamp(2011, 4, 23, 20, 32, 17),\n",
       " Timestamp(2011, 4, 23, 20, 31, 41),\n",
       " Timestamp(2011, 4, 23, 20, 26, 13),\n",
       " Timestamp(2011, 4, 22, 16, 47, 10),\n",
       " Timestamp(2011, 4, 22, 16, 45, 33),\n",
       " Timestamp(2011, 4, 22, 16, 40, 37),\n",
       " Timestamp(2011, 4, 22, 16, 39, 33),\n",
       " Timestamp(2011, 4, 22, 16, 37, 43),\n",
       " Timestamp(2011, 4, 21, 20, 20, 39),\n",
       " Timestamp(2011, 4, 21, 20, 6, 31),\n",
       " Timestamp(2011, 4, 21, 19, 33, 3),\n",
       " Timestamp(2011, 4, 21, 19, 18, 56),\n",
       " Timestamp(2011, 4, 21, 12, 29, 26),\n",
       " Timestamp(2011, 4, 21, 11, 51, 53),\n",
       " Timestamp(2011, 4, 18, 5, 30, 31),\n",
       " Timestamp(2011, 4, 18, 5, 10, 56),\n",
       " Timestamp(2011, 4, 18, 5, 9, 49),\n",
       " Timestamp(2011, 4, 18, 5, 7, 43),\n",
       " Timestamp(2011, 4, 18, 4, 13, 14),\n",
       " Timestamp(2011, 4, 18, 0, 44, 23),\n",
       " Timestamp(2011, 4, 18, 0, 31, 24),\n",
       " Timestamp(2011, 4, 17, 23, 38, 51),\n",
       " Timestamp(2011, 4, 17, 23, 21, 21),\n",
       " Timestamp(2011, 4, 17, 23, 19, 32),\n",
       " Timestamp(2011, 4, 17, 22, 37, 45),\n",
       " Timestamp(2011, 4, 17, 22, 36, 33),\n",
       " Timestamp(2011, 4, 17, 22, 4, 41),\n",
       " Timestamp(2011, 4, 17, 21, 59, 24),\n",
       " Timestamp(2011, 4, 17, 21, 58, 46),\n",
       " Timestamp(2011, 4, 17, 21, 52, 25),\n",
       " Timestamp(2011, 4, 17, 21, 50, 4),\n",
       " Timestamp(2011, 4, 17, 21, 41, 36),\n",
       " Timestamp(2011, 4, 17, 21, 39, 58),\n",
       " Timestamp(2011, 4, 17, 21, 39, 1),\n",
       " Timestamp(2011, 4, 17, 21, 38, 38),\n",
       " Timestamp(2011, 4, 17, 21, 38, 14),\n",
       " Timestamp(2011, 4, 17, 21, 35, 14),\n",
       " Timestamp(2011, 4, 17, 21, 34, 17),\n",
       " Timestamp(2011, 4, 17, 21, 32, 39),\n",
       " Timestamp(2011, 4, 17, 20, 45, 12),\n",
       " Timestamp(2011, 4, 17, 20, 42, 13),\n",
       " Timestamp(2011, 4, 17, 20, 36, 17),\n",
       " Timestamp(2011, 4, 17, 20, 35, 45),\n",
       " Timestamp(2011, 4, 17, 20, 35, 18),\n",
       " Timestamp(2011, 4, 17, 20, 34, 54),\n",
       " Timestamp(2011, 4, 17, 20, 34, 41),\n",
       " Timestamp(2011, 4, 17, 20, 33, 48),\n",
       " Timestamp(2011, 4, 17, 20, 32, 58),\n",
       " Timestamp(2011, 4, 17, 20, 31, 40),\n",
       " Timestamp(2011, 4, 17, 20, 31, 6),\n",
       " Timestamp(2011, 4, 17, 20, 13, 37),\n",
       " Timestamp(2011, 4, 17, 20, 10, 28),\n",
       " Timestamp(2011, 4, 17, 20, 10, 14),\n",
       " Timestamp(2011, 4, 17, 20, 9, 53),\n",
       " Timestamp(2011, 4, 17, 19, 43, 59),\n",
       " Timestamp(2011, 4, 17, 19, 39, 55),\n",
       " Timestamp(2011, 4, 17, 19, 26, 43),\n",
       " Timestamp(2011, 4, 17, 3, 39, 18),\n",
       " Timestamp(2011, 4, 17, 3, 38, 6),\n",
       " Timestamp(2011, 4, 17, 3, 35, 34),\n",
       " Timestamp(2011, 4, 16, 22, 44, 2),\n",
       " Timestamp(2011, 4, 16, 22, 42, 37),\n",
       " Timestamp(2011, 4, 16, 22, 41, 18),\n",
       " Timestamp(2011, 4, 16, 22, 37, 57),\n",
       " Timestamp(2011, 4, 16, 18, 51, 15),\n",
       " Timestamp(2011, 4, 11, 7, 31, 6),\n",
       " Timestamp(2011, 4, 11, 6, 58, 51),\n",
       " Timestamp(2011, 4, 11, 6, 56, 14),\n",
       " Timestamp(2011, 4, 11, 5, 34, 40),\n",
       " Timestamp(2011, 4, 11, 4, 52, 17),\n",
       " Timestamp(2011, 4, 11, 4, 50, 34),\n",
       " Timestamp(2011, 4, 11, 4, 48, 58),\n",
       " Timestamp(2011, 4, 11, 4, 42, 42),\n",
       " Timestamp(2011, 4, 11, 4, 42, 18),\n",
       " Timestamp(2011, 4, 11, 3, 25, 41),\n",
       " Timestamp(2011, 4, 11, 3, 22, 56),\n",
       " Timestamp(2011, 4, 11, 3, 7, 28),\n",
       " Timestamp(2011, 4, 11, 3, 2, 28),\n",
       " Timestamp(2011, 4, 11, 2, 52, 29),\n",
       " Timestamp(2011, 4, 11, 2, 44, 1),\n",
       " Timestamp(2011, 4, 11, 2, 26, 56),\n",
       " Timestamp(2011, 4, 11, 2, 24, 5),\n",
       " Timestamp(2011, 4, 11, 2, 1, 10),\n",
       " Timestamp(2011, 4, 11, 1, 58, 34),\n",
       " Timestamp(2011, 4, 11, 1, 54, 10),\n",
       " Timestamp(2011, 4, 11, 1, 42, 55),\n",
       " Timestamp(2011, 4, 11, 1, 42, 20),\n",
       " Timestamp(2011, 4, 11, 1, 42, 7),\n",
       " Timestamp(2011, 4, 11, 1, 41, 23),\n",
       " Timestamp(2011, 4, 11, 1, 40, 8),\n",
       " Timestamp(2011, 4, 11, 1, 38, 20),\n",
       " Timestamp(2011, 4, 11, 1, 27, 11),\n",
       " Timestamp(2011, 4, 11, 1, 26, 33),\n",
       " Timestamp(2011, 4, 11, 1, 26, 2),\n",
       " Timestamp(2011, 4, 11, 1, 16, 50),\n",
       " Timestamp(2011, 4, 10, 21, 38, 56),\n",
       " Timestamp(2011, 4, 10, 20, 12, 5),\n",
       " Timestamp(2011, 4, 10, 6, 49, 25),\n",
       " Timestamp(2011, 4, 10, 6, 48, 10),\n",
       " Timestamp(2011, 4, 10, 6, 47, 28),\n",
       " Timestamp(2011, 4, 10, 2, 14, 56),\n",
       " Timestamp(2011, 4, 10, 2, 13, 40),\n",
       " Timestamp(2011, 4, 10, 1, 42, 22),\n",
       " Timestamp(2011, 4, 10, 1, 41, 6),\n",
       " Timestamp(2011, 4, 10, 1, 39, 41),\n",
       " Timestamp(2011, 4, 10, 1, 38, 27),\n",
       " Timestamp(2011, 4, 10, 0, 24, 36),\n",
       " Timestamp(2011, 4, 9, 23, 58, 8),\n",
       " Timestamp(2011, 4, 9, 23, 57, 48),\n",
       " Timestamp(2011, 4, 9, 23, 51, 41),\n",
       " Timestamp(2011, 4, 9, 22, 31, 52),\n",
       " Timestamp(2011, 4, 9, 20, 58, 53),\n",
       " Timestamp(2011, 4, 9, 4, 24, 32),\n",
       " Timestamp(2011, 4, 9, 0, 50, 56),\n",
       " Timestamp(2011, 4, 9, 0, 48, 58),\n",
       " Timestamp(2011, 4, 9, 0, 48, 31),\n",
       " Timestamp(2011, 4, 9, 0, 48, 9),\n",
       " Timestamp(2011, 4, 9, 0, 45, 33),\n",
       " Timestamp(2011, 4, 7, 7, 35, 51),\n",
       " Timestamp(2011, 4, 7, 4, 39, 19),\n",
       " Timestamp(2011, 4, 7, 3, 49, 35),\n",
       " Timestamp(2011, 4, 6, 7, 17, 10),\n",
       " Timestamp(2011, 4, 6, 7, 8, 14),\n",
       " Timestamp(2011, 4, 6, 6, 59, 3),\n",
       " Timestamp(2011, 4, 6, 6, 14, 59),\n",
       " Timestamp(2011, 4, 6, 6, 12, 34),\n",
       " Timestamp(2011, 4, 6, 6, 11, 49),\n",
       " Timestamp(2011, 4, 6, 6, 11, 19),\n",
       " Timestamp(2011, 4, 5, 11, 6, 52),\n",
       " Timestamp(2011, 4, 5, 11, 5, 50),\n",
       " Timestamp(2011, 4, 4, 11, 57, 55),\n",
       " Timestamp(2011, 4, 4, 11, 51, 46),\n",
       " Timestamp(2011, 4, 4, 11, 50, 37),\n",
       " Timestamp(2011, 4, 3, 9, 56, 22),\n",
       " Timestamp(2011, 4, 3, 9, 45, 2),\n",
       " Timestamp(2011, 4, 3, 9, 40, 6),\n",
       " Timestamp(2011, 4, 3, 9, 39, 41),\n",
       " Timestamp(2011, 4, 2, 7, 30, 55),\n",
       " Timestamp(2011, 4, 2, 3, 35, 34),\n",
       " Timestamp(2011, 4, 2, 3, 33, 45),\n",
       " Timestamp(2011, 4, 2, 3, 25, 2),\n",
       " Timestamp(2011, 4, 2, 3, 16, 30),\n",
       " Timestamp(2011, 4, 2, 3, 14, 40),\n",
       " Timestamp(2011, 4, 2, 3, 13, 1),\n",
       " Timestamp(2011, 4, 2, 3, 9, 18),\n",
       " Timestamp(2011, 3, 31, 3, 26, 52),\n",
       " Timestamp(2011, 3, 31, 3, 25, 29),\n",
       " Timestamp(2011, 3, 31, 3, 24, 57),\n",
       " Timestamp(2011, 3, 31, 3, 24, 39),\n",
       " Timestamp(2011, 3, 31, 3, 24, 25),\n",
       " Timestamp(2011, 3, 31, 3, 24, 9),\n",
       " Timestamp(2011, 3, 31, 3, 23, 58),\n",
       " Timestamp(2011, 3, 31, 3, 23, 18),\n",
       " Timestamp(2011, 3, 30, 9, 33, 15),\n",
       " Timestamp(2011, 3, 30, 9, 32),\n",
       " Timestamp(2011, 3, 30, 9, 30, 41),\n",
       " Timestamp(2011, 3, 26, 21, 13, 3),\n",
       " Timestamp(2011, 3, 26, 11, 30, 24),\n",
       " Timestamp(2011, 3, 26, 11, 25, 44),\n",
       " Timestamp(2011, 3, 26, 9, 29, 13),\n",
       " Timestamp(2011, 3, 26, 8, 21, 51),\n",
       " Timestamp(2011, 3, 26, 8, 20, 33),\n",
       " Timestamp(2011, 3, 26, 8, 0, 48),\n",
       " Timestamp(2011, 3, 26, 7, 56, 2),\n",
       " Timestamp(2011, 3, 26, 7, 45, 58),\n",
       " Timestamp(2011, 3, 26, 4, 50, 40),\n",
       " Timestamp(2011, 3, 26, 4, 48, 42),\n",
       " Timestamp(2011, 3, 26, 3, 27, 5),\n",
       " Timestamp(2011, 3, 26, 2, 56, 41),\n",
       " Timestamp(2011, 3, 26, 2, 50, 5),\n",
       " Timestamp(2011, 3, 26, 2, 46, 45),\n",
       " Timestamp(2011, 3, 24, 6, 56, 58),\n",
       " Timestamp(2011, 3, 24, 6, 0, 35),\n",
       " Timestamp(2011, 3, 23, 22, 49, 55),\n",
       " Timestamp(2011, 3, 23, 22, 42, 26),\n",
       " Timestamp(2011, 3, 23, 10, 45, 34),\n",
       " Timestamp(2011, 3, 23, 10, 44, 36),\n",
       " Timestamp(2011, 3, 23, 10, 26, 54),\n",
       " Timestamp(2011, 3, 23, 10, 25, 21),\n",
       " Timestamp(2011, 3, 23, 10, 11, 18),\n",
       " Timestamp(2011, 3, 23, 10, 7),\n",
       " Timestamp(2011, 3, 23, 9, 52, 33),\n",
       " Timestamp(2011, 3, 23, 8, 59, 50),\n",
       " Timestamp(2011, 3, 23, 8, 52, 25),\n",
       " Timestamp(2011, 3, 23, 8, 50, 43),\n",
       " Timestamp(2011, 3, 23, 8, 49, 14),\n",
       " Timestamp(2011, 3, 23, 8, 17, 43),\n",
       " Timestamp(2011, 3, 22, 6, 54, 5),\n",
       " Timestamp(2011, 3, 22, 6, 52, 9),\n",
       " Timestamp(2011, 3, 21, 23, 6, 14),\n",
       " Timestamp(2011, 3, 21, 23, 5, 50),\n",
       " Timestamp(2011, 3, 21, 23, 5, 26),\n",
       " Timestamp(2011, 3, 21, 21, 35, 17),\n",
       " Timestamp(2011, 3, 21, 6, 13, 42),\n",
       " Timestamp(2011, 3, 21, 5, 14, 53),\n",
       " Timestamp(2011, 3, 21, 3, 27, 39),\n",
       " Timestamp(2011, 3, 21, 3, 26, 51),\n",
       " Timestamp(2011, 3, 21, 3, 12, 55),\n",
       " Timestamp(2011, 3, 21, 2, 16, 18),\n",
       " Timestamp(2011, 3, 21, 2, 11, 57),\n",
       " Timestamp(2011, 3, 20, 11, 10, 14),\n",
       " Timestamp(2011, 3, 20, 11, 9, 4),\n",
       " Timestamp(2011, 3, 20, 11, 2, 56),\n",
       " Timestamp(2011, 3, 20, 8, 59, 15),\n",
       " Timestamp(2011, 3, 20, 5, 53, 59),\n",
       " Timestamp(2011, 3, 19, 9, 28, 55),\n",
       " Timestamp(2011, 3, 19, 9, 28, 18),\n",
       " Timestamp(2011, 3, 19, 9, 16, 33),\n",
       " Timestamp(2011, 3, 19, 9, 13, 39),\n",
       " Timestamp(2011, 3, 19, 9, 13, 21),\n",
       " Timestamp(2011, 3, 18, 4, 54, 21),\n",
       " Timestamp(2011, 3, 18, 1, 51, 55),\n",
       " Timestamp(2011, 3, 18, 1, 30, 26),\n",
       " Timestamp(2011, 3, 18, 1, 21, 16),\n",
       " Timestamp(2011, 3, 18, 1, 19, 36),\n",
       " Timestamp(2011, 3, 18, 1, 17, 7),\n",
       " Timestamp(2011, 3, 18, 0, 18, 7),\n",
       " Timestamp(2011, 3, 17, 23, 26, 21),\n",
       " Timestamp(2011, 3, 17, 5, 45, 27),\n",
       " Timestamp(2011, 3, 17, 5, 44, 49),\n",
       " Timestamp(2011, 3, 17, 5, 7, 15),\n",
       " Timestamp(2011, 3, 17, 4, 48, 56),\n",
       " Timestamp(2011, 3, 17, 4, 25, 53),\n",
       " Timestamp(2011, 3, 17, 3, 55, 54),\n",
       " Timestamp(2011, 3, 17, 3, 25, 43),\n",
       " Timestamp(2011, 3, 17, 2, 15, 28),\n",
       " Timestamp(2011, 3, 17, 2, 13, 1),\n",
       " Timestamp(2011, 3, 17, 1, 48, 7),\n",
       " Timestamp(2011, 3, 17, 1, 47, 43),\n",
       " Timestamp(2011, 3, 17, 1, 47, 16),\n",
       " Timestamp(2011, 3, 17, 1, 46, 43),\n",
       " Timestamp(2011, 3, 17, 1, 28, 1),\n",
       " Timestamp(2011, 3, 16, 23, 58, 51),\n",
       " Timestamp(2011, 3, 16, 23, 58, 21),\n",
       " Timestamp(2011, 3, 16, 23, 51, 19),\n",
       " Timestamp(2011, 3, 16, 23, 50, 55),\n",
       " Timestamp(2011, 3, 16, 23, 50, 21),\n",
       " Timestamp(2011, 3, 16, 23, 47, 12),\n",
       " Timestamp(2011, 3, 16, 8, 2, 56),\n",
       " Timestamp(2011, 3, 15, 6, 10, 29),\n",
       " Timestamp(2011, 3, 13, 21, 36, 16),\n",
       " Timestamp(2011, 3, 13, 21, 33, 11),\n",
       " Timestamp(2011, 3, 13, 3, 46, 20),\n",
       " Timestamp(2011, 3, 13, 3, 32, 14),\n",
       " Timestamp(2011, 3, 13, 3, 31, 27),\n",
       " Timestamp(2011, 3, 13, 3, 15, 54),\n",
       " Timestamp(2011, 3, 13, 3, 13, 12),\n",
       " Timestamp(2011, 3, 6, 19, 59, 53),\n",
       " Timestamp(2011, 3, 6, 19, 29, 42),\n",
       " Timestamp(2011, 3, 2, 11, 2, 40),\n",
       " Timestamp(2011, 3, 2, 10, 57, 5),\n",
       " Timestamp(2011, 3, 2, 10, 23, 4),\n",
       " Timestamp(2011, 3, 2, 10, 3, 30),\n",
       " Timestamp(2011, 3, 1, 5, 12, 12),\n",
       " Timestamp(2011, 3, 1, 2, 1, 28),\n",
       " Timestamp(2011, 3, 1, 1, 51, 40),\n",
       " Timestamp(2011, 3, 1, 0, 46, 52),\n",
       " Timestamp(2011, 3, 1, 0, 44, 14),\n",
       " Timestamp(2011, 2, 26, 18, 1, 56),\n",
       " Timestamp(2011, 2, 26, 6, 4, 55),\n",
       " Timestamp(2011, 2, 26, 6, 2, 14),\n",
       " Timestamp(2011, 2, 25, 2, 50, 48),\n",
       " Timestamp(2011, 2, 18, 20, 11, 30),\n",
       " Timestamp(2011, 2, 18, 20, 6, 29),\n",
       " Timestamp(2011, 2, 18, 20, 6, 6),\n",
       " Timestamp(2011, 2, 18, 20, 1, 12),\n",
       " Timestamp(2011, 2, 18, 19, 59, 13),\n",
       " Timestamp(2011, 2, 18, 11, 10, 52),\n",
       " Timestamp(2011, 2, 18, 11, 0, 19),\n",
       " Timestamp(2011, 2, 18, 10, 50, 9),\n",
       " Timestamp(2011, 2, 18, 8, 1, 8),\n",
       " Timestamp(2011, 2, 18, 2, 55, 13),\n",
       " Timestamp(2011, 2, 13, 21, 21, 56),\n",
       " Timestamp(2011, 2, 13, 21, 19, 42),\n",
       " Timestamp(2011, 2, 13, 21, 17, 40),\n",
       " Timestamp(2011, 2, 13, 21, 14, 48),\n",
       " Timestamp(2011, 2, 13, 21, 14, 9),\n",
       " Timestamp(2011, 2, 13, 19, 28, 41),\n",
       " Timestamp(2011, 2, 6, 19, 6, 12),\n",
       " Timestamp(2011, 2, 6, 18, 22, 39),\n",
       " Timestamp(2011, 2, 6, 18, 22, 4),\n",
       " Timestamp(2011, 2, 6, 9, 43, 18),\n",
       " Timestamp(2011, 2, 6, 9, 42, 40),\n",
       " Timestamp(2011, 2, 6, 7, 58, 6),\n",
       " Timestamp(2011, 2, 6, 6, 52, 10),\n",
       " Timestamp(2011, 2, 6, 6, 51, 41),\n",
       " Timestamp(2011, 2, 6, 6, 51, 15),\n",
       " Timestamp(2011, 2, 6, 6, 50, 33),\n",
       " Timestamp(2011, 2, 6, 6, 40, 49),\n",
       " Timestamp(2011, 2, 6, 6, 34, 27),\n",
       " Timestamp(2011, 2, 6, 6, 33, 39),\n",
       " Timestamp(2011, 2, 6, 6, 31, 16),\n",
       " Timestamp(2011, 2, 6, 6, 30, 15),\n",
       " Timestamp(2011, 2, 6, 6, 29, 23),\n",
       " Timestamp(2011, 2, 6, 6, 24, 40),\n",
       " Timestamp(2011, 2, 6, 3, 13, 17),\n",
       " Timestamp(2011, 2, 6, 3, 11, 48),\n",
       " Timestamp(2011, 2, 6, 3, 6, 34),\n",
       " Timestamp(2011, 2, 6, 3, 5, 32),\n",
       " Timestamp(2011, 2, 6, 2, 27, 46),\n",
       " Timestamp(2011, 2, 6, 2, 19),\n",
       " Timestamp(2011, 2, 6, 2, 15, 45),\n",
       " Timestamp(2011, 2, 6, 2, 12, 31),\n",
       " Timestamp(2011, 2, 6, 2, 10, 34),\n",
       " Timestamp(2011, 2, 6, 2, 7, 59),\n",
       " Timestamp(2011, 2, 6, 2, 3, 25),\n",
       " Timestamp(2011, 2, 6, 2, 2, 3),\n",
       " Timestamp(2011, 2, 1, 4, 26, 9),\n",
       " Timestamp(2011, 2, 1, 1, 20, 17),\n",
       " Timestamp(2011, 1, 31, 21, 25, 8),\n",
       " Timestamp(2011, 1, 31, 1, 31, 43),\n",
       " Timestamp(2011, 1, 31, 1, 6, 5),\n",
       " Timestamp(2011, 1, 31, 0, 12, 19),\n",
       " Timestamp(2011, 1, 31, 0, 11, 30),\n",
       " Timestamp(2011, 1, 30, 21, 55, 14),\n",
       " Timestamp(2011, 1, 30, 19, 54, 18),\n",
       " Timestamp(2011, 1, 30, 19, 41, 37),\n",
       " Timestamp(2011, 1, 30, 18, 21, 34),\n",
       " Timestamp(2011, 1, 30, 18, 10, 16),\n",
       " Timestamp(2011, 1, 30, 3, 27, 43),\n",
       " Timestamp(2011, 1, 29, 5, 29, 33),\n",
       " Timestamp(2011, 1, 29, 5, 22, 24),\n",
       " Timestamp(2011, 1, 25, 7, 29, 38),\n",
       " Timestamp(2011, 1, 25, 5, 45, 21),\n",
       " Timestamp(2011, 1, 25, 5, 43, 10),\n",
       " Timestamp(2011, 1, 25, 5, 32, 15),\n",
       " Timestamp(2011, 1, 25, 5, 20, 13),\n",
       " Timestamp(2011, 1, 25, 5, 19, 9),\n",
       " Timestamp(2011, 1, 23, 21, 33, 27),\n",
       " Timestamp(2011, 1, 23, 21, 6, 33),\n",
       " Timestamp(2011, 1, 23, 7, 41, 34),\n",
       " Timestamp(2011, 1, 23, 0, 43, 34),\n",
       " Timestamp(2011, 1, 23, 0, 36, 32),\n",
       " Timestamp(2011, 1, 23, 0, 19, 3),\n",
       " Timestamp(2011, 1, 23, 0, 16, 31),\n",
       " Timestamp(2011, 1, 23, 0, 14, 59),\n",
       " Timestamp(2011, 1, 23, 0, 8, 13),\n",
       " Timestamp(2011, 1, 22, 23, 6, 26),\n",
       " Timestamp(2011, 1, 22, 22, 40, 29),\n",
       " Timestamp(2011, 1, 17, 0, 15, 42),\n",
       " Timestamp(2011, 1, 16, 7, 27, 6),\n",
       " Timestamp(2011, 1, 15, 13, 55, 3),\n",
       " Timestamp(2011, 1, 15, 13, 53, 48),\n",
       " Timestamp(2011, 1, 8, 7, 56, 58),\n",
       " Timestamp(2011, 1, 8, 7, 56, 22),\n",
       " Timestamp(2011, 1, 8, 0, 13, 3),\n",
       " Timestamp(2011, 1, 7, 7, 52, 45),\n",
       " Timestamp(2011, 1, 7, 7, 49, 3),\n",
       " Timestamp(2011, 1, 6, 9, 8, 15),\n",
       " Timestamp(2011, 1, 6, 8, 26, 41),\n",
       " Timestamp(2011, 1, 5, 5, 25, 12),\n",
       " Timestamp(2011, 1, 5, 5, 19, 55),\n",
       " Timestamp(2011, 1, 3, 7, 22, 20),\n",
       " Timestamp(2011, 1, 3, 7, 17, 37),\n",
       " Timestamp(2011, 1, 3, 7, 16, 48),\n",
       " Timestamp(2011, 1, 3, 7, 13),\n",
       " Timestamp(2011, 1, 3, 7, 1, 49),\n",
       " Timestamp(2011, 1, 3, 6, 50, 15),\n",
       " Timestamp(2011, 1, 3, 6, 37, 23),\n",
       " Timestamp(2011, 1, 3, 6, 35, 54),\n",
       " Timestamp(2011, 1, 2, 9, 5, 51),\n",
       " Timestamp(2011, 1, 2, 9, 4, 32),\n",
       " Timestamp(2011, 1, 2, 9, 3, 41),\n",
       " Timestamp(2011, 1, 2, 9, 0, 35),\n",
       " Timestamp(2011, 1, 2, 8, 58, 56),\n",
       " Timestamp(2011, 1, 2, 8, 29, 56),\n",
       " Timestamp(2011, 1, 2, 4, 53, 51),\n",
       " Timestamp(2011, 1, 2, 4, 49, 8),\n",
       " Timestamp(2011, 1, 2, 2, 56, 19),\n",
       " Timestamp(2011, 1, 2, 2, 33, 14),\n",
       " Timestamp(2011, 1, 2, 2, 22, 36),\n",
       " Timestamp(2010, 12, 30, 1, 46, 35),\n",
       " Timestamp(2010, 12, 30, 0, 26, 33),\n",
       " Timestamp(2010, 12, 29, 19, 13, 9),\n",
       " Timestamp(2010, 12, 29, 19, 11, 15),\n",
       " Timestamp(2010, 12, 29, 19, 6, 12),\n",
       " Timestamp(2010, 12, 29, 19, 5, 23),\n",
       " Timestamp(2010, 12, 29, 18, 44, 44),\n",
       " Timestamp(2010, 12, 29, 5, 4, 18),\n",
       " Timestamp(2010, 12, 29, 4, 5, 20),\n",
       " Timestamp(2010, 12, 29, 3, 42, 31),\n",
       " Timestamp(2010, 12, 29, 3, 15, 12),\n",
       " Timestamp(2010, 12, 29, 3, 12, 40),\n",
       " Timestamp(2010, 12, 29, 3, 5, 30),\n",
       " Timestamp(2010, 12, 29, 2, 8, 14),\n",
       " Timestamp(2010, 12, 29, 2, 0, 55),\n",
       " Timestamp(2010, 12, 29, 2, 0, 29),\n",
       " Timestamp(2010, 12, 28, 22, 16, 28),\n",
       " Timestamp(2010, 12, 28, 22, 15, 18),\n",
       " Timestamp(2010, 12, 28, 22, 11, 58),\n",
       " Timestamp(2010, 12, 28, 21, 52, 55),\n",
       " Timestamp(2010, 12, 28, 21, 49, 51),\n",
       " Timestamp(2010, 12, 28, 21, 47, 37),\n",
       " Timestamp(2010, 12, 28, 21, 34, 22),\n",
       " Timestamp(2010, 12, 28, 21, 28, 58),\n",
       " Timestamp(2010, 12, 28, 21, 28, 12),\n",
       " Timestamp(2010, 12, 28, 21, 26, 23),\n",
       " Timestamp(2010, 12, 28, 21, 25, 58),\n",
       " Timestamp(2010, 12, 28, 21, 24, 29),\n",
       " Timestamp(2010, 12, 28, 21, 19, 33),\n",
       " Timestamp(2010, 12, 28, 21, 19, 1),\n",
       " Timestamp(2010, 12, 27, 1, 41, 33),\n",
       " Timestamp(2010, 12, 24, 8, 34, 54),\n",
       " Timestamp(2010, 12, 24, 6, 28, 47),\n",
       " Timestamp(2010, 12, 24, 6, 25, 9),\n",
       " Timestamp(2010, 12, 24, 5, 10, 27),\n",
       " Timestamp(2010, 12, 24, 5, 3, 12),\n",
       " Timestamp(2010, 12, 24, 4, 23, 30),\n",
       " Timestamp(2010, 12, 23, 22, 57, 53),\n",
       " Timestamp(2010, 12, 23, 22, 57, 31),\n",
       " Timestamp(2010, 12, 23, 22, 54, 35),\n",
       " Timestamp(2010, 12, 23, 22, 50, 29),\n",
       " Timestamp(2010, 12, 23, 22, 10, 55),\n",
       " Timestamp(2010, 12, 23, 22, 10, 15),\n",
       " Timestamp(2010, 12, 23, 22, 3, 23),\n",
       " Timestamp(2010, 12, 23, 6, 37, 24),\n",
       " Timestamp(2010, 12, 23, 5, 37, 48),\n",
       " Timestamp(2010, 12, 23, 5, 36, 39),\n",
       " Timestamp(2010, 12, 23, 5, 35, 33),\n",
       " Timestamp(2010, 12, 23, 5, 28, 35),\n",
       " Timestamp(2010, 12, 23, 5, 27, 29),\n",
       " Timestamp(2010, 12, 23, 5, 26, 41),\n",
       " Timestamp(2010, 12, 23, 5, 12, 33),\n",
       " Timestamp(2010, 12, 23, 5, 7, 15),\n",
       " Timestamp(2010, 12, 23, 4, 51, 27),\n",
       " Timestamp(2010, 12, 23, 4, 47, 6),\n",
       " Timestamp(2010, 12, 23, 4, 36, 15),\n",
       " Timestamp(2010, 12, 23, 4, 35, 45),\n",
       " Timestamp(2010, 12, 23, 4, 31, 51),\n",
       " Timestamp(2010, 12, 23, 4, 31, 12),\n",
       " Timestamp(2010, 12, 23, 4, 10, 28),\n",
       " Timestamp(2010, 12, 23, 4, 7, 49),\n",
       " Timestamp(2010, 12, 23, 3, 51, 45),\n",
       " Timestamp(2010, 12, 23, 3, 46, 52),\n",
       " Timestamp(2010, 12, 22, 21, 53, 38),\n",
       " Timestamp(2010, 12, 22, 5, 12, 30),\n",
       " Timestamp(2010, 12, 21, 2, 5, 24),\n",
       " Timestamp(2010, 12, 20, 3, 19, 52),\n",
       " Timestamp(2010, 12, 18, 10, 28, 48),\n",
       " Timestamp(2010, 12, 18, 10, 1, 40),\n",
       " Timestamp(2010, 12, 14, 22, 46, 41),\n",
       " Timestamp(2010, 12, 14, 22, 44, 26),\n",
       " Timestamp(2010, 12, 13, 6, 24, 52),\n",
       " Timestamp(2010, 12, 11, 11, 3, 30),\n",
       " Timestamp(2010, 12, 11, 11, 2, 33),\n",
       " Timestamp(2010, 12, 11, 11, 1, 38),\n",
       " Timestamp(2010, 12, 11, 10, 30, 53),\n",
       " Timestamp(2010, 12, 11, 10, 30, 5),\n",
       " Timestamp(2010, 12, 11, 7, 20, 11),\n",
       " Timestamp(2010, 12, 11, 7, 12, 45),\n",
       " Timestamp(2010, 12, 11, 6, 19, 26),\n",
       " Timestamp(2010, 12, 11, 6, 17, 13),\n",
       " Timestamp(2010, 12, 11, 5, 54, 22),\n",
       " Timestamp(2010, 12, 11, 2, 43, 23),\n",
       " Timestamp(2010, 12, 10, 6, 3, 14),\n",
       " Timestamp(2010, 12, 10, 5, 54, 48),\n",
       " Timestamp(2010, 12, 10, 5, 51, 36),\n",
       " Timestamp(2010, 12, 10, 1, 27, 42),\n",
       " Timestamp(2010, 12, 9, 23, 19, 17),\n",
       " Timestamp(2010, 12, 9, 4, 0, 59),\n",
       " Timestamp(2010, 12, 9, 4, 0, 13),\n",
       " Timestamp(2010, 12, 9, 2, 47, 4),\n",
       " Timestamp(2010, 12, 9, 2, 46, 20),\n",
       " Timestamp(2010, 12, 9, 1, 12, 50),\n",
       " Timestamp(2010, 12, 9, 0, 47, 30),\n",
       " Timestamp(2010, 12, 9, 0, 40, 34),\n",
       " Timestamp(2010, 12, 9, 0, 27, 24),\n",
       " Timestamp(2010, 12, 8, 1, 57, 35),\n",
       " Timestamp(2010, 12, 7, 10, 1, 35),\n",
       " Timestamp(2010, 12, 7, 10, 0, 17),\n",
       " Timestamp(2010, 12, 7, 8, 1, 42),\n",
       " Timestamp(2010, 12, 7, 7, 56, 13),\n",
       " Timestamp(2010, 12, 7, 5, 12, 54),\n",
       " Timestamp(2010, 12, 7, 4, 33, 28),\n",
       " Timestamp(2010, 12, 6, 2, 54, 17),\n",
       " Timestamp(2010, 12, 5, 22, 43, 23),\n",
       " Timestamp(2010, 12, 5, 22, 42, 31),\n",
       " Timestamp(2010, 12, 5, 22, 42, 9),\n",
       " Timestamp(2010, 12, 5, 4, 43, 48),\n",
       " Timestamp(2010, 12, 5, 4, 15, 20),\n",
       " Timestamp(2010, 12, 5, 4, 14, 2),\n",
       " Timestamp(2010, 12, 5, 3, 31, 20),\n",
       " Timestamp(2010, 11, 26, 19, 44, 56),\n",
       " Timestamp(2010, 11, 26, 19, 43, 28),\n",
       " Timestamp(2010, 11, 26, 5, 46, 52),\n",
       " Timestamp(2010, 11, 26, 5, 3, 50),\n",
       " Timestamp(2010, 11, 26, 5, 2, 24),\n",
       " Timestamp(2010, 11, 14, 20, 34, 15),\n",
       " Timestamp(2010, 11, 14, 20, 33, 15),\n",
       " Timestamp(2010, 11, 13, 2, 20, 47),\n",
       " Timestamp(2010, 11, 3, 19, 22, 5),\n",
       " Timestamp(2010, 11, 2, 2, 22, 55),\n",
       " Timestamp(2010, 10, 31, 5, 24, 12),\n",
       " Timestamp(2010, 10, 28, 18, 46, 42),\n",
       " Timestamp(2010, 10, 25, 19, 54, 6),\n",
       " Timestamp(2010, 10, 25, 19, 21, 3),\n",
       " Timestamp(2010, 10, 23, 20, 51, 32),\n",
       " Timestamp(2010, 10, 19, 3, 10),\n",
       " Timestamp(2010, 10, 18, 6, 42, 14),\n",
       " Timestamp(2010, 10, 18, 6, 41, 38),\n",
       " Timestamp(2010, 10, 18, 6, 24, 10),\n",
       " Timestamp(2010, 10, 16, 19, 59, 34),\n",
       " Timestamp(2010, 10, 16, 19, 44, 10),\n",
       " Timestamp(2010, 10, 15, 3, 30, 47),\n",
       " Timestamp(2010, 10, 10, 3, 59, 29),\n",
       " Timestamp(2010, 10, 10, 2, 51, 57),\n",
       " Timestamp(2010, 10, 10, 2, 51),\n",
       " Timestamp(2010, 10, 10, 2, 30, 54),\n",
       " Timestamp(2010, 10, 10, 2, 30, 18),\n",
       " Timestamp(2010, 10, 9, 22, 5, 40),\n",
       " Timestamp(2010, 10, 9, 21, 19, 11),\n",
       " Timestamp(2010, 10, 9, 6, 19, 52),\n",
       " Timestamp(2010, 10, 9, 5, 48, 37),\n",
       " Timestamp(2010, 10, 9, 4, 53, 56),\n",
       " Timestamp(2010, 10, 9, 4, 51, 39),\n",
       " Timestamp(2010, 10, 9, 4, 49, 38),\n",
       " Timestamp(2010, 10, 4, 21, 14, 24),\n",
       " Timestamp(2010, 9, 26, 5, 10, 41),\n",
       " Timestamp(2010, 9, 26, 5, 1, 13),\n",
       " Timestamp(2010, 9, 26, 1, 52, 29),\n",
       " Timestamp(2010, 9, 10, 5, 15, 39),\n",
       " Timestamp(2010, 9, 10, 4, 46, 40),\n",
       " Timestamp(2010, 9, 10, 4, 43, 18),\n",
       " Timestamp(2010, 9, 9, 23, 50, 41),\n",
       " Timestamp(2010, 9, 7, 0, 7, 1),\n",
       " Timestamp(2010, 9, 7, 0, 3, 37),\n",
       " Timestamp(2010, 9, 6, 18, 58, 26),\n",
       " Timestamp(2010, 9, 6, 14, 39, 38),\n",
       " Timestamp(2010, 9, 6, 0, 6, 59),\n",
       " Timestamp(2010, 9, 5, 22, 33, 41),\n",
       " Timestamp(2010, 9, 5, 3, 35, 25),\n",
       " Timestamp(2010, 8, 30, 22, 40, 11),\n",
       " Timestamp(2010, 8, 30, 22, 39, 46),\n",
       " Timestamp(2010, 8, 30, 21, 53, 13),\n",
       " Timestamp(2010, 8, 30, 21, 50, 17),\n",
       " Timestamp(2010, 8, 26, 16, 51, 51),\n",
       " Timestamp(2010, 8, 22, 11, 44, 17),\n",
       " Timestamp(2010, 8, 19, 2, 54, 24),\n",
       " Timestamp(2010, 8, 19, 2, 51, 36),\n",
       " Timestamp(2010, 8, 19, 2, 50, 41),\n",
       " Timestamp(2010, 8, 19, 2, 44, 11),\n",
       " Timestamp(2010, 8, 19, 2, 39, 45),\n",
       " Timestamp(2010, 8, 19, 2, 31, 6),\n",
       " Timestamp(2010, 8, 19, 0, 50, 1),\n",
       " Timestamp(2010, 8, 19, 0, 32),\n",
       " Timestamp(2010, 8, 19, 0, 31, 31),\n",
       " Timestamp(2010, 8, 18, 23, 38, 4),\n",
       " Timestamp(2010, 8, 18, 23, 36, 21),\n",
       " Timestamp(2010, 8, 18, 23, 35, 29),\n",
       " Timestamp(2010, 8, 18, 23, 30, 34),\n",
       " Timestamp(2010, 8, 18, 23, 28, 16),\n",
       " Timestamp(2010, 8, 18, 23, 26, 54),\n",
       " Timestamp(2010, 8, 18, 23, 8, 54),\n",
       " Timestamp(2010, 8, 18, 23, 7, 3),\n",
       " Timestamp(2010, 8, 18, 23, 5, 26),\n",
       " Timestamp(2010, 8, 18, 5, 8, 30),\n",
       " Timestamp(2010, 8, 18, 2, 31, 36),\n",
       " Timestamp(2010, 8, 18, 2, 30, 48),\n",
       " Timestamp(2010, 8, 18, 2, 30, 7),\n",
       " Timestamp(2010, 8, 18, 2, 29, 15),\n",
       " Timestamp(2010, 8, 18, 2, 27, 46),\n",
       " Timestamp(2010, 8, 18, 2, 27, 13),\n",
       " Timestamp(2010, 8, 18, 2, 11, 29),\n",
       " Timestamp(2010, 8, 18, 2, 9, 45),\n",
       " Timestamp(2010, 8, 18, 2, 8, 12),\n",
       " Timestamp(2010, 8, 18, 2, 1, 37),\n",
       " Timestamp(2010, 8, 18, 1, 59, 15),\n",
       " Timestamp(2010, 8, 18, 1, 55, 25),\n",
       " Timestamp(2010, 8, 18, 1, 53, 53),\n",
       " Timestamp(2010, 8, 18, 1, 50, 11),\n",
       " Timestamp(2010, 8, 18, 1, 48, 9),\n",
       " Timestamp(2010, 8, 18, 1, 45, 22),\n",
       " Timestamp(2010, 8, 18, 1, 43, 28),\n",
       " Timestamp(2010, 8, 18, 1, 41, 15),\n",
       " Timestamp(2010, 8, 18, 1, 16, 45),\n",
       " Timestamp(2010, 8, 14, 19, 10, 16),\n",
       " Timestamp(2010, 8, 14, 16, 15, 37),\n",
       " Timestamp(2010, 8, 14, 4, 58, 6),\n",
       " Timestamp(2010, 8, 13, 3, 4, 57),\n",
       " Timestamp(2010, 8, 13, 2, 17, 6),\n",
       " Timestamp(2010, 8, 13, 2, 14, 11),\n",
       " Timestamp(2010, 8, 13, 0, 6, 22),\n",
       " Timestamp(2010, 8, 8, 21, 39, 55),\n",
       " Timestamp(2010, 8, 8, 20, 42, 34),\n",
       " Timestamp(2010, 8, 8, 20, 41, 50),\n",
       " Timestamp(2010, 8, 7, 6, 17, 25),\n",
       " Timestamp(2010, 7, 31, 19, 7, 10),\n",
       " Timestamp(2010, 7, 31, 0, 38, 29),\n",
       " Timestamp(2010, 7, 31, 0, 36, 38),\n",
       " Timestamp(2010, 7, 30, 5, 20, 37),\n",
       " Timestamp(2010, 7, 30, 3, 17, 15),\n",
       " Timestamp(2010, 7, 24, 20, 17),\n",
       " Timestamp(2010, 7, 24, 15, 27, 4),\n",
       " Timestamp(2010, 7, 24, 15, 25, 28),\n",
       " Timestamp(2010, 7, 24, 15, 19, 4),\n",
       " Timestamp(2010, 7, 24, 15, 15, 10),\n",
       " Timestamp(2010, 7, 24, 15, 8, 43),\n",
       " Timestamp(2010, 7, 24, 5, 31, 7),\n",
       " Timestamp(2010, 7, 23, 4, 23, 55),\n",
       " Timestamp(2010, 7, 22, 21, 2, 36),\n",
       " Timestamp(2010, 7, 22, 20, 59, 12),\n",
       " Timestamp(2010, 7, 22, 7, 58, 4),\n",
       " Timestamp(2010, 7, 19, 5, 14, 17),\n",
       " Timestamp(2010, 7, 19, 5, 12, 5),\n",
       " Timestamp(2010, 7, 19, 1, 59, 59),\n",
       " Timestamp(2010, 7, 19, 1, 47, 48),\n",
       " Timestamp(2010, 7, 19, 0, 53, 32),\n",
       " Timestamp(2010, 7, 19, 0, 4, 52),\n",
       " Timestamp(2010, 7, 19, 0, 2, 30),\n",
       " Timestamp(2010, 7, 18, 23, 45, 55),\n",
       " Timestamp(2010, 7, 14, 18, 42, 15),\n",
       " Timestamp(2010, 7, 14, 0, 40, 38),\n",
       " Timestamp(2010, 7, 14, 0, 18, 15),\n",
       " Timestamp(2010, 7, 14, 0, 17, 54),\n",
       " Timestamp(2010, 7, 13, 3, 11, 20),\n",
       " Timestamp(2010, 7, 13, 3, 9, 53),\n",
       " Timestamp(2010, 7, 13, 3, 9, 1),\n",
       " Timestamp(2010, 7, 13, 2, 59, 9),\n",
       " Timestamp(2010, 7, 13, 1, 47, 15),\n",
       " Timestamp(2010, 7, 13, 1, 46, 34),\n",
       " Timestamp(2010, 7, 13, 1, 18, 3),\n",
       " Timestamp(2010, 7, 13, 1, 14, 24),\n",
       " Timestamp(2010, 7, 13, 1, 13, 28),\n",
       " Timestamp(2010, 7, 13, 0, 44, 15),\n",
       " Timestamp(2010, 7, 13, 0, 43, 51),\n",
       " Timestamp(2010, 7, 13, 0, 41, 24),\n",
       " Timestamp(2010, 7, 13, 0, 41, 2),\n",
       " Timestamp(2010, 7, 13, 0, 40, 53),\n",
       " Timestamp(2010, 7, 12, 2, 54, 2),\n",
       " Timestamp(2010, 7, 12, 2, 20, 38),\n",
       " Timestamp(2010, 7, 12, 0, 53, 26),\n",
       " Timestamp(2010, 7, 11, 23, 27, 5),\n",
       " Timestamp(2010, 7, 11, 20, 25, 22),\n",
       " Timestamp(2010, 7, 7, 5, 51, 5),\n",
       " Timestamp(2010, 7, 1, 3, 46, 4),\n",
       " Timestamp(2010, 6, 30, 3, 38, 52),\n",
       " Timestamp(2010, 6, 29, 21, 10, 6),\n",
       " Timestamp(2010, 6, 29, 20, 58, 7),\n",
       " Timestamp(2010, 6, 29, 20, 56, 59),\n",
       " Timestamp(2010, 6, 29, 20, 45, 15),\n",
       " Timestamp(2010, 6, 22, 19, 36, 5),\n",
       " Timestamp(2010, 6, 16, 15, 11, 23),\n",
       " Timestamp(2010, 6, 5, 19, 29, 8),\n",
       " Timestamp(2010, 6, 5, 19, 25, 25),\n",
       " Timestamp(2010, 6, 5, 18, 59, 20),\n",
       " Timestamp(2010, 6, 5, 18, 59, 13),\n",
       " Timestamp(2010, 6, 5, 18, 41, 39),\n",
       " Timestamp(2010, 6, 5, 18, 36, 3),\n",
       " Timestamp(2010, 5, 25, 17, 2, 35),\n",
       " Timestamp(2010, 5, 21, 23, 59, 54),\n",
       " Timestamp(2010, 5, 20, 0, 49, 32),\n",
       " Timestamp(2010, 5, 18, 10, 20, 6),\n",
       " Timestamp(2010, 5, 18, 6, 40, 2),\n",
       " Timestamp(2010, 5, 18, 3, 9, 42),\n",
       " Timestamp(2010, 5, 17, 22, 39, 39),\n",
       " Timestamp(2010, 5, 17, 21, 11, 10),\n",
       " Timestamp(2010, 5, 17, 6, 41, 37),\n",
       " Timestamp(2010, 5, 17, 6, 39, 49),\n",
       " Timestamp(2010, 5, 17, 6, 38, 55),\n",
       " Timestamp(2010, 5, 17, 6, 38, 16),\n",
       " Timestamp(2010, 5, 17, 6, 35, 18),\n",
       " Timestamp(2010, 5, 14, 7, 34, 31),\n",
       " Timestamp(2010, 5, 14, 6, 13, 24),\n",
       " Timestamp(2010, 5, 14, 6, 11, 57),\n",
       " Timestamp(2010, 5, 14, 5, 58, 32),\n",
       " Timestamp(2010, 5, 12, 2, 21),\n",
       " Timestamp(2010, 5, 11, 23, 17, 44),\n",
       " Timestamp(2010, 5, 11, 23, 6, 13),\n",
       " Timestamp(2010, 5, 11, 20, 52, 4),\n",
       " Timestamp(2010, 5, 11, 18, 36, 30),\n",
       " Timestamp(2010, 5, 11, 7, 20, 16),\n",
       " Timestamp(2010, 5, 11, 7, 15, 57),\n",
       " Timestamp(2010, 5, 11, 7, 10, 12),\n",
       " Timestamp(2010, 5, 11, 3, 22, 8),\n",
       " Timestamp(2010, 5, 11, 3, 11, 27),\n",
       " Timestamp(2010, 5, 11, 0, 21, 54),\n",
       " Timestamp(2010, 5, 10, 7, 48, 46),\n",
       " Timestamp(2010, 5, 10, 4, 9, 19),\n",
       " Timestamp(2010, 5, 10, 0, 56, 22),\n",
       " Timestamp(2010, 5, 10, 0, 53, 55),\n",
       " Timestamp(2010, 5, 5, 0, 19, 15),\n",
       " Timestamp(2010, 5, 5, 0, 18, 10),\n",
       " Timestamp(2010, 5, 5, 0, 17, 29),\n",
       " Timestamp(2010, 5, 5, 0, 15, 35),\n",
       " Timestamp(2010, 5, 5, 0, 11, 38),\n",
       " Timestamp(2010, 5, 3, 20, 0, 38),\n",
       " Timestamp(2010, 5, 2, 20, 30, 11),\n",
       " Timestamp(2010, 4, 28, 17, 49, 52),\n",
       " Timestamp(2010, 4, 28, 17, 49, 3),\n",
       " Timestamp(2010, 4, 23, 17, 38, 5),\n",
       " Timestamp(2010, 4, 10, 8, 39, 1),\n",
       " Timestamp(2010, 4, 3, 7, 1, 32),\n",
       " Timestamp(2010, 4, 1, 7, 30, 20),\n",
       " Timestamp(2010, 3, 31, 8, 25, 31),\n",
       " Timestamp(2010, 3, 31, 8, 13, 41),\n",
       " Timestamp(2010, 3, 31, 4, 16, 15),\n",
       " Timestamp(2010, 3, 31, 4, 15, 36),\n",
       " Timestamp(2010, 3, 31, 3, 36, 26),\n",
       " Timestamp(2010, 3, 27, 7, 50, 31),\n",
       " Timestamp(2010, 3, 27, 6, 29, 33),\n",
       " Timestamp(2010, 3, 27, 6, 27, 53),\n",
       " Timestamp(2010, 3, 26, 7, 4),\n",
       " Timestamp(2010, 3, 26, 6, 59, 16),\n",
       " Timestamp(2010, 3, 26, 6, 58, 57),\n",
       " Timestamp(2010, 3, 26, 6, 44, 47),\n",
       " Timestamp(2010, 3, 26, 6, 1, 6),\n",
       " Timestamp(2010, 3, 26, 5, 54, 4),\n",
       " Timestamp(2010, 3, 26, 5, 53, 16),\n",
       " Timestamp(2010, 3, 26, 2, 41, 48),\n",
       " Timestamp(2010, 3, 26, 1, 52, 28),\n",
       " Timestamp(2010, 3, 25, 23, 1, 5),\n",
       " Timestamp(2010, 3, 25, 22, 57, 11),\n",
       " Timestamp(2010, 3, 25, 22, 53, 10),\n",
       " Timestamp(2010, 3, 25, 21, 2, 43),\n",
       " Timestamp(2010, 3, 25, 20, 59, 49),\n",
       " Timestamp(2010, 3, 25, 20, 52, 26),\n",
       " Timestamp(2010, 3, 25, 20, 51, 26),\n",
       " Timestamp(2010, 3, 25, 20, 1, 34),\n",
       " Timestamp(2010, 3, 17, 6, 10, 35),\n",
       " Timestamp(2010, 3, 17, 6, 6, 50),\n",
       " Timestamp(2010, 3, 17, 4, 24, 11),\n",
       " Timestamp(2010, 3, 15, 7, 25, 7),\n",
       " Timestamp(2010, 3, 15, 4, 40, 21),\n",
       " Timestamp(2010, 3, 13, 23, 56, 40),\n",
       " Timestamp(2010, 3, 10, 5, 48, 8),\n",
       " Timestamp(2010, 3, 9, 6, 45, 39),\n",
       " Timestamp(2010, 3, 7, 7, 11, 16),\n",
       " Timestamp(2010, 3, 7, 4, 42, 23),\n",
       " Timestamp(2010, 3, 7, 4, 41, 28),\n",
       " Timestamp(2010, 3, 6, 19, 15, 45),\n",
       " Timestamp(2010, 3, 6, 7, 1, 47),\n",
       " Timestamp(2010, 3, 6, 4, 28, 58),\n",
       " Timestamp(2010, 3, 6, 4, 26, 42),\n",
       " Timestamp(2010, 3, 6, 3, 10, 50),\n",
       " Timestamp(2010, 3, 4, 0, 37, 20),\n",
       " Timestamp(2010, 3, 4, 0, 36, 9),\n",
       " Timestamp(2010, 3, 4, 0, 35, 16),\n",
       " Timestamp(2010, 3, 4, 0, 31, 44),\n",
       " Timestamp(2010, 3, 4, 0, 28, 57),\n",
       " Timestamp(2010, 3, 2, 17, 19, 59),\n",
       " Timestamp(2010, 3, 2, 17, 19, 10),\n",
       " Timestamp(2010, 3, 2, 17, 14, 8),\n",
       " Timestamp(2010, 3, 2, 17, 13, 5),\n",
       " Timestamp(2010, 3, 2, 16, 52, 38),\n",
       " Timestamp(2010, 3, 2, 16, 42, 38),\n",
       " Timestamp(2010, 3, 2, 16, 41, 17),\n",
       " Timestamp(2010, 3, 2, 6, 25, 10),\n",
       " Timestamp(2010, 3, 2, 6, 11, 23),\n",
       " Timestamp(2010, 3, 2, 6, 5, 36),\n",
       " Timestamp(2010, 3, 1, 22, 54, 21),\n",
       " Timestamp(2010, 3, 1, 5, 46, 42),\n",
       " Timestamp(2010, 2, 27, 18, 42, 4),\n",
       " Timestamp(2010, 2, 25, 20, 55, 58),\n",
       " Timestamp(2010, 2, 25, 20, 55, 6),\n",
       " Timestamp(2010, 2, 25, 20, 20, 33),\n",
       " Timestamp(2010, 2, 25, 8, 10, 54),\n",
       " Timestamp(2010, 2, 25, 8, 10, 48),\n",
       " Timestamp(2010, 2, 24, 21, 38, 36),\n",
       " Timestamp(2010, 2, 24, 20, 23, 18),\n",
       " Timestamp(2010, 2, 24, 17, 41, 32),\n",
       " Timestamp(2010, 2, 24, 4, 8, 15),\n",
       " Timestamp(2010, 2, 23, 21, 38, 11),\n",
       " Timestamp(2010, 2, 23, 18, 32, 51),\n",
       " Timestamp(2010, 2, 23, 7, 7, 1),\n",
       " Timestamp(2010, 2, 23, 4, 27, 5),\n",
       " Timestamp(2010, 2, 23, 4, 24, 39),\n",
       " Timestamp(2010, 2, 23, 3, 50, 19),\n",
       " Timestamp(2010, 2, 23, 0, 32, 23),\n",
       " Timestamp(2010, 2, 22, 6, 32),\n",
       " Timestamp(2010, 2, 22, 5, 49, 4),\n",
       " Timestamp(2010, 2, 22, 5, 41, 23),\n",
       " Timestamp(2010, 2, 21, 15, 52, 15),\n",
       " Timestamp(2010, 2, 18, 4, 48, 44),\n",
       " Timestamp(2010, 2, 18, 4, 4, 38),\n",
       " Timestamp(2010, 2, 14, 7, 35, 30),\n",
       " Timestamp(2010, 2, 3, 20, 54, 20),\n",
       " Timestamp(2010, 2, 3, 20, 54, 10),\n",
       " Timestamp(2010, 2, 3, 20, 53, 56),\n",
       " Timestamp(2010, 2, 3, 20, 53, 41),\n",
       " Timestamp(2010, 2, 3, 20, 53, 31),\n",
       " Timestamp(2010, 2, 3, 20, 53, 18),\n",
       " Timestamp(2010, 2, 3, 20, 53, 4),\n",
       " Timestamp(2010, 2, 3, 20, 52, 53),\n",
       " Timestamp(2010, 2, 3, 20, 52, 44),\n",
       " Timestamp(2010, 2, 3, 20, 52, 33),\n",
       " Timestamp(2010, 2, 3, 20, 52, 21),\n",
       " Timestamp(2010, 2, 2, 2, 53, 50),\n",
       " Timestamp(2010, 2, 2, 2, 53, 39),\n",
       " Timestamp(2010, 2, 2, 2, 53, 30),\n",
       " Timestamp(2010, 2, 2, 2, 53, 21),\n",
       " Timestamp(2010, 2, 2, 2, 53, 9),\n",
       " Timestamp(2010, 2, 2, 2, 52, 51),\n",
       " Timestamp(2010, 2, 2, 2, 52, 36),\n",
       " Timestamp(2010, 2, 2, 2, 52, 12),\n",
       " Timestamp(2010, 2, 2, 2, 51, 54),\n",
       " Timestamp(2010, 1, 31, 4, 31, 52),\n",
       " Timestamp(2010, 1, 31, 4, 31, 30),\n",
       " Timestamp(2010, 1, 23, 22, 52, 57),\n",
       " Timestamp(2010, 1, 23, 4, 42, 51),\n",
       " Timestamp(2010, 1, 17, 9, 10, 38),\n",
       " Timestamp(2010, 1, 17, 9, 5, 28),\n",
       " Timestamp(2010, 1, 13, 6, 32, 51),\n",
       " Timestamp(2010, 1, 13, 3, 22, 35),\n",
       " Timestamp(2010, 1, 13, 3, 21, 13),\n",
       " Timestamp(2010, 1, 10, 0, 50, 57),\n",
       " Timestamp(2010, 1, 1, 2, 16, 21),\n",
       " Timestamp(2009, 11, 25, 3, 21, 7),\n",
       " Timestamp(2009, 5, 20, 2, 50, 14),\n",
       " Timestamp(2009, 4, 4, 15, 25, 9),\n",
       " Timestamp(2009, 1, 21, 22, 25, 30),\n",
       " Timestamp(2009, 1, 21, 22, 15, 38),\n",
       " Timestamp(2009, 1, 12, 18, 57, 31),\n",
       " Timestamp(2009, 1, 11, 1, 37, 47),\n",
       " Timestamp(2009, 1, 10, 21, 1, 17),\n",
       " Timestamp(2009, 1, 10, 18, 54, 6),\n",
       " Timestamp(2009, 1, 9, 5, 25, 16),\n",
       " Timestamp(2009, 1, 9, 3, 44, 35),\n",
       " Timestamp(2008, 11, 18, 6, 2, 52),\n",
       " Timestamp(2008, 11, 3, 4, 3, 40),\n",
       " Timestamp(2008, 10, 7, 3, 52, 28),\n",
       " Timestamp(2008, 9, 30, 10, 6, 49),\n",
       " Timestamp(2008, 7, 21, 20, 58, 22),\n",
       " Timestamp(2008, 6, 24, 17, 9, 41),\n",
       " Timestamp(2008, 6, 9, 15, 11, 54),\n",
       " Timestamp(2008, 6, 4, 4, 7, 8),\n",
       " Timestamp(2008, 6, 2, 20, 4, 25),\n",
       " Timestamp(2008, 5, 19, 0, 56, 12),\n",
       " Timestamp(2008, 5, 19, 0, 54, 47),\n",
       " Timestamp(2008, 5, 14, 18, 26, 50),\n",
       " Timestamp(2008, 5, 13, 7, 49, 53),\n",
       " Timestamp(2008, 5, 13, 5, 14, 29),\n",
       " Timestamp(2008, 5, 13, 4, 29, 20),\n",
       " Timestamp(2008, 5, 13, 4, 28, 42),\n",
       " Timestamp(2008, 5, 13, 1, 16, 31),\n",
       " Timestamp(2008, 5, 13, 1, 14, 39),\n",
       " Timestamp(2008, 5, 12, 23, 39, 40),\n",
       " Timestamp(2008, 5, 12, 16, 56, 10),\n",
       " Timestamp(2008, 5, 6, 15, 34, 56)]"
      ]
     },
     "execution_count": 90,
     "metadata": {},
     "output_type": "execute_result"
    }
   ],
   "source": []
  },
  {
   "cell_type": "code",
   "execution_count": 113,
   "id": "confused-jewelry",
   "metadata": {
    "collapsed": false,
    "jupyter": {
     "outputs_hidden": false
    }
   },
   "outputs": [
    {
     "name": "stdout",
     "output_type": "stream",
     "text": [
      "found this many timestamps:  441\n",
      "timestamps per second:  789.168527744\n"
     ]
    }
   ],
   "source": [
    "amt = calculate_edit_hours('Maximilianklein')"
   ]
  },
  {
   "cell_type": "code",
   "execution_count": 114,
   "id": "fallen-tunnel",
   "metadata": {
    "collapsed": false,
    "jupyter": {
     "outputs_hidden": false
    }
   },
   "outputs": [
    {
     "data": {
      "text/plain": [
       "27.824166666666667"
      ]
     },
     "execution_count": 114,
     "metadata": {},
     "output_type": "execute_result"
    }
   ],
   "source": [
    "amt"
   ]
  },
  {
   "cell_type": "code",
   "execution_count": 137,
   "id": "occupied-psychiatry",
   "metadata": {
    "collapsed": false,
    "jupyter": {
     "outputs_hidden": false
    }
   },
   "outputs": [
    {
     "name": "stdout",
     "output_type": "stream",
     "text": [
      "[[Timestamp(2011, 12, 6, 21, 33, 12), Timestamp(2011, 12, 6, 21, 37, 24), Timestamp(2011, 12, 6, 21, 40, 21), Timestamp(2011, 12, 6, 21, 41, 44), Timestamp(2011, 12, 6, 21, 43, 17), Timestamp(2011, 12, 6, 21, 46, 38), Timestamp(2011, 12, 6, 21, 49, 52), Timestamp(2011, 12, 6, 21, 53, 32), Timestamp(2011, 12, 6, 21, 55, 18), Timestamp(2011, 12, 6, 22, 5, 20), Timestamp(2011, 12, 6, 22, 6, 39), Timestamp(2011, 12, 6, 22, 7, 34), Timestamp(2011, 12, 6, 22, 13, 44), Timestamp(2011, 12, 6, 22, 17, 19), Timestamp(2011, 12, 6, 22, 22, 59), Timestamp(2011, 12, 6, 22, 23, 34), Timestamp(2011, 12, 6, 22, 26, 40)]]\n",
      "[datetime.timedelta(0, 3478)]\n",
      "timestamps per second:  91.4602981606\n",
      "<type 'datetime.timedelta'>\n"
     ]
    },
    {
     "data": {
      "text/plain": [
       "0.9661111111111111"
      ]
     },
     "execution_count": 137,
     "metadata": {},
     "output_type": "execute_result"
    }
   ],
   "source": [
    "calculate_edit_hours('Gbagri')"
   ]
  },
  {
   "cell_type": "code",
   "execution_count": 64,
   "id": "baking-deviation",
   "metadata": {
    "collapsed": false,
    "jupyter": {
     "outputs_hidden": false
    }
   },
   "outputs": [],
   "source": [
    "def calculate_article_metric(article_name, metric):\n",
    "    page = pywikibot.Page(enwp, article_name)\n",
    "    page_text = page.get()\n",
    "    wikicode = pfh.parse(page_text)\n",
    "    metrics = report_actionable_metrics(wikicode)\n",
    "    return metrics[metric]"
   ]
  },
  {
   "cell_type": "code",
   "execution_count": 39,
   "id": "brutal-runner",
   "metadata": {
    "collapsed": false,
    "jupyter": {
     "outputs_hidden": false
    }
   },
   "outputs": [
    {
     "name": "stderr",
     "output_type": "stream",
     "text": [
      "VERBOSE:pywiki:Found 1 wikipedia:en processes running, including this one.\n"
     ]
    },
    {
     "ename": "KeyboardInterrupt",
     "evalue": "",
     "output_type": "error",
     "traceback": [
      "\u001b[1;31m---------------------------------------------------------------------------\u001b[0m\n\u001b[1;31mKeyboardInterrupt\u001b[0m                         Traceback (most recent call last)",
      "\u001b[1;32m<ipython-input-39-adb0756e8f16>\u001b[0m in \u001b[0;36m<module>\u001b[1;34m()\u001b[0m\n\u001b[0;32m      1\u001b[0m \u001b[0muser_hours\u001b[0m \u001b[1;33m=\u001b[0m \u001b[0mdict\u001b[0m\u001b[1;33m(\u001b[0m\u001b[1;33m)\u001b[0m\u001b[1;33m\u001b[0m\u001b[0m\n\u001b[0;32m      2\u001b[0m \u001b[1;32mfor\u001b[0m \u001b[0muser\u001b[0m \u001b[1;32min\u001b[0m \u001b[0muser_dict\u001b[0m\u001b[1;33m.\u001b[0m\u001b[0miterkeys\u001b[0m\u001b[1;33m(\u001b[0m\u001b[1;33m)\u001b[0m\u001b[1;33m:\u001b[0m\u001b[1;33m\u001b[0m\u001b[0m\n\u001b[1;32m----> 3\u001b[1;33m     \u001b[0mhours\u001b[0m \u001b[1;33m=\u001b[0m \u001b[0mcalculate_edit_hours\u001b[0m\u001b[1;33m(\u001b[0m\u001b[0muser\u001b[0m\u001b[1;33m)\u001b[0m\u001b[1;33m\u001b[0m\u001b[0m\n\u001b[0m\u001b[0;32m      4\u001b[0m     \u001b[1;32mprint\u001b[0m \u001b[0muser\u001b[0m\u001b[1;33m,\u001b[0m \u001b[0mhours\u001b[0m\u001b[1;33m\u001b[0m\u001b[0m\n\u001b[0;32m      5\u001b[0m     \u001b[0muser_hours\u001b[0m\u001b[1;33m[\u001b[0m\u001b[0muser\u001b[0m\u001b[1;33m]\u001b[0m \u001b[1;33m=\u001b[0m \u001b[0mhours\u001b[0m\u001b[1;33m\u001b[0m\u001b[0m\n",
      "\u001b[1;32m<ipython-input-38-b868994ca263>\u001b[0m in \u001b[0;36mcalculate_edit_hours\u001b[1;34m(username, snapshot_timestamp)\u001b[0m\n\u001b[0;32m      1\u001b[0m \u001b[1;32mdef\u001b[0m \u001b[0mcalculate_edit_hours\u001b[0m\u001b[1;33m(\u001b[0m\u001b[0musername\u001b[0m\u001b[1;33m,\u001b[0m \u001b[0msnapshot_timestamp\u001b[0m\u001b[1;33m=\u001b[0m\u001b[0mNone\u001b[0m\u001b[1;33m)\u001b[0m\u001b[1;33m:\u001b[0m\u001b[1;33m\u001b[0m\u001b[0m\n\u001b[0;32m      2\u001b[0m     \u001b[0mstarttime\u001b[0m \u001b[1;33m=\u001b[0m \u001b[0mdatetime\u001b[0m\u001b[1;33m.\u001b[0m\u001b[0mdatetime\u001b[0m\u001b[1;33m.\u001b[0m\u001b[0mnow\u001b[0m\u001b[1;33m(\u001b[0m\u001b[1;33m)\u001b[0m\u001b[1;33m\u001b[0m\u001b[0m\n\u001b[1;32m----> 3\u001b[1;33m     \u001b[0mcontriblist\u001b[0m \u001b[1;33m=\u001b[0m \u001b[0mlist\u001b[0m\u001b[1;33m(\u001b[0m\u001b[0menwp\u001b[0m\u001b[1;33m.\u001b[0m\u001b[0musercontribs\u001b[0m\u001b[1;33m(\u001b[0m\u001b[0muser\u001b[0m\u001b[1;33m=\u001b[0m\u001b[1;34m'Mandarax'\u001b[0m\u001b[1;33m,\u001b[0m \u001b[0mnamespaces\u001b[0m\u001b[1;33m=\u001b[0m\u001b[1;33m[\u001b[0m\u001b[1;36m0\u001b[0m\u001b[1;33m]\u001b[0m\u001b[1;33m,\u001b[0m \u001b[0mtotal\u001b[0m\u001b[1;33m=\u001b[0m\u001b[0mNone\u001b[0m\u001b[1;33m,\u001b[0m \u001b[0mstep\u001b[0m\u001b[1;33m=\u001b[0m\u001b[1;36m5000\u001b[0m\u001b[1;33m)\u001b[0m\u001b[1;33m)\u001b[0m\u001b[1;33m\u001b[0m\u001b[0m\n\u001b[0m\u001b[0;32m      4\u001b[0m \u001b[1;33m\u001b[0m\u001b[0m\n\u001b[0;32m      5\u001b[0m \u001b[1;33m\u001b[0m\u001b[0m\n",
      "\u001b[1;32m/home/notconfusing/workspace/pwb-core/pywikibot/data/api.pyc\u001b[0m in \u001b[0;36m__iter__\u001b[1;34m(self)\u001b[0m\n\u001b[0;32m    658\u001b[0m             \u001b[1;32mif\u001b[0m \u001b[1;32mnot\u001b[0m \u001b[0mhasattr\u001b[0m\u001b[1;33m(\u001b[0m\u001b[0mself\u001b[0m\u001b[1;33m,\u001b[0m \u001b[1;34m\"data\"\u001b[0m\u001b[1;33m)\u001b[0m\u001b[1;33m:\u001b[0m\u001b[1;33m\u001b[0m\u001b[0m\n\u001b[0;32m    659\u001b[0m                 \u001b[1;32mtry\u001b[0m\u001b[1;33m:\u001b[0m\u001b[1;33m\u001b[0m\u001b[0m\n\u001b[1;32m--> 660\u001b[1;33m                     \u001b[0mself\u001b[0m\u001b[1;33m.\u001b[0m\u001b[0mdata\u001b[0m \u001b[1;33m=\u001b[0m \u001b[0mself\u001b[0m\u001b[1;33m.\u001b[0m\u001b[0mrequest\u001b[0m\u001b[1;33m.\u001b[0m\u001b[0msubmit\u001b[0m\u001b[1;33m(\u001b[0m\u001b[1;33m)\u001b[0m\u001b[1;33m\u001b[0m\u001b[0m\n\u001b[0m\u001b[0;32m    661\u001b[0m                 \u001b[1;32mexcept\u001b[0m \u001b[0mServer504Error\u001b[0m\u001b[1;33m:\u001b[0m\u001b[1;33m\u001b[0m\u001b[0m\n\u001b[0;32m    662\u001b[0m                     \u001b[1;31m# server timeout, usually caused by request with high limit\u001b[0m\u001b[1;33m\u001b[0m\u001b[1;33m\u001b[0m\u001b[0m\n",
      "\u001b[1;32m/home/notconfusing/workspace/pwb-core/pywikibot/data/api.pyc\u001b[0m in \u001b[0;36msubmit\u001b[1;34m(self)\u001b[0m\n\u001b[0;32m    289\u001b[0m                     rawdata = http.request(self.site, uri, ssl, method=\"POST\",\n\u001b[0;32m    290\u001b[0m                                            \u001b[0mheaders\u001b[0m\u001b[1;33m=\u001b[0m\u001b[1;33m{\u001b[0m\u001b[1;34m'Content-Type'\u001b[0m\u001b[1;33m:\u001b[0m \u001b[1;34m'application/x-www-form-urlencoded'\u001b[0m\u001b[1;33m}\u001b[0m\u001b[1;33m,\u001b[0m\u001b[1;33m\u001b[0m\u001b[0m\n\u001b[1;32m--> 291\u001b[1;33m                                            body=paramstring)\n\u001b[0m\u001b[0;32m    292\u001b[0m \u001b[1;31m##                import traceback\u001b[0m\u001b[1;33m\u001b[0m\u001b[1;33m\u001b[0m\u001b[0m\n\u001b[0;32m    293\u001b[0m \u001b[1;31m##                traceback.print_stack()\u001b[0m\u001b[1;33m\u001b[0m\u001b[1;33m\u001b[0m\u001b[0m\n",
      "\u001b[1;32m/home/notconfusing/workspace/pwb-core/pywikibot/comms/http.pyc\u001b[0m in \u001b[0;36mrequest\u001b[1;34m(site, uri, ssl, *args, **kwargs)\u001b[0m\n\u001b[0;32m    130\u001b[0m     \u001b[0mrequest\u001b[0m \u001b[1;33m=\u001b[0m \u001b[0mthreadedhttp\u001b[0m\u001b[1;33m.\u001b[0m\u001b[0mHttpRequest\u001b[0m\u001b[1;33m(\u001b[0m\u001b[0mbaseuri\u001b[0m\u001b[1;33m,\u001b[0m \u001b[1;33m*\u001b[0m\u001b[0margs\u001b[0m\u001b[1;33m,\u001b[0m \u001b[1;33m**\u001b[0m\u001b[0mkwargs\u001b[0m\u001b[1;33m)\u001b[0m\u001b[1;33m\u001b[0m\u001b[0m\n\u001b[0;32m    131\u001b[0m     \u001b[0mhttp_queue\u001b[0m\u001b[1;33m.\u001b[0m\u001b[0mput\u001b[0m\u001b[1;33m(\u001b[0m\u001b[0mrequest\u001b[0m\u001b[1;33m)\u001b[0m\u001b[1;33m\u001b[0m\u001b[0m\n\u001b[1;32m--> 132\u001b[1;33m     \u001b[0mrequest\u001b[0m\u001b[1;33m.\u001b[0m\u001b[0mlock\u001b[0m\u001b[1;33m.\u001b[0m\u001b[0macquire\u001b[0m\u001b[1;33m(\u001b[0m\u001b[1;33m)\u001b[0m\u001b[1;33m\u001b[0m\u001b[0m\n\u001b[0m\u001b[0;32m    133\u001b[0m \u001b[1;33m\u001b[0m\u001b[0m\n\u001b[0;32m    134\u001b[0m     \u001b[1;31m#TODO: do some error correcting stuff\u001b[0m\u001b[1;33m\u001b[0m\u001b[1;33m\u001b[0m\u001b[0m\n",
      "\u001b[1;32m/usr/lib/python2.7/threading.pyc\u001b[0m in \u001b[0;36macquire\u001b[1;34m(self, blocking)\u001b[0m\n\u001b[0;32m    465\u001b[0m                     self._note(\"%s.acquire(%s): blocked waiting, value=%s\",\n\u001b[0;32m    466\u001b[0m                             self, blocking, self.__value)\n\u001b[1;32m--> 467\u001b[1;33m                 \u001b[0mself\u001b[0m\u001b[1;33m.\u001b[0m\u001b[0m__cond\u001b[0m\u001b[1;33m.\u001b[0m\u001b[0mwait\u001b[0m\u001b[1;33m(\u001b[0m\u001b[1;33m)\u001b[0m\u001b[1;33m\u001b[0m\u001b[0m\n\u001b[0m\u001b[0;32m    468\u001b[0m             \u001b[1;32melse\u001b[0m\u001b[1;33m:\u001b[0m\u001b[1;33m\u001b[0m\u001b[0m\n\u001b[0;32m    469\u001b[0m                 \u001b[0mself\u001b[0m\u001b[1;33m.\u001b[0m\u001b[0m__value\u001b[0m \u001b[1;33m=\u001b[0m \u001b[0mself\u001b[0m\u001b[1;33m.\u001b[0m\u001b[0m__value\u001b[0m \u001b[1;33m-\u001b[0m \u001b[1;36m1\u001b[0m\u001b[1;33m\u001b[0m\u001b[0m\n",
      "\u001b[1;32m/usr/lib/python2.7/threading.pyc\u001b[0m in \u001b[0;36mwait\u001b[1;34m(self, timeout)\u001b[0m\n\u001b[0;32m    337\u001b[0m         \u001b[1;32mtry\u001b[0m\u001b[1;33m:\u001b[0m    \u001b[1;31m# restore state no matter what (e.g., KeyboardInterrupt)\u001b[0m\u001b[1;33m\u001b[0m\u001b[0m\n\u001b[0;32m    338\u001b[0m             \u001b[1;32mif\u001b[0m \u001b[0mtimeout\u001b[0m \u001b[1;32mis\u001b[0m \u001b[0mNone\u001b[0m\u001b[1;33m:\u001b[0m\u001b[1;33m\u001b[0m\u001b[0m\n\u001b[1;32m--> 339\u001b[1;33m                 \u001b[0mwaiter\u001b[0m\u001b[1;33m.\u001b[0m\u001b[0macquire\u001b[0m\u001b[1;33m(\u001b[0m\u001b[1;33m)\u001b[0m\u001b[1;33m\u001b[0m\u001b[0m\n\u001b[0m\u001b[0;32m    340\u001b[0m                 \u001b[1;32mif\u001b[0m \u001b[0m__debug__\u001b[0m\u001b[1;33m:\u001b[0m\u001b[1;33m\u001b[0m\u001b[0m\n\u001b[0;32m    341\u001b[0m                     \u001b[0mself\u001b[0m\u001b[1;33m.\u001b[0m\u001b[0m_note\u001b[0m\u001b[1;33m(\u001b[0m\u001b[1;34m\"%s.wait(): got it\"\u001b[0m\u001b[1;33m,\u001b[0m \u001b[0mself\u001b[0m\u001b[1;33m)\u001b[0m\u001b[1;33m\u001b[0m\u001b[0m\n",
      "\u001b[1;31mKeyboardInterrupt\u001b[0m: "
     ]
    }
   ],
   "source": [
    "user_hours = dict()\n",
    "for user in user_dict.iterkeys():\n",
    "    hours = calculate_edit_hours(user)\n",
    "    print user, hours \n",
    "    user_hours[user] = hours"
   ]
  },
  {
   "cell_type": "code",
   "execution_count": 4,
   "id": "distant-disposition",
   "metadata": {
    "collapsed": false,
    "jupyter": {
     "outputs_hidden": false
    }
   },
   "outputs": [
    {
     "ename": "NameError",
     "evalue": "global name 'calculate_edit_hours' is not defined",
     "output_type": "error",
     "traceback": [
      "\u001b[1;31m---------------------------------------------------------------------------\u001b[0m\n\u001b[1;31mNameError\u001b[0m                                 Traceback (most recent call last)",
      "\u001b[1;32m<ipython-input-4-eda9b2044e4c>\u001b[0m in \u001b[0;36m<module>\u001b[1;34m()\u001b[0m\n\u001b[1;32m----> 1\u001b[1;33m \u001b[0muser_hours\u001b[0m \u001b[1;33m=\u001b[0m \u001b[1;33m{\u001b[0m\u001b[0muser\u001b[0m\u001b[1;33m:\u001b[0m \u001b[0mcalculate_edit_hours\u001b[0m\u001b[1;33m(\u001b[0m\u001b[0muser\u001b[0m\u001b[1;33m)\u001b[0m \u001b[1;32mfor\u001b[0m \u001b[0muser\u001b[0m \u001b[1;32min\u001b[0m \u001b[0muser_dict\u001b[0m\u001b[1;33m}\u001b[0m\u001b[1;33m\u001b[0m\u001b[0m\n\u001b[0m",
      "\u001b[1;32m<ipython-input-4-eda9b2044e4c>\u001b[0m in \u001b[0;36m<dictcomp>\u001b[1;34m((user,))\u001b[0m\n\u001b[1;32m----> 1\u001b[1;33m \u001b[0muser_hours\u001b[0m \u001b[1;33m=\u001b[0m \u001b[1;33m{\u001b[0m\u001b[0muser\u001b[0m\u001b[1;33m:\u001b[0m \u001b[0mcalculate_edit_hours\u001b[0m\u001b[1;33m(\u001b[0m\u001b[0muser\u001b[0m\u001b[1;33m)\u001b[0m \u001b[1;32mfor\u001b[0m \u001b[0muser\u001b[0m \u001b[1;32min\u001b[0m \u001b[0muser_dict\u001b[0m\u001b[1;33m}\u001b[0m\u001b[1;33m\u001b[0m\u001b[0m\n\u001b[0m",
      "\u001b[1;31mNameError\u001b[0m: global name 'calculate_edit_hours' is not defined"
     ]
    }
   ],
   "source": [
    "user_hours = {user: calculate_edit_hours(user) for user in user_dict"
   ]
  },
  {
   "cell_type": "markdown",
   "id": "electronic-danish",
   "metadata": {},
   "source": [
    "\n",
    "acummulative snapshots \n",
    "\n",
    "1. make the contributor matrix, and get dates,\n",
    "2. using dates make accumulative user_stats\n",
    "3. make article stats accumulative\n",
    "    3.3 aggregate"
   ]
  },
  {
   "cell_type": "code",
   "execution_count": null,
   "id": "productive-shopping",
   "metadata": {
    "collapsed": false,
    "jupyter": {
     "outputs_hidden": false
    }
   },
   "outputs": [],
   "source": []
  },
  {
   "cell_type": "markdown",
   "id": "packed-prospect",
   "metadata": {},
   "source": [
    "it'd be quicker to calculate user timestamps if we could ssh tunnel then this is quick on the sever\n",
    "\n",
    "    maximilianklein@tools-login:~$ python\n",
    "    Python 2.7.3 (default, Sep 26 2013, 20:03:06) \n",
    "    [GCC 4.6.3] on linux2\n",
    "    Type \"help\", \"copyright\", \"credits\" or \"license\" for more information.\n",
    "    >>> import MySQLdb\n",
    "    \n",
    "    >>> conn = MySQLdb.connect(host='enwiki.labsdb', db=\"enwiki_p\", port=3306, read_default_file=\"./replica.my.\n",
    "    \n",
    "how to get this working on wmflabs\n",
    "\n",
    "    (maker)local-viafbot@tools-login:~/contagion$ jsub -mem 4g maker/bin/python ~/contagion/wiki_econ_capabil\n",
    "ity/make_category_data.py\n",
    "\n"
   ]
  },
  {
   "cell_type": "code",
   "execution_count": null,
   "id": "invalid-jenny",
   "metadata": {
    "collapsed": false,
    "jupyter": {
     "outputs_hidden": false
    }
   },
   "outputs": [],
   "source": []
  }
 ],
 "metadata": {
  "kernelspec": {
   "display_name": "Python 3",
   "language": "python",
   "name": "python3"
  },
  "language_info": {
   "codemirror_mode": {
    "name": "ipython",
    "version": 3
   },
   "file_extension": ".py",
   "mimetype": "text/x-python",
   "name": "python",
   "nbconvert_exporter": "python",
   "pygments_lexer": "ipython3",
   "version": "3.8.5"
  }
 },
 "nbformat": 4,
 "nbformat_minor": 5
}
