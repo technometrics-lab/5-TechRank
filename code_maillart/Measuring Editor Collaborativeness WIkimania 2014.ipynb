{
 "cells": [
  {
   "cell_type": "markdown",
   "id": "prime-stand",
   "metadata": {
    "slideshow": {
     "slide_type": "slide"
    }
   },
   "source": [
    "#Measuring Editor Collaborativeness With Economic Modelling\n",
    "<img style=\"float: right\" src=\"paper/Figures/Coins_title.jpg\">\n",
    "##Max Klein [@notconfusing](https://twitter.com/notconfusing)\n",
    "##Wikimania 2014"
   ]
  },
  {
   "cell_type": "markdown",
   "id": "about-interference",
   "metadata": {
    "slideshow": {
     "slide_type": "slide"
    }
   },
   "source": [
    "#Audience Poll\n",
    "<a href=\"http://commons.wikimedia.org/wiki/Category:Maypole_dancing#mediaviewer/File:Cintas_Casa_de_Cantabria_de_Eibar.jpg\n",
    "\"><img style=\"float: right\" WIDTH=500 src=\"paper/Figures/1024px-Cintas_Casa_de_Cantabria_de_Eibar.jpg\"></a>\n",
    "+ How many people here are:\n",
    "    + wikipedia researchers?\n",
    "    + familiar with network/graph theory?\n",
    "    + sort of understand pagerank?"
   ]
  },
  {
   "cell_type": "markdown",
   "id": "joint-mailman",
   "metadata": {
    "slideshow": {
     "slide_type": "slide"
    }
   },
   "source": [
    "#New Editors\n",
    "+ Leave when they encounter uncooperative Wikipedians\n",
    "<a href=\"http://i.telegraph.co.uk/multimedia/archive/02419/jobs0_3_2419481b.jpg\n",
    "\"><img style=\"float: right\" src=\"paper/Figures/no.jpg\"></a>"
   ]
  },
  {
   "cell_type": "markdown",
   "id": "radio-alias",
   "metadata": {
    "slideshow": {
     "slide_type": "slide"
    }
   },
   "source": [
    "#Suggestions Need Input\n",
    "<a href=\"http://2.bp.blogspot.com/-hWPFp3rJ010/UErS7mpDHRI/AAAAAAAAQYg/wjrXXWZouIw/s1600/Victoria%252C%2BRoger%2527s%2BChocolate%252C%2B1.jpg\n",
    "\"><img width=500 style=\"float: right\" src=\"paper/Figures/choc.jpg\"></a>\n",
    "+ I wanted to make an input-less suggester\n",
    "    + So new editors can browse it."
   ]
  },
  {
   "cell_type": "markdown",
   "id": "sonic-great",
   "metadata": {
    "slideshow": {
     "slide_type": "slide"
    }
   },
   "source": [
    "#What To Show New Editors?\n",
    "<a href=\"http://mocoloco.com/archives/john_ball_seating_jan_05.jpg\"><img style=\"float: right\" src=\"paper/Figures/func.jpg\"></a>\n",
    "\n",
    "+ Can we fit them into the more functional parts of Wikipedia?"
   ]
  },
  {
   "cell_type": "markdown",
   "id": "spoken-optimization",
   "metadata": {
    "slideshow": {
     "slide_type": "slide"
    }
   },
   "source": [
    "#Collaboration\n",
    "\n",
    "<a href=\"http://www.ecorazzi.com/wp-content/uploads/2013/02/chimpanzees-592x369.jpg\n",
    "\"><img width=500 style=\"float: right\" src=\"paper/Figures/chimps.jpg\"></a>\n",
    "+ What is collaboration on a Wikipedia page?\n",
    "+ How do you measure it?"
   ]
  },
  {
   "cell_type": "markdown",
   "id": "cardiac-power",
   "metadata": {
    "slideshow": {
     "slide_type": "slide"
    }
   },
   "source": [
    "#Collaboration\n",
    "<a href=\"http://www.ecorazzi.com/wp-content/uploads/2013/02/chimpanzees-592x369.jpg\n",
    "\"><img width=500  style=\"float: right\" src=\"paper/Figures/heap.jpg\"></a>\n",
    "\n",
    "+ How more contributing editor exeperience effect article quality?\n",
    "    + More experience not neccessarily better.\n"
   ]
  },
  {
   "cell_type": "markdown",
   "id": "young-mumbai",
   "metadata": {
    "slideshow": {
     "slide_type": "slide"
    }
   },
   "source": [
    "#Collaboration Flipside\n",
    "<a href=\"http://guernseyevacuees.files.wordpress.com/2011/02/suitcases.jpg\n",
    "\"><img style=\"float: right\" width=200 src=\"paper/Figures/cases.jpg\"></a>\n",
    "+ File this away for later\n",
    "    + How does editing more articles effect editor expertise?\n",
    "\n"
   ]
  },
  {
   "cell_type": "markdown",
   "id": "descending-arrow",
   "metadata": {
    "slideshow": {
     "slide_type": "slide"
    }
   },
   "source": [
    "#Economic modelling?\n",
    "<a href=\"http://i1.ytimg.com/vi/9KJSnd8VzQw/hqdefault.jpg\n",
    "\"><img style=\"float: right\" src=\"paper/Figures/homer.jpg\"></a>\n",
    "\n",
    "+ These two economics papers got me thinking:\n",
    "1. [The building blocks of economic complexity. Hidalgo & Hausman](http://www.pnas.org/content/106/26/10570.full)\n",
    "2. [ A Network Analysis of Countries’ Export Flows: Firm Grounds for the Building Blocks of the Economy](http://www.plosone.org/article/info%3Adoi%2F10.1371%2Fjournal.pone.0047278)"
   ]
  },
  {
   "cell_type": "markdown",
   "id": "moderate-indicator",
   "metadata": {
    "slideshow": {
     "slide_type": "slide"
    }
   },
   "source": [
    "#Principle\n",
    "<a href=\"http://commons.wikimedia.org/wiki/File:TRIKOMITI_Chrystalleni_at_2010_Commonwealth_Games.jpg\"><img width=500 style=\"float: right\" src=\"paper/Figures/com.jpg\"></a>\n",
    "\n",
    "+ They both use an __network science__ algorithm on a _bi-partite_ graph, to __rank countries__ economic perfomance."
   ]
  },
  {
   "cell_type": "markdown",
   "id": "japanese-vitamin",
   "metadata": {
    "slideshow": {
     "slide_type": "slide"
    }
   },
   "source": [
    "#Key Insight\n",
    "<a href=\"http://1.bp.blogspot.com/-K8LQ2EFluWI/Tt_s5sNd78I/AAAAAAAADyg/cVeJQjWKG10/s1600/all-the-things.jpg\n",
    "\"><img style=\"float: right\" src=\"paper/Figures/things.jpg\"></a>\n",
    "+ Lower GDPs\n",
    "    + Just Agriculture\n",
    "    + __Ubiquitous products only__\n",
    "+ Switzerland\n",
    "    + Agriculture & Watches\n",
    "    + __Ubiquitous and Rare products__"
   ]
  },
  {
   "cell_type": "markdown",
   "id": "graphic-batch",
   "metadata": {
    "slideshow": {
     "slide_type": "slide"
    }
   },
   "source": [
    "#So what?\n",
    "<a href=\"http://commons.wikimedia.org/wiki/File:Banana_Republic_Store.jpg\"><img width=500 style=\"float: right\" src=\"paper/Figures/banan.jpg\"></a>\n",
    "\n",
    "+ Infer the GDP rankings of the world economy just by knowing\n",
    "    + Which countries \n",
    "    + export which products\n",
    "        + not even the quantities of the exports"
   ]
  },
  {
   "cell_type": "markdown",
   "id": "waiting-treatment",
   "metadata": {
    "slideshow": {
     "slide_type": "slide"
    }
   },
   "source": [
    "#It's notconfusing\n",
    "<a href=\"http://commons.wikimedia.org/wiki/File:Tofu-beijingchina.jpg\n",
    "\"><img width=500 style=\"float: right\" src=\"paper/Figures/tofu.jpg\"></a>\n",
    "\n",
    "+ \"Unlike laws and sausages, those who like Wikis and Tofu should inquire into how they are being made.\"\n"
   ]
  },
  {
   "cell_type": "markdown",
   "id": "duplicate-aluminum",
   "metadata": {
    "slideshow": {
     "slide_type": "slide"
    }
   },
   "source": [
    "#Bipartite Network \n",
    "<a href=\"https://commons.wikimedia.org/wiki/Category:Bipartite_graphs#mediaviewer/File:Exact-cover-bigraph.svg\"><img style=\"float: right\" src=\"paper/Figures/Exact-cover-bigraph.svg.png\"></a>\n",
    "+ A bi-partite network is where there are two distinct types of nodes in a graph.\n",
    "+ In this case, countries and products.\n",
    "\n"
   ]
  },
  {
   "cell_type": "markdown",
   "id": "fitted-version",
   "metadata": {
    "slideshow": {
     "slide_type": "slide"
    }
   },
   "source": [
    "#Basically, it's the Page Rank Algroithm\n",
    "<a href=\"http://commons.wikimedia.org/wiki/File:PageRank-hi-res.png\"><img width=500 style=\"float: right\" src=\"paper/Figures/pr.png\"></a>\n",
    "\n",
    "+ __Except__ we have __two node-types__\n",
    "+ And an __extra variable__ for improtance of highly connected nodes\n",
    "    + I'll explain more later"
   ]
  },
  {
   "cell_type": "markdown",
   "id": "acknowledged-morrison",
   "metadata": {
    "slideshow": {
     "slide_type": "slide"
    }
   },
   "source": [
    "#Lay terms\n",
    "<a href=\"http://commons.wikimedia.org/wiki/File:Empty_soccer_line-up.svg\"><img style=\"float: right\" src=\"paper/Figures/line.png\"></a>\n",
    "\n",
    "+ If you know __who__ exports __what__\n",
    "    + Then you can rank Countries (In economics)"
   ]
  },
  {
   "cell_type": "markdown",
   "id": "starting-angola",
   "metadata": {
    "slideshow": {
     "slide_type": "slide"
    }
   },
   "source": [
    "#Translations\n",
    "\n",
    "+ Instead of \n",
    "    + __countries__ exporting __products__\n",
    "+ What about\n",
    "    + __editors__ writing __articles__"
   ]
  },
  {
   "cell_type": "markdown",
   "id": "neural-rider",
   "metadata": {
    "slideshow": {
     "slide_type": "slide"
    }
   },
   "source": [
    "#Translations\n",
    "\n",
    "+ Instead of \n",
    "    + __rich countries__"
   ]
  },
  {
   "cell_type": "markdown",
   "id": "current-interest",
   "metadata": {
    "slideshow": {
     "slide_type": "slide"
    }
   },
   "source": [
    "#Translations\n",
    "\n",
    "+ Instead of \n",
    "    + __rich countries__\n",
    "+ What about\n",
    "    + __super users__"
   ]
  },
  {
   "cell_type": "markdown",
   "id": "macro-stage",
   "metadata": {
    "slideshow": {
     "slide_type": "slide"
    }
   },
   "source": [
    "#Translations\n",
    "\n",
    "+ Instead of \n",
    "    + __ubiqitous products__"
   ]
  },
  {
   "cell_type": "markdown",
   "id": "wrapped-spare",
   "metadata": {
    "slideshow": {
     "slide_type": "slide"
    }
   },
   "source": [
    "#Translations\n",
    "\n",
    "+ Instead of \n",
    "    + __ubiqitous products__\n",
    "+ What about\n",
    "    + __highly edited articles__"
   ]
  },
  {
   "cell_type": "markdown",
   "id": "hidden-scott",
   "metadata": {
    "slideshow": {
     "slide_type": "slide"
    }
   },
   "source": [
    "#Translations\n",
    "\n",
    "+ Instead of \n",
    "    + __global economy__\n",
    "+ What about\n",
    "    + __a wikipedia category__"
   ]
  },
  {
   "cell_type": "markdown",
   "id": "hairy-persian",
   "metadata": {
    "slideshow": {
     "slide_type": "slide"
    }
   },
   "source": [
    "#Editor Article Matrix\n",
    "+ It's Triangular \n",
    "    + the power users are editing most of the articles in the category. \n",
    "![Feminst Writers](paper/Figures/Category_Feminist_writerstriangle_matrix_corrected.png)\n",
    "\n"
   ]
  },
  {
   "cell_type": "markdown",
   "id": "daily-status",
   "metadata": {
    "slideshow": {
     "slide_type": "slide"
    }
   },
   "source": [
    "#Iterative Algorithm\n",
    "<a href=\"http://commons.wikimedia.org/wiki/File:Pound-coin-floating-in-mercury.jpg\"><img width=500 style=\"float: right\" src=\"paper/Figures/pc.jpg\"></a>\n",
    "+ A nonmathematical explanation:\n",
    "    + Imagine everyone in the room starts with £1\n",
    "    + Distribute your money evenly to all your friends\n",
    "    + Round 2, some people may have more or less than £1\n",
    "        + but again distribute all your money evenly to all your friends.\n",
    "    + Repeat over and over again.\n",
    "    + Eventually converges.\n",
    "\n",
    "http://www.scottaaronson.com/blog/?p=1820\n",
    "\n"
   ]
  },
  {
   "cell_type": "markdown",
   "id": "banner-inclusion",
   "metadata": {
    "slideshow": {
     "slide_type": "slide"
    }
   },
   "source": [
    "#Iterative Algorithm - One More Variable\n",
    "<a href=\"http://commons.wikimedia.org/wiki/File:Chenshuibiandetain.jpg\n",
    "\"><img style=\"float: right\" WIDTH=400 src=\"paper/Figures/corrupt.jpg\"></a>\n",
    "\n",
    "+ Same scenario as above except:\n",
    "    + You don't distribute your money evenly\n",
    "    + You can give your popular friends __disproportionately larger percentage__:\n",
    "        + __or__ disproportionately __less__."
   ]
  },
  {
   "cell_type": "markdown",
   "id": "noble-avenue",
   "metadata": {
    "slideshow": {
     "slide_type": "slide"
    }
   },
   "source": [
    "#Iterative Algorithm - Notation\n",
    "<a href=\"http://commons.wikimedia.org/wiki/File:Knobs-for-climate-control.jpg\n",
    "\"><img style=\"float: right\" WIDTH=500 src=\"paper/Figures/knob.jpg\"></a>\n",
    "\n",
    "+ In this experiement those are controlled by \n",
    "    + __$\\alpha$__ (article popularity exponent) and \n",
    "    + __$\\beta$__ (editor portfolio size exponent)  levels."
   ]
  },
  {
   "cell_type": "markdown",
   "id": "wooden-philosophy",
   "metadata": {
    "slideshow": {
     "slide_type": "slide"
    }
   },
   "source": [
    "#Editors rise and fall over time\n",
    "![convergence](paper/Figures/fem_editors_iter_converge.png)"
   ]
  },
  {
   "cell_type": "markdown",
   "id": "undefined-swimming",
   "metadata": {
    "slideshow": {
     "slide_type": "slide"
    }
   },
   "source": [
    "#End Result of Algorithm\n",
    "<a href=\"http://commons.wikimedia.org/wiki/File:Inco_Ladder.jpg\n",
    "\"><img style=\"float: right\" WIDTH=300 src=\"paper/Figures/lad.jpg\"></a>\n",
    "+ A ranking for Editors\n",
    "+ A ranking for Articles"
   ]
  },
  {
   "cell_type": "markdown",
   "id": "dominant-optimization",
   "metadata": {
    "slideshow": {
     "slide_type": "slide"
    }
   },
   "source": [
    "#Exogenous Rankings\n",
    "<a href=\"http://commons.wikimedia.org/wiki/File:Colliding_Galaxies_Illustration.jpg\n",
    "\"><img style=\"float: right\" WIDTH=500 src=\"paper/Figures/gal.jpg\"></a>\n",
    "+ Getting unrelated metrics for:\n",
    "    + Editors\n",
    "    + Articles"
   ]
  },
  {
   "cell_type": "markdown",
   "id": "dutch-found",
   "metadata": {
    "slideshow": {
     "slide_type": "slide"
    }
   },
   "source": [
    "#Exogenous Editor Rankings\n",
    "+ Edit count bad\n",
    "+ Use @halfak and @staeiou [__\"Labour Hours\"__](http://www-users.cs.umn.edu/~halfak/publications/Using_Edit_Sessions_to_Measure_Participation_in_Wikipedia/geiger13using-preprint.pdf)\n",
    "    + Labour Hours: Sum of Edit Sessions\n",
    "    + Edit Session: The __start__ and  __end__ times of  __all__ the  __edits__ that occur __within 1 hour__ of another edit.  "
   ]
  },
  {
   "cell_type": "markdown",
   "id": "hungry-retailer",
   "metadata": {
    "slideshow": {
     "slide_type": "slide"
    }
   },
   "source": [
    "#Exogenous Article Rankings\n",
    "<a href=\"http://commons.wikimedia.org/wiki/File:Cocktail_03.jpg\n",
    "\"><img style=\"float: right\" WIDTH=450 src=\"paper/Figures/cock.jpg\"></a>\n",
    "+ Mix of:\n",
    "    1. ratio of mark-up to readable text\n",
    "    1. number of headings\n",
    "    1. article length \n",
    "    1. citations per article length \n",
    "    1. outgoing intrawiki links."
   ]
  },
  {
   "cell_type": "markdown",
   "id": "hawaiian-fight",
   "metadata": {
    "slideshow": {
     "slide_type": "slide"
    }
   },
   "source": [
    "#Calibration\n",
    "<a href=\"http://commons.wikimedia.org/wiki/Category:Calibration#mediaviewer/File:Calibration-test-black.png\n",
    "\"><img style=\"float: right\" WIDTH=450 src=\"paper/Figures/cal.png\"></a>\n",
    "\n",
    "+ Find the values of __$\\alpha$__ and  __$\\beta$__ which __maximize__:\n",
    "    + The rank __correlation between model and exogenous__ rankings"
   ]
  },
  {
   "cell_type": "markdown",
   "id": "italic-sydney",
   "metadata": {
    "slideshow": {
     "slide_type": "slide"
    }
   },
   "source": [
    "#Calibration on Feminist Writers\n",
    "\n",
    "![](paper/Figures/contour_fem_combined.png)"
   ]
  },
  {
   "cell_type": "markdown",
   "id": "olympic-startup",
   "metadata": {
    "slideshow": {
     "slide_type": "slide"
    }
   },
   "source": [
    "#High Correlations\n",
    "<a href=\"http://i0.kym-cdn.com/photos/images/newsfeed/000/040/305/CATCH_THAT_MAN_.gif?1318992465\n",
    "\"><img style=\"float: right\" WIDTH=450 src=\"paper/Figures/catch.gif\"></a>\n",
    "\n",
    "+ We find correlations around \n",
    "    + .6 to .9\n",
    "+ Even __better than the Economics GDP papers __around\n",
    "    + .4"
   ]
  },
  {
   "cell_type": "markdown",
   "id": "capital-production",
   "metadata": {
    "slideshow": {
     "slide_type": "slide"
    }
   },
   "source": [
    "#Snapshotting\n",
    "+ Took 13 Snapshots of each Category\n",
    "\n",
    "![](paper/Figures/cumulative_snapshots_Feminist_Writers_thirteen.png)"
   ]
  },
  {
   "cell_type": "markdown",
   "id": "general-suspension",
   "metadata": {
    "slideshow": {
     "slide_type": "slide"
    }
   },
   "source": [
    "#Rank Accuracy\n",
    "+ This really works...\n",
    "+ Increases over time\n",
    "![](paper/Figures/rho_combined.png)"
   ]
  },
  {
   "cell_type": "markdown",
   "id": "intimate-medicaid",
   "metadata": {
    "slideshow": {
     "slide_type": "slide"
    }
   },
   "source": [
    "#Most collaborative\n",
    "+ Question: in which category do power editors improve article quality?\n",
    "    1. American male novelists\n",
    "    1. 2013 films\n",
    "    1. American women novelists\n",
    "    1. Nobel Peace Prize laureates\n",
    "    1. Sexual acts\n",
    "    1. Economic theories\n",
    "    1. Feminist writers\n",
    "    1. Yoga\n",
    "    1. Military history of the US\n",
    "    1. Counterculture festivals\n",
    "    1. Computability theory\n",
    "    1. Bicycle parts"
   ]
  },
  {
   "cell_type": "markdown",
   "id": "organizational-reduction",
   "metadata": {
    "slideshow": {
     "slide_type": "slide"
    }
   },
   "source": [
    "#Most collaborative\n",
    "+ Question: in which category do power editors improve article quality?\n",
    "    1. __Military history of the US__"
   ]
  },
  {
   "cell_type": "markdown",
   "id": "cheap-resident",
   "metadata": {
    "slideshow": {
     "slide_type": "slide"
    }
   },
   "source": [
    "#Least collaborative\n",
    "+ Question: in which category do power editors hurt article quality?\n",
    "    1. American male novelists\n",
    "    1. 2013 films\n",
    "    1. American women novelists\n",
    "    1. Nobel Peace Prize laureates\n",
    "    1. Sexual acts\n",
    "    1. Economic theories\n",
    "    1. Feminist writers\n",
    "    1. Yoga\n",
    "    1. Military history of the US\n",
    "    1. Counterculture festivals\n",
    "    1. Computability theory\n",
    "    1. Bicycle parts"
   ]
  },
  {
   "cell_type": "markdown",
   "id": "advisory-fight",
   "metadata": {
    "slideshow": {
     "slide_type": "slide"
    }
   },
   "source": [
    "#Least collaborative\n",
    "+ Question: in which category do power editors hurt article quality?\n",
    "    1. __Sexual acts__"
   ]
  },
  {
   "cell_type": "markdown",
   "id": "literary-eight",
   "metadata": {
    "slideshow": {
     "slide_type": "slide"
    }
   },
   "source": [
    "#Full Category Rankings\n",
    "![](paper/Figures/beta_ranks.png)"
   ]
  },
  {
   "cell_type": "markdown",
   "id": "ordinary-lounge",
   "metadata": {
    "slideshow": {
     "slide_type": "slide"
    }
   },
   "source": [
    "#Edit Count or Touches\n",
    "![](paper/Figures/bin_comp.png)\n"
   ]
  },
  {
   "cell_type": "markdown",
   "id": "plastic-daniel",
   "metadata": {
    "slideshow": {
     "slide_type": "slide"
    }
   },
   "source": [
    "#Forest Not Trees\n",
    "<a href=\"http://commons.wikimedia.org/wiki/File:Crying_boy_water_gun.jpg\n",
    "\"><img style=\"float: right\" WIDTH=450 src=\"paper/Figures/cry.jpg\"></a>\n",
    "\n",
    "+ If you accept this $\\beta$ measure as a collaborativeness measure how can we use it?"
   ]
  },
  {
   "cell_type": "markdown",
   "id": "apart-greece",
   "metadata": {
    "slideshow": {
     "slide_type": "slide"
    }
   },
   "source": [
    "#Detect dysfunction\n",
    "<a href=\"http://i1.kym-cdn.com/photos/images/newsfeed/000/333/259/364.gif\n",
    "\"><img style=\"float: right\" WIDTH=450 src=\"paper/Figures/if.gif\"></a>\n",
    "\n",
    "\n",
    "+ For learning\n",
    "    + Arguing is not neccessarily bad.\n",
    "+ For intervention?"
   ]
  },
  {
   "cell_type": "markdown",
   "id": "naked-greensboro",
   "metadata": {
    "slideshow": {
     "slide_type": "slide"
    }
   },
   "source": [
    "#Detect Where The Wiki is Working\n",
    "<a href=\"http://commons.wikimedia.org/wiki/File:Trebuchet.jpg\n",
    "\"><img style=\"float: right\" WIDTH=450 src=\"paper/Figures/treb.jpg\"></a>\n",
    "\n",
    "+ At least where your time invested relates to article quality\n",
    "    + Even superlinearly so\n"
   ]
  },
  {
   "cell_type": "markdown",
   "id": "interracial-washer",
   "metadata": {
    "slideshow": {
     "slide_type": "slide"
    }
   },
   "source": [
    "#A Potential Use\n",
    "<a href=\"http://commons.wikimedia.org/wiki/File:Burning_Man_2013_Lots_o%27_lights!_%289660408816%29.jpg\n",
    "\"><img style=\"float: right\" WIDTH=450 src=\"paper/Figures/burn.jpg\"></a>\n",
    "\n",
    "+ Make a carousel of friendly places for new users"
   ]
  },
  {
   "cell_type": "markdown",
   "id": "light-cross",
   "metadata": {
    "slideshow": {
     "slide_type": "slide"
    }
   },
   "source": [
    "#Measuring Editor Collaborativeness With Economic Modelling\n",
    "<a href=\"https://commons.wikimedia.org/wiki/Category:Bipartite_graphs#mediaviewer/File:Exact-cover-bigraph.svg\"><img style=\"float: right\" src=\"paper/Figures/Coins_title.jpg\"></a>\n",
    "##Max Klein [@notconfusing](https://twitter.com/notconfusing)\n",
    "##Wikimania 2014"
   ]
  }
 ],
 "metadata": {
  "kernelspec": {
   "display_name": "Python 3",
   "language": "python",
   "name": "python3"
  },
  "language_info": {
   "codemirror_mode": {
    "name": "ipython",
    "version": 3
   },
   "file_extension": ".py",
   "mimetype": "text/x-python",
   "name": "python",
   "nbconvert_exporter": "python",
   "pygments_lexer": "ipython3",
   "version": "3.8.5"
  }
 },
 "nbformat": 4,
 "nbformat_minor": 5
}
