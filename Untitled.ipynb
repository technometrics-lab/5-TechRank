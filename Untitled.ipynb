{
 "cells": [
  {
   "cell_type": "code",
   "execution_count": 349,
   "id": "multiple-problem",
   "metadata": {},
   "outputs": [],
   "source": [
    "import pandas as pd\n",
    "import pickle\n",
    "import numpy as np"
   ]
  },
  {
   "cell_type": "markdown",
   "id": "greek-moral",
   "metadata": {},
   "source": [
    "## Focus on the position for 500 companies"
   ]
  },
  {
   "cell_type": "code",
   "execution_count": 359,
   "id": "sharp-arbitration",
   "metadata": {},
   "outputs": [],
   "source": [
    "num_comp = 499"
   ]
  },
  {
   "cell_type": "code",
   "execution_count": 360,
   "id": "developmental-wrestling",
   "metadata": {},
   "outputs": [],
   "source": [
    "name_file_com = f\"savings/classes/dict_companies_cybersecurity_{num_comp}.pickle\"\n",
    "with open(name_file_com, 'rb') as f:\n",
    "    dict_companies = pickle.load(f)"
   ]
  },
  {
   "cell_type": "code",
   "execution_count": 363,
   "id": "composed-hundred",
   "metadata": {},
   "outputs": [],
   "source": [
    "df = pd.read_csv(f\"savings/csv_results/cybersecurity_only_location/complete_companies_{num_comp}_San_Francisco.csv\")"
   ]
  },
  {
   "cell_type": "code",
   "execution_count": 364,
   "id": "nutritional-probe",
   "metadata": {},
   "outputs": [],
   "source": [
    "df.final_configuration = df.final_configuration.values[::-1]"
   ]
  },
  {
   "cell_type": "code",
   "execution_count": 365,
   "id": "inappropriate-mayor",
   "metadata": {},
   "outputs": [],
   "source": [
    "position = df[\"final_configuration\"]\n",
    "companies = list(position.values)"
   ]
  },
  {
   "cell_type": "code",
   "execution_count": 366,
   "id": "early-olympus",
   "metadata": {},
   "outputs": [],
   "source": [
    "places = [[dict_companies[name].location[\"region\"],dict_companies[name].location[\"country_code\"]] for name in companies for name in companies if isinstance(dict_companies[name].location[\"country_code\"], float)==False]# if dict_companies[name].location[\"country_code\"]=='USA']"
   ]
  },
  {
   "cell_type": "code",
   "execution_count": 374,
   "id": "progressive-truck",
   "metadata": {},
   "outputs": [],
   "source": [
    "places[2] = ['California', 'USA']"
   ]
  },
  {
   "cell_type": "code",
   "execution_count": 375,
   "id": "steady-chamber",
   "metadata": {},
   "outputs": [
    {
     "name": "stdout",
     "output_type": "stream",
     "text": [
      "[['California', 'USA'], ['Illinois', 'USA'], ['California', 'USA'], ['Beijing', 'CHN'], ['Arizona', 'USA'], ['Pais Vasco', 'ESP'], ['Berlin', 'DEU'], ['Nordrhein-Westfalen', 'DEU'], ['Kent', 'GBR'], ['Arizona', 'USA'], ['California', 'USA'], ['Ontario', 'CAN'], ['Nordrhein-Westfalen', 'DEU'], ['Nebraska', 'USA'], ['Wisconsin', 'USA'], ['Massachusetts', 'USA'], ['Central Region', 'SGP'], ['California', 'USA'], ['Alberta', 'CAN'], ['California', 'USA']]\n"
     ]
    }
   ],
   "source": [
    "print(places[:20])"
   ]
  },
  {
   "cell_type": "code",
   "execution_count": 319,
   "id": "appointed-calendar",
   "metadata": {},
   "outputs": [],
   "source": [
    "df = pd.read_csv(f\"savings/csv_results/cybersecurity_only_location/complete_companies_{num_comp}_New_York.csv\")"
   ]
  },
  {
   "cell_type": "code",
   "execution_count": 320,
   "id": "arranged-rental",
   "metadata": {},
   "outputs": [],
   "source": [
    "df.head()\n",
    "df.final_configuration = df.final_configuration.values[::-1]"
   ]
  },
  {
   "cell_type": "code",
   "execution_count": 321,
   "id": "integrated-restoration",
   "metadata": {},
   "outputs": [],
   "source": [
    "position = df[\"final_configuration\"]\n",
    "companies = list(position.values)"
   ]
  },
  {
   "cell_type": "code",
   "execution_count": 335,
   "id": "gorgeous-greene",
   "metadata": {},
   "outputs": [],
   "source": [
    "places_ny = [[dict_companies[name].location[\"region\"],dict_companies[name].location[\"country_code\"]] for name in companies if isinstance(dict_companies[name].location[\"country_code\"], float)==False]# if dict_companies[name].location[\"country_code\"]=='USA']"
   ]
  },
  {
   "cell_type": "code",
   "execution_count": 343,
   "id": "cultural-report",
   "metadata": {},
   "outputs": [
    {
     "name": "stdout",
     "output_type": "stream",
     "text": [
      "[['New York', 'USA'], ['Massachusetts', 'USA'], ['Quebec', 'CAN'], ['California', 'USA'], ['Central Region', 'Singapore'], ['California', 'USA'], ['Nordrhein-Westfalen', 'DEU'], ['Wisconsin', 'USA'], ['Nebraska', 'USA'], ['Arizona', 'USA'], ['Ontario', 'CAN'], ['California', 'USA']]\n"
     ]
    }
   ],
   "source": [
    "print(places_ny[:12])"
   ]
  },
  {
   "cell_type": "code",
   "execution_count": null,
   "id": "induced-sharing",
   "metadata": {},
   "outputs": [],
   "source": []
  }
 ],
 "metadata": {
  "kernelspec": {
   "display_name": "Python 3.8.5 64-bit ('arma': conda)",
   "language": "python",
   "name": "python385jvsc74a57bd0b26dfc579e8edf5b1e25967756ce48bf166110ec5e523d5787a4edb107f755fd"
  },
  "language_info": {
   "codemirror_mode": {
    "name": "ipython",
    "version": 3
   },
   "file_extension": ".py",
   "mimetype": "text/x-python",
   "name": "python",
   "nbconvert_exporter": "python",
   "pygments_lexer": "ipython3",
   "version": "3.8.5"
  }
 },
 "nbformat": 4,
 "nbformat_minor": 5
}
