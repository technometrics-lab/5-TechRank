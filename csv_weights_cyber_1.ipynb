{
 "cells": [
  {
   "cell_type": "code",
   "execution_count": 2,
   "id": "beautiful-incentive",
   "metadata": {},
   "outputs": [
    {
     "data": {
      "text/plain": [
       "True"
      ]
     },
     "execution_count": 2,
     "metadata": {},
     "output_type": "execute_result"
    }
   ],
   "source": [
    "import math\n",
    "import arrow\n",
    "\n",
    "import ipynb \n",
    "import os.path\n",
    "import json\n",
    "import pandas as pd\n",
    "import networkx as nx\n",
    "import matplotlib.pyplot as plt\n",
    "import seaborn as sns\n",
    "import numpy as np\n",
    "\n",
    "from dotenv import load_dotenv\n",
    "from networkx.algorithms import bipartite\n",
    "from importlib import reload\n",
    "\n",
    "from typing import List\n",
    "\n",
    "load_dotenv(verbose=True)"
   ]
  },
  {
   "cell_type": "code",
   "execution_count": 3,
   "id": "surprising-spine",
   "metadata": {},
   "outputs": [],
   "source": [
    "# import functions from py file \n",
    "\n",
    "import function\n",
    "reload(function)\n",
    "from function import CB_data_cleaning, df_from_api_CB, extract_nodes, extract_data_from_column\n",
    "from function import nx_dip_graph_from_pandas, plot_bipartite_graph, filter_dict\n",
    "from function import extract_classes_company_tech, degree_bip, insert_data_classes"
   ]
  },
  {
   "cell_type": "code",
   "execution_count": 4,
   "id": "romantic-sound",
   "metadata": {},
   "outputs": [],
   "source": [
    "# import classes \n",
    "\n",
    "import classes\n",
    "reload(classes)\n",
    "from classes import Company, Investor, Technology"
   ]
  },
  {
   "cell_type": "markdown",
   "id": "ethical-ozone",
   "metadata": {},
   "source": [
    "### Download data from CSV"
   ]
  },
  {
   "cell_type": "code",
   "execution_count": 5,
   "id": "thousand-thread",
   "metadata": {},
   "outputs": [],
   "source": [
    "df_start = pd.read_csv(\"data/data_cb/organizations.csv\")"
   ]
  },
  {
   "cell_type": "code",
   "execution_count": 6,
   "id": "integrated-review",
   "metadata": {},
   "outputs": [
    {
     "data": {
      "text/html": [
       "<div>\n",
       "<style scoped>\n",
       "    .dataframe tbody tr th:only-of-type {\n",
       "        vertical-align: middle;\n",
       "    }\n",
       "\n",
       "    .dataframe tbody tr th {\n",
       "        vertical-align: top;\n",
       "    }\n",
       "\n",
       "    .dataframe thead th {\n",
       "        text-align: right;\n",
       "    }\n",
       "</style>\n",
       "<table border=\"1\" class=\"dataframe\">\n",
       "  <thead>\n",
       "    <tr style=\"text-align: right;\">\n",
       "      <th></th>\n",
       "      <th>uuid</th>\n",
       "      <th>name</th>\n",
       "      <th>type</th>\n",
       "      <th>permalink</th>\n",
       "      <th>cb_url</th>\n",
       "      <th>rank</th>\n",
       "      <th>created_at</th>\n",
       "      <th>updated_at</th>\n",
       "      <th>legal_name</th>\n",
       "      <th>roles</th>\n",
       "      <th>...</th>\n",
       "      <th>phone</th>\n",
       "      <th>facebook_url</th>\n",
       "      <th>linkedin_url</th>\n",
       "      <th>twitter_url</th>\n",
       "      <th>logo_url</th>\n",
       "      <th>alias1</th>\n",
       "      <th>alias2</th>\n",
       "      <th>alias3</th>\n",
       "      <th>primary_role</th>\n",
       "      <th>num_exits</th>\n",
       "    </tr>\n",
       "  </thead>\n",
       "  <tbody>\n",
       "    <tr>\n",
       "      <th>0</th>\n",
       "      <td>e1393508-30ea-8a36-3f96-dd3226033abd</td>\n",
       "      <td>Wetpaint</td>\n",
       "      <td>organization</td>\n",
       "      <td>wetpaint</td>\n",
       "      <td>https://www.crunchbase.com/organization/wetpaint</td>\n",
       "      <td>158955.0</td>\n",
       "      <td>2007-05-25 13:51:27</td>\n",
       "      <td>2019-06-24 22:19:25</td>\n",
       "      <td>NaN</td>\n",
       "      <td>company</td>\n",
       "      <td>...</td>\n",
       "      <td>206-859-6300</td>\n",
       "      <td>https://www.facebook.com/Wetpaint</td>\n",
       "      <td>https://www.linkedin.com/company/wetpaint</td>\n",
       "      <td>https://twitter.com/wetpainttv</td>\n",
       "      <td>https://res.cloudinary.com/crunchbase-producti...</td>\n",
       "      <td>NaN</td>\n",
       "      <td>NaN</td>\n",
       "      <td>NaN</td>\n",
       "      <td>company</td>\n",
       "      <td>NaN</td>\n",
       "    </tr>\n",
       "    <tr>\n",
       "      <th>1</th>\n",
       "      <td>bf4d7b0e-b34d-2fd8-d292-6049c4f7efc7</td>\n",
       "      <td>Zoho</td>\n",
       "      <td>organization</td>\n",
       "      <td>zoho</td>\n",
       "      <td>https://www.crunchbase.com/organization/zoho</td>\n",
       "      <td>6686.0</td>\n",
       "      <td>2007-05-26 02:30:28</td>\n",
       "      <td>2018-10-27 00:29:49</td>\n",
       "      <td>NaN</td>\n",
       "      <td>investor,company</td>\n",
       "      <td>...</td>\n",
       "      <td>NaN</td>\n",
       "      <td>http://www.facebook.com/zoho</td>\n",
       "      <td>http://www.linkedin.com/company/zoho-corporati...</td>\n",
       "      <td>http://twitter.com/zoho</td>\n",
       "      <td>https://res.cloudinary.com/crunchbase-producti...</td>\n",
       "      <td>NaN</td>\n",
       "      <td>NaN</td>\n",
       "      <td>NaN</td>\n",
       "      <td>company</td>\n",
       "      <td>1.0</td>\n",
       "    </tr>\n",
       "    <tr>\n",
       "      <th>2</th>\n",
       "      <td>5f2b40b8-d1b3-d323-d81a-b7a8e89553d0</td>\n",
       "      <td>Digg</td>\n",
       "      <td>organization</td>\n",
       "      <td>digg</td>\n",
       "      <td>https://www.crunchbase.com/organization/digg</td>\n",
       "      <td>7793.0</td>\n",
       "      <td>2007-05-26 03:03:23</td>\n",
       "      <td>2018-12-10 10:09:14</td>\n",
       "      <td>Digg Holdings, LLC</td>\n",
       "      <td>company</td>\n",
       "      <td>...</td>\n",
       "      <td>877-342-7222</td>\n",
       "      <td>http://www.facebook.com/digg</td>\n",
       "      <td>http://www.linkedin.com/company/digg</td>\n",
       "      <td>http://twitter.com/digg</td>\n",
       "      <td>https://res.cloudinary.com/crunchbase-producti...</td>\n",
       "      <td>NaN</td>\n",
       "      <td>NaN</td>\n",
       "      <td>NaN</td>\n",
       "      <td>company</td>\n",
       "      <td>NaN</td>\n",
       "    </tr>\n",
       "    <tr>\n",
       "      <th>3</th>\n",
       "      <td>f4d5ab44-058b-298b-ea81-380e6e9a8eec</td>\n",
       "      <td>Omidyar Network</td>\n",
       "      <td>organization</td>\n",
       "      <td>omidyar-network</td>\n",
       "      <td>https://www.crunchbase.com/organization/omidya...</td>\n",
       "      <td>136861.0</td>\n",
       "      <td>2007-05-26 03:21:34</td>\n",
       "      <td>2019-06-19 12:17:48</td>\n",
       "      <td>NaN</td>\n",
       "      <td>investor</td>\n",
       "      <td>...</td>\n",
       "      <td>650.482.2500</td>\n",
       "      <td>http://www.facebook.com/OmidyarNetwork</td>\n",
       "      <td>http://www.linkedin.com/company/22806</td>\n",
       "      <td>http://twitter.com/OmidyarNetwork</td>\n",
       "      <td>https://res.cloudinary.com/crunchbase-producti...</td>\n",
       "      <td>NaN</td>\n",
       "      <td>NaN</td>\n",
       "      <td>NaN</td>\n",
       "      <td>investor</td>\n",
       "      <td>38.0</td>\n",
       "    </tr>\n",
       "    <tr>\n",
       "      <th>4</th>\n",
       "      <td>df662812-7f97-0b43-9d3e-12f64f504fbb</td>\n",
       "      <td>Facebook</td>\n",
       "      <td>organization</td>\n",
       "      <td>facebook</td>\n",
       "      <td>https://www.crunchbase.com/organization/facebook</td>\n",
       "      <td>47.0</td>\n",
       "      <td>2007-05-26 04:22:15</td>\n",
       "      <td>2021-04-14 23:52:25</td>\n",
       "      <td>Facebook, Inc.</td>\n",
       "      <td>investor,company</td>\n",
       "      <td>...</td>\n",
       "      <td>NaN</td>\n",
       "      <td>https://www.facebook.com/facebook/</td>\n",
       "      <td>http://www.linkedin.com/company/facebook</td>\n",
       "      <td>https://twitter.com/facebook</td>\n",
       "      <td>https://res.cloudinary.com/crunchbase-producti...</td>\n",
       "      <td>NaN</td>\n",
       "      <td>NaN</td>\n",
       "      <td>NaN</td>\n",
       "      <td>company</td>\n",
       "      <td>NaN</td>\n",
       "    </tr>\n",
       "  </tbody>\n",
       "</table>\n",
       "<p>5 rows × 41 columns</p>\n",
       "</div>"
      ],
      "text/plain": [
       "                                   uuid             name          type  \\\n",
       "0  e1393508-30ea-8a36-3f96-dd3226033abd         Wetpaint  organization   \n",
       "1  bf4d7b0e-b34d-2fd8-d292-6049c4f7efc7             Zoho  organization   \n",
       "2  5f2b40b8-d1b3-d323-d81a-b7a8e89553d0             Digg  organization   \n",
       "3  f4d5ab44-058b-298b-ea81-380e6e9a8eec  Omidyar Network  organization   \n",
       "4  df662812-7f97-0b43-9d3e-12f64f504fbb         Facebook  organization   \n",
       "\n",
       "         permalink                                             cb_url  \\\n",
       "0         wetpaint   https://www.crunchbase.com/organization/wetpaint   \n",
       "1             zoho       https://www.crunchbase.com/organization/zoho   \n",
       "2             digg       https://www.crunchbase.com/organization/digg   \n",
       "3  omidyar-network  https://www.crunchbase.com/organization/omidya...   \n",
       "4         facebook   https://www.crunchbase.com/organization/facebook   \n",
       "\n",
       "       rank           created_at           updated_at          legal_name  \\\n",
       "0  158955.0  2007-05-25 13:51:27  2019-06-24 22:19:25                 NaN   \n",
       "1    6686.0  2007-05-26 02:30:28  2018-10-27 00:29:49                 NaN   \n",
       "2    7793.0  2007-05-26 03:03:23  2018-12-10 10:09:14  Digg Holdings, LLC   \n",
       "3  136861.0  2007-05-26 03:21:34  2019-06-19 12:17:48                 NaN   \n",
       "4      47.0  2007-05-26 04:22:15  2021-04-14 23:52:25      Facebook, Inc.   \n",
       "\n",
       "              roles  ...         phone  \\\n",
       "0           company  ...  206-859-6300   \n",
       "1  investor,company  ...           NaN   \n",
       "2           company  ...  877-342-7222   \n",
       "3          investor  ...  650.482.2500   \n",
       "4  investor,company  ...           NaN   \n",
       "\n",
       "                             facebook_url  \\\n",
       "0       https://www.facebook.com/Wetpaint   \n",
       "1            http://www.facebook.com/zoho   \n",
       "2            http://www.facebook.com/digg   \n",
       "3  http://www.facebook.com/OmidyarNetwork   \n",
       "4      https://www.facebook.com/facebook/   \n",
       "\n",
       "                                        linkedin_url  \\\n",
       "0          https://www.linkedin.com/company/wetpaint   \n",
       "1  http://www.linkedin.com/company/zoho-corporati...   \n",
       "2               http://www.linkedin.com/company/digg   \n",
       "3              http://www.linkedin.com/company/22806   \n",
       "4           http://www.linkedin.com/company/facebook   \n",
       "\n",
       "                         twitter_url  \\\n",
       "0     https://twitter.com/wetpainttv   \n",
       "1            http://twitter.com/zoho   \n",
       "2            http://twitter.com/digg   \n",
       "3  http://twitter.com/OmidyarNetwork   \n",
       "4       https://twitter.com/facebook   \n",
       "\n",
       "                                            logo_url alias1 alias2 alias3  \\\n",
       "0  https://res.cloudinary.com/crunchbase-producti...    NaN    NaN    NaN   \n",
       "1  https://res.cloudinary.com/crunchbase-producti...    NaN    NaN    NaN   \n",
       "2  https://res.cloudinary.com/crunchbase-producti...    NaN    NaN    NaN   \n",
       "3  https://res.cloudinary.com/crunchbase-producti...    NaN    NaN    NaN   \n",
       "4  https://res.cloudinary.com/crunchbase-producti...    NaN    NaN    NaN   \n",
       "\n",
       "  primary_role num_exits  \n",
       "0      company       NaN  \n",
       "1      company       1.0  \n",
       "2      company       NaN  \n",
       "3     investor      38.0  \n",
       "4      company       NaN  \n",
       "\n",
       "[5 rows x 41 columns]"
      ]
     },
     "execution_count": 6,
     "metadata": {},
     "output_type": "execute_result"
    }
   ],
   "source": [
    "df_start.head()"
   ]
  },
  {
   "cell_type": "code",
   "execution_count": 7,
   "id": "interracial-immigration",
   "metadata": {},
   "outputs": [
    {
     "data": {
      "text/plain": [
       "uuid                                        e1393508-30ea-8a36-3f96-dd3226033abd\n",
       "name                                                                    Wetpaint\n",
       "type                                                                organization\n",
       "permalink                                                               wetpaint\n",
       "cb_url                          https://www.crunchbase.com/organization/wetpaint\n",
       "rank                                                                    158955.0\n",
       "created_at                                                   2007-05-25 13:51:27\n",
       "updated_at                                                   2019-06-24 22:19:25\n",
       "legal_name                                                                   NaN\n",
       "roles                                                                    company\n",
       "domain                                                              wetpaint.com\n",
       "homepage_url                                            http://www.wetpaint.com/\n",
       "country_code                                                                 USA\n",
       "state_code                                                                    NY\n",
       "region                                                                  New York\n",
       "city                                                                    New York\n",
       "address                                              902 Broadway 11th Floor New\n",
       "postal_code                                                                10010\n",
       "status                                                                  acquired\n",
       "short_description              Wetpaint offers an online social publishing pl...\n",
       "category_list                    Publishing,Social Media,Social Media Management\n",
       "category_groups_list           Content and Publishing,Internet Services,Media...\n",
       "num_funding_rounds                                                           3.0\n",
       "total_funding_usd                                                     39750000.0\n",
       "total_funding                                                         39750000.0\n",
       "total_funding_currency_code                                                  USD\n",
       "founded_on                                                            2005-06-01\n",
       "last_funding_on                                                       2008-05-19\n",
       "closed_on                                                                    NaN\n",
       "employee_count                                                            51-100\n",
       "email                                                          info@wetpaint.com\n",
       "phone                                                               206-859-6300\n",
       "facebook_url                                   https://www.facebook.com/Wetpaint\n",
       "linkedin_url                           https://www.linkedin.com/company/wetpaint\n",
       "twitter_url                                       https://twitter.com/wetpainttv\n",
       "logo_url                       https://res.cloudinary.com/crunchbase-producti...\n",
       "alias1                                                                       NaN\n",
       "alias2                                                                       NaN\n",
       "alias3                                                                       NaN\n",
       "primary_role                                                             company\n",
       "num_exits                                                                    NaN\n",
       "Name: 0, dtype: object"
      ]
     },
     "execution_count": 7,
     "metadata": {},
     "output_type": "execute_result"
    }
   ],
   "source": [
    "df_start.loc[0]"
   ]
  },
  {
   "cell_type": "code",
   "execution_count": 8,
   "id": "consistent-baker",
   "metadata": {},
   "outputs": [
    {
     "data": {
      "text/plain": [
       "0            Publishing,Social Media,Social Media Management\n",
       "1          Cloud Computing,Collaboration,CRM,Developer To...\n",
       "2                       Internet,Social Media,Social Network\n",
       "3          Enterprise Software,Financial Services,Venture...\n",
       "4          Mobile Apps,Photo Sharing,Social,Social Media,...\n",
       "                                 ...                        \n",
       "1346664             Biotechnology,Marketing,Product Research\n",
       "1346665             Machinery Manufacturing,Service Industry\n",
       "1346666    Construction,Energy,Logistics,Mining,Oil and G...\n",
       "1346667                               Agriculture,Veterinary\n",
       "1346668                                              Fashion\n",
       "Name: category_list, Length: 1346669, dtype: object"
      ]
     },
     "execution_count": 8,
     "metadata": {},
     "output_type": "execute_result"
    }
   ],
   "source": [
    "df_start[\"category_list\"]"
   ]
  },
  {
   "cell_type": "code",
   "execution_count": 9,
   "id": "afraid-peace",
   "metadata": {},
   "outputs": [
    {
     "data": {
      "text/plain": [
       "0          Content and Publishing,Internet Services,Media...\n",
       "1          Administrative Services,Information Technology...\n",
       "2                  Internet Services,Media and Entertainment\n",
       "3          Financial Services,Lending and Investments,Sof...\n",
       "4          Apps,Community and Lifestyle,Content and Publi...\n",
       "                                 ...                        \n",
       "1346664    Biotechnology,Data and Analytics,Design,Sales ...\n",
       "1346665                                  Manufacturing,Other\n",
       "1346666    Commerce and Shopping,Energy,Natural Resources...\n",
       "1346667                  Agriculture and Farming,Health Care\n",
       "1346668                          Clothing and Apparel,Design\n",
       "Name: category_groups_list, Length: 1346669, dtype: object"
      ]
     },
     "execution_count": 9,
     "metadata": {},
     "output_type": "execute_result"
    }
   ],
   "source": [
    "df_start[\"category_groups_list\"]"
   ]
  },
  {
   "cell_type": "code",
   "execution_count": 10,
   "id": "pending-banana",
   "metadata": {},
   "outputs": [
    {
     "data": {
      "text/plain": [
       "Index(['uuid', 'name', 'type', 'permalink', 'cb_url', 'rank', 'created_at',\n",
       "       'updated_at', 'legal_name', 'roles', 'domain', 'homepage_url',\n",
       "       'country_code', 'state_code', 'region', 'city', 'address',\n",
       "       'postal_code', 'status', 'short_description', 'category_list',\n",
       "       'category_groups_list', 'num_funding_rounds', 'total_funding_usd',\n",
       "       'total_funding', 'total_funding_currency_code', 'founded_on',\n",
       "       'last_funding_on', 'closed_on', 'employee_count', 'email', 'phone',\n",
       "       'facebook_url', 'linkedin_url', 'twitter_url', 'logo_url', 'alias1',\n",
       "       'alias2', 'alias3', 'primary_role', 'num_exits'],\n",
       "      dtype='object')"
      ]
     },
     "execution_count": 10,
     "metadata": {},
     "output_type": "execute_result"
    }
   ],
   "source": [
    "df_start.columns"
   ]
  },
  {
   "cell_type": "code",
   "execution_count": null,
   "id": "universal-sphere",
   "metadata": {},
   "outputs": [],
   "source": []
  },
  {
   "cell_type": "markdown",
   "id": "architectural-austria",
   "metadata": {},
   "source": [
    "### Data Cleaning\n",
    "\n",
    "for now we decide to use as key the name. it would be better to use the uuid"
   ]
  },
  {
   "cell_type": "code",
   "execution_count": 11,
   "id": "lasting-religious",
   "metadata": {},
   "outputs": [],
   "source": [
    "to_drop = [\n",
    "    'type',\n",
    "    'permalink',\n",
    "    'cb_url',   \n",
    "    'created_at',\n",
    "    'domain',\n",
    "    'address',\n",
    "    'state_code',\n",
    "    'updated_at',\n",
    "    'legal_name',\n",
    "    'roles',\n",
    "    'postal_code',\n",
    "    'homepage_url',\n",
    "    'num_funding_rounds',\n",
    "    'total_funding_currency_code',\n",
    "    'phone',\n",
    "    'email',\n",
    "    'num_exits',\n",
    "    'alias2',\n",
    "    'alias3',\n",
    "    'num_exits',\n",
    "    'logo_url',\n",
    "    'alias1',\n",
    "    'last_funding_on',\n",
    "    'twitter_url',\n",
    "    'facebook_url'\n",
    "]\n",
    "\n",
    "# to_rename = { 'category_groups_list': 'category_groups' }\n",
    "to_rename = { 'category_list': 'category_groups' }\n",
    "\n",
    "drop_if_nan = [\n",
    "    'category_groups',\n",
    "    'rank',\n",
    "    'short_description'\n",
    "]\n",
    "\n",
    "to_check_double = {}\n",
    "\n",
    "sort_by = \"rank\""
   ]
  },
  {
   "cell_type": "code",
   "execution_count": 12,
   "id": "ethical-colleague",
   "metadata": {},
   "outputs": [],
   "source": [
    "df = CB_data_cleaning(df_start, to_drop, to_rename, to_check_double, drop_if_nan, sort_by)"
   ]
  },
  {
   "cell_type": "code",
   "execution_count": 13,
   "id": "alpine-tobacco",
   "metadata": {},
   "outputs": [
    {
     "data": {
      "text/html": [
       "<div>\n",
       "<style scoped>\n",
       "    .dataframe tbody tr th:only-of-type {\n",
       "        vertical-align: middle;\n",
       "    }\n",
       "\n",
       "    .dataframe tbody tr th {\n",
       "        vertical-align: top;\n",
       "    }\n",
       "\n",
       "    .dataframe thead th {\n",
       "        text-align: right;\n",
       "    }\n",
       "</style>\n",
       "<table border=\"1\" class=\"dataframe\">\n",
       "  <thead>\n",
       "    <tr style=\"text-align: right;\">\n",
       "      <th></th>\n",
       "      <th>uuid</th>\n",
       "      <th>name</th>\n",
       "      <th>rank</th>\n",
       "      <th>country_code</th>\n",
       "      <th>region</th>\n",
       "      <th>city</th>\n",
       "      <th>status</th>\n",
       "      <th>short_description</th>\n",
       "      <th>category_groups</th>\n",
       "      <th>category_groups_list</th>\n",
       "      <th>total_funding_usd</th>\n",
       "      <th>total_funding</th>\n",
       "      <th>founded_on</th>\n",
       "      <th>closed_on</th>\n",
       "      <th>employee_count</th>\n",
       "      <th>linkedin_url</th>\n",
       "      <th>primary_role</th>\n",
       "    </tr>\n",
       "  </thead>\n",
       "  <tbody>\n",
       "    <tr>\n",
       "      <th>1178</th>\n",
       "      <td>74a20af3-f4dd-6188-de60-c4ee6cd0ca4a</td>\n",
       "      <td>Ant Group</td>\n",
       "      <td>1.0</td>\n",
       "      <td>CHN</td>\n",
       "      <td>Zhejiang</td>\n",
       "      <td>Hangzhou</td>\n",
       "      <td>operating</td>\n",
       "      <td>Ant Group strives to enable all consumers and ...</td>\n",
       "      <td>Banking,Financial Services,FinTech,Payments</td>\n",
       "      <td>Financial Services,Lending and Investments,Pay...</td>\n",
       "      <td>2.200000e+10</td>\n",
       "      <td>2.200000e+10</td>\n",
       "      <td>2014-10-01</td>\n",
       "      <td>NaN</td>\n",
       "      <td>5001-10000</td>\n",
       "      <td>https://www.linkedin.com/company/antgroup/</td>\n",
       "      <td>company</td>\n",
       "    </tr>\n",
       "    <tr>\n",
       "      <th>4042</th>\n",
       "      <td>022417b5-4980-6c54-0f3c-6736bbbb1a5e</td>\n",
       "      <td>Spotify</td>\n",
       "      <td>2.0</td>\n",
       "      <td>SWE</td>\n",
       "      <td>Stockholms Lan</td>\n",
       "      <td>Stockholm</td>\n",
       "      <td>ipo</td>\n",
       "      <td>Spotify is a commercial music streaming servic...</td>\n",
       "      <td>Audio,Cloud Computing,Music,Music Streaming,Vi...</td>\n",
       "      <td>Content and Publishing,Internet Services,Media...</td>\n",
       "      <td>2.085425e+09</td>\n",
       "      <td>2.085425e+09</td>\n",
       "      <td>2006-04-23</td>\n",
       "      <td>NaN</td>\n",
       "      <td>5001-10000</td>\n",
       "      <td>http://www.linkedin.com/company/spotify</td>\n",
       "      <td>company</td>\n",
       "    </tr>\n",
       "    <tr>\n",
       "      <th>349</th>\n",
       "      <td>468bef9f-2f50-590e-6e78-62e3adb05aa1</td>\n",
       "      <td>Citi</td>\n",
       "      <td>3.0</td>\n",
       "      <td>USA</td>\n",
       "      <td>New York</td>\n",
       "      <td>New York</td>\n",
       "      <td>ipo</td>\n",
       "      <td>Citigroup is a diversified financial services ...</td>\n",
       "      <td>Banking,Credit Cards,Financial Services,Wealth...</td>\n",
       "      <td>Financial Services,Lending and Investments,Pay...</td>\n",
       "      <td>8.700000e+09</td>\n",
       "      <td>8.700000e+09</td>\n",
       "      <td>1998-10-08</td>\n",
       "      <td>NaN</td>\n",
       "      <td>10000+</td>\n",
       "      <td>https://www.linkedin.com/company/citi</td>\n",
       "      <td>investor</td>\n",
       "    </tr>\n",
       "    <tr>\n",
       "      <th>211260</th>\n",
       "      <td>a40d0a1f-f32c-a1e9-1bbd-a10bb0eca2e7</td>\n",
       "      <td>Deliveroo</td>\n",
       "      <td>4.0</td>\n",
       "      <td>GBR</td>\n",
       "      <td>England</td>\n",
       "      <td>London</td>\n",
       "      <td>ipo</td>\n",
       "      <td>Deliveroo is an online food delivery service t...</td>\n",
       "      <td>Delivery,Food and Beverage,Food Delivery,Same ...</td>\n",
       "      <td>Administrative Services,Food and Beverage,Tran...</td>\n",
       "      <td>1.712683e+09</td>\n",
       "      <td>1.712683e+09</td>\n",
       "      <td>2012-01-01</td>\n",
       "      <td>NaN</td>\n",
       "      <td>5001-10000</td>\n",
       "      <td>https://www.linkedin.com/company/deliveroo</td>\n",
       "      <td>company</td>\n",
       "    </tr>\n",
       "    <tr>\n",
       "      <th>621119</th>\n",
       "      <td>00daca16-8311-454b-84e0-24a40d16be9c</td>\n",
       "      <td>Antler</td>\n",
       "      <td>5.0</td>\n",
       "      <td>SGP</td>\n",
       "      <td>Central Region</td>\n",
       "      <td>Singapore</td>\n",
       "      <td>operating</td>\n",
       "      <td>Antler is a global early-stage venture capital...</td>\n",
       "      <td>Venture Capital</td>\n",
       "      <td>Financial Services,Lending and Investments</td>\n",
       "      <td>7.800000e+07</td>\n",
       "      <td>7.800000e+07</td>\n",
       "      <td>2017-01-01</td>\n",
       "      <td>NaN</td>\n",
       "      <td>101-250</td>\n",
       "      <td>https://www.linkedin.com/company/antlerglobal/</td>\n",
       "      <td>investor</td>\n",
       "    </tr>\n",
       "  </tbody>\n",
       "</table>\n",
       "</div>"
      ],
      "text/plain": [
       "                                        uuid       name  rank country_code  \\\n",
       "1178    74a20af3-f4dd-6188-de60-c4ee6cd0ca4a  Ant Group   1.0          CHN   \n",
       "4042    022417b5-4980-6c54-0f3c-6736bbbb1a5e    Spotify   2.0          SWE   \n",
       "349     468bef9f-2f50-590e-6e78-62e3adb05aa1       Citi   3.0          USA   \n",
       "211260  a40d0a1f-f32c-a1e9-1bbd-a10bb0eca2e7  Deliveroo   4.0          GBR   \n",
       "621119  00daca16-8311-454b-84e0-24a40d16be9c     Antler   5.0          SGP   \n",
       "\n",
       "                region       city     status  \\\n",
       "1178          Zhejiang   Hangzhou  operating   \n",
       "4042    Stockholms Lan  Stockholm        ipo   \n",
       "349           New York   New York        ipo   \n",
       "211260         England     London        ipo   \n",
       "621119  Central Region  Singapore  operating   \n",
       "\n",
       "                                        short_description  \\\n",
       "1178    Ant Group strives to enable all consumers and ...   \n",
       "4042    Spotify is a commercial music streaming servic...   \n",
       "349     Citigroup is a diversified financial services ...   \n",
       "211260  Deliveroo is an online food delivery service t...   \n",
       "621119  Antler is a global early-stage venture capital...   \n",
       "\n",
       "                                          category_groups  \\\n",
       "1178          Banking,Financial Services,FinTech,Payments   \n",
       "4042    Audio,Cloud Computing,Music,Music Streaming,Vi...   \n",
       "349     Banking,Credit Cards,Financial Services,Wealth...   \n",
       "211260  Delivery,Food and Beverage,Food Delivery,Same ...   \n",
       "621119                                    Venture Capital   \n",
       "\n",
       "                                     category_groups_list  total_funding_usd  \\\n",
       "1178    Financial Services,Lending and Investments,Pay...       2.200000e+10   \n",
       "4042    Content and Publishing,Internet Services,Media...       2.085425e+09   \n",
       "349     Financial Services,Lending and Investments,Pay...       8.700000e+09   \n",
       "211260  Administrative Services,Food and Beverage,Tran...       1.712683e+09   \n",
       "621119         Financial Services,Lending and Investments       7.800000e+07   \n",
       "\n",
       "        total_funding  founded_on closed_on employee_count  \\\n",
       "1178     2.200000e+10  2014-10-01       NaN     5001-10000   \n",
       "4042     2.085425e+09  2006-04-23       NaN     5001-10000   \n",
       "349      8.700000e+09  1998-10-08       NaN         10000+   \n",
       "211260   1.712683e+09  2012-01-01       NaN     5001-10000   \n",
       "621119   7.800000e+07  2017-01-01       NaN        101-250   \n",
       "\n",
       "                                          linkedin_url primary_role  \n",
       "1178        https://www.linkedin.com/company/antgroup/      company  \n",
       "4042           http://www.linkedin.com/company/spotify      company  \n",
       "349              https://www.linkedin.com/company/citi     investor  \n",
       "211260      https://www.linkedin.com/company/deliveroo      company  \n",
       "621119  https://www.linkedin.com/company/antlerglobal/     investor  "
      ]
     },
     "execution_count": 13,
     "metadata": {},
     "output_type": "execute_result"
    }
   ],
   "source": [
    "df.head()"
   ]
  },
  {
   "cell_type": "code",
   "execution_count": 14,
   "id": "asian-george",
   "metadata": {},
   "outputs": [],
   "source": [
    "cybersecurity_words = [\n",
    "    \"cybersecurity\"\n",
    "    \"confidentiality\",\n",
    "    \"integrity\",\n",
    "    \"availability\",\n",
    "    \"secure\",\n",
    "    \"security\",\n",
    "    \"safe\",\n",
    "    \"reliability\",\n",
    "    \"dependability\",\n",
    "    \"confidential\",\n",
    "    \"confidentiality\",\n",
    "    \"integrity\",\n",
    "    \"availability\",\n",
    "    \"defense\",\n",
    "    \"defence\",\n",
    "    \"defensive\",\n",
    "    \"privacy\"\n",
    "]"
   ]
  },
  {
   "cell_type": "code",
   "execution_count": 15,
   "id": "suffering-province",
   "metadata": {},
   "outputs": [],
   "source": [
    "def check_desc(line, words):\n",
    "    if isinstance(line, float):\n",
    "        return False\n",
    "    \n",
    "    #print(sum(w in line for w in words))\n",
    "    \n",
    "    if any(w in line for w in words):\n",
    "        return True\n",
    "    return False"
   ]
  },
  {
   "cell_type": "code",
   "execution_count": 16,
   "id": "gorgeous-corrections",
   "metadata": {},
   "outputs": [],
   "source": [
    "df = df.loc[df[\"short_description\"].apply(lambda x: check_desc(x, cybersecurity_words))]"
   ]
  },
  {
   "cell_type": "code",
   "execution_count": 17,
   "id": "latin-transcript",
   "metadata": {},
   "outputs": [
    {
     "data": {
      "text/plain": [
       "Index(['uuid', 'name', 'rank', 'country_code', 'region', 'city', 'status',\n",
       "       'short_description', 'category_groups', 'category_groups_list',\n",
       "       'total_funding_usd', 'total_funding', 'founded_on', 'closed_on',\n",
       "       'employee_count', 'linkedin_url', 'primary_role'],\n",
       "      dtype='object')"
      ]
     },
     "execution_count": 17,
     "metadata": {},
     "output_type": "execute_result"
    }
   ],
   "source": [
    "df.columns"
   ]
  },
  {
   "cell_type": "markdown",
   "id": "exciting-graph",
   "metadata": {},
   "source": [
    "### Extract categories:"
   ]
  },
  {
   "cell_type": "code",
   "execution_count": 18,
   "id": "sharing-madness",
   "metadata": {},
   "outputs": [
    {
     "data": {
      "text/plain": [
       "210561     Automotive,Autonomous Vehicles,Robotics,Softwa...\n",
       "281077           Computer,Network Security,Security,Software\n",
       "122128     Cyber Security,Developer Tools,Open Source,Sof...\n",
       "341496     Artificial Intelligence,Cyber Security,Machine...\n",
       "397698           Compliance,Privacy,Risk Management,Software\n",
       "                                 ...                        \n",
       "1345112    Cloud Data Services,Cyber Security,Information...\n",
       "1345644    Information Technology,Security,Software,Techn...\n",
       "1345955            E-Commerce Platforms,Marketing,Web Design\n",
       "1345194    Environmental Consulting,Predictive Analytics,...\n",
       "1345917    Cloud Data Services,Cloud Management,Cyber Sec...\n",
       "Name: category_groups, Length: 32159, dtype: object"
      ]
     },
     "execution_count": 18,
     "metadata": {},
     "output_type": "execute_result"
    }
   ],
   "source": [
    "df[\"category_groups\"]"
   ]
  },
  {
   "cell_type": "code",
   "execution_count": 19,
   "id": "olive-roller",
   "metadata": {},
   "outputs": [],
   "source": [
    "# convert category_groups to list\n",
    "\n",
    "def convert_to_list(string):\n",
    "    li = list(string.split(\",\"))\n",
    "    return li\n",
    "  \n",
    "df[\"category_groups\"] = [convert_to_list(x) for x in df[\"category_groups\"]]"
   ]
  },
  {
   "cell_type": "code",
   "execution_count": 21,
   "id": "thirty-survival",
   "metadata": {},
   "outputs": [],
   "source": [
    "#list(df[\"category_groups\"])"
   ]
  },
  {
   "cell_type": "markdown",
   "id": "further-tanzania",
   "metadata": {},
   "source": [
    "### Create Companies and Technologies classes"
   ]
  },
  {
   "cell_type": "markdown",
   "id": "structured-citizen",
   "metadata": {},
   "source": [
    "#### Ranking\n",
    "\n",
    "I personally appreciate the ranking that you provide for each company. However, I did not quite understand what's the magic behind it. Is there any chance to get some more insight/details, also considering that we do have an NDA in place?\n",
    "\n",
    "- Crunchbase rank uses Crunchbase’s intelligent algorithms to score and rank entities (e.g. Company, People, Investors, etc.).\n",
    "- The algorithms take into account many different variables; ranging from funding events, the entity’s strength of relationships with other entities in the Crunchbase ecosystem, the level of engagement from our website, news articles, and acquisitions.\n",
    "\n",
    "    - A company’s Rank is fluid and subject to rising and decaying over time with time-sensitive events. Events such as product launches, funding events, leadership changes, and news affect a company’s Crunchbase Rank.\n",
    "\n",
    "\n",
    "- The Crunchbase rank shows where an entity falls in the Crunchbase database relative to all other entities in that entity type (i.e. if searching for companies, you will see where a specific company ranks relative to all other companies). An entity with a Crunchbase Rank of 1 has the highest rank relative to all other entities of that type.\n",
    "\n",
    "I would also suggest leveraging our Trend Score - 7 Day, 30 Day, 90 Day (e.g. Company, People, Investors, etc.)\n",
    "\n",
    "- While Rank shows context, Crunchbase Trend Score demonstrates activity. A company’s rank will change based on activity (fundraising, news, etc.) and Trend Score is an indicator of how much their rank is changing at any given time.\n",
    "- Crunchbase Trend Score tracks the fluctuations in Rank. As a company’s rank changes, so do its Trend Score.\n",
    "- Trend Score measures the rate of a company’s activity on a 20-point (+10 <-> -10) scale. Scores closer to +10 mean it’s moving up in rank much faster compared to their peers. Scores closer to -10 mean it’s moving down.\n",
    "- For example, a company that announces its first funding round will likely experience a jump in its Rank, pushing its Trend Score up as its page views, article counts, funding amount, team members, etc., begin to increase.\n"
   ]
  },
  {
   "cell_type": "code",
   "execution_count": 22,
   "id": "generic-winning",
   "metadata": {},
   "outputs": [
    {
     "data": {
      "text/plain": [
       "32159"
      ]
     },
     "execution_count": 22,
     "metadata": {},
     "output_type": "execute_result"
    }
   ],
   "source": [
    "len(df)"
   ]
  },
  {
   "cell_type": "code",
   "execution_count": 24,
   "id": "veterinary-cedar",
   "metadata": {},
   "outputs": [],
   "source": [
    "#list(df[\"short_description\"])"
   ]
  },
  {
   "cell_type": "markdown",
   "id": "thrown-jesus",
   "metadata": {},
   "source": [
    "### Set limits"
   ]
  },
  {
   "cell_type": "code",
   "execution_count": 25,
   "id": "empty-produce",
   "metadata": {},
   "outputs": [],
   "source": [
    "#df = df[:100]"
   ]
  },
  {
   "cell_type": "markdown",
   "id": "fitted-nigeria",
   "metadata": {},
   "source": [
    "### Create graph"
   ]
  },
  {
   "cell_type": "code",
   "execution_count": 26,
   "id": "extensive-alberta",
   "metadata": {},
   "outputs": [],
   "source": [
    "[dict_companies, dict_tech, B] = extract_classes_company_tech(df)"
   ]
  },
  {
   "cell_type": "code",
   "execution_count": 27,
   "id": "latest-marketing",
   "metadata": {},
   "outputs": [
    {
     "name": "stdout",
     "output_type": "stream",
     "text": [
      "We have 32031 companies and 687 technologies\n"
     ]
    }
   ],
   "source": [
    "print(f\"We have {len(dict_companies)} companies and {len(dict_tech)} technologies\")"
   ]
  },
  {
   "cell_type": "markdown",
   "id": "invalid-brief",
   "metadata": {},
   "source": [
    "### Plots"
   ]
  },
  {
   "cell_type": "code",
   "execution_count": null,
   "id": "secure-exclusive",
   "metadata": {},
   "outputs": [],
   "source": [
    "\"\"\"plot_bipartite_graph(B, small_degree=True)\n",
    "plt.savefig(f'plots_net/network_all_{str(len(df))}.pdf')\n",
    "plt.savefig(f'plots_net/network_all_{str(len(df))}.png')\"\"\""
   ]
  },
  {
   "cell_type": "code",
   "execution_count": null,
   "id": "placed-caribbean",
   "metadata": {},
   "outputs": [],
   "source": [
    "\"\"\"plot_bipartite_graph(B, small_degree=True, circular=True)\n",
    "plt.savefig(f'plots_net/network_all_circ_{str(len(df))}.pdf')\n",
    "plt.savefig(f'plots_net/network_all_circ_{str(len(df))}.png')\"\"\""
   ]
  },
  {
   "cell_type": "code",
   "execution_count": 32,
   "id": "living-missile",
   "metadata": {},
   "outputs": [],
   "source": [
    "percentage = 20"
   ]
  },
  {
   "cell_type": "code",
   "execution_count": 33,
   "id": "removed-subscription",
   "metadata": {},
   "outputs": [
    {
     "ename": "KeyboardInterrupt",
     "evalue": "",
     "output_type": "error",
     "traceback": [
      "\u001b[0;31m---------------------------------------------------------------------------\u001b[0m",
      "\u001b[0;31mKeyboardInterrupt\u001b[0m                         Traceback (most recent call last)",
      "\u001b[0;32m<ipython-input-33-08d349fbbe6a>\u001b[0m in \u001b[0;36m<module>\u001b[0;34m\u001b[0m\n\u001b[0;32m----> 1\u001b[0;31m \u001b[0mplot_bipartite_graph\u001b[0m\u001b[0;34m(\u001b[0m\u001b[0mB\u001b[0m\u001b[0;34m,\u001b[0m \u001b[0msmall_degree\u001b[0m\u001b[0;34m=\u001b[0m\u001b[0;32mFalse\u001b[0m\u001b[0;34m,\u001b[0m \u001b[0mpercentage\u001b[0m\u001b[0;34m=\u001b[0m\u001b[0mpercentage\u001b[0m\u001b[0;34m)\u001b[0m\u001b[0;34m\u001b[0m\u001b[0;34m\u001b[0m\u001b[0m\n\u001b[0m\u001b[1;32m      2\u001b[0m \u001b[0mplt\u001b[0m\u001b[0;34m.\u001b[0m\u001b[0msavefig\u001b[0m\u001b[0;34m(\u001b[0m\u001b[0;34mf'plots_net/network_{str(percentage)}_{str(len(df))}.pdf'\u001b[0m\u001b[0;34m)\u001b[0m\u001b[0;34m\u001b[0m\u001b[0;34m\u001b[0m\u001b[0m\n\u001b[1;32m      3\u001b[0m \u001b[0mplt\u001b[0m\u001b[0;34m.\u001b[0m\u001b[0msavefig\u001b[0m\u001b[0;34m(\u001b[0m\u001b[0;34mf'plots_net/network_{str(percentage)}_{str(len(df))}.png'\u001b[0m\u001b[0;34m)\u001b[0m\u001b[0;34m\u001b[0m\u001b[0;34m\u001b[0m\u001b[0m\n",
      "\u001b[0;32m~/bipartite_network/function.py\u001b[0m in \u001b[0;36mplot_bipartite_graph\u001b[0;34m(G, small_degree, percentage, circular)\u001b[0m\n\u001b[1;32m    299\u001b[0m \u001b[0;34m\u001b[0m\u001b[0m\n\u001b[1;32m    300\u001b[0m     \u001b[0;32mif\u001b[0m \u001b[0mcircular\u001b[0m \u001b[0;34m==\u001b[0m \u001b[0;32mFalse\u001b[0m\u001b[0;34m:\u001b[0m\u001b[0;34m\u001b[0m\u001b[0;34m\u001b[0m\u001b[0m\n\u001b[0;32m--> 301\u001b[0;31m         \u001b[0mpos\u001b[0m \u001b[0;34m=\u001b[0m \u001b[0mnx\u001b[0m\u001b[0;34m.\u001b[0m\u001b[0mspring_layout\u001b[0m\u001b[0;34m(\u001b[0m\u001b[0mG\u001b[0m\u001b[0;34m)\u001b[0m \u001b[0;31m# positions for all nodes\u001b[0m\u001b[0;34m\u001b[0m\u001b[0;34m\u001b[0m\u001b[0m\n\u001b[0m\u001b[1;32m    302\u001b[0m     \u001b[0;32melse\u001b[0m\u001b[0;34m:\u001b[0m\u001b[0;34m\u001b[0m\u001b[0;34m\u001b[0m\u001b[0m\n\u001b[1;32m    303\u001b[0m         \u001b[0mpos\u001b[0m \u001b[0;34m=\u001b[0m \u001b[0mnx\u001b[0m\u001b[0;34m.\u001b[0m\u001b[0mcircular_layout\u001b[0m\u001b[0;34m(\u001b[0m\u001b[0mG\u001b[0m\u001b[0;34m)\u001b[0m\u001b[0;34m\u001b[0m\u001b[0;34m\u001b[0m\u001b[0m\n",
      "\u001b[0;32m<decorator-gen-852>\u001b[0m in \u001b[0;36mfruchterman_reingold_layout\u001b[0;34m(G, k, pos, fixed, iterations, threshold, weight, scale, center, dim, seed)\u001b[0m\n",
      "\u001b[0;32m~/miniconda3/envs/arma/lib/python3.8/site-packages/networkx/utils/decorators.py\u001b[0m in \u001b[0;36m_random_state\u001b[0;34m(func, *args, **kwargs)\u001b[0m\n\u001b[1;32m    406\u001b[0m         \u001b[0mnew_args\u001b[0m \u001b[0;34m=\u001b[0m \u001b[0mlist\u001b[0m\u001b[0;34m(\u001b[0m\u001b[0margs\u001b[0m\u001b[0;34m)\u001b[0m\u001b[0;34m\u001b[0m\u001b[0;34m\u001b[0m\u001b[0m\n\u001b[1;32m    407\u001b[0m         \u001b[0mnew_args\u001b[0m\u001b[0;34m[\u001b[0m\u001b[0mrandom_state_index\u001b[0m\u001b[0;34m]\u001b[0m \u001b[0;34m=\u001b[0m \u001b[0mrandom_state\u001b[0m\u001b[0;34m\u001b[0m\u001b[0;34m\u001b[0m\u001b[0m\n\u001b[0;32m--> 408\u001b[0;31m         \u001b[0;32mreturn\u001b[0m \u001b[0mfunc\u001b[0m\u001b[0;34m(\u001b[0m\u001b[0;34m*\u001b[0m\u001b[0mnew_args\u001b[0m\u001b[0;34m,\u001b[0m \u001b[0;34m**\u001b[0m\u001b[0mkwargs\u001b[0m\u001b[0;34m)\u001b[0m\u001b[0;34m\u001b[0m\u001b[0;34m\u001b[0m\u001b[0m\n\u001b[0m\u001b[1;32m    409\u001b[0m \u001b[0;34m\u001b[0m\u001b[0m\n\u001b[1;32m    410\u001b[0m     \u001b[0;32mreturn\u001b[0m \u001b[0m_random_state\u001b[0m\u001b[0;34m\u001b[0m\u001b[0;34m\u001b[0m\u001b[0m\n",
      "\u001b[0;32m~/miniconda3/envs/arma/lib/python3.8/site-packages/networkx/drawing/layout.py\u001b[0m in \u001b[0;36mfruchterman_reingold_layout\u001b[0;34m(G, k, pos, fixed, iterations, threshold, weight, scale, center, dim, seed)\u001b[0m\n\u001b[1;32m    489\u001b[0m             \u001b[0mnnodes\u001b[0m\u001b[0;34m,\u001b[0m \u001b[0m_\u001b[0m \u001b[0;34m=\u001b[0m \u001b[0mA\u001b[0m\u001b[0;34m.\u001b[0m\u001b[0mshape\u001b[0m\u001b[0;34m\u001b[0m\u001b[0;34m\u001b[0m\u001b[0m\n\u001b[1;32m    490\u001b[0m             \u001b[0mk\u001b[0m \u001b[0;34m=\u001b[0m \u001b[0mdom_size\u001b[0m \u001b[0;34m/\u001b[0m \u001b[0mnp\u001b[0m\u001b[0;34m.\u001b[0m\u001b[0msqrt\u001b[0m\u001b[0;34m(\u001b[0m\u001b[0mnnodes\u001b[0m\u001b[0;34m)\u001b[0m\u001b[0;34m\u001b[0m\u001b[0;34m\u001b[0m\u001b[0m\n\u001b[0;32m--> 491\u001b[0;31m         pos = _sparse_fruchterman_reingold(\n\u001b[0m\u001b[1;32m    492\u001b[0m             \u001b[0mA\u001b[0m\u001b[0;34m,\u001b[0m \u001b[0mk\u001b[0m\u001b[0;34m,\u001b[0m \u001b[0mpos_arr\u001b[0m\u001b[0;34m,\u001b[0m \u001b[0mfixed\u001b[0m\u001b[0;34m,\u001b[0m \u001b[0miterations\u001b[0m\u001b[0;34m,\u001b[0m \u001b[0mthreshold\u001b[0m\u001b[0;34m,\u001b[0m \u001b[0mdim\u001b[0m\u001b[0;34m,\u001b[0m \u001b[0mseed\u001b[0m\u001b[0;34m\u001b[0m\u001b[0;34m\u001b[0m\u001b[0m\n\u001b[1;32m    493\u001b[0m         )\n",
      "\u001b[0;32m<decorator-gen-856>\u001b[0m in \u001b[0;36m_sparse_fruchterman_reingold\u001b[0;34m(A, k, pos, fixed, iterations, threshold, dim, seed)\u001b[0m\n",
      "\u001b[0;32m~/miniconda3/envs/arma/lib/python3.8/site-packages/networkx/utils/decorators.py\u001b[0m in \u001b[0;36m_random_state\u001b[0;34m(func, *args, **kwargs)\u001b[0m\n\u001b[1;32m    406\u001b[0m         \u001b[0mnew_args\u001b[0m \u001b[0;34m=\u001b[0m \u001b[0mlist\u001b[0m\u001b[0;34m(\u001b[0m\u001b[0margs\u001b[0m\u001b[0;34m)\u001b[0m\u001b[0;34m\u001b[0m\u001b[0;34m\u001b[0m\u001b[0m\n\u001b[1;32m    407\u001b[0m         \u001b[0mnew_args\u001b[0m\u001b[0;34m[\u001b[0m\u001b[0mrandom_state_index\u001b[0m\u001b[0;34m]\u001b[0m \u001b[0;34m=\u001b[0m \u001b[0mrandom_state\u001b[0m\u001b[0;34m\u001b[0m\u001b[0;34m\u001b[0m\u001b[0m\n\u001b[0;32m--> 408\u001b[0;31m         \u001b[0;32mreturn\u001b[0m \u001b[0mfunc\u001b[0m\u001b[0;34m(\u001b[0m\u001b[0;34m*\u001b[0m\u001b[0mnew_args\u001b[0m\u001b[0;34m,\u001b[0m \u001b[0;34m**\u001b[0m\u001b[0mkwargs\u001b[0m\u001b[0;34m)\u001b[0m\u001b[0;34m\u001b[0m\u001b[0;34m\u001b[0m\u001b[0m\n\u001b[0m\u001b[1;32m    409\u001b[0m \u001b[0;34m\u001b[0m\u001b[0m\n\u001b[1;32m    410\u001b[0m     \u001b[0;32mreturn\u001b[0m \u001b[0m_random_state\u001b[0m\u001b[0;34m\u001b[0m\u001b[0;34m\u001b[0m\u001b[0m\n",
      "\u001b[0;32m~/miniconda3/envs/arma/lib/python3.8/site-packages/networkx/drawing/layout.py\u001b[0m in \u001b[0;36m_sparse_fruchterman_reingold\u001b[0;34m(A, k, pos, fixed, iterations, threshold, dim, seed)\u001b[0m\n\u001b[1;32m    629\u001b[0m             \u001b[0mdelta\u001b[0m \u001b[0;34m=\u001b[0m \u001b[0;34m(\u001b[0m\u001b[0mpos\u001b[0m\u001b[0;34m[\u001b[0m\u001b[0mi\u001b[0m\u001b[0;34m]\u001b[0m \u001b[0;34m-\u001b[0m \u001b[0mpos\u001b[0m\u001b[0;34m)\u001b[0m\u001b[0;34m.\u001b[0m\u001b[0mT\u001b[0m\u001b[0;34m\u001b[0m\u001b[0;34m\u001b[0m\u001b[0m\n\u001b[1;32m    630\u001b[0m             \u001b[0;31m# distance between points\u001b[0m\u001b[0;34m\u001b[0m\u001b[0;34m\u001b[0m\u001b[0;34m\u001b[0m\u001b[0m\n\u001b[0;32m--> 631\u001b[0;31m             \u001b[0mdistance\u001b[0m \u001b[0;34m=\u001b[0m \u001b[0mnp\u001b[0m\u001b[0;34m.\u001b[0m\u001b[0msqrt\u001b[0m\u001b[0;34m(\u001b[0m\u001b[0;34m(\u001b[0m\u001b[0mdelta\u001b[0m \u001b[0;34m**\u001b[0m \u001b[0;36m2\u001b[0m\u001b[0;34m)\u001b[0m\u001b[0;34m.\u001b[0m\u001b[0msum\u001b[0m\u001b[0;34m(\u001b[0m\u001b[0maxis\u001b[0m\u001b[0;34m=\u001b[0m\u001b[0;36m0\u001b[0m\u001b[0;34m)\u001b[0m\u001b[0;34m)\u001b[0m\u001b[0;34m\u001b[0m\u001b[0;34m\u001b[0m\u001b[0m\n\u001b[0m\u001b[1;32m    632\u001b[0m             \u001b[0;31m# enforce minimum distance of 0.01\u001b[0m\u001b[0;34m\u001b[0m\u001b[0;34m\u001b[0m\u001b[0;34m\u001b[0m\u001b[0m\n\u001b[1;32m    633\u001b[0m             \u001b[0mdistance\u001b[0m \u001b[0;34m=\u001b[0m \u001b[0mnp\u001b[0m\u001b[0;34m.\u001b[0m\u001b[0mwhere\u001b[0m\u001b[0;34m(\u001b[0m\u001b[0mdistance\u001b[0m \u001b[0;34m<\u001b[0m \u001b[0;36m0.01\u001b[0m\u001b[0;34m,\u001b[0m \u001b[0;36m0.01\u001b[0m\u001b[0;34m,\u001b[0m \u001b[0mdistance\u001b[0m\u001b[0;34m)\u001b[0m\u001b[0;34m\u001b[0m\u001b[0;34m\u001b[0m\u001b[0m\n",
      "\u001b[0;32m~/miniconda3/envs/arma/lib/python3.8/site-packages/numpy/core/_methods.py\u001b[0m in \u001b[0;36m_sum\u001b[0;34m(a, axis, dtype, out, keepdims, initial, where)\u001b[0m\n\u001b[1;32m     45\u001b[0m def _sum(a, axis=None, dtype=None, out=None, keepdims=False,\n\u001b[1;32m     46\u001b[0m          initial=_NoValue, where=True):\n\u001b[0;32m---> 47\u001b[0;31m     \u001b[0;32mreturn\u001b[0m \u001b[0mumr_sum\u001b[0m\u001b[0;34m(\u001b[0m\u001b[0ma\u001b[0m\u001b[0;34m,\u001b[0m \u001b[0maxis\u001b[0m\u001b[0;34m,\u001b[0m \u001b[0mdtype\u001b[0m\u001b[0;34m,\u001b[0m \u001b[0mout\u001b[0m\u001b[0;34m,\u001b[0m \u001b[0mkeepdims\u001b[0m\u001b[0;34m,\u001b[0m \u001b[0minitial\u001b[0m\u001b[0;34m,\u001b[0m \u001b[0mwhere\u001b[0m\u001b[0;34m)\u001b[0m\u001b[0;34m\u001b[0m\u001b[0;34m\u001b[0m\u001b[0m\n\u001b[0m\u001b[1;32m     48\u001b[0m \u001b[0;34m\u001b[0m\u001b[0m\n\u001b[1;32m     49\u001b[0m def _prod(a, axis=None, dtype=None, out=None, keepdims=False,\n",
      "\u001b[0;31mKeyboardInterrupt\u001b[0m: "
     ]
    }
   ],
   "source": [
    "plot_bipartite_graph(B, small_degree=False, percentage=percentage)\n",
    "plt.savefig(f'plots_net/network_{str(percentage)}_{str(len(df))}.pdf')\n",
    "plt.savefig(f'plots_net/network_{str(percentage)}_{str(len(df))}.png')"
   ]
  },
  {
   "cell_type": "code",
   "execution_count": null,
   "id": "intelligent-crawford",
   "metadata": {},
   "outputs": [],
   "source": [
    "plot_bipartite_graph(B, small_degree=False, circular=True, percentage=50)\n",
    "plt.savefig(f'plots_net/network_{str(percentage)}_circ_{str(len(df))}.pdf')\n",
    "plt.savefig(f'plots_net/network_{str(percentage)}_circ_{str(len(df))}.png')"
   ]
  },
  {
   "cell_type": "code",
   "execution_count": 34,
   "id": "bound-violin",
   "metadata": {},
   "outputs": [],
   "source": [
    "[company_degree, tech_degree] = degree_bip(B)"
   ]
  },
  {
   "cell_type": "code",
   "execution_count": 35,
   "id": "stone-sheriff",
   "metadata": {},
   "outputs": [
    {
     "name": "stdout",
     "output_type": "stream",
     "text": [
      "We have 32028 companies and 687 technologies\n"
     ]
    }
   ],
   "source": [
    "print(f\"We have {len(company_degree)} companies and {len(tech_degree)} technologies\")"
   ]
  },
  {
   "cell_type": "code",
   "execution_count": 36,
   "id": "constant-visitor",
   "metadata": {},
   "outputs": [],
   "source": [
    "# sort by value\n",
    "company_degree_sorted = dict(sorted(company_degree.items(), key=lambda item: item[1], reverse=True))\n",
    "tech_degree_sorted = dict(sorted(tech_degree.items(), key=lambda item: item[1], reverse=True))\n",
    "\n",
    "# only maximum \n",
    "num_max = 10\n",
    "\n",
    "\n",
    "# check we don't go out of range\n",
    "if len(company_degree)<num_max or len(tech_degree)<num_max:\n",
    "    minn = min(len(company_degree), len(tech_degree))\n",
    "    num_max = minn-1\n",
    "\n",
    "def limit_value(x, num_max_perc):\n",
    "    return list(x.values())[num_max_perc]\n",
    "\n",
    "company_degree_max = {k: company_degree_sorted[k] for k in list(company_degree_sorted.keys())[:num_max]}\n",
    "tech_degree_max = {k: tech_degree_sorted[k] for k in list(tech_degree_sorted.keys())[:num_max]}\n"
   ]
  },
  {
   "cell_type": "code",
   "execution_count": 37,
   "id": "potential-updating",
   "metadata": {},
   "outputs": [
    {
     "data": {
      "image/png": "[encoded data removed]",
      "text/plain": [
       "<Figure size 432x288 with 1 Axes>"
      ]
     },
     "metadata": {
      "needs_background": "light"
     },
     "output_type": "display_data"
    }
   ],
   "source": [
    "plt.barh(list(company_degree_max.keys()), company_degree_max.values(), color='g')\n",
    "plt.grid(True)\n",
    "plt.show()"
   ]
  },
  {
   "cell_type": "code",
   "execution_count": 38,
   "id": "grave-cache",
   "metadata": {},
   "outputs": [
    {
     "data": {
      "image/png": "[encoded data removed]",
      "text/plain": [
       "<Figure size 432x288 with 1 Axes>"
      ]
     },
     "metadata": {
      "needs_background": "light"
     },
     "output_type": "display_data"
    }
   ],
   "source": [
    "plt.barh(list(tech_degree_max.keys()), tech_degree_max.values(), color='g')\n",
    "plt.grid(True)\n",
    "plt.show()"
   ]
  },
  {
   "cell_type": "code",
   "execution_count": 39,
   "id": "civic-posting",
   "metadata": {},
   "outputs": [],
   "source": [
    "# companies' degree \n",
    "dict_companies = insert_data_classes(dict_companies, dict(company_degree), 'degree')"
   ]
  },
  {
   "cell_type": "code",
   "execution_count": 40,
   "id": "empirical-radar",
   "metadata": {},
   "outputs": [],
   "source": [
    "# technologies' degree\n",
    "dict_tech = insert_data_classes(dict_tech, dict(tech_degree), 'degree')"
   ]
  },
  {
   "cell_type": "code",
   "execution_count": 41,
   "id": "impressive-feeling",
   "metadata": {},
   "outputs": [
    {
     "data": {
      "image/png": "[encoded data removed]",
      "text/plain": [
       "<Figure size 864x576 with 1 Axes>"
      ]
     },
     "metadata": {
      "needs_background": "light"
     },
     "output_type": "display_data"
    }
   ],
   "source": [
    "a = list(company_degree.values())\n",
    "b = list(tech_degree.values())\n",
    "degrees_a = range(len(a))\n",
    "degrees_b = range(len(b))\n",
    "\n",
    "m=0\n",
    "plt.figure(figsize=(12, 8)) \n",
    "plt.loglog(degrees_a[m:], a,'go-', label='Companies degree') \n",
    "plt.loglog(degrees_b[m:], b,'ro-', label='Technologies degree') \n",
    "plt.xlabel('Degree')\n",
    "plt.ylabel('Frequency')\n",
    "plt.legend()\n",
    "plt.show()"
   ]
  },
  {
   "cell_type": "code",
   "execution_count": 42,
   "id": "italic-somerset",
   "metadata": {},
   "outputs": [
    {
     "data": {
      "image/png": "[encoded data removed]",
      "text/plain": [
       "<Figure size 360x360 with 1 Axes>"
      ]
     },
     "metadata": {},
     "output_type": "display_data"
    },
    {
     "data": {
      "image/png": "[encoded data removed]",
      "text/plain": [
       "<Figure size 360x360 with 1 Axes>"
      ]
     },
     "metadata": {},
     "output_type": "display_data"
    }
   ],
   "source": [
    "sns.set(style=\"darkgrid\")\n",
    "sns.displot(a, color=\"blue\", label=\"Companies degree\", kde=True)\n",
    "plt.xlabel(\"Companies degree\")\n",
    "sns.displot(b, color=\"red\", label=\"Technologies degree\", kde=True)\n",
    "plt.xlabel(\"Technologies degree\")\n",
    "plt.show()"
   ]
  },
  {
   "cell_type": "markdown",
   "id": "diagnostic-indiana",
   "metadata": {},
   "source": [
    "### Rank"
   ]
  },
  {
   "cell_type": "code",
   "execution_count": 43,
   "id": "extra-mayor",
   "metadata": {},
   "outputs": [],
   "source": [
    "from networkx.algorithms.bipartite.matrix import biadjacency_matrix"
   ]
  },
  {
   "cell_type": "code",
   "execution_count": 44,
   "id": "honest-herald",
   "metadata": {},
   "outputs": [],
   "source": [
    "set0 = extract_nodes(B, 0)\n",
    "set1 = extract_nodes(B, 1)\n",
    "\n",
    "# adjacency matrix of bipartite graph\n",
    "adj_matrix = biadjacency_matrix(B, set0, set1)"
   ]
  },
  {
   "cell_type": "code",
   "execution_count": 45,
   "id": "driving-flour",
   "metadata": {},
   "outputs": [],
   "source": [
    "adj_matrix_dense = adj_matrix.todense()"
   ]
  },
  {
   "cell_type": "markdown",
   "id": "worse-timber",
   "metadata": {},
   "source": [
    "**Representation**"
   ]
  },
  {
   "cell_type": "code",
   "execution_count": 46,
   "id": "historical-doctrine",
   "metadata": {},
   "outputs": [],
   "source": [
    "a = np.squeeze(np.asarray(adj_matrix_dense))\n",
    "#a.sum(axis=1)"
   ]
  },
  {
   "cell_type": "code",
   "execution_count": 47,
   "id": "inclusive-truck",
   "metadata": {},
   "outputs": [],
   "source": [
    "#company_degree"
   ]
  },
  {
   "cell_type": "code",
   "execution_count": 48,
   "id": "provincial-tracker",
   "metadata": {},
   "outputs": [],
   "source": [
    "#tech_degree"
   ]
  },
  {
   "cell_type": "code",
   "execution_count": 49,
   "id": "binary-comment",
   "metadata": {},
   "outputs": [],
   "source": [
    "# import functions from py file \n",
    "\n",
    "import functions_method_of_reflections\n",
    "reload(functions_method_of_reflections)\n",
    "from functions_method_of_reflections import zero_order_score, Gct_beta, Gtc_alpha, make_G_hat, next_order_score, generator_order_w\n",
    "from functions_method_of_reflections import M_test_triangular, w_stream, find_convergence, rank_df_class"
   ]
  },
  {
   "cell_type": "code",
   "execution_count": 50,
   "id": "absent-output",
   "metadata": {},
   "outputs": [],
   "source": [
    "# M is the array version of the matrix adj_matrix_dense:\n",
    "M = np.squeeze(np.asarray(adj_matrix_dense))"
   ]
  },
  {
   "cell_type": "markdown",
   "id": "orange-barbados",
   "metadata": {},
   "source": [
    "### Triangularize matrix"
   ]
  },
  {
   "cell_type": "code",
   "execution_count": 51,
   "id": "formed-yemen",
   "metadata": {},
   "outputs": [
    {
     "data": {
      "image/png": "[encoded data removed]",
      "text/plain": [
       "<Figure size 720x720 with 1 Axes>"
      ]
     },
     "metadata": {},
     "output_type": "display_data"
    }
   ],
   "source": [
    "M_test_triangular(adj_matrix_dense)"
   ]
  },
  {
   "cell_type": "markdown",
   "id": "missing-woman",
   "metadata": {},
   "source": [
    "### Zero order score\n",
    "\n",
    "These are an $w_{c}$ editor-vector which is the sums of articles edited by each editor. Or the article-vector $w_{p}$, which is the sum of editors contributing to each article.\n",
    "\n",
    "\\begin{cases}\n",
    " w_{c}^{(0)} = \\sum_{p=1}^{N_{p}} M \\equiv k_c\\\\[7pt]\n",
    " w_{p}^{(0)} = \\sum_{c=1}^{N_{c}} M \\equiv k_p\n",
    "\\end{cases}"
   ]
  },
  {
   "cell_type": "code",
   "execution_count": null,
   "id": "helpful-comparison",
   "metadata": {},
   "outputs": [],
   "source": [
    "k_c, k_t = zero_order_score(M)"
   ]
  },
  {
   "cell_type": "markdown",
   "id": "failing-finnish",
   "metadata": {},
   "source": [
    "### G - transition probability function\n",
    "\n",
    "Depending on $\\alpha$ and $\\beta$ we non-linearly weight based on the Zeroth order iterations. \n",
    "\n",
    "\\begin{cases}\n",
    "G_{ct}(\\beta) = \\frac{M_{ct} k_{c}^{-\\beta}}{\\sum_{c' = 1}^{N_c} M_{c't} k_{c'}^{-\\beta}}\\\\[10pt]\n",
    "G_{tc}(\\alpha) = \\frac{M_{ct} k_{t}^{-\\alpha}}{\\sum_{t' = 1}^{N_t} M_{ct'} k_{t'}^{-\\alpha}}.\\\\\\end{cases}"
   ]
  },
  {
   "cell_type": "markdown",
   "id": "unnecessary-variance",
   "metadata": {},
   "source": [
    "### Higher cases\n",
    "\n",
    "The first order $w^{1}_c$ is the sum of the articles touched, but weighted by the Zeroth order article-vector (and the $G$ term). So if you've edited better articles that counts. And $w^{1}_c$ is the sum of editors touching, but weighted by the Zeroth order editor-vector (and $G$). So if you're touched by better editors that's also being considered. \n",
    "\n",
    "Beyond the first order interpretation for the higher orders is difficult.\n",
    "\n",
    "\\begin{cases}\n",
    "w^{(n+1)}_c (\\alpha,\\beta) = \\sum_{t=1}^{N_p}  G_{ct}(\\beta) \\,w^{(n)}_t (\\alpha,\\beta)\\\\[7pt]\n",
    "w^{(n+1)}_t (\\alpha,\\beta) = \\sum_{c=1}^{N_c}  G_{tc}(\\alpha) \\, w^{(n)}_c (\\alpha,\\beta)\\\\\n",
    "\\end{cases}"
   ]
  },
  {
   "cell_type": "markdown",
   "id": "interested-ambassador",
   "metadata": {},
   "source": [
    "#### Companies"
   ]
  },
  {
   "cell_type": "code",
   "execution_count": null,
   "id": "analyzed-cause",
   "metadata": {},
   "outputs": [],
   "source": [
    "convergence_comp = find_convergence(M, alpha=0.5, beta=0.5, fit_or_ubiq='fitness', do_plot=True)\n",
    "\n",
    "plt.savefig(f'plots/CSV_company_rank_evolution_{str(len(df))}.pdf')\n",
    "plt.savefig(f'plots/CSV_company_rank_evolution_{str(len(df))}.png')\n"
   ]
  },
  {
   "cell_type": "code",
   "execution_count": null,
   "id": "chubby-constraint",
   "metadata": {},
   "outputs": [],
   "source": [
    "df_final_companies, dict_companies = rank_df_class(convergence_comp, dict_companies)"
   ]
  },
  {
   "cell_type": "code",
   "execution_count": null,
   "id": "individual-occasions",
   "metadata": {},
   "outputs": [],
   "source": [
    "# relative rank\n",
    "df_final_companies['final_rank_normlized'] = df_final_companies['final_rank']/np.max(list(df_final_companies['final_rank']))*10\n",
    "n = np.max(df_final_companies['rank_CB']) + 1\n",
    "df_final_companies['rank_CB_normlized'] = n - df_final_companies['rank_CB']\n",
    "\n",
    "df_final_companies['TeckRank_int'] = df_final_companies.index + 1.0"
   ]
  },
  {
   "cell_type": "code",
   "execution_count": null,
   "id": "continuing-intention",
   "metadata": {},
   "outputs": [],
   "source": [
    "df_final_companies"
   ]
  },
  {
   "cell_type": "code",
   "execution_count": null,
   "id": "royal-legislation",
   "metadata": {},
   "outputs": [],
   "source": [
    "df_spearman = df_final_companies[[\"TeckRank_int\", \"rank_CB_normlized\"]]\n",
    "df_spearman = df_spearman.astype(float)\n",
    "df_spearman[\"name\"] = df_final_companies['final_configuration']\n",
    "df_spearman.set_index(\"name\")"
   ]
  },
  {
   "cell_type": "code",
   "execution_count": null,
   "id": "assured-investing",
   "metadata": {},
   "outputs": [],
   "source": [
    "df_spearman"
   ]
  },
  {
   "cell_type": "code",
   "execution_count": null,
   "id": "recovered-sherman",
   "metadata": {},
   "outputs": [],
   "source": [
    "len(df)"
   ]
  },
  {
   "cell_type": "code",
   "execution_count": null,
   "id": "hundred-removal",
   "metadata": {},
   "outputs": [],
   "source": [
    "# save df\n",
    "name = \"csv_results/complete_companies_\" + str(len(df)) + \".csv\"\n",
    "df_final_companies.to_csv(name, index = False, header=True)"
   ]
  },
  {
   "cell_type": "markdown",
   "id": "connected-exhibition",
   "metadata": {},
   "source": [
    "**Sperman correlation**"
   ]
  },
  {
   "cell_type": "code",
   "execution_count": null,
   "id": "rational-tablet",
   "metadata": {},
   "outputs": [],
   "source": [
    "sns.lmplot(x=\"rank_CB_normlized\", y=\"TeckRank_int\", data=df_spearman)\n",
    "plt.show()"
   ]
  },
  {
   "cell_type": "code",
   "execution_count": null,
   "id": "incoming-motel",
   "metadata": {},
   "outputs": [],
   "source": [
    "df_spearman.corr(method='spearman')"
   ]
  },
  {
   "cell_type": "markdown",
   "id": "mysterious-champion",
   "metadata": {},
   "source": [
    "#### Technologies"
   ]
  },
  {
   "cell_type": "code",
   "execution_count": null,
   "id": "close-vermont",
   "metadata": {},
   "outputs": [],
   "source": [
    "convergence_tech = find_convergence(M, alpha=0.5, beta=0.5, fit_or_ubiq='ubiquity', do_plot=True)\n",
    "\n",
    "plt.savefig(f'plots/CSV_tech_rank_evolution_{str(len(df))}.pdf')\n",
    "plt.savefig(f'plots/CSV_tech_rank_evolution_{str(len(df))}.png')"
   ]
  },
  {
   "cell_type": "code",
   "execution_count": null,
   "id": "preliminary-fighter",
   "metadata": {},
   "outputs": [],
   "source": [
    "df_final_tech, dict_tech = rank_df_class(convergence_tech, dict_tech)"
   ]
  },
  {
   "cell_type": "code",
   "execution_count": null,
   "id": "accessory-hundred",
   "metadata": {},
   "outputs": [],
   "source": [
    "df_final_tech"
   ]
  },
  {
   "cell_type": "code",
   "execution_count": null,
   "id": "light-today",
   "metadata": {},
   "outputs": [],
   "source": [
    "# save df\n",
    "name = \"csv_results/complete_tech_\" + str(len(df)) + \".csv\"\n",
    "\n",
    "df_final_tech.to_csv(name, index = False, header=True)"
   ]
  },
  {
   "cell_type": "code",
   "execution_count": null,
   "id": "reliable-greek",
   "metadata": {},
   "outputs": [],
   "source": []
  },
  {
   "cell_type": "code",
   "execution_count": null,
   "id": "everyday-worse",
   "metadata": {},
   "outputs": [],
   "source": []
  },
  {
   "cell_type": "code",
   "execution_count": null,
   "id": "conditional-shepherd",
   "metadata": {},
   "outputs": [],
   "source": []
  },
  {
   "cell_type": "code",
   "execution_count": null,
   "id": "worse-petroleum",
   "metadata": {},
   "outputs": [],
   "source": []
  },
  {
   "cell_type": "code",
   "execution_count": 1,
   "id": "impressive-experience",
   "metadata": {},
   "outputs": [],
   "source": [
    "a = 0"
   ]
  },
  {
   "cell_type": "code",
   "execution_count": null,
   "id": "packed-newark",
   "metadata": {},
   "outputs": [],
   "source": []
  },
  {
   "cell_type": "code",
   "execution_count": null,
   "id": "external-logic",
   "metadata": {},
   "outputs": [],
   "source": []
  }
 ],
 "metadata": {
  "kernelspec": {
   "display_name": "Python 3",
   "language": "python",
   "name": "python3"
  },
  "language_info": {
   "codemirror_mode": {
    "name": "ipython",
    "version": 3
   },
   "file_extension": ".py",
   "mimetype": "text/x-python",
   "name": "python",
   "nbconvert_exporter": "python",
   "pygments_lexer": "ipython3",
   "version": "3.8.5"
  }
 },
 "nbformat": 4,
 "nbformat_minor": 5
}
