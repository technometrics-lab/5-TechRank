{
 "cells": [
  {
   "cell_type": "code",
   "execution_count": 132,
   "id": "cathedral-deviation",
   "metadata": {},
   "outputs": [],
   "source": [
    "import pandas as pd"
   ]
  },
  {
   "cell_type": "code",
   "execution_count": 137,
   "id": "mobile-warehouse",
   "metadata": {},
   "outputs": [],
   "source": [
    "columns = {\n",
    "    'num_comp',\n",
    "    'num_tech',\n",
    "    'preferences_comp',\n",
    "    'preferences_tech',\n",
    "    'optimal_alpha_comp',\n",
    "    'optimal_beta_comp',\n",
    "    'optimal_alpha_tech',\n",
    "    'optimal_beta_tech',\n",
    "    'time_optimal_par_comp', # time needed to find the optimal beta\n",
    "    'time_optimal_par_tech', # sum of time_optimal_alpha and time_optimal_beta\n",
    "    'time_conv_comp', # time needed to find convergence of companies rank\n",
    "    'time_conv_tech', # time needed to find convergence of technology rank\n",
    "    'time_conv_total', # sum of time_conv_comp an time_conv_tech\n",
    "    'number_iterations_comp', # number of iteration to arrive to convergence for companies\n",
    "    'number_iterations_tech', # number of iteration to arrive to convergence for technologies\n",
    "}\n",
    "\n",
    "df_rank_evolu = pd.DataFrame(columns=columns)"
   ]
  },
  {
   "cell_type": "code",
   "execution_count": 138,
   "id": "celtic-somewhere",
   "metadata": {},
   "outputs": [
    {
     "data": {
      "text/html": [
       "<div>\n",
       "<style scoped>\n",
       "    .dataframe tbody tr th:only-of-type {\n",
       "        vertical-align: middle;\n",
       "    }\n",
       "\n",
       "    .dataframe tbody tr th {\n",
       "        vertical-align: top;\n",
       "    }\n",
       "\n",
       "    .dataframe thead th {\n",
       "        text-align: right;\n",
       "    }\n",
       "</style>\n",
       "<table border=\"1\" class=\"dataframe\">\n",
       "  <thead>\n",
       "    <tr style=\"text-align: right;\">\n",
       "      <th></th>\n",
       "      <th>number_iterations_tech</th>\n",
       "      <th>optimal_alpha_tech</th>\n",
       "      <th>time_conv_total</th>\n",
       "      <th>time_optimal_par_comp</th>\n",
       "      <th>number_iterations_comp</th>\n",
       "      <th>num_comp</th>\n",
       "      <th>time_conv_comp</th>\n",
       "      <th>num_tech</th>\n",
       "      <th>preferences_tech</th>\n",
       "      <th>time_optimal_par_tech</th>\n",
       "      <th>optimal_alpha_comp</th>\n",
       "      <th>optimal_beta_tech</th>\n",
       "      <th>time_conv_tech</th>\n",
       "      <th>preferences_comp</th>\n",
       "      <th>optimal_beta_comp</th>\n",
       "    </tr>\n",
       "  </thead>\n",
       "  <tbody>\n",
       "  </tbody>\n",
       "</table>\n",
       "</div>"
      ],
      "text/plain": [
       "Empty DataFrame\n",
       "Columns: [number_iterations_tech, optimal_alpha_tech, time_conv_total, time_optimal_par_comp, number_iterations_comp, num_comp, time_conv_comp, num_tech, preferences_tech, time_optimal_par_tech, optimal_alpha_comp, optimal_beta_tech, time_conv_tech, preferences_comp, optimal_beta_comp]\n",
       "Index: []"
      ]
     },
     "execution_count": 138,
     "metadata": {},
     "output_type": "execute_result"
    }
   ],
   "source": [
    "df_rank_evolu.head()"
   ]
  },
  {
   "cell_type": "code",
   "execution_count": 139,
   "id": "outdoor-shaft",
   "metadata": {},
   "outputs": [],
   "source": [
    "# save \n",
    "df_rank_evolu.to_csv('savings/useful_datasets/df_rank_evolu.csv')"
   ]
  },
  {
   "cell_type": "code",
   "execution_count": null,
   "id": "binary-henry",
   "metadata": {},
   "outputs": [],
   "source": []
  },
  {
   "cell_type": "code",
   "execution_count": null,
   "id": "superior-guide",
   "metadata": {},
   "outputs": [],
   "source": []
  },
  {
   "cell_type": "code",
   "execution_count": null,
   "id": "significant-cutting",
   "metadata": {},
   "outputs": [],
   "source": []
  }
 ],
 "metadata": {
  "kernelspec": {
   "display_name": "Python 3",
   "language": "python",
   "name": "python3"
  },
  "language_info": {
   "codemirror_mode": {
    "name": "ipython",
    "version": 3
   },
   "file_extension": ".py",
   "mimetype": "text/x-python",
   "name": "python",
   "nbconvert_exporter": "python",
   "pygments_lexer": "ipython3",
   "version": "3.8.5"
  }
 },
 "nbformat": 4,
 "nbformat_minor": 5
}
