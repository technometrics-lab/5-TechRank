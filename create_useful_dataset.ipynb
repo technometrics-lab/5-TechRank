{
 "cells": [
  {
   "cell_type": "code",
   "execution_count": 2,
   "id": "outdoor-fetish",
   "metadata": {},
   "outputs": [],
   "source": [
    "import pandas as pd"
   ]
  },
  {
   "cell_type": "code",
   "execution_count": 2,
   "id": "taken-gospel",
   "metadata": {},
   "outputs": [],
   "source": [
    "columns = {\n",
    "    'num_comp',\n",
    "    'num_tech',\n",
    "    'preferences_comp',\n",
    "    'preferences_tech',\n",
    "    'optimal_alpha_comp',\n",
    "    'optimal_beta_comp',\n",
    "    'optimal_alpha_tech',\n",
    "    'optimal_beta_tech',\n",
    "    'time_optimal_par_comp', # time needed to find the optimal beta\n",
    "    'time_optimal_par_tech', # sum of time_optimal_alpha and time_optimal_beta\n",
    "    'time_conv_comp', # time needed to find convergence of companies rank\n",
    "    'time_conv_tech', # time needed to find convergence of technology rank\n",
    "    'time_conv_total', # sum of time_conv_comp an time_conv_tech\n",
    "    'number_iterations_comp', # number of iteration to arrive to convergence for companies\n",
    "    'number_iterations_tech', # number of iteration to arrive to convergence for technologies\n",
    "    'spearman_corr_with_cb' # spearman corrlation (only for companies) among techrank and CB rank\n",
    "}\n",
    "\n",
    "df_rank_evolu = pd.DataFrame(columns=columns)"
   ]
  },
  {
   "cell_type": "code",
   "execution_count": 3,
   "id": "joined-validity",
   "metadata": {},
   "outputs": [
    {
     "data": {
      "text/html": [
       "<div>\n",
       "<style scoped>\n",
       "    .dataframe tbody tr th:only-of-type {\n",
       "        vertical-align: middle;\n",
       "    }\n",
       "\n",
       "    .dataframe tbody tr th {\n",
       "        vertical-align: top;\n",
       "    }\n",
       "\n",
       "    .dataframe thead th {\n",
       "        text-align: right;\n",
       "    }\n",
       "</style>\n",
       "<table border=\"1\" class=\"dataframe\">\n",
       "  <thead>\n",
       "    <tr style=\"text-align: right;\">\n",
       "      <th></th>\n",
       "      <th>time_optimal_par_comp</th>\n",
       "      <th>num_tech</th>\n",
       "      <th>optimal_alpha_comp</th>\n",
       "      <th>preferences_comp</th>\n",
       "      <th>number_iterations_tech</th>\n",
       "      <th>time_conv_tech</th>\n",
       "      <th>time_conv_total</th>\n",
       "      <th>optimal_beta_comp</th>\n",
       "      <th>time_optimal_par_tech</th>\n",
       "      <th>preferences_tech</th>\n",
       "      <th>spearman_corr_with_cb</th>\n",
       "      <th>number_iterations_comp</th>\n",
       "      <th>num_comp</th>\n",
       "      <th>optimal_beta_tech</th>\n",
       "      <th>time_conv_comp</th>\n",
       "      <th>optimal_alpha_tech</th>\n",
       "    </tr>\n",
       "  </thead>\n",
       "  <tbody>\n",
       "  </tbody>\n",
       "</table>\n",
       "</div>"
      ],
      "text/plain": [
       "Empty DataFrame\n",
       "Columns: [time_optimal_par_comp, num_tech, optimal_alpha_comp, preferences_comp, number_iterations_tech, time_conv_tech, time_conv_total, optimal_beta_comp, time_optimal_par_tech, preferences_tech, spearman_corr_with_cb, number_iterations_comp, num_comp, optimal_beta_tech, time_conv_comp, optimal_alpha_tech]\n",
       "Index: []"
      ]
     },
     "execution_count": 3,
     "metadata": {},
     "output_type": "execute_result"
    }
   ],
   "source": [
    "df_rank_evolu.head()"
   ]
  },
  {
   "cell_type": "code",
   "execution_count": 4,
   "id": "sacred-leeds",
   "metadata": {},
   "outputs": [],
   "source": [
    "# save \n",
    "df_rank_evolu.to_csv('savings/useful_datasets/df_rank_evolu.csv')"
   ]
  },
  {
   "cell_type": "markdown",
   "id": "independent-milan",
   "metadata": {},
   "source": [
    "### Delete useless columns"
   ]
  },
  {
   "cell_type": "code",
   "execution_count": 3,
   "id": "conventional-print",
   "metadata": {},
   "outputs": [],
   "source": [
    "df_rank_evolu = pd.read_csv('savings/useful_datasets/df_rank_evolu.csv')"
   ]
  },
  {
   "cell_type": "code",
   "execution_count": 4,
   "id": "soviet-colleague",
   "metadata": {},
   "outputs": [
    {
     "data": {
      "text/plain": [
       "Index(['Unnamed: 0', 'Unnamed: 0.1', 'Unnamed: 0.1.1', 'time_optimal_par_comp',\n",
       "       'num_tech', 'optimal_alpha_comp', 'preferences_comp',\n",
       "       'number_iterations_tech', 'time_conv_tech', 'time_conv_total',\n",
       "       'optimal_beta_comp', 'time_optimal_par_tech', 'preferences_tech',\n",
       "       'spearman_corr_with_cb', 'number_iterations_comp', 'num_comp',\n",
       "       'optimal_beta_tech', 'time_conv_comp', 'optimal_alpha_tech'],\n",
       "      dtype='object')"
      ]
     },
     "execution_count": 4,
     "metadata": {},
     "output_type": "execute_result"
    }
   ],
   "source": [
    "df_rank_evolu.columns"
   ]
  },
  {
   "cell_type": "code",
   "execution_count": 5,
   "id": "medieval-appliance",
   "metadata": {},
   "outputs": [],
   "source": [
    "df_rank_evolu = df_rank_evolu.drop(['Unnamed: 0'], axis=1)"
   ]
  },
  {
   "cell_type": "code",
   "execution_count": 6,
   "id": "technical-aaron",
   "metadata": {},
   "outputs": [],
   "source": [
    "df_rank_evolu.to_csv('savings/useful_datasets/df_rank_evolu.csv')"
   ]
  },
  {
   "cell_type": "code",
   "execution_count": null,
   "id": "norman-interstate",
   "metadata": {},
   "outputs": [],
   "source": []
  }
 ],
 "metadata": {
  "kernelspec": {
   "display_name": "Python 3",
   "language": "python",
   "name": "python3"
  },
  "language_info": {
   "codemirror_mode": {
    "name": "ipython",
    "version": 3
   },
   "file_extension": ".py",
   "mimetype": "text/x-python",
   "name": "python",
   "nbconvert_exporter": "python",
   "pygments_lexer": "ipython3",
   "version": "3.8.5"
  }
 },
 "nbformat": 4,
 "nbformat_minor": 5
}
