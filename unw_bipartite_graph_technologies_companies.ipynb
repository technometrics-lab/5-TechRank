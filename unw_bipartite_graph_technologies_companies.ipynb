{
 "cells": [
  {
   "cell_type": "code",
   "execution_count": 1,
   "id": "cardiovascular-rover",
   "metadata": {},
   "outputs": [
    {
     "data": {
      "text/plain": [
       "True"
      ]
     },
     "execution_count": 1,
     "metadata": {},
     "output_type": "execute_result"
    }
   ],
   "source": [
    "import json\n",
    "import requests\n",
    "import os\n",
    "from dotenv import load_dotenv\n",
    "import math\n",
    "import pandas as pd\n",
    "from pandas import json_normalize \n",
    "\n",
    "\n",
    "load_dotenv(verbose=True)"
   ]
  },
  {
   "cell_type": "code",
   "execution_count": 16,
   "id": "thermal-founder",
   "metadata": {},
   "outputs": [],
   "source": [
    "api_key = os.getenv(\"CRUNCHBASE_API_KEY\") # extract API key \n",
    "base_url = \"https://api.crunchbase.com/api/\"\n",
    "params = {\"user_key\" : api_key}"
   ]
  },
  {
   "cell_type": "markdown",
   "id": "abandoned-password",
   "metadata": {},
   "source": [
    "Organization download"
   ]
  },
  {
   "cell_type": "code",
   "execution_count": 17,
   "id": "spiritual-grass",
   "metadata": {},
   "outputs": [],
   "source": [
    "query_swiss = {\n",
    "    \"field_ids\": [\n",
    "        \"name\",\n",
    "        #\"created_at\",\n",
    "        \"short_description\",\n",
    "        \"location_identifiers\",\n",
    "        #\"funding_stage\",\n",
    "        #\"funding_total\",\n",
    "        \"categories\",\n",
    "        \"category_groups\",\n",
    "        \"facet_ids\",\n",
    "        \"twitter\",\n",
    "        \"rank_org\"\n",
    "        \n",
    "    ],\n",
    "    \"limit\": 1000,\n",
    "    \"query\": [\n",
    "        {\n",
    "          \"type\": \"predicate\",\n",
    "          \"field_id\": \"location_identifiers\",\n",
    "          \"operator_id\": \"includes\",\n",
    "          \"values\": [\"Switzerland\"]\n",
    "        },\n",
    "    ]\n",
    "}\n",
    "\n",
    "r = requests.post(f\"https://api.crunchbase.com/api/v4/searches/organizations\", json=query_swiss, params=params)"
   ]
  },
  {
   "cell_type": "code",
   "execution_count": 18,
   "id": "asian-works",
   "metadata": {},
   "outputs": [],
   "source": [
    "query = {\n",
    "    \"field_ids\": [\n",
    "        \"name\",\n",
    "        \"short_description\",\n",
    "        \"location_identifiers\",\n",
    "        \"categories\",\n",
    "        \"category_groups\",\n",
    "        \"facet_ids\",\n",
    "        \"twitter\",\n",
    "        \"rank_org\"\n",
    "        \n",
    "    ],\n",
    "    \"limit\": 1000,\n",
    "}\n",
    "\n",
    "r = requests.post(f\"https://api.crunchbase.com/api/v4/searches/organizations\", json=query, params=params)"
   ]
  },
  {
   "cell_type": "code",
   "execution_count": 19,
   "id": "optimum-tradition",
   "metadata": {},
   "outputs": [],
   "source": [
    "json_data = json.loads(r.text)"
   ]
  },
  {
   "cell_type": "code",
   "execution_count": 20,
   "id": "cordless-nicholas",
   "metadata": {},
   "outputs": [],
   "source": [
    "df = pd.json_normalize(json_data['entities'])\n",
    "#df.head()"
   ]
  },
  {
   "cell_type": "markdown",
   "id": "critical-abuse",
   "metadata": {},
   "source": [
    "## Data Cleaning"
   ]
  },
  {
   "cell_type": "code",
   "execution_count": 21,
   "id": "universal-bankruptcy",
   "metadata": {},
   "outputs": [],
   "source": [
    "# remove useless columns\n",
    "df = df.drop([\"uuid\", \"properties.identifier.image_id\", \"properties.identifier.uuid\", \"properties.identifier.entity_def_id\"], axis=1) \n",
    "\n",
    "# rename columns\n",
    "df = df.rename(columns = {'properties.name': 'name', 'properties.category_groups':'category_groups'})"
   ]
  },
  {
   "cell_type": "code",
   "execution_count": 22,
   "id": "corporate-armstrong",
   "metadata": {},
   "outputs": [],
   "source": [
    "if (df[\"name\"] == df[\"properties.identifier.value\"]).all() == True: # properties.identifier.value does not bring new info\n",
    "    \n",
    "    df = df.drop([\"properties.identifier.value\"], axis=1)"
   ]
  },
  {
   "cell_type": "code",
   "execution_count": 23,
   "id": "excessive-private",
   "metadata": {},
   "outputs": [
    {
     "data": {
      "text/html": [
       "<div>\n",
       "<style scoped>\n",
       "    .dataframe tbody tr th:only-of-type {\n",
       "        vertical-align: middle;\n",
       "    }\n",
       "\n",
       "    .dataframe tbody tr th {\n",
       "        vertical-align: top;\n",
       "    }\n",
       "\n",
       "    .dataframe thead th {\n",
       "        text-align: right;\n",
       "    }\n",
       "</style>\n",
       "<table border=\"1\" class=\"dataframe\">\n",
       "  <thead>\n",
       "    <tr style=\"text-align: right;\">\n",
       "      <th></th>\n",
       "      <th>name</th>\n",
       "      <th>properties.facet_ids</th>\n",
       "      <th>properties.identifier.permalink</th>\n",
       "      <th>category_groups</th>\n",
       "      <th>properties.short_description</th>\n",
       "      <th>properties.rank_org</th>\n",
       "      <th>properties.categories</th>\n",
       "      <th>properties.location_identifiers</th>\n",
       "      <th>properties.twitter.value</th>\n",
       "    </tr>\n",
       "  </thead>\n",
       "  <tbody>\n",
       "    <tr>\n",
       "      <th>0</th>\n",
       "      <td>SoftBank</td>\n",
       "      <td>[investor, company, rank]</td>\n",
       "      <td>softbank</td>\n",
       "      <td>[{'entity_def_id': 'category_group', 'permalin...</td>\n",
       "      <td>SoftBank provides fixed-line, mobile telephony...</td>\n",
       "      <td>1</td>\n",
       "      <td>[{'entity_def_id': 'category', 'permalink': 'b...</td>\n",
       "      <td>[{'permalink': 'tokyo-tokyo', 'uuid': '127ba62...</td>\n",
       "      <td>https://twitter.com/softbank_group</td>\n",
       "    </tr>\n",
       "    <tr>\n",
       "      <th>1</th>\n",
       "      <td>Crowdcube</td>\n",
       "      <td>[investor, company, rank]</td>\n",
       "      <td>crowdcube</td>\n",
       "      <td>[{'entity_def_id': 'category_group', 'permalin...</td>\n",
       "      <td>Crowdcube is an equity crowdfunding platform f...</td>\n",
       "      <td>2</td>\n",
       "      <td>[{'entity_def_id': 'category', 'permalink': 'b...</td>\n",
       "      <td>[{'permalink': 'exeter-devon', 'uuid': 'c5f8ba...</td>\n",
       "      <td>https://twitter.com/Crowdcube</td>\n",
       "    </tr>\n",
       "    <tr>\n",
       "      <th>2</th>\n",
       "      <td>Compass</td>\n",
       "      <td>[company, rank]</td>\n",
       "      <td>compassinc</td>\n",
       "      <td>[{'entity_def_id': 'category_group', 'permalin...</td>\n",
       "      <td>Compass is a real estate technology company th...</td>\n",
       "      <td>3</td>\n",
       "      <td>[{'entity_def_id': 'category', 'permalink': 'p...</td>\n",
       "      <td>[{'permalink': 'new-york-new-york', 'uuid': 'd...</td>\n",
       "      <td>https://twitter.com/Compass</td>\n",
       "    </tr>\n",
       "    <tr>\n",
       "      <th>3</th>\n",
       "      <td>Klarna</td>\n",
       "      <td>[investor, company, rank]</td>\n",
       "      <td>klarna</td>\n",
       "      <td>[{'entity_def_id': 'category_group', 'permalin...</td>\n",
       "      <td>Klarna is an eCommerce payment solutions platf...</td>\n",
       "      <td>4</td>\n",
       "      <td>[{'entity_def_id': 'category', 'permalink': 'e...</td>\n",
       "      <td>[{'permalink': 'stockholm-stockholms-lan', 'uu...</td>\n",
       "      <td>http://twitter.com/klarna</td>\n",
       "    </tr>\n",
       "    <tr>\n",
       "      <th>4</th>\n",
       "      <td>Zoom</td>\n",
       "      <td>[investor, company, rank]</td>\n",
       "      <td>zoom-video-communications</td>\n",
       "      <td>[{'entity_def_id': 'category_group', 'permalin...</td>\n",
       "      <td>Zoom is a software company that offers a commu...</td>\n",
       "      <td>5</td>\n",
       "      <td>[{'entity_def_id': 'category', 'permalink': 'c...</td>\n",
       "      <td>[{'permalink': 'san-jose-california', 'uuid': ...</td>\n",
       "      <td>http://twitter.com/zoom_us</td>\n",
       "    </tr>\n",
       "    <tr>\n",
       "      <th>5</th>\n",
       "      <td>BetterUp</td>\n",
       "      <td>[company, rank]</td>\n",
       "      <td>betterup</td>\n",
       "      <td>[{'entity_def_id': 'category_group', 'permalin...</td>\n",
       "      <td>BetterUp is a mobile-based leadership developm...</td>\n",
       "      <td>6</td>\n",
       "      <td>[{'entity_def_id': 'category', 'permalink': 'c...</td>\n",
       "      <td>[{'permalink': 'san-francisco-california', 'uu...</td>\n",
       "      <td>https://www.twitter.com/betterup</td>\n",
       "    </tr>\n",
       "    <tr>\n",
       "      <th>6</th>\n",
       "      <td>Citigroup</td>\n",
       "      <td>[investor, company, rank]</td>\n",
       "      <td>citigroup</td>\n",
       "      <td>[{'entity_def_id': 'category_group', 'permalin...</td>\n",
       "      <td>Citigroup is a diversified financial services ...</td>\n",
       "      <td>7</td>\n",
       "      <td>[{'entity_def_id': 'category', 'permalink': 'b...</td>\n",
       "      <td>[{'permalink': 'new-york-new-york', 'uuid': 'd...</td>\n",
       "      <td>https://twitter.com/citi</td>\n",
       "    </tr>\n",
       "    <tr>\n",
       "      <th>7</th>\n",
       "      <td>Ant Group</td>\n",
       "      <td>[investor, company, rank]</td>\n",
       "      <td>ant-group</td>\n",
       "      <td>[{'entity_def_id': 'category_group', 'permalin...</td>\n",
       "      <td>Ant Group strives to enable all consumers and ...</td>\n",
       "      <td>8</td>\n",
       "      <td>[{'entity_def_id': 'category', 'permalink': 'b...</td>\n",
       "      <td>[{'permalink': 'hangzhou-zhejiang', 'uuid': '4...</td>\n",
       "      <td>https://twitter.com/antgroup</td>\n",
       "    </tr>\n",
       "    <tr>\n",
       "      <th>8</th>\n",
       "      <td>Intel</td>\n",
       "      <td>[investor, company, rank]</td>\n",
       "      <td>intel</td>\n",
       "      <td>[{'entity_def_id': 'category_group', 'permalin...</td>\n",
       "      <td>Intel designs, manufactures, and sells integra...</td>\n",
       "      <td>9</td>\n",
       "      <td>[{'entity_def_id': 'category', 'permalink': 'a...</td>\n",
       "      <td>[{'permalink': 'santa-clara-california', 'uuid...</td>\n",
       "      <td>http://twitter.com/intel</td>\n",
       "    </tr>\n",
       "    <tr>\n",
       "      <th>9</th>\n",
       "      <td>UiPath</td>\n",
       "      <td>[company, rank]</td>\n",
       "      <td>uipath</td>\n",
       "      <td>[{'entity_def_id': 'category_group', 'permalin...</td>\n",
       "      <td>UiPath is a software company developing roboti...</td>\n",
       "      <td>10</td>\n",
       "      <td>[{'entity_def_id': 'category', 'permalink': 'a...</td>\n",
       "      <td>[{'permalink': 'new-york-new-york', 'uuid': 'd...</td>\n",
       "      <td>http://www.twitter.com/uipath</td>\n",
       "    </tr>\n",
       "  </tbody>\n",
       "</table>\n",
       "</div>"
      ],
      "text/plain": [
       "        name       properties.facet_ids properties.identifier.permalink  \\\n",
       "0   SoftBank  [investor, company, rank]                        softbank   \n",
       "1  Crowdcube  [investor, company, rank]                       crowdcube   \n",
       "2    Compass            [company, rank]                      compassinc   \n",
       "3     Klarna  [investor, company, rank]                          klarna   \n",
       "4       Zoom  [investor, company, rank]       zoom-video-communications   \n",
       "5   BetterUp            [company, rank]                        betterup   \n",
       "6  Citigroup  [investor, company, rank]                       citigroup   \n",
       "7  Ant Group  [investor, company, rank]                       ant-group   \n",
       "8      Intel  [investor, company, rank]                           intel   \n",
       "9     UiPath            [company, rank]                          uipath   \n",
       "\n",
       "                                     category_groups  \\\n",
       "0  [{'entity_def_id': 'category_group', 'permalin...   \n",
       "1  [{'entity_def_id': 'category_group', 'permalin...   \n",
       "2  [{'entity_def_id': 'category_group', 'permalin...   \n",
       "3  [{'entity_def_id': 'category_group', 'permalin...   \n",
       "4  [{'entity_def_id': 'category_group', 'permalin...   \n",
       "5  [{'entity_def_id': 'category_group', 'permalin...   \n",
       "6  [{'entity_def_id': 'category_group', 'permalin...   \n",
       "7  [{'entity_def_id': 'category_group', 'permalin...   \n",
       "8  [{'entity_def_id': 'category_group', 'permalin...   \n",
       "9  [{'entity_def_id': 'category_group', 'permalin...   \n",
       "\n",
       "                        properties.short_description  properties.rank_org  \\\n",
       "0  SoftBank provides fixed-line, mobile telephony...                    1   \n",
       "1  Crowdcube is an equity crowdfunding platform f...                    2   \n",
       "2  Compass is a real estate technology company th...                    3   \n",
       "3  Klarna is an eCommerce payment solutions platf...                    4   \n",
       "4  Zoom is a software company that offers a commu...                    5   \n",
       "5  BetterUp is a mobile-based leadership developm...                    6   \n",
       "6  Citigroup is a diversified financial services ...                    7   \n",
       "7  Ant Group strives to enable all consumers and ...                    8   \n",
       "8  Intel designs, manufactures, and sells integra...                    9   \n",
       "9  UiPath is a software company developing roboti...                   10   \n",
       "\n",
       "                               properties.categories  \\\n",
       "0  [{'entity_def_id': 'category', 'permalink': 'b...   \n",
       "1  [{'entity_def_id': 'category', 'permalink': 'b...   \n",
       "2  [{'entity_def_id': 'category', 'permalink': 'p...   \n",
       "3  [{'entity_def_id': 'category', 'permalink': 'e...   \n",
       "4  [{'entity_def_id': 'category', 'permalink': 'c...   \n",
       "5  [{'entity_def_id': 'category', 'permalink': 'c...   \n",
       "6  [{'entity_def_id': 'category', 'permalink': 'b...   \n",
       "7  [{'entity_def_id': 'category', 'permalink': 'b...   \n",
       "8  [{'entity_def_id': 'category', 'permalink': 'a...   \n",
       "9  [{'entity_def_id': 'category', 'permalink': 'a...   \n",
       "\n",
       "                     properties.location_identifiers  \\\n",
       "0  [{'permalink': 'tokyo-tokyo', 'uuid': '127ba62...   \n",
       "1  [{'permalink': 'exeter-devon', 'uuid': 'c5f8ba...   \n",
       "2  [{'permalink': 'new-york-new-york', 'uuid': 'd...   \n",
       "3  [{'permalink': 'stockholm-stockholms-lan', 'uu...   \n",
       "4  [{'permalink': 'san-jose-california', 'uuid': ...   \n",
       "5  [{'permalink': 'san-francisco-california', 'uu...   \n",
       "6  [{'permalink': 'new-york-new-york', 'uuid': 'd...   \n",
       "7  [{'permalink': 'hangzhou-zhejiang', 'uuid': '4...   \n",
       "8  [{'permalink': 'santa-clara-california', 'uuid...   \n",
       "9  [{'permalink': 'new-york-new-york', 'uuid': 'd...   \n",
       "\n",
       "             properties.twitter.value  \n",
       "0  https://twitter.com/softbank_group  \n",
       "1       https://twitter.com/Crowdcube  \n",
       "2         https://twitter.com/Compass  \n",
       "3           http://twitter.com/klarna  \n",
       "4          http://twitter.com/zoom_us  \n",
       "5    https://www.twitter.com/betterup  \n",
       "6            https://twitter.com/citi  \n",
       "7        https://twitter.com/antgroup  \n",
       "8            http://twitter.com/intel  \n",
       "9       http://www.twitter.com/uipath  "
      ]
     },
     "execution_count": 23,
     "metadata": {},
     "output_type": "execute_result"
    }
   ],
   "source": [
    "df.sort_values(\"properties.rank_org\").head(10)"
   ]
  },
  {
   "cell_type": "code",
   "execution_count": 24,
   "id": "primary-chuck",
   "metadata": {},
   "outputs": [
    {
     "data": {
      "text/html": [
       "<div>\n",
       "<style scoped>\n",
       "    .dataframe tbody tr th:only-of-type {\n",
       "        vertical-align: middle;\n",
       "    }\n",
       "\n",
       "    .dataframe tbody tr th {\n",
       "        vertical-align: top;\n",
       "    }\n",
       "\n",
       "    .dataframe thead th {\n",
       "        text-align: right;\n",
       "    }\n",
       "</style>\n",
       "<table border=\"1\" class=\"dataframe\">\n",
       "  <thead>\n",
       "    <tr style=\"text-align: right;\">\n",
       "      <th></th>\n",
       "      <th>name</th>\n",
       "      <th>properties.short_description</th>\n",
       "    </tr>\n",
       "  </thead>\n",
       "  <tbody>\n",
       "    <tr>\n",
       "      <th>0</th>\n",
       "      <td>SoftBank</td>\n",
       "      <td>SoftBank provides fixed-line, mobile telephony...</td>\n",
       "    </tr>\n",
       "    <tr>\n",
       "      <th>1</th>\n",
       "      <td>Crowdcube</td>\n",
       "      <td>Crowdcube is an equity crowdfunding platform f...</td>\n",
       "    </tr>\n",
       "    <tr>\n",
       "      <th>2</th>\n",
       "      <td>Compass</td>\n",
       "      <td>Compass is a real estate technology company th...</td>\n",
       "    </tr>\n",
       "    <tr>\n",
       "      <th>3</th>\n",
       "      <td>Klarna</td>\n",
       "      <td>Klarna is an eCommerce payment solutions platf...</td>\n",
       "    </tr>\n",
       "    <tr>\n",
       "      <th>4</th>\n",
       "      <td>Zoom</td>\n",
       "      <td>Zoom is a software company that offers a commu...</td>\n",
       "    </tr>\n",
       "    <tr>\n",
       "      <th>5</th>\n",
       "      <td>BetterUp</td>\n",
       "      <td>BetterUp is a mobile-based leadership developm...</td>\n",
       "    </tr>\n",
       "    <tr>\n",
       "      <th>6</th>\n",
       "      <td>Citigroup</td>\n",
       "      <td>Citigroup is a diversified financial services ...</td>\n",
       "    </tr>\n",
       "    <tr>\n",
       "      <th>7</th>\n",
       "      <td>Ant Group</td>\n",
       "      <td>Ant Group strives to enable all consumers and ...</td>\n",
       "    </tr>\n",
       "    <tr>\n",
       "      <th>8</th>\n",
       "      <td>Intel</td>\n",
       "      <td>Intel designs, manufactures, and sells integra...</td>\n",
       "    </tr>\n",
       "    <tr>\n",
       "      <th>9</th>\n",
       "      <td>UiPath</td>\n",
       "      <td>UiPath is a software company developing roboti...</td>\n",
       "    </tr>\n",
       "  </tbody>\n",
       "</table>\n",
       "</div>"
      ],
      "text/plain": [
       "        name                       properties.short_description\n",
       "0   SoftBank  SoftBank provides fixed-line, mobile telephony...\n",
       "1  Crowdcube  Crowdcube is an equity crowdfunding platform f...\n",
       "2    Compass  Compass is a real estate technology company th...\n",
       "3     Klarna  Klarna is an eCommerce payment solutions platf...\n",
       "4       Zoom  Zoom is a software company that offers a commu...\n",
       "5   BetterUp  BetterUp is a mobile-based leadership developm...\n",
       "6  Citigroup  Citigroup is a diversified financial services ...\n",
       "7  Ant Group  Ant Group strives to enable all consumers and ...\n",
       "8      Intel  Intel designs, manufactures, and sells integra...\n",
       "9     UiPath  UiPath is a software company developing roboti..."
      ]
     },
     "execution_count": 24,
     "metadata": {},
     "output_type": "execute_result"
    }
   ],
   "source": [
    "df[[\"name\", \"properties.short_description\"]].head(10)"
   ]
  },
  {
   "cell_type": "code",
   "execution_count": 25,
   "id": "agreed-piece",
   "metadata": {},
   "outputs": [],
   "source": [
    "category_groups = df[\"category_groups\"].values\n",
    "i = 0\n",
    "\n",
    "for line in category_groups:\n",
    "    \n",
    "    if issubclass(type(line), float) == False:\n",
    "        df[\"category_groups\"].values[i] = [ x.get('value') for x in line]\n",
    "    \n",
    "    i = i+1"
   ]
  },
  {
   "cell_type": "markdown",
   "id": "oriented-presentation",
   "metadata": {},
   "source": [
    "### Graph"
   ]
  },
  {
   "cell_type": "code",
   "execution_count": 74,
   "id": "controlled-pharmacology",
   "metadata": {},
   "outputs": [
    {
     "data": {
      "text/html": [
       "<div>\n",
       "<style scoped>\n",
       "    .dataframe tbody tr th:only-of-type {\n",
       "        vertical-align: middle;\n",
       "    }\n",
       "\n",
       "    .dataframe tbody tr th {\n",
       "        vertical-align: top;\n",
       "    }\n",
       "\n",
       "    .dataframe thead th {\n",
       "        text-align: right;\n",
       "    }\n",
       "</style>\n",
       "<table border=\"1\" class=\"dataframe\">\n",
       "  <thead>\n",
       "    <tr style=\"text-align: right;\">\n",
       "      <th></th>\n",
       "      <th>name</th>\n",
       "      <th>category_groups</th>\n",
       "    </tr>\n",
       "  </thead>\n",
       "  <tbody>\n",
       "    <tr>\n",
       "      <th>0</th>\n",
       "      <td>SoftBank</td>\n",
       "      <td>[Financial Services, Hardware, Internet Servic...</td>\n",
       "    </tr>\n",
       "    <tr>\n",
       "      <th>1</th>\n",
       "      <td>Crowdcube</td>\n",
       "      <td>[Financial Services, Lending and Investments, ...</td>\n",
       "    </tr>\n",
       "    <tr>\n",
       "      <th>2</th>\n",
       "      <td>Compass</td>\n",
       "      <td>[Real Estate]</td>\n",
       "    </tr>\n",
       "    <tr>\n",
       "      <th>3</th>\n",
       "      <td>Klarna</td>\n",
       "      <td>[Commerce and Shopping, Financial Services, Pa...</td>\n",
       "    </tr>\n",
       "    <tr>\n",
       "      <th>4</th>\n",
       "      <td>Zoom</td>\n",
       "      <td>[Hardware, Information Technology, Internet Se...</td>\n",
       "    </tr>\n",
       "  </tbody>\n",
       "</table>\n",
       "</div>"
      ],
      "text/plain": [
       "        name                                    category_groups\n",
       "0   SoftBank  [Financial Services, Hardware, Internet Servic...\n",
       "1  Crowdcube  [Financial Services, Lending and Investments, ...\n",
       "2    Compass                                      [Real Estate]\n",
       "3     Klarna  [Commerce and Shopping, Financial Services, Pa...\n",
       "4       Zoom  [Hardware, Information Technology, Internet Se..."
      ]
     },
     "execution_count": 74,
     "metadata": {},
     "output_type": "execute_result"
    }
   ],
   "source": [
    "df_graph = df[['name', 'category_groups']]\n",
    "df_graph.head()"
   ]
  },
  {
   "cell_type": "code",
   "execution_count": 85,
   "id": "ignored-complement",
   "metadata": {},
   "outputs": [
    {
     "data": {
      "text/plain": [
       "'category_groups'"
      ]
     },
     "execution_count": 85,
     "metadata": {},
     "output_type": "execute_result"
    }
   ],
   "source": [
    "df_columns = list(df_graph.columns)\n",
    "df_columns.remove('name')\n",
    "df_columns = df_columns[0]\n",
    "\n",
    "df_columns"
   ]
  },
  {
   "cell_type": "code",
   "execution_count": 86,
   "id": "hispanic-dollar",
   "metadata": {},
   "outputs": [],
   "source": [
    "import pandas as pd\n",
    "import networkx as nx\n",
    "from networkx.algorithms import bipartite\n",
    "\n",
    "B = nx.Graph()"
   ]
  },
  {
   "cell_type": "code",
   "execution_count": 89,
   "id": "disturbed-modern",
   "metadata": {},
   "outputs": [
    {
     "ename": "TypeError",
     "evalue": "'float' object is not iterable",
     "output_type": "error",
     "traceback": [
      "\u001b[0;31m---------------------------------------------------------------------------\u001b[0m",
      "\u001b[0;31mTypeError\u001b[0m                                 Traceback (most recent call last)",
      "\u001b[0;32m<ipython-input-89-6769ab3487a9>\u001b[0m in \u001b[0;36m<module>\u001b[0;34m\u001b[0m\n\u001b[1;32m      6\u001b[0m     \u001b[0mB\u001b[0m\u001b[0;34m.\u001b[0m\u001b[0madd_node\u001b[0m\u001b[0;34m(\u001b[0m\u001b[0mname\u001b[0m\u001b[0;34m,\u001b[0m \u001b[0mbipartite\u001b[0m\u001b[0;34m=\u001b[0m\u001b[0;36m0\u001b[0m\u001b[0;34m)\u001b[0m\u001b[0;34m\u001b[0m\u001b[0;34m\u001b[0m\u001b[0m\n\u001b[1;32m      7\u001b[0m \u001b[0;34m\u001b[0m\u001b[0m\n\u001b[0;32m----> 8\u001b[0;31m     \u001b[0;32mfor\u001b[0m \u001b[0mx\u001b[0m \u001b[0;32min\u001b[0m \u001b[0mother\u001b[0m\u001b[0;34m:\u001b[0m\u001b[0;34m\u001b[0m\u001b[0;34m\u001b[0m\u001b[0m\n\u001b[0m\u001b[1;32m      9\u001b[0m         \u001b[0mB\u001b[0m\u001b[0;34m.\u001b[0m\u001b[0madd_node\u001b[0m\u001b[0;34m(\u001b[0m\u001b[0mx\u001b[0m\u001b[0;34m,\u001b[0m \u001b[0mbipartite\u001b[0m\u001b[0;34m=\u001b[0m\u001b[0;36m1\u001b[0m\u001b[0;34m)\u001b[0m\u001b[0;34m\u001b[0m\u001b[0;34m\u001b[0m\u001b[0m\n\u001b[1;32m     10\u001b[0m         \u001b[0mB\u001b[0m\u001b[0;34m.\u001b[0m\u001b[0madd_edge\u001b[0m\u001b[0;34m(\u001b[0m\u001b[0mname\u001b[0m\u001b[0;34m,\u001b[0m \u001b[0mx\u001b[0m\u001b[0;34m)\u001b[0m\u001b[0;34m\u001b[0m\u001b[0;34m\u001b[0m\u001b[0m\n",
      "\u001b[0;31mTypeError\u001b[0m: 'float' object is not iterable"
     ]
    }
   ],
   "source": [
    "for index, value in df_graph.iterrows():\n",
    "    \n",
    "    name = value['name']\n",
    "    other = value[df_columns]\n",
    "    \n",
    "    if issubclass(type(line), float) == False:\n",
    "        \n",
    "    \n",
    "    B.add_node(name, bipartite=0)\n",
    "    \n",
    "    for x in other:\n",
    "        B.add_node(x, bipartite=1)\n",
    "        B.add_edge(name, x)\n"
   ]
  },
  {
   "cell_type": "code",
   "execution_count": 91,
   "id": "dried-anaheim",
   "metadata": {},
   "outputs": [
    {
     "data": {
      "text/plain": [
       "nan"
      ]
     },
     "execution_count": 91,
     "metadata": {},
     "output_type": "execute_result"
    }
   ],
   "source": [
    "other"
   ]
  },
  {
   "cell_type": "code",
   "execution_count": null,
   "id": "legal-venue",
   "metadata": {},
   "outputs": [],
   "source": []
  }
 ],
 "metadata": {
  "kernelspec": {
   "display_name": "Python 3",
   "language": "python",
   "name": "python3"
  },
  "language_info": {
   "codemirror_mode": {
    "name": "ipython",
    "version": 3
   },
   "file_extension": ".py",
   "mimetype": "text/x-python",
   "name": "python",
   "nbconvert_exporter": "python",
   "pygments_lexer": "ipython3",
   "version": "3.8.5"
  }
 },
 "nbformat": 4,
 "nbformat_minor": 5
}
