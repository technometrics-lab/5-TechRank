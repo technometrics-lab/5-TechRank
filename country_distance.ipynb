{
 "cells": [
  {
   "cell_type": "code",
   "execution_count": 58,
   "id": "celtic-doctrine",
   "metadata": {},
   "outputs": [
    {
     "data": {
      "text/plain": [
       "True"
      ]
     },
     "execution_count": 58,
     "metadata": {},
     "output_type": "execute_result"
    }
   ],
   "source": [
    "import math\n",
    "import arrow\n",
    "\n",
    "import ipynb \n",
    "import os.path\n",
    "import json\n",
    "import pandas as pd\n",
    "import networkx as nx\n",
    "import matplotlib.pyplot as plt\n",
    "import seaborn as sns\n",
    "import numpy as np\n",
    "\n",
    "from dotenv import load_dotenv\n",
    "from networkx.algorithms import bipartite\n",
    "from importlib import reload\n",
    "\n",
    "from typing import List\n",
    "\n",
    "load_dotenv(verbose=True)"
   ]
  },
  {
   "cell_type": "code",
   "execution_count": 59,
   "id": "premier-cradle",
   "metadata": {},
   "outputs": [],
   "source": [
    "# import functions from py file \n",
    "\n",
    "import function\n",
    "reload(function)\n",
    "from function import CB_data_cleaning, df_from_api_CB, extract_nodes, extract_data_from_column\n",
    "from function import nx_dip_graph_from_pandas, plot_bipartite_graph, filter_dict\n",
    "from function import extract_classes_company_tech, degree_bip, insert_data_classes"
   ]
  },
  {
   "cell_type": "code",
   "execution_count": 60,
   "id": "specific-gateway",
   "metadata": {},
   "outputs": [],
   "source": [
    "# import classes \n",
    "\n",
    "import classes\n",
    "reload(classes)\n",
    "from classes import Company, Investor, Technology"
   ]
  },
  {
   "cell_type": "markdown",
   "id": "received-paris",
   "metadata": {},
   "source": [
    "### Download data from CSV"
   ]
  },
  {
   "cell_type": "code",
   "execution_count": 61,
   "id": "existing-wrapping",
   "metadata": {},
   "outputs": [],
   "source": [
    "df_start = pd.read_csv(\"data/data_cb/organizations.csv\")"
   ]
  },
  {
   "cell_type": "code",
   "execution_count": 62,
   "id": "lovely-hebrew",
   "metadata": {},
   "outputs": [
    {
     "data": {
      "text/html": [
       "<div>\n",
       "<style scoped>\n",
       "    .dataframe tbody tr th:only-of-type {\n",
       "        vertical-align: middle;\n",
       "    }\n",
       "\n",
       "    .dataframe tbody tr th {\n",
       "        vertical-align: top;\n",
       "    }\n",
       "\n",
       "    .dataframe thead th {\n",
       "        text-align: right;\n",
       "    }\n",
       "</style>\n",
       "<table border=\"1\" class=\"dataframe\">\n",
       "  <thead>\n",
       "    <tr style=\"text-align: right;\">\n",
       "      <th></th>\n",
       "      <th>uuid</th>\n",
       "      <th>name</th>\n",
       "      <th>type</th>\n",
       "      <th>permalink</th>\n",
       "      <th>cb_url</th>\n",
       "      <th>rank</th>\n",
       "      <th>created_at</th>\n",
       "      <th>updated_at</th>\n",
       "      <th>legal_name</th>\n",
       "      <th>roles</th>\n",
       "      <th>...</th>\n",
       "      <th>phone</th>\n",
       "      <th>facebook_url</th>\n",
       "      <th>linkedin_url</th>\n",
       "      <th>twitter_url</th>\n",
       "      <th>logo_url</th>\n",
       "      <th>alias1</th>\n",
       "      <th>alias2</th>\n",
       "      <th>alias3</th>\n",
       "      <th>primary_role</th>\n",
       "      <th>num_exits</th>\n",
       "    </tr>\n",
       "  </thead>\n",
       "  <tbody>\n",
       "    <tr>\n",
       "      <th>0</th>\n",
       "      <td>e1393508-30ea-8a36-3f96-dd3226033abd</td>\n",
       "      <td>Wetpaint</td>\n",
       "      <td>organization</td>\n",
       "      <td>wetpaint</td>\n",
       "      <td>https://www.crunchbase.com/organization/wetpaint</td>\n",
       "      <td>158955.0</td>\n",
       "      <td>2007-05-25 13:51:27</td>\n",
       "      <td>2019-06-24 22:19:25</td>\n",
       "      <td>NaN</td>\n",
       "      <td>company</td>\n",
       "      <td>...</td>\n",
       "      <td>206-859-6300</td>\n",
       "      <td>https://www.facebook.com/Wetpaint</td>\n",
       "      <td>https://www.linkedin.com/company/wetpaint</td>\n",
       "      <td>https://twitter.com/wetpainttv</td>\n",
       "      <td>https://res.cloudinary.com/crunchbase-producti...</td>\n",
       "      <td>NaN</td>\n",
       "      <td>NaN</td>\n",
       "      <td>NaN</td>\n",
       "      <td>company</td>\n",
       "      <td>NaN</td>\n",
       "    </tr>\n",
       "    <tr>\n",
       "      <th>1</th>\n",
       "      <td>bf4d7b0e-b34d-2fd8-d292-6049c4f7efc7</td>\n",
       "      <td>Zoho</td>\n",
       "      <td>organization</td>\n",
       "      <td>zoho</td>\n",
       "      <td>https://www.crunchbase.com/organization/zoho</td>\n",
       "      <td>6686.0</td>\n",
       "      <td>2007-05-26 02:30:28</td>\n",
       "      <td>2018-10-27 00:29:49</td>\n",
       "      <td>NaN</td>\n",
       "      <td>investor,company</td>\n",
       "      <td>...</td>\n",
       "      <td>NaN</td>\n",
       "      <td>http://www.facebook.com/zoho</td>\n",
       "      <td>http://www.linkedin.com/company/zoho-corporati...</td>\n",
       "      <td>http://twitter.com/zoho</td>\n",
       "      <td>https://res.cloudinary.com/crunchbase-producti...</td>\n",
       "      <td>NaN</td>\n",
       "      <td>NaN</td>\n",
       "      <td>NaN</td>\n",
       "      <td>company</td>\n",
       "      <td>1.0</td>\n",
       "    </tr>\n",
       "    <tr>\n",
       "      <th>2</th>\n",
       "      <td>5f2b40b8-d1b3-d323-d81a-b7a8e89553d0</td>\n",
       "      <td>Digg</td>\n",
       "      <td>organization</td>\n",
       "      <td>digg</td>\n",
       "      <td>https://www.crunchbase.com/organization/digg</td>\n",
       "      <td>7793.0</td>\n",
       "      <td>2007-05-26 03:03:23</td>\n",
       "      <td>2018-12-10 10:09:14</td>\n",
       "      <td>Digg Holdings, LLC</td>\n",
       "      <td>company</td>\n",
       "      <td>...</td>\n",
       "      <td>877-342-7222</td>\n",
       "      <td>http://www.facebook.com/digg</td>\n",
       "      <td>http://www.linkedin.com/company/digg</td>\n",
       "      <td>http://twitter.com/digg</td>\n",
       "      <td>https://res.cloudinary.com/crunchbase-producti...</td>\n",
       "      <td>NaN</td>\n",
       "      <td>NaN</td>\n",
       "      <td>NaN</td>\n",
       "      <td>company</td>\n",
       "      <td>NaN</td>\n",
       "    </tr>\n",
       "    <tr>\n",
       "      <th>3</th>\n",
       "      <td>f4d5ab44-058b-298b-ea81-380e6e9a8eec</td>\n",
       "      <td>Omidyar Network</td>\n",
       "      <td>organization</td>\n",
       "      <td>omidyar-network</td>\n",
       "      <td>https://www.crunchbase.com/organization/omidya...</td>\n",
       "      <td>136861.0</td>\n",
       "      <td>2007-05-26 03:21:34</td>\n",
       "      <td>2019-06-19 12:17:48</td>\n",
       "      <td>NaN</td>\n",
       "      <td>investor</td>\n",
       "      <td>...</td>\n",
       "      <td>650.482.2500</td>\n",
       "      <td>http://www.facebook.com/OmidyarNetwork</td>\n",
       "      <td>http://www.linkedin.com/company/22806</td>\n",
       "      <td>http://twitter.com/OmidyarNetwork</td>\n",
       "      <td>https://res.cloudinary.com/crunchbase-producti...</td>\n",
       "      <td>NaN</td>\n",
       "      <td>NaN</td>\n",
       "      <td>NaN</td>\n",
       "      <td>investor</td>\n",
       "      <td>38.0</td>\n",
       "    </tr>\n",
       "    <tr>\n",
       "      <th>4</th>\n",
       "      <td>df662812-7f97-0b43-9d3e-12f64f504fbb</td>\n",
       "      <td>Facebook</td>\n",
       "      <td>organization</td>\n",
       "      <td>facebook</td>\n",
       "      <td>https://www.crunchbase.com/organization/facebook</td>\n",
       "      <td>47.0</td>\n",
       "      <td>2007-05-26 04:22:15</td>\n",
       "      <td>2021-04-14 23:52:25</td>\n",
       "      <td>Facebook, Inc.</td>\n",
       "      <td>investor,company</td>\n",
       "      <td>...</td>\n",
       "      <td>NaN</td>\n",
       "      <td>https://www.facebook.com/facebook/</td>\n",
       "      <td>http://www.linkedin.com/company/facebook</td>\n",
       "      <td>https://twitter.com/facebook</td>\n",
       "      <td>https://res.cloudinary.com/crunchbase-producti...</td>\n",
       "      <td>NaN</td>\n",
       "      <td>NaN</td>\n",
       "      <td>NaN</td>\n",
       "      <td>company</td>\n",
       "      <td>NaN</td>\n",
       "    </tr>\n",
       "  </tbody>\n",
       "</table>\n",
       "<p>5 rows × 41 columns</p>\n",
       "</div>"
      ],
      "text/plain": [
       "                                   uuid             name          type  \\\n",
       "0  e1393508-30ea-8a36-3f96-dd3226033abd         Wetpaint  organization   \n",
       "1  bf4d7b0e-b34d-2fd8-d292-6049c4f7efc7             Zoho  organization   \n",
       "2  5f2b40b8-d1b3-d323-d81a-b7a8e89553d0             Digg  organization   \n",
       "3  f4d5ab44-058b-298b-ea81-380e6e9a8eec  Omidyar Network  organization   \n",
       "4  df662812-7f97-0b43-9d3e-12f64f504fbb         Facebook  organization   \n",
       "\n",
       "         permalink                                             cb_url  \\\n",
       "0         wetpaint   https://www.crunchbase.com/organization/wetpaint   \n",
       "1             zoho       https://www.crunchbase.com/organization/zoho   \n",
       "2             digg       https://www.crunchbase.com/organization/digg   \n",
       "3  omidyar-network  https://www.crunchbase.com/organization/omidya...   \n",
       "4         facebook   https://www.crunchbase.com/organization/facebook   \n",
       "\n",
       "       rank           created_at           updated_at          legal_name  \\\n",
       "0  158955.0  2007-05-25 13:51:27  2019-06-24 22:19:25                 NaN   \n",
       "1    6686.0  2007-05-26 02:30:28  2018-10-27 00:29:49                 NaN   \n",
       "2    7793.0  2007-05-26 03:03:23  2018-12-10 10:09:14  Digg Holdings, LLC   \n",
       "3  136861.0  2007-05-26 03:21:34  2019-06-19 12:17:48                 NaN   \n",
       "4      47.0  2007-05-26 04:22:15  2021-04-14 23:52:25      Facebook, Inc.   \n",
       "\n",
       "              roles  ...         phone  \\\n",
       "0           company  ...  206-859-6300   \n",
       "1  investor,company  ...           NaN   \n",
       "2           company  ...  877-342-7222   \n",
       "3          investor  ...  650.482.2500   \n",
       "4  investor,company  ...           NaN   \n",
       "\n",
       "                             facebook_url  \\\n",
       "0       https://www.facebook.com/Wetpaint   \n",
       "1            http://www.facebook.com/zoho   \n",
       "2            http://www.facebook.com/digg   \n",
       "3  http://www.facebook.com/OmidyarNetwork   \n",
       "4      https://www.facebook.com/facebook/   \n",
       "\n",
       "                                        linkedin_url  \\\n",
       "0          https://www.linkedin.com/company/wetpaint   \n",
       "1  http://www.linkedin.com/company/zoho-corporati...   \n",
       "2               http://www.linkedin.com/company/digg   \n",
       "3              http://www.linkedin.com/company/22806   \n",
       "4           http://www.linkedin.com/company/facebook   \n",
       "\n",
       "                         twitter_url  \\\n",
       "0     https://twitter.com/wetpainttv   \n",
       "1            http://twitter.com/zoho   \n",
       "2            http://twitter.com/digg   \n",
       "3  http://twitter.com/OmidyarNetwork   \n",
       "4       https://twitter.com/facebook   \n",
       "\n",
       "                                            logo_url alias1 alias2 alias3  \\\n",
       "0  https://res.cloudinary.com/crunchbase-producti...    NaN    NaN    NaN   \n",
       "1  https://res.cloudinary.com/crunchbase-producti...    NaN    NaN    NaN   \n",
       "2  https://res.cloudinary.com/crunchbase-producti...    NaN    NaN    NaN   \n",
       "3  https://res.cloudinary.com/crunchbase-producti...    NaN    NaN    NaN   \n",
       "4  https://res.cloudinary.com/crunchbase-producti...    NaN    NaN    NaN   \n",
       "\n",
       "  primary_role num_exits  \n",
       "0      company       NaN  \n",
       "1      company       1.0  \n",
       "2      company       NaN  \n",
       "3     investor      38.0  \n",
       "4      company       NaN  \n",
       "\n",
       "[5 rows x 41 columns]"
      ]
     },
     "execution_count": 62,
     "metadata": {},
     "output_type": "execute_result"
    }
   ],
   "source": [
    "df_start.head()"
   ]
  },
  {
   "cell_type": "code",
   "execution_count": 63,
   "id": "mysterious-highway",
   "metadata": {},
   "outputs": [
    {
     "data": {
      "text/plain": [
       "Index(['uuid', 'name', 'type', 'permalink', 'cb_url', 'rank', 'created_at',\n",
       "       'updated_at', 'legal_name', 'roles', 'domain', 'homepage_url',\n",
       "       'country_code', 'state_code', 'region', 'city', 'address',\n",
       "       'postal_code', 'status', 'short_description', 'category_list',\n",
       "       'category_groups_list', 'num_funding_rounds', 'total_funding_usd',\n",
       "       'total_funding', 'total_funding_currency_code', 'founded_on',\n",
       "       'last_funding_on', 'closed_on', 'employee_count', 'email', 'phone',\n",
       "       'facebook_url', 'linkedin_url', 'twitter_url', 'logo_url', 'alias1',\n",
       "       'alias2', 'alias3', 'primary_role', 'num_exits'],\n",
       "      dtype='object')"
      ]
     },
     "execution_count": 63,
     "metadata": {},
     "output_type": "execute_result"
    }
   ],
   "source": [
    "df_start.columns"
   ]
  },
  {
   "cell_type": "markdown",
   "id": "nutritional-aspect",
   "metadata": {},
   "source": [
    "### Data Cleaning\n",
    "\n",
    "for now we decide to use as key the name. it would be better to use the uuid"
   ]
  },
  {
   "cell_type": "code",
   "execution_count": 64,
   "id": "widespread-capability",
   "metadata": {},
   "outputs": [],
   "source": [
    "to_drop = [\n",
    "    'type',\n",
    "    'permalink',\n",
    "    'cb_url',   \n",
    "    'created_at',\n",
    "    'domain',\n",
    "    'address',\n",
    "    'state_code',\n",
    "    'updated_at',\n",
    "    'legal_name',\n",
    "    'roles',\n",
    "    'postal_code',\n",
    "    'homepage_url',\n",
    "    'num_funding_rounds',\n",
    "    'total_funding_currency_code',\n",
    "    'phone',\n",
    "    'email',\n",
    "    'num_exits',\n",
    "    'alias2',\n",
    "    'alias3',\n",
    "    'num_exits',\n",
    "    'logo_url',\n",
    "    'alias1',\n",
    "    'last_funding_on',\n",
    "    'twitter_url',\n",
    "    'facebook_url'\n",
    "]\n",
    "\n",
    "to_rename = { 'category_groups_list': 'category_groups' }\n",
    "\n",
    "drop_if_nan = [\n",
    "    'category_groups',\n",
    "    'rank'\n",
    "]\n",
    "\n",
    "to_check_double = {}\n",
    "\n",
    "sort_by = \"rank\""
   ]
  },
  {
   "cell_type": "code",
   "execution_count": 65,
   "id": "extensive-ordinance",
   "metadata": {},
   "outputs": [],
   "source": [
    "df = CB_data_cleaning(df_start, to_drop, to_rename, to_check_double, drop_if_nan, sort_by)"
   ]
  },
  {
   "cell_type": "code",
   "execution_count": 66,
   "id": "antique-supply",
   "metadata": {},
   "outputs": [],
   "source": [
    "df = df[:10]"
   ]
  },
  {
   "cell_type": "code",
   "execution_count": 67,
   "id": "indonesian-version",
   "metadata": {},
   "outputs": [
    {
     "data": {
      "text/html": [
       "<div>\n",
       "<style scoped>\n",
       "    .dataframe tbody tr th:only-of-type {\n",
       "        vertical-align: middle;\n",
       "    }\n",
       "\n",
       "    .dataframe tbody tr th {\n",
       "        vertical-align: top;\n",
       "    }\n",
       "\n",
       "    .dataframe thead th {\n",
       "        text-align: right;\n",
       "    }\n",
       "</style>\n",
       "<table border=\"1\" class=\"dataframe\">\n",
       "  <thead>\n",
       "    <tr style=\"text-align: right;\">\n",
       "      <th></th>\n",
       "      <th>uuid</th>\n",
       "      <th>name</th>\n",
       "      <th>rank</th>\n",
       "      <th>country_code</th>\n",
       "      <th>region</th>\n",
       "      <th>city</th>\n",
       "      <th>status</th>\n",
       "      <th>short_description</th>\n",
       "      <th>category_list</th>\n",
       "      <th>category_groups</th>\n",
       "      <th>total_funding_usd</th>\n",
       "      <th>total_funding</th>\n",
       "      <th>founded_on</th>\n",
       "      <th>closed_on</th>\n",
       "      <th>employee_count</th>\n",
       "      <th>linkedin_url</th>\n",
       "      <th>primary_role</th>\n",
       "    </tr>\n",
       "  </thead>\n",
       "  <tbody>\n",
       "    <tr>\n",
       "      <th>1178</th>\n",
       "      <td>74a20af3-f4dd-6188-de60-c4ee6cd0ca4a</td>\n",
       "      <td>Ant Group</td>\n",
       "      <td>1.0</td>\n",
       "      <td>CHN</td>\n",
       "      <td>Zhejiang</td>\n",
       "      <td>Hangzhou</td>\n",
       "      <td>operating</td>\n",
       "      <td>Ant Group strives to enable all consumers and ...</td>\n",
       "      <td>Banking,Financial Services,FinTech,Payments</td>\n",
       "      <td>Financial Services,Lending and Investments,Pay...</td>\n",
       "      <td>2.200000e+10</td>\n",
       "      <td>2.200000e+10</td>\n",
       "      <td>2014-10-01</td>\n",
       "      <td>NaN</td>\n",
       "      <td>5001-10000</td>\n",
       "      <td>https://www.linkedin.com/company/antgroup/</td>\n",
       "      <td>company</td>\n",
       "    </tr>\n",
       "    <tr>\n",
       "      <th>4042</th>\n",
       "      <td>022417b5-4980-6c54-0f3c-6736bbbb1a5e</td>\n",
       "      <td>Spotify</td>\n",
       "      <td>2.0</td>\n",
       "      <td>SWE</td>\n",
       "      <td>Stockholms Lan</td>\n",
       "      <td>Stockholm</td>\n",
       "      <td>ipo</td>\n",
       "      <td>Spotify is a commercial music streaming servic...</td>\n",
       "      <td>Audio,Cloud Computing,Music,Music Streaming,Vi...</td>\n",
       "      <td>Content and Publishing,Internet Services,Media...</td>\n",
       "      <td>2.085425e+09</td>\n",
       "      <td>2.085425e+09</td>\n",
       "      <td>2006-04-23</td>\n",
       "      <td>NaN</td>\n",
       "      <td>5001-10000</td>\n",
       "      <td>http://www.linkedin.com/company/spotify</td>\n",
       "      <td>company</td>\n",
       "    </tr>\n",
       "    <tr>\n",
       "      <th>349</th>\n",
       "      <td>468bef9f-2f50-590e-6e78-62e3adb05aa1</td>\n",
       "      <td>Citi</td>\n",
       "      <td>3.0</td>\n",
       "      <td>USA</td>\n",
       "      <td>New York</td>\n",
       "      <td>New York</td>\n",
       "      <td>ipo</td>\n",
       "      <td>Citigroup is a diversified financial services ...</td>\n",
       "      <td>Banking,Credit Cards,Financial Services,Wealth...</td>\n",
       "      <td>Financial Services,Lending and Investments,Pay...</td>\n",
       "      <td>8.700000e+09</td>\n",
       "      <td>8.700000e+09</td>\n",
       "      <td>1998-10-08</td>\n",
       "      <td>NaN</td>\n",
       "      <td>10000+</td>\n",
       "      <td>https://www.linkedin.com/company/citi</td>\n",
       "      <td>investor</td>\n",
       "    </tr>\n",
       "    <tr>\n",
       "      <th>211260</th>\n",
       "      <td>a40d0a1f-f32c-a1e9-1bbd-a10bb0eca2e7</td>\n",
       "      <td>Deliveroo</td>\n",
       "      <td>4.0</td>\n",
       "      <td>GBR</td>\n",
       "      <td>England</td>\n",
       "      <td>London</td>\n",
       "      <td>ipo</td>\n",
       "      <td>Deliveroo is an online food delivery service t...</td>\n",
       "      <td>Delivery,Food and Beverage,Food Delivery,Same ...</td>\n",
       "      <td>Administrative Services,Food and Beverage,Tran...</td>\n",
       "      <td>1.712683e+09</td>\n",
       "      <td>1.712683e+09</td>\n",
       "      <td>2012-01-01</td>\n",
       "      <td>NaN</td>\n",
       "      <td>5001-10000</td>\n",
       "      <td>https://www.linkedin.com/company/deliveroo</td>\n",
       "      <td>company</td>\n",
       "    </tr>\n",
       "    <tr>\n",
       "      <th>621119</th>\n",
       "      <td>00daca16-8311-454b-84e0-24a40d16be9c</td>\n",
       "      <td>Antler</td>\n",
       "      <td>5.0</td>\n",
       "      <td>SGP</td>\n",
       "      <td>Central Region</td>\n",
       "      <td>Singapore</td>\n",
       "      <td>operating</td>\n",
       "      <td>Antler is a global early-stage venture capital...</td>\n",
       "      <td>Venture Capital</td>\n",
       "      <td>Financial Services,Lending and Investments</td>\n",
       "      <td>7.800000e+07</td>\n",
       "      <td>7.800000e+07</td>\n",
       "      <td>2017-01-01</td>\n",
       "      <td>NaN</td>\n",
       "      <td>101-250</td>\n",
       "      <td>https://www.linkedin.com/company/antlerglobal/</td>\n",
       "      <td>investor</td>\n",
       "    </tr>\n",
       "  </tbody>\n",
       "</table>\n",
       "</div>"
      ],
      "text/plain": [
       "                                        uuid       name  rank country_code  \\\n",
       "1178    74a20af3-f4dd-6188-de60-c4ee6cd0ca4a  Ant Group   1.0          CHN   \n",
       "4042    022417b5-4980-6c54-0f3c-6736bbbb1a5e    Spotify   2.0          SWE   \n",
       "349     468bef9f-2f50-590e-6e78-62e3adb05aa1       Citi   3.0          USA   \n",
       "211260  a40d0a1f-f32c-a1e9-1bbd-a10bb0eca2e7  Deliveroo   4.0          GBR   \n",
       "621119  00daca16-8311-454b-84e0-24a40d16be9c     Antler   5.0          SGP   \n",
       "\n",
       "                region       city     status  \\\n",
       "1178          Zhejiang   Hangzhou  operating   \n",
       "4042    Stockholms Lan  Stockholm        ipo   \n",
       "349           New York   New York        ipo   \n",
       "211260         England     London        ipo   \n",
       "621119  Central Region  Singapore  operating   \n",
       "\n",
       "                                        short_description  \\\n",
       "1178    Ant Group strives to enable all consumers and ...   \n",
       "4042    Spotify is a commercial music streaming servic...   \n",
       "349     Citigroup is a diversified financial services ...   \n",
       "211260  Deliveroo is an online food delivery service t...   \n",
       "621119  Antler is a global early-stage venture capital...   \n",
       "\n",
       "                                            category_list  \\\n",
       "1178          Banking,Financial Services,FinTech,Payments   \n",
       "4042    Audio,Cloud Computing,Music,Music Streaming,Vi...   \n",
       "349     Banking,Credit Cards,Financial Services,Wealth...   \n",
       "211260  Delivery,Food and Beverage,Food Delivery,Same ...   \n",
       "621119                                    Venture Capital   \n",
       "\n",
       "                                          category_groups  total_funding_usd  \\\n",
       "1178    Financial Services,Lending and Investments,Pay...       2.200000e+10   \n",
       "4042    Content and Publishing,Internet Services,Media...       2.085425e+09   \n",
       "349     Financial Services,Lending and Investments,Pay...       8.700000e+09   \n",
       "211260  Administrative Services,Food and Beverage,Tran...       1.712683e+09   \n",
       "621119         Financial Services,Lending and Investments       7.800000e+07   \n",
       "\n",
       "        total_funding  founded_on closed_on employee_count  \\\n",
       "1178     2.200000e+10  2014-10-01       NaN     5001-10000   \n",
       "4042     2.085425e+09  2006-04-23       NaN     5001-10000   \n",
       "349      8.700000e+09  1998-10-08       NaN         10000+   \n",
       "211260   1.712683e+09  2012-01-01       NaN     5001-10000   \n",
       "621119   7.800000e+07  2017-01-01       NaN        101-250   \n",
       "\n",
       "                                          linkedin_url primary_role  \n",
       "1178        https://www.linkedin.com/company/antgroup/      company  \n",
       "4042           http://www.linkedin.com/company/spotify      company  \n",
       "349              https://www.linkedin.com/company/citi     investor  \n",
       "211260      https://www.linkedin.com/company/deliveroo      company  \n",
       "621119  https://www.linkedin.com/company/antlerglobal/     investor  "
      ]
     },
     "execution_count": 67,
     "metadata": {},
     "output_type": "execute_result"
    }
   ],
   "source": [
    "df.head()"
   ]
  },
  {
   "cell_type": "code",
   "execution_count": 98,
   "id": "prescription-greene",
   "metadata": {},
   "outputs": [
    {
     "data": {
      "text/plain": [
       "Index(['uuid', 'name', 'rank', 'country_code', 'region', 'city', 'status',\n",
       "       'short_description', 'category_list', 'category_groups',\n",
       "       'total_funding_usd', 'total_funding', 'founded_on', 'closed_on',\n",
       "       'employee_count', 'linkedin_url', 'primary_role'],\n",
       "      dtype='object')"
      ]
     },
     "execution_count": 98,
     "metadata": {},
     "output_type": "execute_result"
    }
   ],
   "source": [
    "df.columns"
   ]
  },
  {
   "cell_type": "code",
   "execution_count": 99,
   "id": "sound-screening",
   "metadata": {},
   "outputs": [
    {
     "data": {
      "text/html": [
       "<div>\n",
       "<style scoped>\n",
       "    .dataframe tbody tr th:only-of-type {\n",
       "        vertical-align: middle;\n",
       "    }\n",
       "\n",
       "    .dataframe tbody tr th {\n",
       "        vertical-align: top;\n",
       "    }\n",
       "\n",
       "    .dataframe thead th {\n",
       "        text-align: right;\n",
       "    }\n",
       "</style>\n",
       "<table border=\"1\" class=\"dataframe\">\n",
       "  <thead>\n",
       "    <tr style=\"text-align: right;\">\n",
       "      <th></th>\n",
       "      <th>country_code</th>\n",
       "      <th>region</th>\n",
       "      <th>city</th>\n",
       "    </tr>\n",
       "  </thead>\n",
       "  <tbody>\n",
       "    <tr>\n",
       "      <th>1178</th>\n",
       "      <td>CHN</td>\n",
       "      <td>Zhejiang</td>\n",
       "      <td>Hangzhou</td>\n",
       "    </tr>\n",
       "    <tr>\n",
       "      <th>4042</th>\n",
       "      <td>SWE</td>\n",
       "      <td>Stockholms Lan</td>\n",
       "      <td>Stockholm</td>\n",
       "    </tr>\n",
       "    <tr>\n",
       "      <th>349</th>\n",
       "      <td>USA</td>\n",
       "      <td>New York</td>\n",
       "      <td>New York</td>\n",
       "    </tr>\n",
       "    <tr>\n",
       "      <th>211260</th>\n",
       "      <td>GBR</td>\n",
       "      <td>England</td>\n",
       "      <td>London</td>\n",
       "    </tr>\n",
       "    <tr>\n",
       "      <th>621119</th>\n",
       "      <td>SGP</td>\n",
       "      <td>Central Region</td>\n",
       "      <td>Singapore</td>\n",
       "    </tr>\n",
       "  </tbody>\n",
       "</table>\n",
       "</div>"
      ],
      "text/plain": [
       "       country_code          region       city\n",
       "1178            CHN        Zhejiang   Hangzhou\n",
       "4042            SWE  Stockholms Lan  Stockholm\n",
       "349             USA        New York   New York\n",
       "211260          GBR         England     London\n",
       "621119          SGP  Central Region  Singapore"
      ]
     },
     "execution_count": 99,
     "metadata": {},
     "output_type": "execute_result"
    }
   ],
   "source": [
    "df_places = df[['country_code', 'region', 'city']]\n",
    "df_places.head()"
   ]
  },
  {
   "cell_type": "code",
   "execution_count": 111,
   "id": "novel-mobile",
   "metadata": {},
   "outputs": [
    {
     "name": "stdout",
     "output_type": "stream",
     "text": [
      "Collecting haversine\n",
      "  Downloading haversine-2.3.1-py2.py3-none-any.whl (5.5 kB)\n",
      "Installing collected packages: haversine\n",
      "Successfully installed haversine-2.3.1\n"
     ]
    }
   ],
   "source": [
    "!pip install haversine"
   ]
  },
  {
   "cell_type": "code",
   "execution_count": 112,
   "id": "italian-dutch",
   "metadata": {},
   "outputs": [],
   "source": [
    "import haversine as hs"
   ]
  },
  {
   "cell_type": "code",
   "execution_count": 113,
   "id": "anonymous-chinese",
   "metadata": {},
   "outputs": [
    {
     "data": {
      "text/plain": [
       "5.229712941541709"
      ]
     },
     "execution_count": 113,
     "metadata": {},
     "output_type": "execute_result"
    }
   ],
   "source": [
    "loc1=(28.426846,77.088834)\n",
    "loc2=(28.394231,77.050308)\n",
    "hs.haversine(loc1,loc2)\n"
   ]
  },
  {
   "cell_type": "code",
   "execution_count": 100,
   "id": "consistent-individual",
   "metadata": {},
   "outputs": [],
   "source": [
    "from geopy.geocoders import Nominatim\n",
    "import geopandas\n",
    "import geocoder"
   ]
  },
  {
   "cell_type": "code",
   "execution_count": 101,
   "id": "furnished-charm",
   "metadata": {},
   "outputs": [],
   "source": [
    "geolocator = Nominatim(user_agent='myapplication')"
   ]
  },
  {
   "cell_type": "code",
   "execution_count": 102,
   "id": "acoustic-oklahoma",
   "metadata": {},
   "outputs": [],
   "source": [
    "import geocoder"
   ]
  },
  {
   "cell_type": "code",
   "execution_count": 108,
   "id": "civil-fancy",
   "metadata": {},
   "outputs": [],
   "source": [
    "def extract_coordinates_location(location_company):\n",
    "    \n",
    "    str_place = location_company['city'] + ', ' + location_company['region'] #+ ', ' +  row['country_code']\n",
    "\n",
    "    address = geolocator.geocode(str_place) # coversion to conventional address (valid for the next command)\n",
    "    \n",
    "    lat = address.latitude\n",
    "    lon = address.longitude\n",
    "    \n",
    "    return address, lat, lon "
   ]
  },
  {
   "cell_type": "code",
   "execution_count": null,
   "id": "revolutionary-calgary",
   "metadata": {},
   "outputs": [],
   "source": []
  },
  {
   "cell_type": "code",
   "execution_count": null,
   "id": "tight-national",
   "metadata": {},
   "outputs": [],
   "source": []
  },
  {
   "cell_type": "code",
   "execution_count": 110,
   "id": "african-israeli",
   "metadata": {},
   "outputs": [
    {
     "name": "stdout",
     "output_type": "stream",
     "text": [
      "New York, United States\n"
     ]
    },
    {
     "data": {
      "text/plain": [
       "(40.7127281, -74.0060152)"
      ]
     },
     "execution_count": 110,
     "metadata": {},
     "output_type": "execute_result"
    }
   ],
   "source": [
    "extract_coordinates_location(row)"
   ]
  },
  {
   "cell_type": "code",
   "execution_count": 107,
   "id": "million-announcement",
   "metadata": {},
   "outputs": [
    {
     "name": "stdout",
     "output_type": "stream",
     "text": [
      "杭州市, 四季青街道, 浙江省, 中国\n",
      "30.2489634\n",
      "Stockholm, Stockholms kommun, Stockholms län, 111 29, Sverige\n",
      "59.3251172\n",
      "New York, United States\n",
      "40.7127281\n",
      "London, Greater London, England, United Kingdom\n",
      "51.5073219\n",
      "Ministry of Foreign Affairs, Singapore, Camp Road, Tanglin, Singapore, Central, 248819, Singapore\n",
      "1.30420465\n",
      "San Francisco, San Francisco City and County, San Francisco, California, United States\n",
      "37.7790262\n",
      "San Francisco, San Francisco City and County, San Francisco, California, United States\n",
      "37.7790262\n",
      "杭州市, 四季青街道, 浙江省, 中国\n",
      "30.2489634\n",
      "Los Gatos, Santa Clara County, California, United States\n",
      "37.226611\n",
      "New York, United States\n",
      "40.7127281\n"
     ]
    }
   ],
   "source": [
    "for index, row in df_places.iterrows():\n",
    "    \n",
    "    str_place = row['city'] + ', ' + row['region'] #+ ', ' +  row['country_code']\n",
    "\n",
    "    location = geolocator.geocode(str_place) # coversion to conventional address (valid for the next command)\n",
    "    print(location)\n",
    "    \n",
    "    lat = location.latitude\n",
    "    lon = location.longitude\n",
    "    \n",
    "    # update the class with latitude and longitude\n",
    "    \n",
    "    \n",
    "    print(lat)"
   ]
  },
  {
   "cell_type": "code",
   "execution_count": 104,
   "id": "visible-publicity",
   "metadata": {},
   "outputs": [
    {
     "data": {
      "text/plain": [
       "40.7127281"
      ]
     },
     "execution_count": 104,
     "metadata": {},
     "output_type": "execute_result"
    }
   ],
   "source": [
    "address.latitude"
   ]
  },
  {
   "cell_type": "code",
   "execution_count": 105,
   "id": "reasonable-chuck",
   "metadata": {},
   "outputs": [
    {
     "ename": "AttributeError",
     "evalue": "'NoneType' object has no attribute 'latitude'",
     "output_type": "error",
     "traceback": [
      "\u001b[0;31m---------------------------------------------------------------------------\u001b[0m",
      "\u001b[0;31mAttributeError\u001b[0m                            Traceback (most recent call last)",
      "\u001b[0;32m<ipython-input-105-52adbb3ba942>\u001b[0m in \u001b[0;36m<module>\u001b[0;34m\u001b[0m\n\u001b[0;32m----> 1\u001b[0;31m \u001b[0mlat\u001b[0m \u001b[0;34m=\u001b[0m \u001b[0mlocation\u001b[0m\u001b[0;34m.\u001b[0m\u001b[0mlatitude\u001b[0m\u001b[0;34m\u001b[0m\u001b[0;34m\u001b[0m\u001b[0m\n\u001b[0m\u001b[1;32m      2\u001b[0m \u001b[0mlon\u001b[0m \u001b[0;34m=\u001b[0m \u001b[0mlocation\u001b[0m\u001b[0;34m.\u001b[0m\u001b[0mlongitude\u001b[0m\u001b[0;34m\u001b[0m\u001b[0;34m\u001b[0m\u001b[0m\n",
      "\u001b[0;31mAttributeError\u001b[0m: 'NoneType' object has no attribute 'latitude'"
     ]
    }
   ],
   "source": [
    "lat = location.latitude\n",
    "lon = location.longitude"
   ]
  },
  {
   "cell_type": "code",
   "execution_count": null,
   "id": "green-phone",
   "metadata": {},
   "outputs": [],
   "source": []
  },
  {
   "cell_type": "code",
   "execution_count": null,
   "id": "initial-thesis",
   "metadata": {},
   "outputs": [],
   "source": []
  },
  {
   "cell_type": "code",
   "execution_count": null,
   "id": "marine-algebra",
   "metadata": {},
   "outputs": [],
   "source": []
  },
  {
   "cell_type": "code",
   "execution_count": null,
   "id": "crucial-internet",
   "metadata": {},
   "outputs": [],
   "source": []
  },
  {
   "cell_type": "code",
   "execution_count": null,
   "id": "quiet-motorcycle",
   "metadata": {},
   "outputs": [],
   "source": []
  },
  {
   "cell_type": "code",
   "execution_count": null,
   "id": "acute-newsletter",
   "metadata": {},
   "outputs": [],
   "source": []
  }
 ],
 "metadata": {
  "kernelspec": {
   "display_name": "Python 3",
   "language": "python",
   "name": "python3"
  },
  "language_info": {
   "codemirror_mode": {
    "name": "ipython",
    "version": 3
   },
   "file_extension": ".py",
   "mimetype": "text/x-python",
   "name": "python",
   "nbconvert_exporter": "python",
   "pygments_lexer": "ipython3",
   "version": "3.8.5"
  }
 },
 "nbformat": 4,
 "nbformat_minor": 5
}
