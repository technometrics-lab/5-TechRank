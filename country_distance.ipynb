{
 "cells": [
  {
   "cell_type": "markdown",
   "id": "willing-interaction",
   "metadata": {},
   "source": [
    "## Geographical position\n",
    "\n",
    "The geograhical position step has been hard. IN particular, I had difficulties in understanding which would have been the best choice for extracting the latitutes and calculating the distance. On the internet we can find many. PLease find my final solution implement in the _fun_external_factors.py_ file."
   ]
  },
  {
   "cell_type": "code",
   "execution_count": 11,
   "id": "accepting-massage",
   "metadata": {},
   "outputs": [
    {
     "data": {
      "text/plain": [
       "True"
      ]
     },
     "execution_count": 11,
     "metadata": {},
     "output_type": "execute_result"
    }
   ],
   "source": [
    "import math\n",
    "import arrow\n",
    "\n",
    "import ipynb \n",
    "import os.path\n",
    "import json\n",
    "import pandas as pd\n",
    "import networkx as nx\n",
    "import matplotlib.pyplot as plt\n",
    "import seaborn as sns\n",
    "import numpy as np\n",
    "\n",
    "from dotenv import load_dotenv\n",
    "from networkx.algorithms import bipartite\n",
    "from importlib import reload\n",
    "\n",
    "from typing import List\n",
    "\n",
    "load_dotenv(verbose=True)"
   ]
  },
  {
   "cell_type": "code",
   "execution_count": 12,
   "id": "necessary-differential",
   "metadata": {},
   "outputs": [],
   "source": [
    "# import functions from py file \n",
    "\n",
    "import functions.fun\n",
    "reload(functions.fun)\n",
    "from functions.fun import CB_data_cleaning, df_from_api_CB, extract_nodes, extract_data_from_column\n",
    "from functions.fun import nx_dip_graph_from_pandas, filter_dict, check_desc\n",
    "from functions.fun import extract_classes_company_tech, degree_bip, insert_data_classes"
   ]
  },
  {
   "cell_type": "code",
   "execution_count": 16,
   "id": "sophisticated-marsh",
   "metadata": {},
   "outputs": [],
   "source": [
    "# import functions from py file \n",
    "\n",
    "import functions.fun_external_factors\n",
    "reload(functions.fun_external_factors)\n",
    "from functions.fun_external_factors import rank_comparison, calibrate_analytic, create_exogenous_rank, haversine_distance, extract_coordinates_location"
   ]
  },
  {
   "cell_type": "code",
   "execution_count": 17,
   "id": "searching-royalty",
   "metadata": {},
   "outputs": [],
   "source": [
    "# import classes \n",
    "\n",
    "import classes\n",
    "reload(classes)\n",
    "from classes import Company, Investor, Technology"
   ]
  },
  {
   "cell_type": "markdown",
   "id": "criminal-baptist",
   "metadata": {},
   "source": [
    "### Download data from CSV"
   ]
  },
  {
   "cell_type": "code",
   "execution_count": null,
   "id": "comparative-fellow",
   "metadata": {},
   "outputs": [],
   "source": [
    "df_start = pd.read_csv(\"data/data_cb/organizations.csv\")"
   ]
  },
  {
   "cell_type": "code",
   "execution_count": null,
   "id": "animated-precipitation",
   "metadata": {},
   "outputs": [],
   "source": [
    "df_start.head()"
   ]
  },
  {
   "cell_type": "code",
   "execution_count": null,
   "id": "patient-kazakhstan",
   "metadata": {},
   "outputs": [],
   "source": [
    "df_start.columns"
   ]
  },
  {
   "cell_type": "markdown",
   "id": "aware-leader",
   "metadata": {},
   "source": [
    "### Data Cleaning\n",
    "\n",
    "for now we decide to use as key the name. it would be better to use the uuid"
   ]
  },
  {
   "cell_type": "code",
   "execution_count": 8,
   "id": "determined-strengthening",
   "metadata": {},
   "outputs": [],
   "source": [
    "to_drop = [\n",
    "    'type',\n",
    "    'permalink',\n",
    "    'cb_url',   \n",
    "    'created_at',\n",
    "    'domain',\n",
    "    'address',\n",
    "    'state_code',\n",
    "    'updated_at',\n",
    "    'legal_name',\n",
    "    'roles',\n",
    "    'postal_code',\n",
    "    'homepage_url',\n",
    "    'num_funding_rounds',\n",
    "    'total_funding_currency_code',\n",
    "    'phone',\n",
    "    'email',\n",
    "    'num_exits',\n",
    "    'alias2',\n",
    "    'alias3',\n",
    "    'num_exits',\n",
    "    'logo_url',\n",
    "    'alias1',\n",
    "    'last_funding_on',\n",
    "    'twitter_url',\n",
    "    'facebook_url'\n",
    "]\n",
    "\n",
    "to_rename = { 'category_groups_list': 'category_groups' }\n",
    "\n",
    "drop_if_nan = [\n",
    "    'category_groups',\n",
    "    'rank'\n",
    "]\n",
    "\n",
    "to_check_double = {}\n",
    "\n",
    "sort_by = \"rank\""
   ]
  },
  {
   "cell_type": "code",
   "execution_count": 9,
   "id": "undefined-alaska",
   "metadata": {},
   "outputs": [],
   "source": [
    "df = CB_data_cleaning(df_start, to_drop, to_rename, to_check_double, drop_if_nan, sort_by)"
   ]
  },
  {
   "cell_type": "code",
   "execution_count": 10,
   "id": "hazardous-panic",
   "metadata": {},
   "outputs": [
    {
     "data": {
      "text/html": [
       "<div>\n",
       "<style scoped>\n",
       "    .dataframe tbody tr th:only-of-type {\n",
       "        vertical-align: middle;\n",
       "    }\n",
       "\n",
       "    .dataframe tbody tr th {\n",
       "        vertical-align: top;\n",
       "    }\n",
       "\n",
       "    .dataframe thead th {\n",
       "        text-align: right;\n",
       "    }\n",
       "</style>\n",
       "<table border=\"1\" class=\"dataframe\">\n",
       "  <thead>\n",
       "    <tr style=\"text-align: right;\">\n",
       "      <th></th>\n",
       "      <th>uuid</th>\n",
       "      <th>name</th>\n",
       "      <th>rank</th>\n",
       "      <th>country_code</th>\n",
       "      <th>region</th>\n",
       "      <th>city</th>\n",
       "      <th>status</th>\n",
       "      <th>short_description</th>\n",
       "      <th>category_list</th>\n",
       "      <th>category_groups</th>\n",
       "      <th>total_funding_usd</th>\n",
       "      <th>total_funding</th>\n",
       "      <th>founded_on</th>\n",
       "      <th>closed_on</th>\n",
       "      <th>employee_count</th>\n",
       "      <th>linkedin_url</th>\n",
       "      <th>primary_role</th>\n",
       "    </tr>\n",
       "  </thead>\n",
       "  <tbody>\n",
       "    <tr>\n",
       "      <th>1178</th>\n",
       "      <td>74a20af3-f4dd-6188-de60-c4ee6cd0ca4a</td>\n",
       "      <td>Ant Group</td>\n",
       "      <td>1.0</td>\n",
       "      <td>CHN</td>\n",
       "      <td>Zhejiang</td>\n",
       "      <td>Hangzhou</td>\n",
       "      <td>operating</td>\n",
       "      <td>Ant Group strives to enable all consumers and ...</td>\n",
       "      <td>Banking,Financial Services,FinTech,Payments</td>\n",
       "      <td>Financial Services,Lending and Investments,Pay...</td>\n",
       "      <td>2.200000e+10</td>\n",
       "      <td>2.200000e+10</td>\n",
       "      <td>2014-10-01</td>\n",
       "      <td>NaN</td>\n",
       "      <td>5001-10000</td>\n",
       "      <td>https://www.linkedin.com/company/antgroup/</td>\n",
       "      <td>company</td>\n",
       "    </tr>\n",
       "    <tr>\n",
       "      <th>4042</th>\n",
       "      <td>022417b5-4980-6c54-0f3c-6736bbbb1a5e</td>\n",
       "      <td>Spotify</td>\n",
       "      <td>2.0</td>\n",
       "      <td>SWE</td>\n",
       "      <td>Stockholms Lan</td>\n",
       "      <td>Stockholm</td>\n",
       "      <td>ipo</td>\n",
       "      <td>Spotify is a commercial music streaming servic...</td>\n",
       "      <td>Audio,Cloud Computing,Music,Music Streaming,Vi...</td>\n",
       "      <td>Content and Publishing,Internet Services,Media...</td>\n",
       "      <td>2.085425e+09</td>\n",
       "      <td>2.085425e+09</td>\n",
       "      <td>2006-04-23</td>\n",
       "      <td>NaN</td>\n",
       "      <td>5001-10000</td>\n",
       "      <td>http://www.linkedin.com/company/spotify</td>\n",
       "      <td>company</td>\n",
       "    </tr>\n",
       "    <tr>\n",
       "      <th>349</th>\n",
       "      <td>468bef9f-2f50-590e-6e78-62e3adb05aa1</td>\n",
       "      <td>Citi</td>\n",
       "      <td>3.0</td>\n",
       "      <td>USA</td>\n",
       "      <td>New York</td>\n",
       "      <td>New York</td>\n",
       "      <td>ipo</td>\n",
       "      <td>Citigroup is a diversified financial services ...</td>\n",
       "      <td>Banking,Credit Cards,Financial Services,Wealth...</td>\n",
       "      <td>Financial Services,Lending and Investments,Pay...</td>\n",
       "      <td>8.700000e+09</td>\n",
       "      <td>8.700000e+09</td>\n",
       "      <td>1998-10-08</td>\n",
       "      <td>NaN</td>\n",
       "      <td>10000+</td>\n",
       "      <td>https://www.linkedin.com/company/citi</td>\n",
       "      <td>investor</td>\n",
       "    </tr>\n",
       "    <tr>\n",
       "      <th>211260</th>\n",
       "      <td>a40d0a1f-f32c-a1e9-1bbd-a10bb0eca2e7</td>\n",
       "      <td>Deliveroo</td>\n",
       "      <td>4.0</td>\n",
       "      <td>GBR</td>\n",
       "      <td>England</td>\n",
       "      <td>London</td>\n",
       "      <td>ipo</td>\n",
       "      <td>Deliveroo is an online food delivery service t...</td>\n",
       "      <td>Delivery,Food and Beverage,Food Delivery,Same ...</td>\n",
       "      <td>Administrative Services,Food and Beverage,Tran...</td>\n",
       "      <td>1.712683e+09</td>\n",
       "      <td>1.712683e+09</td>\n",
       "      <td>2012-01-01</td>\n",
       "      <td>NaN</td>\n",
       "      <td>5001-10000</td>\n",
       "      <td>https://www.linkedin.com/company/deliveroo</td>\n",
       "      <td>company</td>\n",
       "    </tr>\n",
       "    <tr>\n",
       "      <th>621119</th>\n",
       "      <td>00daca16-8311-454b-84e0-24a40d16be9c</td>\n",
       "      <td>Antler</td>\n",
       "      <td>5.0</td>\n",
       "      <td>SGP</td>\n",
       "      <td>Central Region</td>\n",
       "      <td>Singapore</td>\n",
       "      <td>operating</td>\n",
       "      <td>Antler is a global early-stage venture capital...</td>\n",
       "      <td>Venture Capital</td>\n",
       "      <td>Financial Services,Lending and Investments</td>\n",
       "      <td>7.800000e+07</td>\n",
       "      <td>7.800000e+07</td>\n",
       "      <td>2017-01-01</td>\n",
       "      <td>NaN</td>\n",
       "      <td>101-250</td>\n",
       "      <td>https://www.linkedin.com/company/antlerglobal/</td>\n",
       "      <td>investor</td>\n",
       "    </tr>\n",
       "  </tbody>\n",
       "</table>\n",
       "</div>"
      ],
      "text/plain": [
       "                                        uuid       name  rank country_code  \\\n",
       "1178    74a20af3-f4dd-6188-de60-c4ee6cd0ca4a  Ant Group   1.0          CHN   \n",
       "4042    022417b5-4980-6c54-0f3c-6736bbbb1a5e    Spotify   2.0          SWE   \n",
       "349     468bef9f-2f50-590e-6e78-62e3adb05aa1       Citi   3.0          USA   \n",
       "211260  a40d0a1f-f32c-a1e9-1bbd-a10bb0eca2e7  Deliveroo   4.0          GBR   \n",
       "621119  00daca16-8311-454b-84e0-24a40d16be9c     Antler   5.0          SGP   \n",
       "\n",
       "                region       city     status  \\\n",
       "1178          Zhejiang   Hangzhou  operating   \n",
       "4042    Stockholms Lan  Stockholm        ipo   \n",
       "349           New York   New York        ipo   \n",
       "211260         England     London        ipo   \n",
       "621119  Central Region  Singapore  operating   \n",
       "\n",
       "                                        short_description  \\\n",
       "1178    Ant Group strives to enable all consumers and ...   \n",
       "4042    Spotify is a commercial music streaming servic...   \n",
       "349     Citigroup is a diversified financial services ...   \n",
       "211260  Deliveroo is an online food delivery service t...   \n",
       "621119  Antler is a global early-stage venture capital...   \n",
       "\n",
       "                                            category_list  \\\n",
       "1178          Banking,Financial Services,FinTech,Payments   \n",
       "4042    Audio,Cloud Computing,Music,Music Streaming,Vi...   \n",
       "349     Banking,Credit Cards,Financial Services,Wealth...   \n",
       "211260  Delivery,Food and Beverage,Food Delivery,Same ...   \n",
       "621119                                    Venture Capital   \n",
       "\n",
       "                                          category_groups  total_funding_usd  \\\n",
       "1178    Financial Services,Lending and Investments,Pay...       2.200000e+10   \n",
       "4042    Content and Publishing,Internet Services,Media...       2.085425e+09   \n",
       "349     Financial Services,Lending and Investments,Pay...       8.700000e+09   \n",
       "211260  Administrative Services,Food and Beverage,Tran...       1.712683e+09   \n",
       "621119         Financial Services,Lending and Investments       7.800000e+07   \n",
       "\n",
       "        total_funding  founded_on closed_on employee_count  \\\n",
       "1178     2.200000e+10  2014-10-01       NaN     5001-10000   \n",
       "4042     2.085425e+09  2006-04-23       NaN     5001-10000   \n",
       "349      8.700000e+09  1998-10-08       NaN         10000+   \n",
       "211260   1.712683e+09  2012-01-01       NaN     5001-10000   \n",
       "621119   7.800000e+07  2017-01-01       NaN        101-250   \n",
       "\n",
       "                                          linkedin_url primary_role  \n",
       "1178        https://www.linkedin.com/company/antgroup/      company  \n",
       "4042           http://www.linkedin.com/company/spotify      company  \n",
       "349              https://www.linkedin.com/company/citi     investor  \n",
       "211260      https://www.linkedin.com/company/deliveroo      company  \n",
       "621119  https://www.linkedin.com/company/antlerglobal/     investor  "
      ]
     },
     "execution_count": 10,
     "metadata": {},
     "output_type": "execute_result"
    }
   ],
   "source": [
    "df.head()"
   ]
  },
  {
   "cell_type": "code",
   "execution_count": 11,
   "id": "identical-baghdad",
   "metadata": {},
   "outputs": [
    {
     "data": {
      "text/plain": [
       "Index(['uuid', 'name', 'rank', 'country_code', 'region', 'city', 'status',\n",
       "       'short_description', 'category_list', 'category_groups',\n",
       "       'total_funding_usd', 'total_funding', 'founded_on', 'closed_on',\n",
       "       'employee_count', 'linkedin_url', 'primary_role'],\n",
       "      dtype='object')"
      ]
     },
     "execution_count": 11,
     "metadata": {},
     "output_type": "execute_result"
    }
   ],
   "source": [
    "df.columns"
   ]
  },
  {
   "cell_type": "code",
   "execution_count": 12,
   "id": "intensive-advocate",
   "metadata": {},
   "outputs": [
    {
     "data": {
      "text/html": [
       "<div>\n",
       "<style scoped>\n",
       "    .dataframe tbody tr th:only-of-type {\n",
       "        vertical-align: middle;\n",
       "    }\n",
       "\n",
       "    .dataframe tbody tr th {\n",
       "        vertical-align: top;\n",
       "    }\n",
       "\n",
       "    .dataframe thead th {\n",
       "        text-align: right;\n",
       "    }\n",
       "</style>\n",
       "<table border=\"1\" class=\"dataframe\">\n",
       "  <thead>\n",
       "    <tr style=\"text-align: right;\">\n",
       "      <th></th>\n",
       "      <th>country_code</th>\n",
       "      <th>region</th>\n",
       "      <th>city</th>\n",
       "    </tr>\n",
       "  </thead>\n",
       "  <tbody>\n",
       "    <tr>\n",
       "      <th>1178</th>\n",
       "      <td>CHN</td>\n",
       "      <td>Zhejiang</td>\n",
       "      <td>Hangzhou</td>\n",
       "    </tr>\n",
       "    <tr>\n",
       "      <th>4042</th>\n",
       "      <td>SWE</td>\n",
       "      <td>Stockholms Lan</td>\n",
       "      <td>Stockholm</td>\n",
       "    </tr>\n",
       "    <tr>\n",
       "      <th>349</th>\n",
       "      <td>USA</td>\n",
       "      <td>New York</td>\n",
       "      <td>New York</td>\n",
       "    </tr>\n",
       "    <tr>\n",
       "      <th>211260</th>\n",
       "      <td>GBR</td>\n",
       "      <td>England</td>\n",
       "      <td>London</td>\n",
       "    </tr>\n",
       "    <tr>\n",
       "      <th>621119</th>\n",
       "      <td>SGP</td>\n",
       "      <td>Central Region</td>\n",
       "      <td>Singapore</td>\n",
       "    </tr>\n",
       "  </tbody>\n",
       "</table>\n",
       "</div>"
      ],
      "text/plain": [
       "       country_code          region       city\n",
       "1178            CHN        Zhejiang   Hangzhou\n",
       "4042            SWE  Stockholms Lan  Stockholm\n",
       "349             USA        New York   New York\n",
       "211260          GBR         England     London\n",
       "621119          SGP  Central Region  Singapore"
      ]
     },
     "execution_count": 12,
     "metadata": {},
     "output_type": "execute_result"
    }
   ],
   "source": [
    "df_places = df[['country_code', 'region', 'city']]\n",
    "df_places.head()"
   ]
  },
  {
   "cell_type": "code",
   "execution_count": 13,
   "id": "vanilla-ethiopia",
   "metadata": {},
   "outputs": [
    {
     "data": {
      "text/html": [
       "<div>\n",
       "<style scoped>\n",
       "    .dataframe tbody tr th:only-of-type {\n",
       "        vertical-align: middle;\n",
       "    }\n",
       "\n",
       "    .dataframe tbody tr th {\n",
       "        vertical-align: top;\n",
       "    }\n",
       "\n",
       "    .dataframe thead th {\n",
       "        text-align: right;\n",
       "    }\n",
       "</style>\n",
       "<table border=\"1\" class=\"dataframe\">\n",
       "  <thead>\n",
       "    <tr style=\"text-align: right;\">\n",
       "      <th></th>\n",
       "      <th>country_code</th>\n",
       "      <th>region</th>\n",
       "      <th>city</th>\n",
       "    </tr>\n",
       "  </thead>\n",
       "  <tbody>\n",
       "    <tr>\n",
       "      <th>349</th>\n",
       "      <td>USA</td>\n",
       "      <td>New York</td>\n",
       "      <td>New York</td>\n",
       "    </tr>\n",
       "    <tr>\n",
       "      <th>85286</th>\n",
       "      <td>USA</td>\n",
       "      <td>California</td>\n",
       "      <td>San Francisco</td>\n",
       "    </tr>\n",
       "    <tr>\n",
       "      <th>2005</th>\n",
       "      <td>USA</td>\n",
       "      <td>Massachusetts</td>\n",
       "      <td>Cambridge</td>\n",
       "    </tr>\n",
       "    <tr>\n",
       "      <th>287787</th>\n",
       "      <td>USA</td>\n",
       "      <td>North Carolina</td>\n",
       "      <td>Cary</td>\n",
       "    </tr>\n",
       "    <tr>\n",
       "      <th>176113</th>\n",
       "      <td>USA</td>\n",
       "      <td>Georgia</td>\n",
       "      <td>Atlanta</td>\n",
       "    </tr>\n",
       "    <tr>\n",
       "      <th>502612</th>\n",
       "      <td>USA</td>\n",
       "      <td>Texas</td>\n",
       "      <td>Austin</td>\n",
       "    </tr>\n",
       "    <tr>\n",
       "      <th>59901</th>\n",
       "      <td>USA</td>\n",
       "      <td>Maryland</td>\n",
       "      <td>Bethesda</td>\n",
       "    </tr>\n",
       "    <tr>\n",
       "      <th>281077</th>\n",
       "      <td>USA</td>\n",
       "      <td>Florida</td>\n",
       "      <td>Clearwater</td>\n",
       "    </tr>\n",
       "    <tr>\n",
       "      <th>364540</th>\n",
       "      <td>USA</td>\n",
       "      <td>Michigan</td>\n",
       "      <td>Detroit</td>\n",
       "    </tr>\n",
       "    <tr>\n",
       "      <th>287392</th>\n",
       "      <td>USA</td>\n",
       "      <td>Pennsylvania</td>\n",
       "      <td>Philadelphia</td>\n",
       "    </tr>\n",
       "  </tbody>\n",
       "</table>\n",
       "</div>"
      ],
      "text/plain": [
       "       country_code          region           city\n",
       "349             USA        New York       New York\n",
       "85286           USA      California  San Francisco\n",
       "2005            USA   Massachusetts      Cambridge\n",
       "287787          USA  North Carolina           Cary\n",
       "176113          USA         Georgia        Atlanta\n",
       "502612          USA           Texas         Austin\n",
       "59901           USA        Maryland       Bethesda\n",
       "281077          USA         Florida     Clearwater\n",
       "364540          USA        Michigan        Detroit\n",
       "287392          USA    Pennsylvania   Philadelphia"
      ]
     },
     "execution_count": 13,
     "metadata": {},
     "output_type": "execute_result"
    }
   ],
   "source": [
    "# only in USA and not duplicate \n",
    "\n",
    "df_places = df_places[df_places['country_code']=='USA']\n",
    "df_places = df_places.drop_duplicates('region')\n",
    "df_places.head(10)"
   ]
  },
  {
   "cell_type": "code",
   "execution_count": 14,
   "id": "chief-madagascar",
   "metadata": {},
   "outputs": [],
   "source": [
    "df_places = df_places[:10]"
   ]
  },
  {
   "cell_type": "code",
   "execution_count": 15,
   "id": "typical-password",
   "metadata": {},
   "outputs": [],
   "source": [
    "import haversine as hs"
   ]
  },
  {
   "cell_type": "code",
   "execution_count": 16,
   "id": "interior-province",
   "metadata": {},
   "outputs": [
    {
     "data": {
      "text/plain": [
       "5.229712941541709"
      ]
     },
     "execution_count": 16,
     "metadata": {},
     "output_type": "execute_result"
    }
   ],
   "source": [
    "loc1=(28.426846,77.088834)\n",
    "loc2=(28.394231,77.050308)\n",
    "hs.haversine(loc1,loc2)\n"
   ]
  },
  {
   "cell_type": "code",
   "execution_count": 19,
   "id": "active-appendix",
   "metadata": {},
   "outputs": [],
   "source": [
    "from geopy.geocoders import Nominatim\n",
    "import geopandas\n",
    "import geocoder"
   ]
  },
  {
   "cell_type": "code",
   "execution_count": 20,
   "id": "certified-mixture",
   "metadata": {},
   "outputs": [],
   "source": [
    "geolocator = Nominatim(user_agent='myapplication')"
   ]
  },
  {
   "cell_type": "markdown",
   "id": "breeding-diabetes",
   "metadata": {},
   "source": [
    "### Investors' location\n",
    "\n",
    "Let us suppose the investor is located in NY"
   ]
  },
  {
   "cell_type": "code",
   "execution_count": 21,
   "id": "editorial-occasion",
   "metadata": {},
   "outputs": [],
   "source": [
    "city_inv = \"New York\"\n",
    "region_inv = \"New York\"\n",
    "country_inv = \"USA\"\n",
    "\n",
    "str_place = city_inv + ', ' + region_inv + ', ' + country_inv\n",
    "\n",
    "location = geolocator.geocode(str_place) # coversion to conventional address (valid for the next command)\n",
    "\n",
    "lat_inv = location.latitude\n",
    "lon_in= location.longitude"
   ]
  },
  {
   "cell_type": "code",
   "execution_count": 27,
   "id": "hungarian-candy",
   "metadata": {},
   "outputs": [],
   "source": [
    "city_inv = \"London\"\n",
    "region_inv = \"England\"\n",
    "country_inv = \"EN\"\n",
    "\n",
    "str_place = city_inv + ', ' + region_inv + ', ' + country_inv\n",
    "\n",
    "location = geolocator.geocode(str_place) # coversion to conventional address (valid for the next command)\n",
    "\n",
    "lat_c = location.latitude\n",
    "lon_c= location.longitude"
   ]
  },
  {
   "cell_type": "code",
   "execution_count": 28,
   "id": "unlikely-translator",
   "metadata": {},
   "outputs": [
    {
     "data": {
      "text/plain": [
       "5570.248637132771"
      ]
     },
     "execution_count": 28,
     "metadata": {},
     "output_type": "execute_result"
    }
   ],
   "source": [
    "haversine_distance(lat_c, lon_c, lat_inv, lon_in)"
   ]
  },
  {
   "cell_type": "code",
   "execution_count": 26,
   "id": "appreciated-concentrate",
   "metadata": {},
   "outputs": [
    {
     "data": {
      "text/plain": [
       "550.5149205808382"
      ]
     },
     "execution_count": 26,
     "metadata": {},
     "output_type": "execute_result"
    }
   ],
   "source": [
    "haversine_distance(lat_c, lon_c, lat_inv, lon_in)"
   ]
  },
  {
   "cell_type": "code",
   "execution_count": 22,
   "id": "young-savings",
   "metadata": {},
   "outputs": [],
   "source": [
    "h_dis = []\n",
    "lat_list = []\n",
    "lon_list = []\n",
    "\n",
    "for index, row in df_places.iterrows():\n",
    "    \n",
    "    str_place = row['city'] + ', ' + row['region'] #+ ', ' +  row['country_code']\n",
    "\n",
    "    location = geolocator.geocode(str_place) # coversion to conventional address (valid for the next command)\n",
    "    \n",
    "    lat = location.latitude\n",
    "    lon = location.longitude\n",
    "    \n",
    "    lat_list.append(lat)\n",
    "    lon_list.append(lon)\n",
    "    \n",
    "    # Haversine distance between the company and the investor\n",
    "    h = haversine_distance(lat, lon, lat_inv, lon_in)\n",
    "    h_dis.append(h)\n",
    "    \n",
    "    "
   ]
  },
  {
   "cell_type": "code",
   "execution_count": 14,
   "id": "charged-following",
   "metadata": {},
   "outputs": [
    {
     "name": "stdout",
     "output_type": "stream",
     "text": [
      "Collecting sympy\n",
      "  Downloading sympy-1.8-py3-none-any.whl (6.1 MB)\n",
      "\u001b[K     |████████████████████████████████| 6.1 MB 4.1 MB/s eta 0:00:01\n",
      "\u001b[?25hCollecting mpmath>=0.19\n",
      "  Downloading mpmath-1.2.1-py3-none-any.whl (532 kB)\n",
      "\u001b[K     |████████████████████████████████| 532 kB 56.1 MB/s eta 0:00:01\n",
      "\u001b[?25hInstalling collected packages: mpmath, sympy\n",
      "Successfully installed mpmath-1.2.1 sympy-1.8\n"
     ]
    }
   ],
   "source": [
    "!pip install sympy"
   ]
  },
  {
   "cell_type": "code",
   "execution_count": null,
   "id": "ceramic-journal",
   "metadata": {},
   "outputs": [],
   "source": [
    "import sympy\n",
    "s = \"for index, row in df_places.iterrows():\"\n",
    "sympy.latex(eval(s)) "
   ]
  },
  {
   "cell_type": "code",
   "execution_count": 23,
   "id": "backed-procurement",
   "metadata": {},
   "outputs": [
    {
     "data": {
      "text/plain": [
       "'\\\\left\\\\{ \\\\mathtt{\\\\text{a}} : 0.1, \\\\  \\\\mathtt{\\\\text{b}} : 0.2, \\\\  \\\\mathtt{\\\\text{c}} : 0.3, \\\\  \\\\mathtt{\\\\text{d}} : 0.4, \\\\  \\\\mathtt{\\\\text{e}} : 0.5\\\\right\\\\}'"
      ]
     },
     "execution_count": 23,
     "metadata": {},
     "output_type": "execute_result"
    }
   ],
   "source": [
    "h_dict = {'a': 1, 'b': 2, 'c': 3, 'd': 4, 'e': 5}\n",
    "h_max=10\n",
    "\n",
    "s = \"{c_name:h/h_max for (c_name,h) in h_dict.items()}\"\n",
    "sympy.latex(eval(s)) "
   ]
  },
  {
   "cell_type": "markdown",
   "id": "devoted-millennium",
   "metadata": {},
   "source": []
  },
  {
   "cell_type": "code",
   "execution_count": null,
   "id": "literary-singapore",
   "metadata": {},
   "outputs": [],
   "source": []
  },
  {
   "cell_type": "code",
   "execution_count": null,
   "id": "neutral-evening",
   "metadata": {},
   "outputs": [],
   "source": []
  }
 ],
 "metadata": {
  "kernelspec": {
   "display_name": "Python 3.8.5 64-bit ('arma': conda)",
   "language": "python",
   "name": "python385jvsc74a57bd0b26dfc579e8edf5b1e25967756ce48bf166110ec5e523d5787a4edb107f755fd"
  },
  "language_info": {
   "codemirror_mode": {
    "name": "ipython",
    "version": 3
   },
   "file_extension": ".py",
   "mimetype": "text/x-python",
   "name": "python",
   "nbconvert_exporter": "python",
   "pygments_lexer": "ipython3",
   "version": "3.8.5"
  }
 },
 "nbformat": 4,
 "nbformat_minor": 5
}
