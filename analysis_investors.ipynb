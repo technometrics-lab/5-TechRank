{
 "cells": [
  {
   "cell_type": "code",
   "execution_count": 1,
   "id": "romantic-crown",
   "metadata": {},
   "outputs": [],
   "source": [
    "import pandas as pd\n",
    "import matplotlib.pyplot as plt\n",
    "import seaborn as sns"
   ]
  },
  {
   "cell_type": "code",
   "execution_count": 2,
   "id": "drawn-cement",
   "metadata": {},
   "outputs": [],
   "source": [
    "df_investors = pd.read_csv(\"data/data_cb/investors.csv\")"
   ]
  },
  {
   "cell_type": "code",
   "execution_count": 3,
   "id": "comparable-point",
   "metadata": {},
   "outputs": [
    {
     "data": {
      "text/html": [
       "<div>\n",
       "<style scoped>\n",
       "    .dataframe tbody tr th:only-of-type {\n",
       "        vertical-align: middle;\n",
       "    }\n",
       "\n",
       "    .dataframe tbody tr th {\n",
       "        vertical-align: top;\n",
       "    }\n",
       "\n",
       "    .dataframe thead th {\n",
       "        text-align: right;\n",
       "    }\n",
       "</style>\n",
       "<table border=\"1\" class=\"dataframe\">\n",
       "  <thead>\n",
       "    <tr style=\"text-align: right;\">\n",
       "      <th></th>\n",
       "      <th>uuid</th>\n",
       "      <th>name</th>\n",
       "      <th>type</th>\n",
       "      <th>permalink</th>\n",
       "      <th>cb_url</th>\n",
       "      <th>rank</th>\n",
       "      <th>created_at</th>\n",
       "      <th>updated_at</th>\n",
       "      <th>roles</th>\n",
       "      <th>domain</th>\n",
       "      <th>...</th>\n",
       "      <th>investment_count</th>\n",
       "      <th>total_funding_usd</th>\n",
       "      <th>total_funding</th>\n",
       "      <th>total_funding_currency_code</th>\n",
       "      <th>founded_on</th>\n",
       "      <th>closed_on</th>\n",
       "      <th>facebook_url</th>\n",
       "      <th>linkedin_url</th>\n",
       "      <th>twitter_url</th>\n",
       "      <th>logo_url</th>\n",
       "    </tr>\n",
       "  </thead>\n",
       "  <tbody>\n",
       "    <tr>\n",
       "      <th>0</th>\n",
       "      <td>bf4d7b0e-b34d-2fd8-d292-6049c4f7efc7</td>\n",
       "      <td>Zoho</td>\n",
       "      <td>organization</td>\n",
       "      <td>zoho</td>\n",
       "      <td>https://www.crunchbase.com/organization/zoho</td>\n",
       "      <td>6766.0</td>\n",
       "      <td>2007-05-26 02:30:28</td>\n",
       "      <td>2018-10-27 00:29:49</td>\n",
       "      <td>investor,company</td>\n",
       "      <td>zoho.com</td>\n",
       "      <td>...</td>\n",
       "      <td>5.0</td>\n",
       "      <td>NaN</td>\n",
       "      <td>NaN</td>\n",
       "      <td>NaN</td>\n",
       "      <td>1996-09-15</td>\n",
       "      <td>NaN</td>\n",
       "      <td>http://www.facebook.com/zoho</td>\n",
       "      <td>http://www.linkedin.com/company/zoho-corporati...</td>\n",
       "      <td>http://twitter.com/zoho</td>\n",
       "      <td>https://res.cloudinary.com/crunchbase-producti...</td>\n",
       "    </tr>\n",
       "    <tr>\n",
       "      <th>1</th>\n",
       "      <td>f4d5ab44-058b-298b-ea81-380e6e9a8eec</td>\n",
       "      <td>Omidyar Network</td>\n",
       "      <td>organization</td>\n",
       "      <td>omidyar-network</td>\n",
       "      <td>https://www.crunchbase.com/organization/omidya...</td>\n",
       "      <td>88317.0</td>\n",
       "      <td>2007-05-26 03:21:34</td>\n",
       "      <td>2019-06-19 12:17:48</td>\n",
       "      <td>investor</td>\n",
       "      <td>omidyar.com</td>\n",
       "      <td>...</td>\n",
       "      <td>318.0</td>\n",
       "      <td>NaN</td>\n",
       "      <td>NaN</td>\n",
       "      <td>NaN</td>\n",
       "      <td>2004-01-01</td>\n",
       "      <td>NaN</td>\n",
       "      <td>http://www.facebook.com/OmidyarNetwork</td>\n",
       "      <td>http://www.linkedin.com/company/22806</td>\n",
       "      <td>http://twitter.com/OmidyarNetwork</td>\n",
       "      <td>https://res.cloudinary.com/crunchbase-producti...</td>\n",
       "    </tr>\n",
       "    <tr>\n",
       "      <th>2</th>\n",
       "      <td>df662812-7f97-0b43-9d3e-12f64f504fbb</td>\n",
       "      <td>Facebook</td>\n",
       "      <td>organization</td>\n",
       "      <td>facebook</td>\n",
       "      <td>https://www.crunchbase.com/organization/facebook</td>\n",
       "      <td>25.0</td>\n",
       "      <td>2007-05-26 04:22:15</td>\n",
       "      <td>2021-05-17 14:06:02</td>\n",
       "      <td>investor,company</td>\n",
       "      <td>facebook.com</td>\n",
       "      <td>...</td>\n",
       "      <td>37.0</td>\n",
       "      <td>1.612282e+10</td>\n",
       "      <td>1.612282e+10</td>\n",
       "      <td>USD</td>\n",
       "      <td>2004-02-04</td>\n",
       "      <td>NaN</td>\n",
       "      <td>https://www.facebook.com/facebook</td>\n",
       "      <td>http://www.linkedin.com/company/facebook</td>\n",
       "      <td>https://twitter.com/facebook</td>\n",
       "      <td>https://res.cloudinary.com/crunchbase-producti...</td>\n",
       "    </tr>\n",
       "    <tr>\n",
       "      <th>3</th>\n",
       "      <td>a01b8d46-d311-3333-7c34-aa3ae9c03f22</td>\n",
       "      <td>Mark Zuckerberg</td>\n",
       "      <td>person</td>\n",
       "      <td>mark-zuckerberg</td>\n",
       "      <td>https://www.crunchbase.com/person/mark-zuckerberg</td>\n",
       "      <td>2220.0</td>\n",
       "      <td>2007-05-26 04:51:46</td>\n",
       "      <td>2018-12-13 14:05:34</td>\n",
       "      <td>investor</td>\n",
       "      <td>NaN</td>\n",
       "      <td>...</td>\n",
       "      <td>8.0</td>\n",
       "      <td>NaN</td>\n",
       "      <td>NaN</td>\n",
       "      <td>NaN</td>\n",
       "      <td>NaN</td>\n",
       "      <td>NaN</td>\n",
       "      <td>https://www.facebook.com/zuck</td>\n",
       "      <td>NaN</td>\n",
       "      <td>https://twitter.com/finkd</td>\n",
       "      <td>https://res.cloudinary.com/crunchbase-producti...</td>\n",
       "    </tr>\n",
       "    <tr>\n",
       "      <th>4</th>\n",
       "      <td>084aaa07-0795-1fe8-9c46-98bbeb02cd64</td>\n",
       "      <td>Dustin Moskovitz</td>\n",
       "      <td>person</td>\n",
       "      <td>dustin-moskovitz</td>\n",
       "      <td>https://www.crunchbase.com/person/dustin-mosko...</td>\n",
       "      <td>93903.0</td>\n",
       "      <td>2007-05-26 05:15:05</td>\n",
       "      <td>2019-06-07 20:29:51</td>\n",
       "      <td>investor</td>\n",
       "      <td>NaN</td>\n",
       "      <td>...</td>\n",
       "      <td>16.0</td>\n",
       "      <td>NaN</td>\n",
       "      <td>NaN</td>\n",
       "      <td>NaN</td>\n",
       "      <td>NaN</td>\n",
       "      <td>NaN</td>\n",
       "      <td>http://www.facebook.com/moskov</td>\n",
       "      <td>https://www.linkedin.com/in/dmoskov</td>\n",
       "      <td>http://twitter.com/moskov</td>\n",
       "      <td>https://res.cloudinary.com/crunchbase-producti...</td>\n",
       "    </tr>\n",
       "  </tbody>\n",
       "</table>\n",
       "<p>5 rows × 25 columns</p>\n",
       "</div>"
      ],
      "text/plain": [
       "                                   uuid              name          type  \\\n",
       "0  bf4d7b0e-b34d-2fd8-d292-6049c4f7efc7              Zoho  organization   \n",
       "1  f4d5ab44-058b-298b-ea81-380e6e9a8eec   Omidyar Network  organization   \n",
       "2  df662812-7f97-0b43-9d3e-12f64f504fbb          Facebook  organization   \n",
       "3  a01b8d46-d311-3333-7c34-aa3ae9c03f22   Mark Zuckerberg        person   \n",
       "4  084aaa07-0795-1fe8-9c46-98bbeb02cd64  Dustin Moskovitz        person   \n",
       "\n",
       "          permalink                                             cb_url  \\\n",
       "0              zoho       https://www.crunchbase.com/organization/zoho   \n",
       "1   omidyar-network  https://www.crunchbase.com/organization/omidya...   \n",
       "2          facebook   https://www.crunchbase.com/organization/facebook   \n",
       "3   mark-zuckerberg  https://www.crunchbase.com/person/mark-zuckerberg   \n",
       "4  dustin-moskovitz  https://www.crunchbase.com/person/dustin-mosko...   \n",
       "\n",
       "      rank           created_at           updated_at             roles  \\\n",
       "0   6766.0  2007-05-26 02:30:28  2018-10-27 00:29:49  investor,company   \n",
       "1  88317.0  2007-05-26 03:21:34  2019-06-19 12:17:48          investor   \n",
       "2     25.0  2007-05-26 04:22:15  2021-05-17 14:06:02  investor,company   \n",
       "3   2220.0  2007-05-26 04:51:46  2018-12-13 14:05:34          investor   \n",
       "4  93903.0  2007-05-26 05:15:05  2019-06-07 20:29:51          investor   \n",
       "\n",
       "         domain  ... investment_count total_funding_usd total_funding  \\\n",
       "0      zoho.com  ...              5.0               NaN           NaN   \n",
       "1   omidyar.com  ...            318.0               NaN           NaN   \n",
       "2  facebook.com  ...             37.0      1.612282e+10  1.612282e+10   \n",
       "3           NaN  ...              8.0               NaN           NaN   \n",
       "4           NaN  ...             16.0               NaN           NaN   \n",
       "\n",
       "  total_funding_currency_code  founded_on  closed_on  \\\n",
       "0                         NaN  1996-09-15        NaN   \n",
       "1                         NaN  2004-01-01        NaN   \n",
       "2                         USD  2004-02-04        NaN   \n",
       "3                         NaN         NaN        NaN   \n",
       "4                         NaN         NaN        NaN   \n",
       "\n",
       "                             facebook_url  \\\n",
       "0            http://www.facebook.com/zoho   \n",
       "1  http://www.facebook.com/OmidyarNetwork   \n",
       "2       https://www.facebook.com/facebook   \n",
       "3           https://www.facebook.com/zuck   \n",
       "4          http://www.facebook.com/moskov   \n",
       "\n",
       "                                        linkedin_url  \\\n",
       "0  http://www.linkedin.com/company/zoho-corporati...   \n",
       "1              http://www.linkedin.com/company/22806   \n",
       "2           http://www.linkedin.com/company/facebook   \n",
       "3                                                NaN   \n",
       "4                https://www.linkedin.com/in/dmoskov   \n",
       "\n",
       "                         twitter_url  \\\n",
       "0            http://twitter.com/zoho   \n",
       "1  http://twitter.com/OmidyarNetwork   \n",
       "2       https://twitter.com/facebook   \n",
       "3          https://twitter.com/finkd   \n",
       "4          http://twitter.com/moskov   \n",
       "\n",
       "                                            logo_url  \n",
       "0  https://res.cloudinary.com/crunchbase-producti...  \n",
       "1  https://res.cloudinary.com/crunchbase-producti...  \n",
       "2  https://res.cloudinary.com/crunchbase-producti...  \n",
       "3  https://res.cloudinary.com/crunchbase-producti...  \n",
       "4  https://res.cloudinary.com/crunchbase-producti...  \n",
       "\n",
       "[5 rows x 25 columns]"
      ]
     },
     "execution_count": 3,
     "metadata": {},
     "output_type": "execute_result"
    }
   ],
   "source": [
    "df_investors.head()"
   ]
  },
  {
   "cell_type": "code",
   "execution_count": 4,
   "id": "based-freight",
   "metadata": {},
   "outputs": [
    {
     "data": {
      "text/plain": [
       "uuid                                        bf4d7b0e-b34d-2fd8-d292-6049c4f7efc7\n",
       "name                                                                        Zoho\n",
       "type                                                                organization\n",
       "permalink                                                                   zoho\n",
       "cb_url                              https://www.crunchbase.com/organization/zoho\n",
       "rank                                                                      6766.0\n",
       "created_at                                                   2007-05-26 02:30:28\n",
       "updated_at                                                   2018-10-27 00:29:49\n",
       "roles                                                           investor,company\n",
       "domain                                                                  zoho.com\n",
       "country_code                                                                 USA\n",
       "state_code                                                                    CA\n",
       "region                                                                California\n",
       "city                                                                  Pleasanton\n",
       "investor_types                                                               NaN\n",
       "investment_count                                                             5.0\n",
       "total_funding_usd                                                            NaN\n",
       "total_funding                                                                NaN\n",
       "total_funding_currency_code                                                  NaN\n",
       "founded_on                                                            1996-09-15\n",
       "closed_on                                                                    NaN\n",
       "facebook_url                                        http://www.facebook.com/zoho\n",
       "linkedin_url                   http://www.linkedin.com/company/zoho-corporati...\n",
       "twitter_url                                              http://twitter.com/zoho\n",
       "logo_url                       https://res.cloudinary.com/crunchbase-producti...\n",
       "Name: 0, dtype: object"
      ]
     },
     "execution_count": 4,
     "metadata": {},
     "output_type": "execute_result"
    }
   ],
   "source": [
    "df_investors.loc[0]"
   ]
  },
  {
   "cell_type": "code",
   "execution_count": 5,
   "id": "ceramic-graph",
   "metadata": {},
   "outputs": [
    {
     "data": {
      "text/plain": [
       "Index(['uuid', 'name', 'type', 'permalink', 'cb_url', 'rank', 'created_at',\n",
       "       'updated_at', 'roles', 'domain', 'country_code', 'state_code', 'region',\n",
       "       'city', 'investor_types', 'investment_count', 'total_funding_usd',\n",
       "       'total_funding', 'total_funding_currency_code', 'founded_on',\n",
       "       'closed_on', 'facebook_url', 'linkedin_url', 'twitter_url', 'logo_url'],\n",
       "      dtype='object')"
      ]
     },
     "execution_count": 5,
     "metadata": {},
     "output_type": "execute_result"
    }
   ],
   "source": [
    "df_investors.columns"
   ]
  },
  {
   "cell_type": "code",
   "execution_count": 6,
   "id": "numerical-simon",
   "metadata": {},
   "outputs": [
    {
     "data": {
      "text/plain": [
       "185784"
      ]
     },
     "execution_count": 6,
     "metadata": {},
     "output_type": "execute_result"
    }
   ],
   "source": [
    "len(df_investors)"
   ]
  },
  {
   "cell_type": "code",
   "execution_count": 7,
   "id": "flying-burner",
   "metadata": {},
   "outputs": [
    {
     "name": "stderr",
     "output_type": "stream",
     "text": [
      "<ipython-input-7-927da6264c33>:2: SettingWithCopyWarning: \n",
      "A value is trying to be set on a copy of a slice from a DataFrame.\n",
      "Try using .loc[row_indexer,col_indexer] = value instead\n",
      "\n",
      "See the caveats in the documentation: https://pandas.pydata.org/pandas-docs/stable/user_guide/indexing.html#returning-a-view-versus-a-copy\n",
      "  df['roles'] = [\"investor,company\" if i=='company,investor' else i for i in df[\"roles\"] ]\n"
     ]
    }
   ],
   "source": [
    "df = df_investors[['type', 'roles', 'country_code']]\n",
    "df['roles'] = [\"investor,company\" if i=='company,investor' else i for i in df[\"roles\"] ] "
   ]
  },
  {
   "cell_type": "code",
   "execution_count": 8,
   "id": "particular-fancy",
   "metadata": {},
   "outputs": [],
   "source": [
    "len_df = len(df)"
   ]
  },
  {
   "cell_type": "markdown",
   "id": "speaking-haiti",
   "metadata": {},
   "source": [
    "### Type"
   ]
  },
  {
   "cell_type": "code",
   "execution_count": 9,
   "id": "foreign-tennessee",
   "metadata": {},
   "outputs": [
    {
     "data": {
      "text/html": [
       "<div>\n",
       "<style scoped>\n",
       "    .dataframe tbody tr th:only-of-type {\n",
       "        vertical-align: middle;\n",
       "    }\n",
       "\n",
       "    .dataframe tbody tr th {\n",
       "        vertical-align: top;\n",
       "    }\n",
       "\n",
       "    .dataframe thead th {\n",
       "        text-align: right;\n",
       "    }\n",
       "</style>\n",
       "<table border=\"1\" class=\"dataframe\">\n",
       "  <thead>\n",
       "    <tr style=\"text-align: right;\">\n",
       "      <th></th>\n",
       "      <th>count</th>\n",
       "      <th>country_code</th>\n",
       "      <th>percentage</th>\n",
       "    </tr>\n",
       "    <tr>\n",
       "      <th>type</th>\n",
       "      <th></th>\n",
       "      <th></th>\n",
       "      <th></th>\n",
       "    </tr>\n",
       "  </thead>\n",
       "  <tbody>\n",
       "    <tr>\n",
       "      <th>organization</th>\n",
       "      <td>78001</td>\n",
       "      <td>62035</td>\n",
       "      <td>41.98</td>\n",
       "    </tr>\n",
       "    <tr>\n",
       "      <th>person</th>\n",
       "      <td>107783</td>\n",
       "      <td>63806</td>\n",
       "      <td>58.02</td>\n",
       "    </tr>\n",
       "  </tbody>\n",
       "</table>\n",
       "</div>"
      ],
      "text/plain": [
       "               count  country_code  percentage\n",
       "type                                          \n",
       "organization   78001         62035       41.98\n",
       "person        107783         63806       58.02"
      ]
     },
     "execution_count": 9,
     "metadata": {},
     "output_type": "execute_result"
    }
   ],
   "source": [
    "count_type = df.groupby(['type']).count() # count number of investors for each type\n",
    "count_type = count_type.rename(columns={'roles':'count'}) # rename columns\n",
    "count_type['percentage'] = count_type['count']/count_type['count'].sum()*100\n",
    "count_type['percentage'] = count_type['percentage'].round(2)\n",
    "count_type"
   ]
  },
  {
   "cell_type": "code",
   "execution_count": 10,
   "id": "protected-lebanon",
   "metadata": {},
   "outputs": [
    {
     "data": {
      "image/png": "[encoded data removed]",
      "text/plain": [
       "<Figure size 432x288 with 1 Axes>"
      ]
     },
     "metadata": {
      "needs_background": "light"
     },
     "output_type": "display_data"
    }
   ],
   "source": [
    "a = sns.barplot(x='type', y='count', data=count_type.reset_index())\n",
    "\n",
    "for p in a.patches:\n",
    "    a.annotate(format(p.get_height(), '.0f'), \n",
    "                   (p.get_x() + p.get_width() / 2., p.get_height() / 2. ), \n",
    "                   ha = 'center', va = 'center', \n",
    "                   xytext = (0, 9), \n",
    "                   textcoords = 'offset points')\n",
    "plt.title(\"Number of investors for each typology\")\n",
    "plt.savefig(\"plots/investors/count_type.pdf\")\n",
    "plt.show()"
   ]
  },
  {
   "cell_type": "markdown",
   "id": "coral-nepal",
   "metadata": {},
   "source": [
    "### Roles"
   ]
  },
  {
   "cell_type": "code",
   "execution_count": 11,
   "id": "instant-answer",
   "metadata": {},
   "outputs": [
    {
     "data": {
      "text/html": [
       "<div>\n",
       "<style scoped>\n",
       "    .dataframe tbody tr th:only-of-type {\n",
       "        vertical-align: middle;\n",
       "    }\n",
       "\n",
       "    .dataframe tbody tr th {\n",
       "        vertical-align: top;\n",
       "    }\n",
       "\n",
       "    .dataframe thead th {\n",
       "        text-align: right;\n",
       "    }\n",
       "</style>\n",
       "<table border=\"1\" class=\"dataframe\">\n",
       "  <thead>\n",
       "    <tr style=\"text-align: right;\">\n",
       "      <th></th>\n",
       "      <th>count</th>\n",
       "      <th>percentage</th>\n",
       "    </tr>\n",
       "    <tr>\n",
       "      <th>roles</th>\n",
       "      <th></th>\n",
       "      <th></th>\n",
       "    </tr>\n",
       "  </thead>\n",
       "  <tbody>\n",
       "    <tr>\n",
       "      <th>company,investor,school</th>\n",
       "      <td>2</td>\n",
       "      <td>0.00</td>\n",
       "    </tr>\n",
       "    <tr>\n",
       "      <th>investor</th>\n",
       "      <td>161843</td>\n",
       "      <td>87.11</td>\n",
       "    </tr>\n",
       "    <tr>\n",
       "      <th>investor,company</th>\n",
       "      <td>23510</td>\n",
       "      <td>12.65</td>\n",
       "    </tr>\n",
       "    <tr>\n",
       "      <th>investor,company,school</th>\n",
       "      <td>111</td>\n",
       "      <td>0.06</td>\n",
       "    </tr>\n",
       "    <tr>\n",
       "      <th>investor,school</th>\n",
       "      <td>288</td>\n",
       "      <td>0.16</td>\n",
       "    </tr>\n",
       "  </tbody>\n",
       "</table>\n",
       "</div>"
      ],
      "text/plain": [
       "                          count  percentage\n",
       "roles                                      \n",
       "company,investor,school       2        0.00\n",
       "investor                 161843       87.11\n",
       "investor,company          23510       12.65\n",
       "investor,company,school     111        0.06\n",
       "investor,school             288        0.16"
      ]
     },
     "execution_count": 11,
     "metadata": {},
     "output_type": "execute_result"
    }
   ],
   "source": [
    "count_roles = df[['roles', 'type']].groupby(['roles']).count() # count number of investors for each type\n",
    "count_roles = count_roles.rename(columns={'type':'count'}) # rename columns\n",
    "count_roles['percentage'] = count_roles['count']/count_type['count'].sum()*100 # find percentage\n",
    "count_roles['percentage'] = count_roles['percentage'].round(2) # appriximate \n",
    "\n",
    "count_roles.head()"
   ]
  },
  {
   "cell_type": "code",
   "execution_count": 12,
   "id": "complicated-principal",
   "metadata": {},
   "outputs": [
    {
     "data": {
      "text/plain": [
       "8"
      ]
     },
     "execution_count": 12,
     "metadata": {},
     "output_type": "execute_result"
    }
   ],
   "source": [
    "len(count_roles)"
   ]
  },
  {
   "cell_type": "code",
   "execution_count": 13,
   "id": "dated-scottish",
   "metadata": {},
   "outputs": [
    {
     "data": {
      "text/html": [
       "<div>\n",
       "<style scoped>\n",
       "    .dataframe tbody tr th:only-of-type {\n",
       "        vertical-align: middle;\n",
       "    }\n",
       "\n",
       "    .dataframe tbody tr th {\n",
       "        vertical-align: top;\n",
       "    }\n",
       "\n",
       "    .dataframe thead th {\n",
       "        text-align: right;\n",
       "    }\n",
       "</style>\n",
       "<table border=\"1\" class=\"dataframe\">\n",
       "  <thead>\n",
       "    <tr style=\"text-align: right;\">\n",
       "      <th></th>\n",
       "      <th>count</th>\n",
       "      <th>percentage</th>\n",
       "    </tr>\n",
       "    <tr>\n",
       "      <th>roles</th>\n",
       "      <th></th>\n",
       "      <th></th>\n",
       "    </tr>\n",
       "  </thead>\n",
       "  <tbody>\n",
       "    <tr>\n",
       "      <th>investor</th>\n",
       "      <td>161843</td>\n",
       "      <td>87.11</td>\n",
       "    </tr>\n",
       "    <tr>\n",
       "      <th>investor,company</th>\n",
       "      <td>23510</td>\n",
       "      <td>12.65</td>\n",
       "    </tr>\n",
       "    <tr>\n",
       "      <th>other</th>\n",
       "      <td>431</td>\n",
       "      <td>0.23</td>\n",
       "    </tr>\n",
       "  </tbody>\n",
       "</table>\n",
       "</div>"
      ],
      "text/plain": [
       "                   count  percentage\n",
       "roles                               \n",
       "investor          161843       87.11\n",
       "investor,company   23510       12.65\n",
       "other                431        0.23"
      ]
     },
     "execution_count": 13,
     "metadata": {},
     "output_type": "execute_result"
    }
   ],
   "source": [
    "thresold = len_df/10\n",
    "\n",
    "# delete values too low\n",
    "sum_low = count_roles['count'][count_roles['count'] < thresold].sum()\n",
    "per_low = count_roles['percentage'][count_roles['count'] < thresold].sum()\n",
    "count_roles = count_roles[count_roles['count'] > thresold]\n",
    "s = pd.DataFrame([[sum_low, per_low, 'other']], columns=['count', 'percentage', 'roles'])\n",
    "s = s.set_index('roles')\n",
    "count_roles = count_roles. append(s)\n",
    "count_roles.head()"
   ]
  },
  {
   "cell_type": "code",
   "execution_count": 14,
   "id": "political-corpus",
   "metadata": {},
   "outputs": [
    {
     "data": {
      "image/png": "[encoded data removed]",
      "text/plain": [
       "<Figure size 432x288 with 1 Axes>"
      ]
     },
     "metadata": {
      "needs_background": "light"
     },
     "output_type": "display_data"
    }
   ],
   "source": [
    "a = sns.barplot(x='roles', y='count', data=count_roles.reset_index())\n",
    "#for index, row in count_type.iterrows():\n",
    "#    a.text(index, row.count, f\"{row.percentage}%\" , color='black', ha=\"center\")\n",
    "\n",
    "for p in a.patches:\n",
    "    a.annotate(format(p.get_height(), '.0f'), \n",
    "                   (p.get_x() + p.get_width() / 2., p.get_height() / 2. ), \n",
    "                   ha = 'center', va = 'center', \n",
    "                   xytext = (0, 9), \n",
    "                   textcoords = 'offset points')\n",
    "plt.title(\"Number of investors for each role\")\n",
    "plt.savefig(\"plots/investors/count_roles.pdf\")\n",
    "plt.show()"
   ]
  },
  {
   "cell_type": "markdown",
   "id": "fourth-allowance",
   "metadata": {},
   "source": [
    "### Country"
   ]
  },
  {
   "cell_type": "code",
   "execution_count": 15,
   "id": "english-wales",
   "metadata": {},
   "outputs": [
    {
     "data": {
      "text/html": [
       "<div>\n",
       "<style scoped>\n",
       "    .dataframe tbody tr th:only-of-type {\n",
       "        vertical-align: middle;\n",
       "    }\n",
       "\n",
       "    .dataframe tbody tr th {\n",
       "        vertical-align: top;\n",
       "    }\n",
       "\n",
       "    .dataframe thead th {\n",
       "        text-align: right;\n",
       "    }\n",
       "</style>\n",
       "<table border=\"1\" class=\"dataframe\">\n",
       "  <thead>\n",
       "    <tr style=\"text-align: right;\">\n",
       "      <th></th>\n",
       "      <th>count</th>\n",
       "      <th>percentage</th>\n",
       "    </tr>\n",
       "    <tr>\n",
       "      <th>country_code</th>\n",
       "      <th></th>\n",
       "      <th></th>\n",
       "    </tr>\n",
       "  </thead>\n",
       "  <tbody>\n",
       "    <tr>\n",
       "      <th>AFG</th>\n",
       "      <td>1</td>\n",
       "      <td>0.00</td>\n",
       "    </tr>\n",
       "    <tr>\n",
       "      <th>AGO</th>\n",
       "      <td>7</td>\n",
       "      <td>0.00</td>\n",
       "    </tr>\n",
       "    <tr>\n",
       "      <th>ALA</th>\n",
       "      <td>1</td>\n",
       "      <td>0.00</td>\n",
       "    </tr>\n",
       "    <tr>\n",
       "      <th>ALB</th>\n",
       "      <td>13</td>\n",
       "      <td>0.01</td>\n",
       "    </tr>\n",
       "    <tr>\n",
       "      <th>AND</th>\n",
       "      <td>6</td>\n",
       "      <td>0.00</td>\n",
       "    </tr>\n",
       "  </tbody>\n",
       "</table>\n",
       "</div>"
      ],
      "text/plain": [
       "              count  percentage\n",
       "country_code                   \n",
       "AFG               1        0.00\n",
       "AGO               7        0.00\n",
       "ALA               1        0.00\n",
       "ALB              13        0.01\n",
       "AND               6        0.00"
      ]
     },
     "execution_count": 15,
     "metadata": {},
     "output_type": "execute_result"
    }
   ],
   "source": [
    "count_country = df[['type', 'country_code']].groupby(['country_code']).count() # count number of investors for each type\n",
    "count_country = count_country.rename(columns={'type':'count'}) # rename columns\n",
    "count_country['percentage'] = count_country['count']/count_type['count'].sum()*100 # find percentage\n",
    "count_country['percentage'] = count_country['percentage'].round(2) # appriximate \n",
    "\n",
    "count_country.head()"
   ]
  },
  {
   "cell_type": "code",
   "execution_count": 16,
   "id": "concrete-stable",
   "metadata": {},
   "outputs": [
    {
     "data": {
      "text/html": [
       "<div>\n",
       "<style scoped>\n",
       "    .dataframe tbody tr th:only-of-type {\n",
       "        vertical-align: middle;\n",
       "    }\n",
       "\n",
       "    .dataframe tbody tr th {\n",
       "        vertical-align: top;\n",
       "    }\n",
       "\n",
       "    .dataframe thead th {\n",
       "        text-align: right;\n",
       "    }\n",
       "</style>\n",
       "<table border=\"1\" class=\"dataframe\">\n",
       "  <thead>\n",
       "    <tr style=\"text-align: right;\">\n",
       "      <th></th>\n",
       "      <th>count</th>\n",
       "      <th>percentage</th>\n",
       "    </tr>\n",
       "    <tr>\n",
       "      <th>country_code</th>\n",
       "      <th></th>\n",
       "      <th></th>\n",
       "    </tr>\n",
       "  </thead>\n",
       "  <tbody>\n",
       "    <tr>\n",
       "      <th>USA</th>\n",
       "      <td>55025</td>\n",
       "      <td>29.62</td>\n",
       "    </tr>\n",
       "    <tr>\n",
       "      <th>other</th>\n",
       "      <td>42522</td>\n",
       "      <td>22.80</td>\n",
       "    </tr>\n",
       "    <tr>\n",
       "      <th>CHN</th>\n",
       "      <td>13076</td>\n",
       "      <td>7.04</td>\n",
       "    </tr>\n",
       "    <tr>\n",
       "      <th>GBR</th>\n",
       "      <td>9730</td>\n",
       "      <td>5.24</td>\n",
       "    </tr>\n",
       "    <tr>\n",
       "      <th>IND</th>\n",
       "      <td>5488</td>\n",
       "      <td>2.95</td>\n",
       "    </tr>\n",
       "  </tbody>\n",
       "</table>\n",
       "</div>"
      ],
      "text/plain": [
       "              count  percentage\n",
       "country_code                   \n",
       "USA           55025       29.62\n",
       "other         42522       22.80\n",
       "CHN           13076        7.04\n",
       "GBR            9730        5.24\n",
       "IND            5488        2.95"
      ]
     },
     "execution_count": 16,
     "metadata": {},
     "output_type": "execute_result"
    }
   ],
   "source": [
    "thresold = len_df/40\n",
    "\n",
    "# delete values too low\n",
    "sum_low = count_country['count'][count_country['count'] < thresold].sum()\n",
    "per_low = count_country['percentage'][count_country['count'] < thresold].sum()\n",
    "count_country = count_country[count_country['count'] > thresold]\n",
    "s = pd.DataFrame([[sum_low, per_low, 'other']], columns=['count', 'percentage', 'country_code'])\n",
    "s = s.set_index('country_code')\n",
    "count_country = count_country. append(s)\n",
    "count_country = count_country.sort_values(by='count', ascending=False)\n",
    "count_country.head()"
   ]
  },
  {
   "cell_type": "code",
   "execution_count": 17,
   "id": "complete-google",
   "metadata": {},
   "outputs": [
    {
     "data": {
      "image/png": "[encoded data removed]",
      "text/plain": [
       "<Figure size 432x288 with 1 Axes>"
      ]
     },
     "metadata": {
      "needs_background": "light"
     },
     "output_type": "display_data"
    }
   ],
   "source": [
    "a = sns.barplot(x='country_code', y='count', data=count_country.reset_index())\n",
    "#for index, row in count_type.iterrows():\n",
    "#    a.text(index, row.count, f\"{row.percentage}%\" , color='black', ha=\"center\")\n",
    "\n",
    "for p in a.patches:\n",
    "    a.annotate(format(p.get_height(), '.0f'), \n",
    "                   (p.get_x() + p.get_width() / 2., p.get_height() / 2. ), \n",
    "                   ha = 'center', va = 'center', \n",
    "                   xytext = (0, 9), \n",
    "                   textcoords = 'offset points')\n",
    "plt.title(\"Number of investors for each role\")\n",
    "plt.savefig(\"plots/investors/city.pdf\")\n",
    "plt.show()"
   ]
  },
  {
   "cell_type": "markdown",
   "id": "mathematical-opening",
   "metadata": {},
   "source": [
    "## Switzerland"
   ]
  },
  {
   "cell_type": "code",
   "execution_count": 18,
   "id": "convinced-prison",
   "metadata": {},
   "outputs": [
    {
     "data": {
      "text/html": [
       "<div>\n",
       "<style scoped>\n",
       "    .dataframe tbody tr th:only-of-type {\n",
       "        vertical-align: middle;\n",
       "    }\n",
       "\n",
       "    .dataframe tbody tr th {\n",
       "        vertical-align: top;\n",
       "    }\n",
       "\n",
       "    .dataframe thead th {\n",
       "        text-align: right;\n",
       "    }\n",
       "</style>\n",
       "<table border=\"1\" class=\"dataframe\">\n",
       "  <thead>\n",
       "    <tr style=\"text-align: right;\">\n",
       "      <th></th>\n",
       "      <th>uuid</th>\n",
       "      <th>name</th>\n",
       "      <th>type</th>\n",
       "      <th>permalink</th>\n",
       "      <th>cb_url</th>\n",
       "      <th>rank</th>\n",
       "      <th>created_at</th>\n",
       "      <th>updated_at</th>\n",
       "      <th>roles</th>\n",
       "      <th>domain</th>\n",
       "      <th>...</th>\n",
       "      <th>investment_count</th>\n",
       "      <th>total_funding_usd</th>\n",
       "      <th>total_funding</th>\n",
       "      <th>total_funding_currency_code</th>\n",
       "      <th>founded_on</th>\n",
       "      <th>closed_on</th>\n",
       "      <th>facebook_url</th>\n",
       "      <th>linkedin_url</th>\n",
       "      <th>twitter_url</th>\n",
       "      <th>logo_url</th>\n",
       "    </tr>\n",
       "  </thead>\n",
       "  <tbody>\n",
       "    <tr>\n",
       "      <th>347</th>\n",
       "      <td>46ef43b2-49ba-8d1d-7687-b692b010c772</td>\n",
       "      <td>Armada Investment AG</td>\n",
       "      <td>organization</td>\n",
       "      <td>armada-investment-group</td>\n",
       "      <td>https://www.crunchbase.com/organization/armada...</td>\n",
       "      <td>140477.0</td>\n",
       "      <td>2007-07-20 13:10:31</td>\n",
       "      <td>2020-03-03 16:48:12</td>\n",
       "      <td>investor</td>\n",
       "      <td>armada.com</td>\n",
       "      <td>...</td>\n",
       "      <td>14.0</td>\n",
       "      <td>NaN</td>\n",
       "      <td>NaN</td>\n",
       "      <td>NaN</td>\n",
       "      <td>2000-03-08</td>\n",
       "      <td>NaN</td>\n",
       "      <td>NaN</td>\n",
       "      <td>https://www.linkedin.com/company/armada-invest...</td>\n",
       "      <td>NaN</td>\n",
       "      <td>https://res.cloudinary.com/crunchbase-producti...</td>\n",
       "    </tr>\n",
       "    <tr>\n",
       "      <th>702</th>\n",
       "      <td>d2712549-89f1-0f55-4ac9-c220f4772ff8</td>\n",
       "      <td>lastminute.com group</td>\n",
       "      <td>organization</td>\n",
       "      <td>lastminute</td>\n",
       "      <td>https://www.crunchbase.com/organization/lastmi...</td>\n",
       "      <td>161457.0</td>\n",
       "      <td>2007-08-23 20:29:22</td>\n",
       "      <td>2019-03-26 10:52:08</td>\n",
       "      <td>investor,company</td>\n",
       "      <td>lastminutegroup.com</td>\n",
       "      <td>...</td>\n",
       "      <td>1.0</td>\n",
       "      <td>NaN</td>\n",
       "      <td>NaN</td>\n",
       "      <td>NaN</td>\n",
       "      <td>2000-04-01</td>\n",
       "      <td>NaN</td>\n",
       "      <td>https://www.facebook.com/LMGPoland/</td>\n",
       "      <td>https://www.linkedin.com/company/lastminute.co...</td>\n",
       "      <td>https://twitter.com/lastminute_com</td>\n",
       "      <td>https://res.cloudinary.com/crunchbase-producti...</td>\n",
       "    </tr>\n",
       "    <tr>\n",
       "      <th>923</th>\n",
       "      <td>d272fbf3-dc27-a62b-5a04-dea1a859fccd</td>\n",
       "      <td>Michael Kleindl</td>\n",
       "      <td>person</td>\n",
       "      <td>michael-kleindl</td>\n",
       "      <td>https://www.crunchbase.com/person/michael-kleindl</td>\n",
       "      <td>221151.0</td>\n",
       "      <td>2007-09-27 18:58:40</td>\n",
       "      <td>2018-09-17 20:26:03</td>\n",
       "      <td>investor</td>\n",
       "      <td>bluehorizon.com</td>\n",
       "      <td>...</td>\n",
       "      <td>2.0</td>\n",
       "      <td>NaN</td>\n",
       "      <td>NaN</td>\n",
       "      <td>NaN</td>\n",
       "      <td>NaN</td>\n",
       "      <td>NaN</td>\n",
       "      <td>NaN</td>\n",
       "      <td>http://www.linkedin.com/in/michaelkleindl</td>\n",
       "      <td>http://twitter.com/michael_kleindl</td>\n",
       "      <td>https://res.cloudinary.com/crunchbase-producti...</td>\n",
       "    </tr>\n",
       "    <tr>\n",
       "      <th>926</th>\n",
       "      <td>e22c16e9-f871-8625-bead-b21a06c33ce0</td>\n",
       "      <td>Klaus Hommels</td>\n",
       "      <td>person</td>\n",
       "      <td>klaus-hommels</td>\n",
       "      <td>https://www.crunchbase.com/person/klaus-hommels</td>\n",
       "      <td>136974.0</td>\n",
       "      <td>2007-09-27 19:10:55</td>\n",
       "      <td>2019-08-19 03:23:31</td>\n",
       "      <td>investor</td>\n",
       "      <td>NaN</td>\n",
       "      <td>...</td>\n",
       "      <td>10.0</td>\n",
       "      <td>NaN</td>\n",
       "      <td>NaN</td>\n",
       "      <td>NaN</td>\n",
       "      <td>NaN</td>\n",
       "      <td>NaN</td>\n",
       "      <td>NaN</td>\n",
       "      <td>NaN</td>\n",
       "      <td>NaN</td>\n",
       "      <td>https://res.cloudinary.com/crunchbase-producti...</td>\n",
       "    </tr>\n",
       "    <tr>\n",
       "      <th>951</th>\n",
       "      <td>9cb580df-031c-df5c-3802-2c60263cc26b</td>\n",
       "      <td>Pierre Chappaz</td>\n",
       "      <td>person</td>\n",
       "      <td>pierre-chappaz</td>\n",
       "      <td>https://www.crunchbase.com/person/pierre-chappaz</td>\n",
       "      <td>331072.0</td>\n",
       "      <td>2007-10-03 19:12:03</td>\n",
       "      <td>2020-05-04 04:03:55</td>\n",
       "      <td>investor</td>\n",
       "      <td>pierrechappaz.overblog.com</td>\n",
       "      <td>...</td>\n",
       "      <td>3.0</td>\n",
       "      <td>NaN</td>\n",
       "      <td>NaN</td>\n",
       "      <td>NaN</td>\n",
       "      <td>NaN</td>\n",
       "      <td>NaN</td>\n",
       "      <td>https://www.facebook.com/pierre.chappaz</td>\n",
       "      <td>https://www.linkedin.com/in/pierre-chappaz-49a56</td>\n",
       "      <td>https://twitter.com/pierrechappaz</td>\n",
       "      <td>https://res.cloudinary.com/crunchbase-producti...</td>\n",
       "    </tr>\n",
       "  </tbody>\n",
       "</table>\n",
       "<p>5 rows × 25 columns</p>\n",
       "</div>"
      ],
      "text/plain": [
       "                                     uuid                  name          type  \\\n",
       "347  46ef43b2-49ba-8d1d-7687-b692b010c772  Armada Investment AG  organization   \n",
       "702  d2712549-89f1-0f55-4ac9-c220f4772ff8  lastminute.com group  organization   \n",
       "923  d272fbf3-dc27-a62b-5a04-dea1a859fccd       Michael Kleindl        person   \n",
       "926  e22c16e9-f871-8625-bead-b21a06c33ce0         Klaus Hommels        person   \n",
       "951  9cb580df-031c-df5c-3802-2c60263cc26b        Pierre Chappaz        person   \n",
       "\n",
       "                   permalink  \\\n",
       "347  armada-investment-group   \n",
       "702               lastminute   \n",
       "923          michael-kleindl   \n",
       "926            klaus-hommels   \n",
       "951           pierre-chappaz   \n",
       "\n",
       "                                                cb_url      rank  \\\n",
       "347  https://www.crunchbase.com/organization/armada...  140477.0   \n",
       "702  https://www.crunchbase.com/organization/lastmi...  161457.0   \n",
       "923  https://www.crunchbase.com/person/michael-kleindl  221151.0   \n",
       "926    https://www.crunchbase.com/person/klaus-hommels  136974.0   \n",
       "951   https://www.crunchbase.com/person/pierre-chappaz  331072.0   \n",
       "\n",
       "              created_at           updated_at             roles  \\\n",
       "347  2007-07-20 13:10:31  2020-03-03 16:48:12          investor   \n",
       "702  2007-08-23 20:29:22  2019-03-26 10:52:08  investor,company   \n",
       "923  2007-09-27 18:58:40  2018-09-17 20:26:03          investor   \n",
       "926  2007-09-27 19:10:55  2019-08-19 03:23:31          investor   \n",
       "951  2007-10-03 19:12:03  2020-05-04 04:03:55          investor   \n",
       "\n",
       "                         domain  ... investment_count total_funding_usd  \\\n",
       "347                  armada.com  ...             14.0               NaN   \n",
       "702         lastminutegroup.com  ...              1.0               NaN   \n",
       "923             bluehorizon.com  ...              2.0               NaN   \n",
       "926                         NaN  ...             10.0               NaN   \n",
       "951  pierrechappaz.overblog.com  ...              3.0               NaN   \n",
       "\n",
       "    total_funding total_funding_currency_code  founded_on  closed_on  \\\n",
       "347           NaN                         NaN  2000-03-08        NaN   \n",
       "702           NaN                         NaN  2000-04-01        NaN   \n",
       "923           NaN                         NaN         NaN        NaN   \n",
       "926           NaN                         NaN         NaN        NaN   \n",
       "951           NaN                         NaN         NaN        NaN   \n",
       "\n",
       "                                facebook_url  \\\n",
       "347                                      NaN   \n",
       "702      https://www.facebook.com/LMGPoland/   \n",
       "923                                      NaN   \n",
       "926                                      NaN   \n",
       "951  https://www.facebook.com/pierre.chappaz   \n",
       "\n",
       "                                          linkedin_url  \\\n",
       "347  https://www.linkedin.com/company/armada-invest...   \n",
       "702  https://www.linkedin.com/company/lastminute.co...   \n",
       "923          http://www.linkedin.com/in/michaelkleindl   \n",
       "926                                                NaN   \n",
       "951   https://www.linkedin.com/in/pierre-chappaz-49a56   \n",
       "\n",
       "                            twitter_url  \\\n",
       "347                                 NaN   \n",
       "702  https://twitter.com/lastminute_com   \n",
       "923  http://twitter.com/michael_kleindl   \n",
       "926                                 NaN   \n",
       "951   https://twitter.com/pierrechappaz   \n",
       "\n",
       "                                              logo_url  \n",
       "347  https://res.cloudinary.com/crunchbase-producti...  \n",
       "702  https://res.cloudinary.com/crunchbase-producti...  \n",
       "923  https://res.cloudinary.com/crunchbase-producti...  \n",
       "926  https://res.cloudinary.com/crunchbase-producti...  \n",
       "951  https://res.cloudinary.com/crunchbase-producti...  \n",
       "\n",
       "[5 rows x 25 columns]"
      ]
     },
     "execution_count": 18,
     "metadata": {},
     "output_type": "execute_result"
    }
   ],
   "source": [
    "df_ch = df_investors[df_investors['country_code']=='CHE']\n",
    "df_ch.head()"
   ]
  },
  {
   "cell_type": "code",
   "execution_count": 19,
   "id": "colored-japanese",
   "metadata": {},
   "outputs": [],
   "source": [
    "len_df = len(df_ch)"
   ]
  },
  {
   "cell_type": "markdown",
   "id": "coastal-sarah",
   "metadata": {},
   "source": [
    "### City"
   ]
  },
  {
   "cell_type": "code",
   "execution_count": 31,
   "id": "handled-worthy",
   "metadata": {},
   "outputs": [
    {
     "data": {
      "text/html": [
       "<div>\n",
       "<style scoped>\n",
       "    .dataframe tbody tr th:only-of-type {\n",
       "        vertical-align: middle;\n",
       "    }\n",
       "\n",
       "    .dataframe tbody tr th {\n",
       "        vertical-align: top;\n",
       "    }\n",
       "\n",
       "    .dataframe thead th {\n",
       "        text-align: right;\n",
       "    }\n",
       "</style>\n",
       "<table border=\"1\" class=\"dataframe\">\n",
       "  <thead>\n",
       "    <tr style=\"text-align: right;\">\n",
       "      <th></th>\n",
       "      <th>count</th>\n",
       "      <th>percentage</th>\n",
       "    </tr>\n",
       "    <tr>\n",
       "      <th>city</th>\n",
       "      <th></th>\n",
       "      <th></th>\n",
       "    </tr>\n",
       "  </thead>\n",
       "  <tbody>\n",
       "    <tr>\n",
       "      <th>Aarau</th>\n",
       "      <td>1</td>\n",
       "      <td>0.07</td>\n",
       "    </tr>\n",
       "    <tr>\n",
       "      <th>Adliswil</th>\n",
       "      <td>1</td>\n",
       "      <td>0.07</td>\n",
       "    </tr>\n",
       "    <tr>\n",
       "      <th>Allschwil</th>\n",
       "      <td>3</td>\n",
       "      <td>0.21</td>\n",
       "    </tr>\n",
       "    <tr>\n",
       "      <th>Altendorf</th>\n",
       "      <td>1</td>\n",
       "      <td>0.07</td>\n",
       "    </tr>\n",
       "    <tr>\n",
       "      <th>Andermatt</th>\n",
       "      <td>1</td>\n",
       "      <td>0.07</td>\n",
       "    </tr>\n",
       "  </tbody>\n",
       "</table>\n",
       "</div>"
      ],
      "text/plain": [
       "           count  percentage\n",
       "city                        \n",
       "Aarau          1        0.07\n",
       "Adliswil       1        0.07\n",
       "Allschwil      3        0.21\n",
       "Altendorf      1        0.07\n",
       "Andermatt      1        0.07"
      ]
     },
     "execution_count": 31,
     "metadata": {},
     "output_type": "execute_result"
    }
   ],
   "source": [
    "count_country = df_ch[['type', 'city']].groupby(['city']).count() # count number of investors for each type\n",
    "count_country = count_country.rename(columns={'type':'count'}) # rename columns\n",
    "count_country['percentage'] = count_country['count']/count_type['count'].sum()*100 # find percentage\n",
    "count_country['percentage'] = count_country['percentage'].round(2) # appriximate \n",
    "\n",
    "count_country.head()"
   ]
  },
  {
   "cell_type": "code",
   "execution_count": 33,
   "id": "dress-liberal",
   "metadata": {},
   "outputs": [
    {
     "data": {
      "text/html": [
       "<div>\n",
       "<style scoped>\n",
       "    .dataframe tbody tr th:only-of-type {\n",
       "        vertical-align: middle;\n",
       "    }\n",
       "\n",
       "    .dataframe tbody tr th {\n",
       "        vertical-align: top;\n",
       "    }\n",
       "\n",
       "    .dataframe thead th {\n",
       "        text-align: right;\n",
       "    }\n",
       "</style>\n",
       "<table border=\"1\" class=\"dataframe\">\n",
       "  <thead>\n",
       "    <tr style=\"text-align: right;\">\n",
       "      <th></th>\n",
       "      <th>count</th>\n",
       "      <th>percentage</th>\n",
       "    </tr>\n",
       "    <tr>\n",
       "      <th>city</th>\n",
       "      <th></th>\n",
       "      <th></th>\n",
       "    </tr>\n",
       "  </thead>\n",
       "  <tbody>\n",
       "    <tr>\n",
       "      <th>Zürich</th>\n",
       "      <td>509</td>\n",
       "      <td>35.40</td>\n",
       "    </tr>\n",
       "    <tr>\n",
       "      <th>Geneva</th>\n",
       "      <td>221</td>\n",
       "      <td>15.37</td>\n",
       "    </tr>\n",
       "    <tr>\n",
       "      <th>Zug</th>\n",
       "      <td>88</td>\n",
       "      <td>6.12</td>\n",
       "    </tr>\n",
       "    <tr>\n",
       "      <th>Basel</th>\n",
       "      <td>78</td>\n",
       "      <td>5.42</td>\n",
       "    </tr>\n",
       "    <tr>\n",
       "      <th>Lausanne</th>\n",
       "      <td>62</td>\n",
       "      <td>4.31</td>\n",
       "    </tr>\n",
       "  </tbody>\n",
       "</table>\n",
       "</div>"
      ],
      "text/plain": [
       "          count  percentage\n",
       "city                       \n",
       "Zürich      509       35.40\n",
       "Geneva      221       15.37\n",
       "Zug          88        6.12\n",
       "Basel        78        5.42\n",
       "Lausanne     62        4.31"
      ]
     },
     "execution_count": 33,
     "metadata": {},
     "output_type": "execute_result"
    }
   ],
   "source": [
    "thresold = len_df/30\n",
    "\n",
    "# delete values too low\n",
    "sum_low = count_country['count'][count_country['count'] < thresold].sum()\n",
    "per_low = count_country['percentage'][count_country['count'] < thresold].sum()\n",
    "count_country = count_country[count_country['count'] > thresold]\n",
    "s = pd.DataFrame([[sum_low, per_low, 'other']], columns=['count', 'percentage', 'city'])\n",
    "s = s.set_index('city')\n",
    "count_country = count_country. append(s)\n",
    "count_country = count_country.sort_values(by='count', ascending=False)\n",
    "count_country.head()"
   ]
  },
  {
   "cell_type": "code",
   "execution_count": 34,
   "id": "focused-round",
   "metadata": {},
   "outputs": [
    {
     "data": {
      "image/png": "[encoded data removed]",
      "text/plain": [
       "<Figure size 432x288 with 1 Axes>"
      ]
     },
     "metadata": {
      "needs_background": "light"
     },
     "output_type": "display_data"
    }
   ],
   "source": [
    "a = sns.barplot(x='city', y='count', data=count_country.reset_index())\n",
    "#for index, row in count_type.iterrows():\n",
    "#    a.text(index, row.count, f\"{row.percentage}%\" , color='black', ha=\"center\")\n",
    "\n",
    "for p in a.patches:\n",
    "    a.annotate(format(p.get_height(), '.0f'), \n",
    "                   (p.get_x() + p.get_width() / 2., p.get_height() / 2. ), \n",
    "                   ha = 'center', va = 'center', \n",
    "                   xytext = (0, 9), \n",
    "                   textcoords = 'offset points')\n",
    "plt.title(\"Number of investors in each city\")\n",
    "plt.savefig(\"plots/investors/city_ch.pdf\")\n",
    "plt.show()"
   ]
  },
  {
   "cell_type": "markdown",
   "id": "mineral-belle",
   "metadata": {},
   "source": [
    "### Type"
   ]
  },
  {
   "cell_type": "code",
   "execution_count": 23,
   "id": "productive-darkness",
   "metadata": {},
   "outputs": [
    {
     "data": {
      "text/html": [
       "<div>\n",
       "<style scoped>\n",
       "    .dataframe tbody tr th:only-of-type {\n",
       "        vertical-align: middle;\n",
       "    }\n",
       "\n",
       "    .dataframe tbody tr th {\n",
       "        vertical-align: top;\n",
       "    }\n",
       "\n",
       "    .dataframe thead th {\n",
       "        text-align: right;\n",
       "    }\n",
       "</style>\n",
       "<table border=\"1\" class=\"dataframe\">\n",
       "  <thead>\n",
       "    <tr style=\"text-align: right;\">\n",
       "      <th></th>\n",
       "      <th>count</th>\n",
       "      <th>percentage</th>\n",
       "    </tr>\n",
       "    <tr>\n",
       "      <th>type</th>\n",
       "      <th></th>\n",
       "      <th></th>\n",
       "    </tr>\n",
       "  </thead>\n",
       "  <tbody>\n",
       "    <tr>\n",
       "      <th>organization</th>\n",
       "      <td>706</td>\n",
       "      <td>49.1</td>\n",
       "    </tr>\n",
       "    <tr>\n",
       "      <th>person</th>\n",
       "      <td>732</td>\n",
       "      <td>50.9</td>\n",
       "    </tr>\n",
       "  </tbody>\n",
       "</table>\n",
       "</div>"
      ],
      "text/plain": [
       "              count  percentage\n",
       "type                           \n",
       "organization    706        49.1\n",
       "person          732        50.9"
      ]
     },
     "execution_count": 23,
     "metadata": {},
     "output_type": "execute_result"
    }
   ],
   "source": [
    "count_type = df_ch[['type', 'roles']].groupby(['type']).count() # count number of investors for each type\n",
    "count_type = count_type.rename(columns={'roles':'count'}) # rename columns\n",
    "count_type['percentage'] = count_type['count']/count_type['count'].sum()*100\n",
    "count_type['percentage'] = count_type['percentage'].round(2)\n",
    "count_type"
   ]
  },
  {
   "cell_type": "code",
   "execution_count": 24,
   "id": "legal-wheat",
   "metadata": {},
   "outputs": [
    {
     "data": {
      "image/png": "[encoded data removed]",
      "text/plain": [
       "<Figure size 432x288 with 1 Axes>"
      ]
     },
     "metadata": {
      "needs_background": "light"
     },
     "output_type": "display_data"
    }
   ],
   "source": [
    "a = sns.barplot(x='type', y='count', data=count_type.reset_index())\n",
    "\n",
    "for p in a.patches:\n",
    "    a.annotate(format(p.get_height(), '.0f'), \n",
    "                   (p.get_x() + p.get_width() / 2., p.get_height() / 2. ), \n",
    "                   ha = 'center', va = 'center', \n",
    "                   xytext = (0, 9), \n",
    "                   textcoords = 'offset points')\n",
    "plt.title(\"Number of investors for each typology in Switzerland\")\n",
    "plt.savefig(\"plots/investors/count_type_ch.pdf\")\n",
    "plt.show()"
   ]
  },
  {
   "cell_type": "markdown",
   "id": "hindu-license",
   "metadata": {},
   "source": [
    "### Roles"
   ]
  },
  {
   "cell_type": "code",
   "execution_count": 25,
   "id": "authorized-buffer",
   "metadata": {},
   "outputs": [
    {
     "data": {
      "text/html": [
       "<div>\n",
       "<style scoped>\n",
       "    .dataframe tbody tr th:only-of-type {\n",
       "        vertical-align: middle;\n",
       "    }\n",
       "\n",
       "    .dataframe tbody tr th {\n",
       "        vertical-align: top;\n",
       "    }\n",
       "\n",
       "    .dataframe thead th {\n",
       "        text-align: right;\n",
       "    }\n",
       "</style>\n",
       "<table border=\"1\" class=\"dataframe\">\n",
       "  <thead>\n",
       "    <tr style=\"text-align: right;\">\n",
       "      <th></th>\n",
       "      <th>count</th>\n",
       "      <th>percentage</th>\n",
       "    </tr>\n",
       "    <tr>\n",
       "      <th>roles</th>\n",
       "      <th></th>\n",
       "      <th></th>\n",
       "    </tr>\n",
       "  </thead>\n",
       "  <tbody>\n",
       "    <tr>\n",
       "      <th>company,investor</th>\n",
       "      <td>51</td>\n",
       "      <td>3.55</td>\n",
       "    </tr>\n",
       "    <tr>\n",
       "      <th>investor</th>\n",
       "      <td>1149</td>\n",
       "      <td>79.90</td>\n",
       "    </tr>\n",
       "    <tr>\n",
       "      <th>investor,company</th>\n",
       "      <td>234</td>\n",
       "      <td>16.27</td>\n",
       "    </tr>\n",
       "    <tr>\n",
       "      <th>investor,company,school</th>\n",
       "      <td>2</td>\n",
       "      <td>0.14</td>\n",
       "    </tr>\n",
       "    <tr>\n",
       "      <th>investor,school</th>\n",
       "      <td>2</td>\n",
       "      <td>0.14</td>\n",
       "    </tr>\n",
       "  </tbody>\n",
       "</table>\n",
       "</div>"
      ],
      "text/plain": [
       "                         count  percentage\n",
       "roles                                     \n",
       "company,investor            51        3.55\n",
       "investor                  1149       79.90\n",
       "investor,company           234       16.27\n",
       "investor,company,school      2        0.14\n",
       "investor,school              2        0.14"
      ]
     },
     "execution_count": 25,
     "metadata": {},
     "output_type": "execute_result"
    }
   ],
   "source": [
    "count_roles = df_ch[['roles', 'type']].groupby(['roles']).count() # count number of investors for each type\n",
    "count_roles = count_roles.rename(columns={'type':'count'}) # rename columns\n",
    "count_roles['percentage'] = count_roles['count']/count_type['count'].sum()*100 # find percentage\n",
    "count_roles['percentage'] = count_roles['percentage'].round(2) # appriximate \n",
    "\n",
    "count_roles.head()"
   ]
  },
  {
   "cell_type": "code",
   "execution_count": 26,
   "id": "verified-superintendent",
   "metadata": {},
   "outputs": [
    {
     "data": {
      "text/plain": [
       "5"
      ]
     },
     "execution_count": 26,
     "metadata": {},
     "output_type": "execute_result"
    }
   ],
   "source": [
    "len(count_roles)"
   ]
  },
  {
   "cell_type": "code",
   "execution_count": 27,
   "id": "exact-destiny",
   "metadata": {},
   "outputs": [
    {
     "data": {
      "text/html": [
       "<div>\n",
       "<style scoped>\n",
       "    .dataframe tbody tr th:only-of-type {\n",
       "        vertical-align: middle;\n",
       "    }\n",
       "\n",
       "    .dataframe tbody tr th {\n",
       "        vertical-align: top;\n",
       "    }\n",
       "\n",
       "    .dataframe thead th {\n",
       "        text-align: right;\n",
       "    }\n",
       "</style>\n",
       "<table border=\"1\" class=\"dataframe\">\n",
       "  <thead>\n",
       "    <tr style=\"text-align: right;\">\n",
       "      <th></th>\n",
       "      <th>count</th>\n",
       "      <th>percentage</th>\n",
       "    </tr>\n",
       "    <tr>\n",
       "      <th>roles</th>\n",
       "      <th></th>\n",
       "      <th></th>\n",
       "    </tr>\n",
       "  </thead>\n",
       "  <tbody>\n",
       "    <tr>\n",
       "      <th>investor</th>\n",
       "      <td>1149</td>\n",
       "      <td>79.90</td>\n",
       "    </tr>\n",
       "    <tr>\n",
       "      <th>investor,company</th>\n",
       "      <td>234</td>\n",
       "      <td>16.27</td>\n",
       "    </tr>\n",
       "    <tr>\n",
       "      <th>other</th>\n",
       "      <td>55</td>\n",
       "      <td>3.83</td>\n",
       "    </tr>\n",
       "  </tbody>\n",
       "</table>\n",
       "</div>"
      ],
      "text/plain": [
       "                  count  percentage\n",
       "roles                              \n",
       "investor           1149       79.90\n",
       "investor,company    234       16.27\n",
       "other                55        3.83"
      ]
     },
     "execution_count": 27,
     "metadata": {},
     "output_type": "execute_result"
    }
   ],
   "source": [
    "thresold = len_df/10\n",
    "\n",
    "# delete values too low\n",
    "sum_low = count_roles['count'][count_roles['count'] < thresold].sum()\n",
    "per_low = count_roles['percentage'][count_roles['count'] < thresold].sum()\n",
    "count_roles = count_roles[count_roles['count'] > thresold]\n",
    "s = pd.DataFrame([[sum_low, per_low, 'other']], columns=['count', 'percentage', 'roles'])\n",
    "s = s.set_index('roles')\n",
    "count_roles = count_roles. append(s)\n",
    "count_roles.head()"
   ]
  },
  {
   "cell_type": "code",
   "execution_count": 28,
   "id": "unauthorized-array",
   "metadata": {},
   "outputs": [
    {
     "data": {
      "image/png": "[encoded data removed]",
      "text/plain": [
       "<Figure size 432x288 with 1 Axes>"
      ]
     },
     "metadata": {
      "needs_background": "light"
     },
     "output_type": "display_data"
    }
   ],
   "source": [
    "a = sns.barplot(x='roles', y='count', data=count_roles.reset_index())\n",
    "#for index, row in count_type.iterrows():\n",
    "#    a.text(index, row.count, f\"{row.percentage}%\" , color='black', ha=\"center\")\n",
    "\n",
    "for p in a.patches:\n",
    "    a.annotate(format(p.get_height(), '.0f'), \n",
    "                   (p.get_x() + p.get_width() / 2., p.get_height() / 2. ), \n",
    "                   ha = 'center', va = 'center', \n",
    "                   xytext = (0, 9), \n",
    "                   textcoords = 'offset points')\n",
    "plt.title(\"Number of investors for each role in Switzerland\")\n",
    "plt.savefig(\"plots/investors/count_roles_ch.pdf\")\n",
    "plt.show()"
   ]
  },
  {
   "cell_type": "code",
   "execution_count": null,
   "id": "periodic-rough",
   "metadata": {},
   "outputs": [],
   "source": []
  },
  {
   "cell_type": "code",
   "execution_count": null,
   "id": "extraordinary-nevada",
   "metadata": {},
   "outputs": [],
   "source": []
  }
 ],
 "metadata": {
  "kernelspec": {
   "display_name": "Python 3",
   "language": "python",
   "name": "python3"
  },
  "language_info": {
   "codemirror_mode": {
    "name": "ipython",
    "version": 3
   },
   "file_extension": ".py",
   "mimetype": "text/x-python",
   "name": "python",
   "nbconvert_exporter": "python",
   "pygments_lexer": "ipython3",
   "version": "3.8.5"
  }
 },
 "nbformat": 4,
 "nbformat_minor": 5
}
