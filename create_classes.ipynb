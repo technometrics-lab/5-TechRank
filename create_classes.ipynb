{
 "cells": [
  {
   "cell_type": "code",
   "execution_count": 14,
   "id": "sapphire-oregon",
   "metadata": {},
   "outputs": [],
   "source": [
    "import pandas as pd\n",
    "from importlib import reload\n",
    "\n",
    "import pickle"
   ]
  },
  {
   "cell_type": "code",
   "execution_count": 2,
   "id": "mechanical-royalty",
   "metadata": {},
   "outputs": [],
   "source": [
    "import classes\n",
    "reload(classes)\n",
    "from classes import Company, Investor, Technology"
   ]
  },
  {
   "cell_type": "code",
   "execution_count": 3,
   "id": "three-applicant",
   "metadata": {},
   "outputs": [],
   "source": [
    "# import functions from py file \n",
    "\n",
    "import function\n",
    "reload(function)\n",
    "from function import CB_data_cleaning, df_from_api_CB, extract_nodes, extract_data_from_column\n",
    "from function import nx_dip_graph_from_pandas, plot_bipartite_graph, filter_dict\n",
    "from function import extract_classes_company_tech, degree_bip, insert_data_classes, extract_class_investor"
   ]
  },
  {
   "cell_type": "markdown",
   "id": "expanded-characteristic",
   "metadata": {},
   "source": [
    "### Organization.csv"
   ]
  },
  {
   "cell_type": "code",
   "execution_count": 4,
   "id": "expensive-peter",
   "metadata": {},
   "outputs": [],
   "source": [
    "df_start = pd.read_csv(\"data/data_cb/organizations.csv\")"
   ]
  },
  {
   "cell_type": "code",
   "execution_count": 5,
   "id": "large-shock",
   "metadata": {},
   "outputs": [
    {
     "data": {
      "text/plain": [
       "Index(['uuid', 'name', 'type', 'permalink', 'cb_url', 'rank', 'created_at',\n",
       "       'updated_at', 'legal_name', 'roles', 'domain', 'homepage_url',\n",
       "       'country_code', 'state_code', 'region', 'city', 'address',\n",
       "       'postal_code', 'status', 'short_description', 'category_list',\n",
       "       'category_groups_list', 'num_funding_rounds', 'total_funding_usd',\n",
       "       'total_funding', 'total_funding_currency_code', 'founded_on',\n",
       "       'last_funding_on', 'closed_on', 'employee_count', 'email', 'phone',\n",
       "       'facebook_url', 'linkedin_url', 'twitter_url', 'logo_url', 'alias1',\n",
       "       'alias2', 'alias3', 'primary_role', 'num_exits'],\n",
       "      dtype='object')"
      ]
     },
     "execution_count": 5,
     "metadata": {},
     "output_type": "execute_result"
    }
   ],
   "source": [
    "df_start.columns"
   ]
  },
  {
   "cell_type": "markdown",
   "id": "worst-latin",
   "metadata": {},
   "source": [
    "**Data Cleaning**\n",
    "\n",
    "for now we decide to use as key the name. it would be better to use the uuid"
   ]
  },
  {
   "cell_type": "code",
   "execution_count": 6,
   "id": "unknown-schedule",
   "metadata": {},
   "outputs": [],
   "source": [
    "to_drop = [\n",
    "    'type',\n",
    "    'permalink',\n",
    "    'cb_url',   \n",
    "    'created_at',\n",
    "    'domain',\n",
    "    'address',\n",
    "    'state_code',\n",
    "    'updated_at',\n",
    "    'legal_name',\n",
    "    'roles',\n",
    "    'postal_code',\n",
    "    'homepage_url',\n",
    "    'num_funding_rounds',\n",
    "    'total_funding_currency_code',\n",
    "    'phone',\n",
    "    'email',\n",
    "    'num_exits',\n",
    "    'alias2',\n",
    "    'alias3',\n",
    "    'num_exits',\n",
    "    'logo_url',\n",
    "    'alias1',\n",
    "    'last_funding_on',\n",
    "    'twitter_url',\n",
    "    'facebook_url'\n",
    "]\n",
    "\n",
    "# to_rename = { 'category_groups_list': 'category_groups' }\n",
    "to_rename = { 'category_list': 'category_groups' }\n",
    "\n",
    "drop_if_nan = [\n",
    "    'category_groups',\n",
    "    'rank',\n",
    "    'short_description'\n",
    "]\n",
    "\n",
    "to_check_double = {}\n",
    "\n",
    "sort_by = \"rank\""
   ]
  },
  {
   "cell_type": "code",
   "execution_count": 17,
   "id": "advance-bennett",
   "metadata": {},
   "outputs": [],
   "source": [
    "df = CB_data_cleaning(df_start, to_drop, to_rename, to_check_double, drop_if_nan, sort_by)"
   ]
  },
  {
   "cell_type": "code",
   "execution_count": 18,
   "id": "coupled-small",
   "metadata": {},
   "outputs": [],
   "source": [
    "df = df[55:100]"
   ]
  },
  {
   "cell_type": "code",
   "execution_count": 19,
   "id": "understanding-disaster",
   "metadata": {},
   "outputs": [],
   "source": [
    "# convert category_groups to list\n",
    "\n",
    "def convert_to_list(string):\n",
    "    li = list(string.split(\",\"))\n",
    "    return li\n",
    "  \n",
    "if type(df[\"category_groups\"][df.index[0]]) != list:\n",
    "    df[\"category_groups\"] = [convert_to_list(x) for x in df[\"category_groups\"]]"
   ]
  },
  {
   "cell_type": "code",
   "execution_count": 20,
   "id": "cubic-perth",
   "metadata": {},
   "outputs": [],
   "source": [
    "[dict_companies, dict_tech, B] = extract_classes_company_tech(df)"
   ]
  },
  {
   "cell_type": "code",
   "execution_count": 21,
   "id": "dental-license",
   "metadata": {},
   "outputs": [
    {
     "name": "stdout",
     "output_type": "stream",
     "text": [
      "We have 45 companies and 97 technologies\n"
     ]
    }
   ],
   "source": [
    "print(f\"We have {len(dict_companies)} companies and {len(dict_tech)} technologies\")"
   ]
  },
  {
   "cell_type": "code",
   "execution_count": 22,
   "id": "satisfactory-terrain",
   "metadata": {},
   "outputs": [
    {
     "data": {
      "text/plain": [
       "{'KnowBe4': Company(id='ae29dd64-085d-7147-7643-f277f1f5265e', name='KnowBe4', location={'country_code': 'USA', 'region': 'Florida', 'city': 'Clearwater'}, lat=0, lon=0, degree=0, rank_CB=56.0, rank_algo=0),\n",
       " 'CoinSwitch Kuber': Company(id='5a93900f-4392-346a-f861-9a43d04d9433', name='CoinSwitch Kuber', location={'country_code': 'IND', 'region': 'Karnataka', 'city': 'Bangalore'}, lat=0, lon=0, degree=0, rank_CB=57.0, rank_algo=0),\n",
       " 'StockX': Company(id='808d09f9-416e-076a-b2d4-fe0f5718cb94', name='StockX', location={'country_code': 'USA', 'region': 'Michigan', 'city': 'Detroit'}, lat=0, lon=0, degree=0, rank_CB=58.0, rank_algo=0),\n",
       " 'Crowdcube': Company(id='01a2a666-577c-1673-eba6-74c02aaf2e80', name='Crowdcube', location={'country_code': 'GBR', 'region': 'Devon', 'city': 'Exeter'}, lat=0, lon=0, degree=0, rank_CB=59.0, rank_algo=0),\n",
       " 'Square': Company(id='8b03cd97-d8a0-2246-8d0d-980f092d414e', name='Square', location={'country_code': 'USA', 'region': 'California', 'city': 'San Francisco'}, lat=0, lon=0, degree=0, rank_CB=60.0, rank_algo=0),\n",
       " 'Dapper Labs': Company(id='0f6d3aee-2ed6-42f4-a24b-2f5db75db95f', name='Dapper Labs', location={'country_code': 'CAN', 'region': 'British Columbia', 'city': 'Vancouver'}, lat=0, lon=0, degree=0, rank_CB=61.0, rank_algo=0),\n",
       " 'Bilibili': Company(id='113a335e-870f-5993-343a-8f1c99e4776a', name='Bilibili', location={'country_code': 'CHN', 'region': 'Shanghai', 'city': 'Shanghai'}, lat=0, lon=0, degree=0, rank_CB=62.0, rank_algo=0),\n",
       " 'Compass': Company(id='a144cec4-7a73-c500-e162-6fd608aab4d5', name='Compass', location={'country_code': 'USA', 'region': 'New York', 'city': 'New York'}, lat=0, lon=0, degree=0, rank_CB=63.0, rank_algo=0),\n",
       " 'Ro': Company(id='b733e4d7-3f47-42ac-eee4-db044b6b803d', name='Ro', location={'country_code': 'USA', 'region': 'New York', 'city': 'New York'}, lat=0, lon=0, degree=0, rank_CB=64.0, rank_algo=0),\n",
       " 'The Honest Company': Company(id='b63951f3-4de5-731d-54d0-0e26af713909', name='The Honest Company', location={'country_code': 'USA', 'region': 'California', 'city': 'Santa Monica'}, lat=0, lon=0, degree=0, rank_CB=65.0, rank_algo=0),\n",
       " 'Draper Esprit': Company(id='7eb2cae7-3762-803e-4dc2-61b3f424d317', name='Draper Esprit', location={'country_code': 'GBR', 'region': 'England', 'city': 'London'}, lat=0, lon=0, degree=0, rank_CB=66.0, rank_algo=0),\n",
       " 'Pacaso': Company(id='c739cd9b-ae2c-40bf-80c1-7e889a368810', name='Pacaso', location={'country_code': 'USA', 'region': 'California', 'city': 'San Francisco'}, lat=0, lon=0, degree=0, rank_CB=67.0, rank_algo=0),\n",
       " 'Index Ventures': Company(id='60b5dade-24ed-84b0-99e2-1ecda554a1ab', name='Index Ventures', location={'country_code': 'USA', 'region': 'California', 'city': 'San Francisco'}, lat=0, lon=0, degree=0, rank_CB=68.0, rank_algo=0),\n",
       " 'Lenovo': Company(id='7b7f17f7-8321-cf92-b348-be5f6f886d83', name='Lenovo', location={'country_code': 'CHN', 'region': 'Beijing', 'city': 'Beijing'}, lat=0, lon=0, degree=0, rank_CB=69.0, rank_algo=0),\n",
       " 'Pindrop': Company(id='c8499925-287c-ff4c-296e-d2c4726de808', name='Pindrop', location={'country_code': 'USA', 'region': 'Georgia', 'city': 'Atlanta'}, lat=0, lon=0, degree=0, rank_CB=70.0, rank_algo=0),\n",
       " 'DoubleVerify': Company(id='221653c8-6bcc-508f-dcff-a87f64b74568', name='DoubleVerify', location={'country_code': 'USA', 'region': 'New York', 'city': 'New York'}, lat=0, lon=0, degree=0, rank_CB=71.0, rank_algo=0),\n",
       " 'Daimler': Company(id='5d6ed201-f032-68af-b422-7e7c68129485', name='Daimler', location={'country_code': 'DEU', 'region': 'Baden-Wurttemberg', 'city': 'Stuttgart'}, lat=0, lon=0, degree=0, rank_CB=72.0, rank_algo=0),\n",
       " 'DST Global': Company(id='9bc45524-5c04-54c1-ec99-5afb33cd3fc4', name='DST Global', location={'country_code': 'HKG', 'region': 'Hong Kong Island', 'city': 'Hong Kong'}, lat=0, lon=0, degree=0, rank_CB=73.0, rank_algo=0),\n",
       " 'Papa': Company(id='3f10bca5-bc9a-c71e-ae24-28deed24d73f', name='Papa', location={'country_code': 'USA', 'region': 'Florida', 'city': 'Miami'}, lat=0, lon=0, degree=0, rank_CB=74.0, rank_algo=0),\n",
       " 'IndieBio': Company(id='983675c3-2ee5-471f-6b57-c9e32a0369c1', name='IndieBio', location={'country_code': 'USA', 'region': 'California', 'city': 'San Francisco'}, lat=0, lon=0, degree=0, rank_CB=75.0, rank_algo=0),\n",
       " 'PharmEasy': Company(id='e984dc54-46e1-69ce-3c5a-35802f8ce37b', name='PharmEasy', location={'country_code': 'IND', 'region': 'Maharashtra', 'city': 'Mumbai'}, lat=0, lon=0, degree=0, rank_CB=76.0, rank_algo=0),\n",
       " 'Apple': Company(id='7063d087-96b8-2cc1-ee88-c221288acc2a', name='Apple', location={'country_code': 'USA', 'region': 'California', 'city': 'Cupertino'}, lat=0, lon=0, degree=0, rank_CB=77.0, rank_algo=0),\n",
       " 'Gopuff': Company(id='1cc7a761-e1b3-4423-5c86-e07d86126c11', name='Gopuff', location={'country_code': 'USA', 'region': 'Pennsylvania', 'city': 'Philadelphia'}, lat=0, lon=0, degree=0, rank_CB=78.0, rank_algo=0),\n",
       " 'Checkout.com': Company(id='cb3fd543-f231-6909-7bcc-af87bee7ba3b', name='Checkout.com', location={'country_code': 'GBR', 'region': 'England', 'city': 'London'}, lat=0, lon=0, degree=0, rank_CB=79.0, rank_algo=0),\n",
       " 'Peloton': Company(id='ca310397-d5e4-befc-bbec-2fd91a5454eb', name='Peloton', location={'country_code': 'USA', 'region': 'New York', 'city': 'New York'}, lat=0, lon=0, degree=0, rank_CB=80.0, rank_algo=0),\n",
       " 'Rakuten': Company(id='07a6e52d-6b2c-2519-ea0f-04c62cde44bc', name='Rakuten', location={'country_code': 'JPN', 'region': 'Tokyo', 'city': 'Tokyo'}, lat=0, lon=0, degree=0, rank_CB=81.0, rank_algo=0),\n",
       " 'EQT Ventures': Company(id='ca5d38b8-9c67-8938-2f93-dcb75d41d1d9', name='EQT Ventures', location={'country_code': 'SWE', 'region': 'Stockholms Lan', 'city': 'Stockholm'}, lat=0, lon=0, degree=0, rank_CB=82.0, rank_algo=0),\n",
       " 'Grover': Company(id='6a5c5f61-95dc-7292-6404-de6294940c3b', name='Grover', location={'country_code': 'DEU', 'region': 'Berlin', 'city': 'Berlin'}, lat=0, lon=0, degree=0, rank_CB=83.0, rank_algo=0),\n",
       " 'Pinterest': Company(id='8f83e283-e00b-8101-d79b-bf2dd6914d6e', name='Pinterest', location={'country_code': 'USA', 'region': 'California', 'city': 'San Francisco'}, lat=0, lon=0, degree=0, rank_CB=84.0, rank_algo=0),\n",
       " 'Nazara Technologies': Company(id='14307b2a-c0f5-7f59-f163-158babffa52b', name='Nazara Technologies', location={'country_code': 'USA', 'region': 'New York', 'city': 'New York'}, lat=0, lon=0, degree=0, rank_CB=85.0, rank_algo=0),\n",
       " 'NIO': Company(id='0af9627f-abe2-d21f-8832-7022de2fa311', name='NIO', location={'country_code': 'CHN', 'region': 'Shanghai', 'city': 'Shanghai'}, lat=0, lon=0, degree=0, rank_CB=86.0, rank_algo=0),\n",
       " 'Sift': Company(id='35d16eac-0ba4-0ff4-aacb-d932721550c1', name='Sift', location={'country_code': 'USA', 'region': 'California', 'city': 'San Francisco'}, lat=0, lon=0, degree=0, rank_CB=87.0, rank_algo=0),\n",
       " 'Cyble': Company(id='e92c942f-e4f9-443f-bb1d-1ef2e93c50f8', name='Cyble', location={'country_code': 'USA', 'region': 'Georgia', 'city': 'Atlanta'}, lat=0, lon=0, degree=0, rank_CB=88.0, rank_algo=0),\n",
       " 'Brex': Company(id='3f86f3a9-9e59-4933-88a5-1f6b9a719d18', name='Brex', location={'country_code': 'USA', 'region': 'California', 'city': 'San Francisco'}, lat=0, lon=0, degree=0, rank_CB=89.0, rank_algo=0),\n",
       " 'Outreach': Company(id='04cccacb-54be-b7c3-2300-b6b9e557831b', name='Outreach', location={'country_code': 'USA', 'region': 'Washington', 'city': 'Seattle'}, lat=0, lon=0, degree=0, rank_CB=90.0, rank_algo=0),\n",
       " 'BNY Mellon': Company(id='f98d61fa-5672-5c33-d07f-a716be4929c3', name='BNY Mellon', location={'country_code': 'USA', 'region': 'New York', 'city': 'New York'}, lat=0, lon=0, degree=0, rank_CB=91.0, rank_algo=0),\n",
       " 'Docker': Company(id='6c368c4a-ee37-62db-eeee-09c8c10ffa7a', name='Docker', location={'country_code': 'USA', 'region': 'California', 'city': 'San Francisco'}, lat=0, lon=0, degree=0, rank_CB=92.0, rank_algo=0),\n",
       " 'Siemens': Company(id='8483fc50-b82d-5ffa-5f92-6c72ac4bdaff', name='Siemens', location={'country_code': 'DEU', 'region': 'Bayern', 'city': 'Munich'}, lat=0, lon=0, degree=0, rank_CB=93.0, rank_algo=0),\n",
       " 'Founders Fund': Company(id='fb2f8884-ec07-895a-48d7-d9a9d4d7175c', name='Founders Fund', location={'country_code': 'USA', 'region': 'California', 'city': 'San Francisco'}, lat=0, lon=0, degree=0, rank_CB=94.0, rank_algo=0),\n",
       " 'SpaceX': Company(id='2372e88e-240a-a19c-c549-bd262c670ee1', name='SpaceX', location={'country_code': 'USA', 'region': 'California', 'city': 'Hawthorne'}, lat=0, lon=0, degree=0, rank_CB=95.0, rank_algo=0),\n",
       " 'ATAI Life Sciences': Company(id='877a70c6-b6a3-4687-b191-cf3fa43fd868', name='ATAI Life Sciences', location={'country_code': 'DEU', 'region': 'Bayern', 'city': 'Munich'}, lat=0, lon=0, degree=0, rank_CB=96.0, rank_algo=0),\n",
       " 'Amazon Web Services': Company(id='bd23a50d-2ae3-be33-2a35-383ea9ed13fd', name='Amazon Web Services', location={'country_code': 'USA', 'region': 'Washington', 'city': 'Seattle'}, lat=0, lon=0, degree=0, rank_CB=97.0, rank_algo=0),\n",
       " 'Foxconn Technology Group': Company(id='cee4abef-8d9f-02e1-682e-d226fcf00106', name='Foxconn Technology Group', location={'country_code': 'TWN', 'region': \"T'ai-pei\", 'city': 'Taipei'}, lat=0, lon=0, degree=0, rank_CB=98.0, rank_algo=0),\n",
       " 'WhiteSource': Company(id='cd4e9cbe-24e4-f083-785a-4084c83aef06', name='WhiteSource', location={'country_code': 'ISR', 'region': 'Tel Aviv', 'city': \"Giv'atayim\"}, lat=0, lon=0, degree=0, rank_CB=99.0, rank_algo=0),\n",
       " 'Alumni Ventures Group': Company(id='e8487396-f60c-25f1-2bb5-bfcb4e0f4b66', name='Alumni Ventures Group', location={'country_code': 'USA', 'region': 'New Hampshire', 'city': 'Manchester'}, lat=0, lon=0, degree=0, rank_CB=99.0, rank_algo=0)}"
      ]
     },
     "execution_count": 22,
     "metadata": {},
     "output_type": "execute_result"
    }
   ],
   "source": [
    "dict_companies"
   ]
  },
  {
   "cell_type": "code",
   "execution_count": 23,
   "id": "complimentary-parallel",
   "metadata": {},
   "outputs": [],
   "source": [
    "with open(\"classes/dict_companies.pickle\", \"wb\") as f:\n",
    "    pickle.dump(dict_companies, f)"
   ]
  },
  {
   "cell_type": "code",
   "execution_count": 24,
   "id": "occupational-raise",
   "metadata": {},
   "outputs": [
    {
     "data": {
      "text/plain": [
       "'file = open(\"classes/dict_companies.pickle\", \\'rb\\')\\ndata = pickle.load(file)'"
      ]
     },
     "execution_count": 24,
     "metadata": {},
     "output_type": "execute_result"
    }
   ],
   "source": [
    "# reminder for when we will have to read it to use it\n",
    "\n",
    "\"\"\"file = open(\"classes/dict_companies.pickle\", 'rb')\n",
    "data = pickle.load(file)\"\"\""
   ]
  },
  {
   "cell_type": "markdown",
   "id": "published-diploma",
   "metadata": {},
   "source": [
    "### investors.csv"
   ]
  },
  {
   "cell_type": "code",
   "execution_count": 4,
   "id": "christian-delivery",
   "metadata": {},
   "outputs": [],
   "source": [
    "df_start = pd.read_csv(\"data/data_cb/investors.csv\")"
   ]
  },
  {
   "cell_type": "code",
   "execution_count": 6,
   "id": "above-merchandise",
   "metadata": {},
   "outputs": [
    {
     "data": {
      "text/plain": [
       "['uuid',\n",
       " 'name',\n",
       " 'type',\n",
       " 'permalink',\n",
       " 'cb_url',\n",
       " 'rank',\n",
       " 'created_at',\n",
       " 'updated_at',\n",
       " 'roles',\n",
       " 'domain',\n",
       " 'country_code',\n",
       " 'state_code',\n",
       " 'region',\n",
       " 'city',\n",
       " 'investor_types',\n",
       " 'investment_count',\n",
       " 'total_funding_usd',\n",
       " 'total_funding',\n",
       " 'total_funding_currency_code',\n",
       " 'founded_on',\n",
       " 'closed_on',\n",
       " 'facebook_url',\n",
       " 'linkedin_url',\n",
       " 'twitter_url',\n",
       " 'logo_url']"
      ]
     },
     "execution_count": 6,
     "metadata": {},
     "output_type": "execute_result"
    }
   ],
   "source": [
    "list(df_start.columns)"
   ]
  },
  {
   "cell_type": "code",
   "execution_count": 20,
   "id": "common-likelihood",
   "metadata": {},
   "outputs": [],
   "source": [
    "to_drop = [\n",
    "    'permalink',\n",
    "    'cb_url',   \n",
    "    'created_at',\n",
    "    'updated_at',\n",
    "    'legal_name',\n",
    "    'rank',\n",
    "    'domain',\n",
    "    'homepage_url',\n",
    "    'updated_at',\n",
    "    'total_funding_usd',\n",
    "    'total_funding',\n",
    "    'closed_on',\n",
    "    'postal_code',\n",
    "    'founded_on',\n",
    "    'total_funding_currency_code',\n",
    "    'twitter_url',\n",
    "    'facebook_url',\n",
    "    'linkedin_url',\n",
    "    'logo_url'\n",
    "]\n",
    "\n",
    "# to_rename = { 'category_groups_list': 'category_groups' }\n",
    "to_rename = {}\n",
    "\n",
    "drop_if_nan = [\n",
    "    'name'\n",
    "]\n",
    "\n",
    "to_check_double = {}\n",
    "\n",
    "sort_by = \"\"\n",
    "\n",
    "df = CB_data_cleaning(df_start, to_drop, to_rename, to_check_double, drop_if_nan, sort_by)"
   ]
  },
  {
   "cell_type": "code",
   "execution_count": 21,
   "id": "pursuant-neutral",
   "metadata": {},
   "outputs": [
    {
     "data": {
      "text/plain": [
       "uuid                bf4d7b0e-b34d-2fd8-d292-6049c4f7efc7\n",
       "name                                                Zoho\n",
       "type                                        organization\n",
       "roles                                   investor,company\n",
       "country_code                                         USA\n",
       "state_code                                            CA\n",
       "region                                        California\n",
       "city                                          Pleasanton\n",
       "investor_types                                       NaN\n",
       "investment_count                                     5.0\n",
       "Name: 0, dtype: object"
      ]
     },
     "execution_count": 21,
     "metadata": {},
     "output_type": "execute_result"
    }
   ],
   "source": [
    "df.loc[0]"
   ]
  },
  {
   "cell_type": "code",
   "execution_count": 28,
   "id": "tough-tragedy",
   "metadata": {},
   "outputs": [],
   "source": [
    "# import functions from py file \n",
    "\n",
    "import function\n",
    "reload(function)\n",
    "from function import CB_data_cleaning, df_from_api_CB, extract_nodes, extract_data_from_column\n",
    "from function import nx_dip_graph_from_pandas, plot_bipartite_graph, filter_dict\n",
    "from function import extract_classes_company_tech, degree_bip, insert_data_classes, extract_class_investor"
   ]
  },
  {
   "cell_type": "code",
   "execution_count": 29,
   "id": "worse-constitution",
   "metadata": {},
   "outputs": [],
   "source": [
    "dict_investors = extract_class_investor(df)"
   ]
  },
  {
   "cell_type": "code",
   "execution_count": 15,
   "id": "administrative-childhood",
   "metadata": {},
   "outputs": [
    {
     "ename": "NameError",
     "evalue": "name 'dict_investors' is not defined",
     "output_type": "error",
     "traceback": [
      "\u001b[0;31m---------------------------------------------------\u001b[0m",
      "\u001b[0;31mNameError\u001b[0m         Traceback (most recent call last)",
      "\u001b[0;32m<ipython-input-15-5ce3095fc5ea>\u001b[0m in \u001b[0;36m<module>\u001b[0;34m\u001b[0m\n\u001b[0;32m----> 1\u001b[0;31m \u001b[0mprint\u001b[0m\u001b[0;34m(\u001b[0m\u001b[0;34mf\"We have {len(dict_investors)} investors\"\u001b[0m\u001b[0;34m)\u001b[0m\u001b[0;34m\u001b[0m\u001b[0;34m\u001b[0m\u001b[0m\n\u001b[0m",
      "\u001b[0;31mNameError\u001b[0m: name 'dict_investors' is not defined"
     ]
    }
   ],
   "source": [
    "print(f\"We have {len(dict_investors)} investors\")"
   ]
  },
  {
   "cell_type": "code",
   "execution_count": 31,
   "id": "collected-redhead",
   "metadata": {},
   "outputs": [],
   "source": [
    "with open(\"classes/dict_investors.pickle\", \"wb\") as f:\n",
    "    pickle.dump(dict_investors, f)"
   ]
  },
  {
   "cell_type": "code",
   "execution_count": null,
   "id": "statewide-communications",
   "metadata": {},
   "outputs": [],
   "source": []
  },
  {
   "cell_type": "code",
   "execution_count": null,
   "id": "awful-detection",
   "metadata": {},
   "outputs": [],
   "source": []
  }
 ],
 "metadata": {
  "kernelspec": {
   "display_name": "Python 3",
   "language": "python",
   "name": "python3"
  },
  "language_info": {
   "codemirror_mode": {
    "name": "ipython",
    "version": 3
   },
   "file_extension": ".py",
   "mimetype": "text/x-python",
   "name": "python",
   "nbconvert_exporter": "python",
   "pygments_lexer": "ipython3",
   "version": "3.8.5"
  }
 },
 "nbformat": 4,
 "nbformat_minor": 5
}
