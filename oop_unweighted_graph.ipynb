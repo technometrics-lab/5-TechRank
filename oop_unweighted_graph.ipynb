{
 "cells": [
  {
   "cell_type": "code",
   "execution_count": 1,
   "id": "communist-first",
   "metadata": {},
   "outputs": [
    {
     "data": {
      "text/plain": [
       "True"
      ]
     },
     "execution_count": 1,
     "metadata": {},
     "output_type": "execute_result"
    }
   ],
   "source": [
    "import math\n",
    "import pandas as pd\n",
    "\n",
    "import arrow\n",
    "\n",
    "import ipynb \n",
    "import os.path\n",
    "import pandas as pd\n",
    "import networkx as nx\n",
    "import matplotlib.pyplot as plt\n",
    "\n",
    "from dotenv import load_dotenv\n",
    "from networkx.algorithms import bipartite\n",
    "from importlib import reload\n",
    "\n",
    "load_dotenv(verbose=True)"
   ]
  },
  {
   "cell_type": "code",
   "execution_count": 7,
   "id": "occasional-nirvana",
   "metadata": {},
   "outputs": [],
   "source": [
    "# import functions from py file \n",
    "\n",
    "import function\n",
    "reload(function)\n",
    "from function import nx_dip_graph_from_pandas, plot_bipartite_graph, filter_dict, df_from_api_CB, extract_nodes"
   ]
  },
  {
   "cell_type": "code",
   "execution_count": 8,
   "id": "worst-genetics",
   "metadata": {},
   "outputs": [],
   "source": [
    "# import classes \n",
    "\n",
    "from classes import Company, Investor, Technology"
   ]
  },
  {
   "cell_type": "code",
   "execution_count": 9,
   "id": "automotive-tomorrow",
   "metadata": {},
   "outputs": [],
   "source": [
    "query = {\n",
    "    \"field_ids\": [\n",
    "        \"name\",\n",
    "        \"short_description\",\n",
    "        \"location_identifiers\",\n",
    "        \"categories\",\n",
    "        \"category_groups\",\n",
    "        \"facet_ids\",\n",
    "        \"twitter\",\n",
    "        \"rank_org\"\n",
    "        \n",
    "    ],\n",
    "    \"limit\": 1000,\n",
    "    \"query\": [\n",
    "        {\n",
    "          \"type\": \"predicate\",\n",
    "          \"field_id\": \"location_identifiers\",\n",
    "          \"operator_id\": \"includes\",\n",
    "          \"values\": [\"Switzerland\"]\n",
    "        },\n",
    "    ]\n",
    "}\n",
    "\n",
    "df = df_from_api_CB (query, \"organizations\")"
   ]
  },
  {
   "cell_type": "code",
   "execution_count": null,
   "id": "southeast-brighton",
   "metadata": {},
   "outputs": [],
   "source": []
  },
  {
   "cell_type": "code",
   "execution_count": null,
   "id": "difficult-judges",
   "metadata": {},
   "outputs": [],
   "source": []
  }
 ],
 "metadata": {
  "kernelspec": {
   "display_name": "Python 3",
   "language": "python",
   "name": "python3"
  },
  "language_info": {
   "codemirror_mode": {
    "name": "ipython",
    "version": 3
   },
   "file_extension": ".py",
   "mimetype": "text/x-python",
   "name": "python",
   "nbconvert_exporter": "python",
   "pygments_lexer": "ipython3",
   "version": "3.8.5"
  }
 },
 "nbformat": 4,
 "nbformat_minor": 5
}
