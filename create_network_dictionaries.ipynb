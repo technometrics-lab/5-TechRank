{
 "cells": [
  {
   "cell_type": "markdown",
   "id": "behind-infrastructure",
   "metadata": {},
   "source": [
    "### Table of contents:\n",
    "\n",
    "* [Download data from CSV](#down)\n",
    "* [Data cleaning](#cleaning)\n",
    "* [Select companies in cybersecurity](#cyber)\n",
    "* [Set limits](#set_limits)\n",
    "* [Create graph and dictionaries](#create_graph)\n",
    "* [Save graph and dictionaries](#save)"
   ]
  },
  {
   "cell_type": "code",
   "execution_count": 1,
   "id": "secondary-repository",
   "metadata": {},
   "outputs": [],
   "source": [
    "import math\n",
    "import arrow\n",
    "import ipynb \n",
    "import os.path\n",
    "import json\n",
    "import pickle\n",
    "import sys\n",
    "import random\n",
    "import operator\n",
    "\n",
    "import pandas as pd\n",
    "import networkx as nx\n",
    "import matplotlib.pyplot as plt\n",
    "import seaborn as sns\n",
    "import scipy.stats as ss\n",
    "import numpy as np\n",
    "\n",
    "from dotenv import load_dotenv\n",
    "from networkx.algorithms.bipartite.matrix import biadjacency_matrix\n",
    "from networkx.algorithms import bipartite\n",
    "from importlib import reload\n",
    "from typing import List\n"
   ]
  },
  {
   "cell_type": "code",
   "execution_count": 2,
   "id": "sealed-burke",
   "metadata": {},
   "outputs": [],
   "source": [
    "# import functions from py file \n",
    "\n",
    "import functions.fun\n",
    "reload(functions.fun)\n",
    "from functions.fun import CB_data_cleaning, df_from_api_CB, extract_nodes, extract_data_from_column\n",
    "from functions.fun import nx_dip_graph_from_pandas, plot_bipartite_graph, filter_dict, check_desc\n",
    "from functions.fun import extract_classes_company_tech, degree_bip, insert_data_classes"
   ]
  },
  {
   "cell_type": "code",
   "execution_count": 3,
   "id": "animal-henry",
   "metadata": {},
   "outputs": [],
   "source": [
    "# import functions from py file \n",
    "\n",
    "import functions.fun_meth_reflections\n",
    "reload(functions.fun_meth_reflections)\n",
    "from functions.fun_meth_reflections import zero_order_score, Gct_beta, Gtc_alpha, make_G_hat, next_order_score, generator_order_w\n",
    "from functions.fun_meth_reflections import M_test_triangular, w_stream, find_convergence, rank_df_class, w_star_analytic"
   ]
  },
  {
   "cell_type": "code",
   "execution_count": 4,
   "id": "capable-specification",
   "metadata": {},
   "outputs": [
    {
     "data": {
      "text/plain": [
       "<module 'classes' from '/home/anita.mezzetti/bipartite_network/classes.py'>"
      ]
     },
     "execution_count": 4,
     "metadata": {},
     "output_type": "execute_result"
    }
   ],
   "source": [
    "# import classes \n",
    "\n",
    "import classes\n",
    "reload(classes)"
   ]
  },
  {
   "cell_type": "markdown",
   "id": "hourly-broad",
   "metadata": {},
   "source": [
    "### Download data from CSV <a class=\"anchor\" id=\"down\"></a>"
   ]
  },
  {
   "cell_type": "code",
   "execution_count": 5,
   "id": "broadband-suggestion",
   "metadata": {},
   "outputs": [
    {
     "data": {
      "text/html": [
       "<div>\n",
       "<style scoped>\n",
       "    .dataframe tbody tr th:only-of-type {\n",
       "        vertical-align: middle;\n",
       "    }\n",
       "\n",
       "    .dataframe tbody tr th {\n",
       "        vertical-align: top;\n",
       "    }\n",
       "\n",
       "    .dataframe thead th {\n",
       "        text-align: right;\n",
       "    }\n",
       "</style>\n",
       "<table border=\"1\" class=\"dataframe\">\n",
       "  <thead>\n",
       "    <tr style=\"text-align: right;\">\n",
       "      <th></th>\n",
       "      <th>uuid</th>\n",
       "      <th>name</th>\n",
       "      <th>type</th>\n",
       "      <th>permalink</th>\n",
       "      <th>cb_url</th>\n",
       "      <th>rank</th>\n",
       "      <th>created_at</th>\n",
       "      <th>updated_at</th>\n",
       "      <th>legal_name</th>\n",
       "      <th>roles</th>\n",
       "      <th>...</th>\n",
       "      <th>phone</th>\n",
       "      <th>facebook_url</th>\n",
       "      <th>linkedin_url</th>\n",
       "      <th>twitter_url</th>\n",
       "      <th>logo_url</th>\n",
       "      <th>alias1</th>\n",
       "      <th>alias2</th>\n",
       "      <th>alias3</th>\n",
       "      <th>primary_role</th>\n",
       "      <th>num_exits</th>\n",
       "    </tr>\n",
       "  </thead>\n",
       "  <tbody>\n",
       "    <tr>\n",
       "      <th>0</th>\n",
       "      <td>e1393508-30ea-8a36-3f96-dd3226033abd</td>\n",
       "      <td>Wetpaint</td>\n",
       "      <td>organization</td>\n",
       "      <td>wetpaint</td>\n",
       "      <td>https://www.crunchbase.com/organization/wetpaint</td>\n",
       "      <td>158955.0</td>\n",
       "      <td>2007-05-25 13:51:27</td>\n",
       "      <td>2019-06-24 22:19:25</td>\n",
       "      <td>NaN</td>\n",
       "      <td>company</td>\n",
       "      <td>...</td>\n",
       "      <td>206-859-6300</td>\n",
       "      <td>https://www.facebook.com/Wetpaint</td>\n",
       "      <td>https://www.linkedin.com/company/wetpaint</td>\n",
       "      <td>https://twitter.com/wetpainttv</td>\n",
       "      <td>https://res.cloudinary.com/crunchbase-producti...</td>\n",
       "      <td>NaN</td>\n",
       "      <td>NaN</td>\n",
       "      <td>NaN</td>\n",
       "      <td>company</td>\n",
       "      <td>NaN</td>\n",
       "    </tr>\n",
       "    <tr>\n",
       "      <th>1</th>\n",
       "      <td>bf4d7b0e-b34d-2fd8-d292-6049c4f7efc7</td>\n",
       "      <td>Zoho</td>\n",
       "      <td>organization</td>\n",
       "      <td>zoho</td>\n",
       "      <td>https://www.crunchbase.com/organization/zoho</td>\n",
       "      <td>6686.0</td>\n",
       "      <td>2007-05-26 02:30:28</td>\n",
       "      <td>2018-10-27 00:29:49</td>\n",
       "      <td>NaN</td>\n",
       "      <td>investor,company</td>\n",
       "      <td>...</td>\n",
       "      <td>NaN</td>\n",
       "      <td>http://www.facebook.com/zoho</td>\n",
       "      <td>http://www.linkedin.com/company/zoho-corporati...</td>\n",
       "      <td>http://twitter.com/zoho</td>\n",
       "      <td>https://res.cloudinary.com/crunchbase-producti...</td>\n",
       "      <td>NaN</td>\n",
       "      <td>NaN</td>\n",
       "      <td>NaN</td>\n",
       "      <td>company</td>\n",
       "      <td>1.0</td>\n",
       "    </tr>\n",
       "    <tr>\n",
       "      <th>2</th>\n",
       "      <td>5f2b40b8-d1b3-d323-d81a-b7a8e89553d0</td>\n",
       "      <td>Digg</td>\n",
       "      <td>organization</td>\n",
       "      <td>digg</td>\n",
       "      <td>https://www.crunchbase.com/organization/digg</td>\n",
       "      <td>7793.0</td>\n",
       "      <td>2007-05-26 03:03:23</td>\n",
       "      <td>2018-12-10 10:09:14</td>\n",
       "      <td>Digg Holdings, LLC</td>\n",
       "      <td>company</td>\n",
       "      <td>...</td>\n",
       "      <td>877-342-7222</td>\n",
       "      <td>http://www.facebook.com/digg</td>\n",
       "      <td>http://www.linkedin.com/company/digg</td>\n",
       "      <td>http://twitter.com/digg</td>\n",
       "      <td>https://res.cloudinary.com/crunchbase-producti...</td>\n",
       "      <td>NaN</td>\n",
       "      <td>NaN</td>\n",
       "      <td>NaN</td>\n",
       "      <td>company</td>\n",
       "      <td>NaN</td>\n",
       "    </tr>\n",
       "    <tr>\n",
       "      <th>3</th>\n",
       "      <td>f4d5ab44-058b-298b-ea81-380e6e9a8eec</td>\n",
       "      <td>Omidyar Network</td>\n",
       "      <td>organization</td>\n",
       "      <td>omidyar-network</td>\n",
       "      <td>https://www.crunchbase.com/organization/omidya...</td>\n",
       "      <td>136861.0</td>\n",
       "      <td>2007-05-26 03:21:34</td>\n",
       "      <td>2019-06-19 12:17:48</td>\n",
       "      <td>NaN</td>\n",
       "      <td>investor</td>\n",
       "      <td>...</td>\n",
       "      <td>650.482.2500</td>\n",
       "      <td>http://www.facebook.com/OmidyarNetwork</td>\n",
       "      <td>http://www.linkedin.com/company/22806</td>\n",
       "      <td>http://twitter.com/OmidyarNetwork</td>\n",
       "      <td>https://res.cloudinary.com/crunchbase-producti...</td>\n",
       "      <td>NaN</td>\n",
       "      <td>NaN</td>\n",
       "      <td>NaN</td>\n",
       "      <td>investor</td>\n",
       "      <td>38.0</td>\n",
       "    </tr>\n",
       "    <tr>\n",
       "      <th>4</th>\n",
       "      <td>df662812-7f97-0b43-9d3e-12f64f504fbb</td>\n",
       "      <td>Facebook</td>\n",
       "      <td>organization</td>\n",
       "      <td>facebook</td>\n",
       "      <td>https://www.crunchbase.com/organization/facebook</td>\n",
       "      <td>47.0</td>\n",
       "      <td>2007-05-26 04:22:15</td>\n",
       "      <td>2021-04-14 23:52:25</td>\n",
       "      <td>Facebook, Inc.</td>\n",
       "      <td>investor,company</td>\n",
       "      <td>...</td>\n",
       "      <td>NaN</td>\n",
       "      <td>https://www.facebook.com/facebook/</td>\n",
       "      <td>http://www.linkedin.com/company/facebook</td>\n",
       "      <td>https://twitter.com/facebook</td>\n",
       "      <td>https://res.cloudinary.com/crunchbase-producti...</td>\n",
       "      <td>NaN</td>\n",
       "      <td>NaN</td>\n",
       "      <td>NaN</td>\n",
       "      <td>company</td>\n",
       "      <td>NaN</td>\n",
       "    </tr>\n",
       "  </tbody>\n",
       "</table>\n",
       "<p>5 rows × 41 columns</p>\n",
       "</div>"
      ],
      "text/plain": [
       "                                   uuid             name          type  \\\n",
       "0  e1393508-30ea-8a36-3f96-dd3226033abd         Wetpaint  organization   \n",
       "1  bf4d7b0e-b34d-2fd8-d292-6049c4f7efc7             Zoho  organization   \n",
       "2  5f2b40b8-d1b3-d323-d81a-b7a8e89553d0             Digg  organization   \n",
       "3  f4d5ab44-058b-298b-ea81-380e6e9a8eec  Omidyar Network  organization   \n",
       "4  df662812-7f97-0b43-9d3e-12f64f504fbb         Facebook  organization   \n",
       "\n",
       "         permalink                                             cb_url  \\\n",
       "0         wetpaint   https://www.crunchbase.com/organization/wetpaint   \n",
       "1             zoho       https://www.crunchbase.com/organization/zoho   \n",
       "2             digg       https://www.crunchbase.com/organization/digg   \n",
       "3  omidyar-network  https://www.crunchbase.com/organization/omidya...   \n",
       "4         facebook   https://www.crunchbase.com/organization/facebook   \n",
       "\n",
       "       rank           created_at           updated_at          legal_name  \\\n",
       "0  158955.0  2007-05-25 13:51:27  2019-06-24 22:19:25                 NaN   \n",
       "1    6686.0  2007-05-26 02:30:28  2018-10-27 00:29:49                 NaN   \n",
       "2    7793.0  2007-05-26 03:03:23  2018-12-10 10:09:14  Digg Holdings, LLC   \n",
       "3  136861.0  2007-05-26 03:21:34  2019-06-19 12:17:48                 NaN   \n",
       "4      47.0  2007-05-26 04:22:15  2021-04-14 23:52:25      Facebook, Inc.   \n",
       "\n",
       "              roles  ...         phone  \\\n",
       "0           company  ...  206-859-6300   \n",
       "1  investor,company  ...           NaN   \n",
       "2           company  ...  877-342-7222   \n",
       "3          investor  ...  650.482.2500   \n",
       "4  investor,company  ...           NaN   \n",
       "\n",
       "                             facebook_url  \\\n",
       "0       https://www.facebook.com/Wetpaint   \n",
       "1            http://www.facebook.com/zoho   \n",
       "2            http://www.facebook.com/digg   \n",
       "3  http://www.facebook.com/OmidyarNetwork   \n",
       "4      https://www.facebook.com/facebook/   \n",
       "\n",
       "                                        linkedin_url  \\\n",
       "0          https://www.linkedin.com/company/wetpaint   \n",
       "1  http://www.linkedin.com/company/zoho-corporati...   \n",
       "2               http://www.linkedin.com/company/digg   \n",
       "3              http://www.linkedin.com/company/22806   \n",
       "4           http://www.linkedin.com/company/facebook   \n",
       "\n",
       "                         twitter_url  \\\n",
       "0     https://twitter.com/wetpainttv   \n",
       "1            http://twitter.com/zoho   \n",
       "2            http://twitter.com/digg   \n",
       "3  http://twitter.com/OmidyarNetwork   \n",
       "4       https://twitter.com/facebook   \n",
       "\n",
       "                                            logo_url alias1 alias2 alias3  \\\n",
       "0  https://res.cloudinary.com/crunchbase-producti...    NaN    NaN    NaN   \n",
       "1  https://res.cloudinary.com/crunchbase-producti...    NaN    NaN    NaN   \n",
       "2  https://res.cloudinary.com/crunchbase-producti...    NaN    NaN    NaN   \n",
       "3  https://res.cloudinary.com/crunchbase-producti...    NaN    NaN    NaN   \n",
       "4  https://res.cloudinary.com/crunchbase-producti...    NaN    NaN    NaN   \n",
       "\n",
       "  primary_role num_exits  \n",
       "0      company       NaN  \n",
       "1      company       1.0  \n",
       "2      company       NaN  \n",
       "3     investor      38.0  \n",
       "4      company       NaN  \n",
       "\n",
       "[5 rows x 41 columns]"
      ]
     },
     "execution_count": 5,
     "metadata": {},
     "output_type": "execute_result"
    }
   ],
   "source": [
    "df_start = pd.read_csv(\"data/data_cb/organizations.csv\")\n",
    "\n",
    "df_start.head()"
   ]
  },
  {
   "cell_type": "code",
   "execution_count": 6,
   "id": "domestic-syracuse",
   "metadata": {},
   "outputs": [
    {
     "data": {
      "text/plain": [
       "Index(['uuid', 'name', 'type', 'permalink', 'cb_url', 'rank', 'created_at',\n",
       "       'updated_at', 'legal_name', 'roles', 'domain', 'homepage_url',\n",
       "       'country_code', 'state_code', 'region', 'city', 'address',\n",
       "       'postal_code', 'status', 'short_description', 'category_list',\n",
       "       'category_groups_list', 'num_funding_rounds', 'total_funding_usd',\n",
       "       'total_funding', 'total_funding_currency_code', 'founded_on',\n",
       "       'last_funding_on', 'closed_on', 'employee_count', 'email', 'phone',\n",
       "       'facebook_url', 'linkedin_url', 'twitter_url', 'logo_url', 'alias1',\n",
       "       'alias2', 'alias3', 'primary_role', 'num_exits'],\n",
       "      dtype='object')"
      ]
     },
     "execution_count": 6,
     "metadata": {},
     "output_type": "execute_result"
    }
   ],
   "source": [
    "df_start.columns"
   ]
  },
  {
   "cell_type": "code",
   "execution_count": 7,
   "id": "formed-worthy",
   "metadata": {},
   "outputs": [],
   "source": [
    "flag_cybersecurity = False # initialize flag we'll use later"
   ]
  },
  {
   "cell_type": "markdown",
   "id": "rolled-irish",
   "metadata": {},
   "source": [
    "### Data Cleaning <a class=\"anchor\" id=\"cleaning\"></a>\n",
    "\n",
    "We decide to use as key the name. For the future, it would be better to use the uuid"
   ]
  },
  {
   "cell_type": "code",
   "execution_count": 8,
   "id": "complicated-stamp",
   "metadata": {},
   "outputs": [],
   "source": [
    "# we create the lists needed as input in the function to clean the data\n",
    "\n",
    "to_drop = [\n",
    "    'type',\n",
    "    'permalink',\n",
    "    'cb_url',   \n",
    "    'created_at',\n",
    "    'domain',\n",
    "    'address',\n",
    "    'state_code',\n",
    "    'updated_at',\n",
    "    'legal_name',\n",
    "    'roles',\n",
    "    'postal_code',\n",
    "    'homepage_url',\n",
    "    'num_funding_rounds',\n",
    "    'total_funding_currency_code',\n",
    "    'phone',\n",
    "    'email',\n",
    "    'num_exits',\n",
    "    'alias2',\n",
    "    'alias3',\n",
    "    'num_exits',\n",
    "    'logo_url',\n",
    "    'alias1',\n",
    "    'last_funding_on',\n",
    "    'twitter_url',\n",
    "    'facebook_url'\n",
    "]\n",
    "\n",
    "# to_rename = { 'category_groups_list': 'category_groups' }\n",
    "to_rename = { 'category_list': 'category_groups' }\n",
    "\n",
    "drop_if_nan = [\n",
    "    'category_groups',\n",
    "    'rank',\n",
    "    'short_description'\n",
    "]\n",
    "\n",
    "to_check_double = {}\n",
    "\n",
    "sort_by = \"rank\""
   ]
  },
  {
   "cell_type": "code",
   "execution_count": 9,
   "id": "endangered-agenda",
   "metadata": {},
   "outputs": [],
   "source": [
    "# clean data: from df_start to df\n",
    "df = CB_data_cleaning(df_start, to_drop, to_rename, to_check_double, drop_if_nan, sort_by)"
   ]
  },
  {
   "cell_type": "code",
   "execution_count": 10,
   "id": "palestinian-patch",
   "metadata": {},
   "outputs": [
    {
     "data": {
      "text/html": [
       "<div>\n",
       "<style scoped>\n",
       "    .dataframe tbody tr th:only-of-type {\n",
       "        vertical-align: middle;\n",
       "    }\n",
       "\n",
       "    .dataframe tbody tr th {\n",
       "        vertical-align: top;\n",
       "    }\n",
       "\n",
       "    .dataframe thead th {\n",
       "        text-align: right;\n",
       "    }\n",
       "</style>\n",
       "<table border=\"1\" class=\"dataframe\">\n",
       "  <thead>\n",
       "    <tr style=\"text-align: right;\">\n",
       "      <th></th>\n",
       "      <th>uuid</th>\n",
       "      <th>name</th>\n",
       "      <th>rank</th>\n",
       "      <th>country_code</th>\n",
       "      <th>region</th>\n",
       "      <th>city</th>\n",
       "      <th>status</th>\n",
       "      <th>short_description</th>\n",
       "      <th>category_groups</th>\n",
       "      <th>category_groups_list</th>\n",
       "      <th>total_funding_usd</th>\n",
       "      <th>total_funding</th>\n",
       "      <th>founded_on</th>\n",
       "      <th>closed_on</th>\n",
       "      <th>employee_count</th>\n",
       "      <th>linkedin_url</th>\n",
       "      <th>primary_role</th>\n",
       "    </tr>\n",
       "  </thead>\n",
       "  <tbody>\n",
       "    <tr>\n",
       "      <th>1178</th>\n",
       "      <td>74a20af3-f4dd-6188-de60-c4ee6cd0ca4a</td>\n",
       "      <td>Ant Group</td>\n",
       "      <td>1.0</td>\n",
       "      <td>CHN</td>\n",
       "      <td>Zhejiang</td>\n",
       "      <td>Hangzhou</td>\n",
       "      <td>operating</td>\n",
       "      <td>Ant Group strives to enable all consumers and ...</td>\n",
       "      <td>Banking,Financial Services,FinTech,Payments</td>\n",
       "      <td>Financial Services,Lending and Investments,Pay...</td>\n",
       "      <td>2.200000e+10</td>\n",
       "      <td>2.200000e+10</td>\n",
       "      <td>2014-10-01</td>\n",
       "      <td>NaN</td>\n",
       "      <td>5001-10000</td>\n",
       "      <td>https://www.linkedin.com/company/antgroup/</td>\n",
       "      <td>company</td>\n",
       "    </tr>\n",
       "    <tr>\n",
       "      <th>4042</th>\n",
       "      <td>022417b5-4980-6c54-0f3c-6736bbbb1a5e</td>\n",
       "      <td>Spotify</td>\n",
       "      <td>2.0</td>\n",
       "      <td>SWE</td>\n",
       "      <td>Stockholms Lan</td>\n",
       "      <td>Stockholm</td>\n",
       "      <td>ipo</td>\n",
       "      <td>Spotify is a commercial music streaming servic...</td>\n",
       "      <td>Audio,Cloud Computing,Music,Music Streaming,Vi...</td>\n",
       "      <td>Content and Publishing,Internet Services,Media...</td>\n",
       "      <td>2.085425e+09</td>\n",
       "      <td>2.085425e+09</td>\n",
       "      <td>2006-04-23</td>\n",
       "      <td>NaN</td>\n",
       "      <td>5001-10000</td>\n",
       "      <td>http://www.linkedin.com/company/spotify</td>\n",
       "      <td>company</td>\n",
       "    </tr>\n",
       "    <tr>\n",
       "      <th>349</th>\n",
       "      <td>468bef9f-2f50-590e-6e78-62e3adb05aa1</td>\n",
       "      <td>Citi</td>\n",
       "      <td>3.0</td>\n",
       "      <td>USA</td>\n",
       "      <td>New York</td>\n",
       "      <td>New York</td>\n",
       "      <td>ipo</td>\n",
       "      <td>Citigroup is a diversified financial services ...</td>\n",
       "      <td>Banking,Credit Cards,Financial Services,Wealth...</td>\n",
       "      <td>Financial Services,Lending and Investments,Pay...</td>\n",
       "      <td>8.700000e+09</td>\n",
       "      <td>8.700000e+09</td>\n",
       "      <td>1998-10-08</td>\n",
       "      <td>NaN</td>\n",
       "      <td>10000+</td>\n",
       "      <td>https://www.linkedin.com/company/citi</td>\n",
       "      <td>investor</td>\n",
       "    </tr>\n",
       "    <tr>\n",
       "      <th>211260</th>\n",
       "      <td>a40d0a1f-f32c-a1e9-1bbd-a10bb0eca2e7</td>\n",
       "      <td>Deliveroo</td>\n",
       "      <td>4.0</td>\n",
       "      <td>GBR</td>\n",
       "      <td>England</td>\n",
       "      <td>London</td>\n",
       "      <td>ipo</td>\n",
       "      <td>Deliveroo is an online food delivery service t...</td>\n",
       "      <td>Delivery,Food and Beverage,Food Delivery,Same ...</td>\n",
       "      <td>Administrative Services,Food and Beverage,Tran...</td>\n",
       "      <td>1.712683e+09</td>\n",
       "      <td>1.712683e+09</td>\n",
       "      <td>2012-01-01</td>\n",
       "      <td>NaN</td>\n",
       "      <td>5001-10000</td>\n",
       "      <td>https://www.linkedin.com/company/deliveroo</td>\n",
       "      <td>company</td>\n",
       "    </tr>\n",
       "    <tr>\n",
       "      <th>621119</th>\n",
       "      <td>00daca16-8311-454b-84e0-24a40d16be9c</td>\n",
       "      <td>Antler</td>\n",
       "      <td>5.0</td>\n",
       "      <td>SGP</td>\n",
       "      <td>Central Region</td>\n",
       "      <td>Singapore</td>\n",
       "      <td>operating</td>\n",
       "      <td>Antler is a global early-stage venture capital...</td>\n",
       "      <td>Venture Capital</td>\n",
       "      <td>Financial Services,Lending and Investments</td>\n",
       "      <td>7.800000e+07</td>\n",
       "      <td>7.800000e+07</td>\n",
       "      <td>2017-01-01</td>\n",
       "      <td>NaN</td>\n",
       "      <td>101-250</td>\n",
       "      <td>https://www.linkedin.com/company/antlerglobal/</td>\n",
       "      <td>investor</td>\n",
       "    </tr>\n",
       "  </tbody>\n",
       "</table>\n",
       "</div>"
      ],
      "text/plain": [
       "                                        uuid       name  rank country_code  \\\n",
       "1178    74a20af3-f4dd-6188-de60-c4ee6cd0ca4a  Ant Group   1.0          CHN   \n",
       "4042    022417b5-4980-6c54-0f3c-6736bbbb1a5e    Spotify   2.0          SWE   \n",
       "349     468bef9f-2f50-590e-6e78-62e3adb05aa1       Citi   3.0          USA   \n",
       "211260  a40d0a1f-f32c-a1e9-1bbd-a10bb0eca2e7  Deliveroo   4.0          GBR   \n",
       "621119  00daca16-8311-454b-84e0-24a40d16be9c     Antler   5.0          SGP   \n",
       "\n",
       "                region       city     status  \\\n",
       "1178          Zhejiang   Hangzhou  operating   \n",
       "4042    Stockholms Lan  Stockholm        ipo   \n",
       "349           New York   New York        ipo   \n",
       "211260         England     London        ipo   \n",
       "621119  Central Region  Singapore  operating   \n",
       "\n",
       "                                        short_description  \\\n",
       "1178    Ant Group strives to enable all consumers and ...   \n",
       "4042    Spotify is a commercial music streaming servic...   \n",
       "349     Citigroup is a diversified financial services ...   \n",
       "211260  Deliveroo is an online food delivery service t...   \n",
       "621119  Antler is a global early-stage venture capital...   \n",
       "\n",
       "                                          category_groups  \\\n",
       "1178          Banking,Financial Services,FinTech,Payments   \n",
       "4042    Audio,Cloud Computing,Music,Music Streaming,Vi...   \n",
       "349     Banking,Credit Cards,Financial Services,Wealth...   \n",
       "211260  Delivery,Food and Beverage,Food Delivery,Same ...   \n",
       "621119                                    Venture Capital   \n",
       "\n",
       "                                     category_groups_list  total_funding_usd  \\\n",
       "1178    Financial Services,Lending and Investments,Pay...       2.200000e+10   \n",
       "4042    Content and Publishing,Internet Services,Media...       2.085425e+09   \n",
       "349     Financial Services,Lending and Investments,Pay...       8.700000e+09   \n",
       "211260  Administrative Services,Food and Beverage,Tran...       1.712683e+09   \n",
       "621119         Financial Services,Lending and Investments       7.800000e+07   \n",
       "\n",
       "        total_funding  founded_on closed_on employee_count  \\\n",
       "1178     2.200000e+10  2014-10-01       NaN     5001-10000   \n",
       "4042     2.085425e+09  2006-04-23       NaN     5001-10000   \n",
       "349      8.700000e+09  1998-10-08       NaN         10000+   \n",
       "211260   1.712683e+09  2012-01-01       NaN     5001-10000   \n",
       "621119   7.800000e+07  2017-01-01       NaN        101-250   \n",
       "\n",
       "                                          linkedin_url primary_role  \n",
       "1178        https://www.linkedin.com/company/antgroup/      company  \n",
       "4042           http://www.linkedin.com/company/spotify      company  \n",
       "349              https://www.linkedin.com/company/citi     investor  \n",
       "211260      https://www.linkedin.com/company/deliveroo      company  \n",
       "621119  https://www.linkedin.com/company/antlerglobal/     investor  "
      ]
     },
     "execution_count": 10,
     "metadata": {},
     "output_type": "execute_result"
    }
   ],
   "source": [
    "# show cleaned dataset\n",
    "df.head()"
   ]
  },
  {
   "cell_type": "code",
   "execution_count": 11,
   "id": "liberal-tribune",
   "metadata": {},
   "outputs": [
    {
     "data": {
      "text/plain": [
       "Index(['uuid', 'name', 'rank', 'country_code', 'region', 'city', 'status',\n",
       "       'short_description', 'category_groups', 'category_groups_list',\n",
       "       'total_funding_usd', 'total_funding', 'founded_on', 'closed_on',\n",
       "       'employee_count', 'linkedin_url', 'primary_role'],\n",
       "      dtype='object')"
      ]
     },
     "execution_count": 11,
     "metadata": {},
     "output_type": "execute_result"
    }
   ],
   "source": [
    "df.columns"
   ]
  },
  {
   "cell_type": "code",
   "execution_count": 12,
   "id": "coordinated-roommate",
   "metadata": {},
   "outputs": [],
   "source": [
    "# convert category_groups to list\n",
    "\n",
    "def convert_to_list(string):\n",
    "    li = list(string.split(\",\"))\n",
    "    return li\n",
    "  \n",
    "if type(df[\"category_groups\"][df.index[0]]) != list:\n",
    "    df[\"category_groups\"] = [convert_to_list(x) for x in df[\"category_groups\"]]"
   ]
  },
  {
   "cell_type": "markdown",
   "id": "fifteen-tender",
   "metadata": {},
   "source": [
    "### Select companies in cybersecurity <a class=\"anchor\" id=\"cyber\"></a>\n",
    "\n",
    "\n",
    "We decide to select only companies that work in the cybersecurity field. The algorithm is easily extendible to any field: we only have to change the _field_words_ list word"
   ]
  },
  {
   "cell_type": "code",
   "execution_count": 13,
   "id": "novel-parent",
   "metadata": {},
   "outputs": [],
   "source": [
    "# for this work, the field_words are words related to cybersecurity\n",
    "field_words = [\n",
    "    \"cybersecurity\"\n",
    "    \"confidentiality\",\n",
    "    \"integrity\",\n",
    "    \"availability\",\n",
    "    \"secure\",\n",
    "    \"security\",\n",
    "    \"safe\",\n",
    "    \"reliability\",\n",
    "    \"dependability\",\n",
    "    \"confidential\",\n",
    "    \"confidentiality\",\n",
    "    \"integrity\",\n",
    "    \"availability\",\n",
    "    \"defense\",\n",
    "    \"defence\",\n",
    "    \"defensive\",\n",
    "    \"privacy\"\n",
    "]"
   ]
  },
  {
   "cell_type": "code",
   "execution_count": 14,
   "id": "guilty-convergence",
   "metadata": {},
   "outputs": [],
   "source": [
    "flag_cybersecurity = True # flag that identifies if we have applied the filter to select only companies in cybersecurity\n",
    "df = df.loc[df[\"short_description\"].apply(lambda x: check_desc(x, field_words))]"
   ]
  },
  {
   "cell_type": "markdown",
   "id": "aging-rating",
   "metadata": {},
   "source": [
    "### Create Companies and Technologies classes"
   ]
  },
  {
   "cell_type": "markdown",
   "id": "alpha-expansion",
   "metadata": {},
   "source": [
    "#### Ranking\n",
    "\n",
    "I personally appreciate the ranking that you provide for each company. However, I did not quite understand what's the magic behind it. Is there any chance to get some more insight/details, also considering that we do have an NDA in place?\n",
    "\n",
    "- Crunchbase rank uses Crunchbase’s intelligent algorithms to score and rank entities (e.g. Company, People, Investors, etc.).\n",
    "- The algorithms take into account many different variables; ranging from funding events, the entity’s strength of relationships with other entities in the Crunchbase ecosystem, the level of engagement from our website, news articles, and acquisitions.\n",
    "\n",
    "    - A company’s Rank is fluid and subject to rising and decaying over time with time-sensitive events. Events such as product launches, funding events, leadership changes, and news affect a company’s Crunchbase Rank.\n",
    "\n",
    "\n",
    "- The Crunchbase rank shows where an entity falls in the Crunchbase database relative to all other entities in that entity type (i.e. if searching for companies, you will see where a specific company ranks relative to all other companies). An entity with a Crunchbase Rank of 1 has the highest rank relative to all other entities of that type.\n",
    "\n",
    "I would also suggest leveraging our Trend Score - 7 Day, 30 Day, 90 Day (e.g. Company, People, Investors, etc.)\n",
    "\n",
    "- While Rank shows context, Crunchbase Trend Score demonstrates activity. A company’s rank will change based on activity (fundraising, news, etc.) and Trend Score is an indicator of how much their rank is changing at any given time.\n",
    "- Crunchbase Trend Score tracks the fluctuations in Rank. As a company’s rank changes, so do its Trend Score.\n",
    "- Trend Score measures the rate of a company’s activity on a 20-point (+10 <-> -10) scale. Scores closer to +10 mean it’s moving up in rank much faster compared to their peers. Scores closer to -10 mean it’s moving down.\n",
    "- For example, a company that announces its first funding round will likely experience a jump in its Rank, pushing its Trend Score up as its page views, article counts, funding amount, team members, etc., begin to increase.\n"
   ]
  },
  {
   "cell_type": "markdown",
   "id": "blessed-ireland",
   "metadata": {},
   "source": [
    "### Set limits <a class=\"anchor\" id=\"set_limits\"></a>\n",
    "\n",
    "In case we want to set a limits to the number of companies. Usually the next cell should be commented"
   ]
  },
  {
   "cell_type": "code",
   "execution_count": 15,
   "id": "complex-headline",
   "metadata": {},
   "outputs": [
    {
     "data": {
      "text/plain": [
       "2444"
      ]
     },
     "execution_count": 15,
     "metadata": {},
     "output_type": "execute_result"
    }
   ],
   "source": [
    "len(df)"
   ]
  },
  {
   "cell_type": "code",
   "execution_count": 16,
   "id": "actual-scholar",
   "metadata": {},
   "outputs": [],
   "source": [
    "limits = [10, 100, 500, 1000, 2000, 2443]"
   ]
  },
  {
   "cell_type": "code",
   "execution_count": 17,
   "id": "scenic-trailer",
   "metadata": {},
   "outputs": [],
   "source": [
    "df = df[:10]"
   ]
  },
  {
   "cell_type": "markdown",
   "id": "historical-burns",
   "metadata": {},
   "source": [
    "### Create graph and dictionaries <a class=\"anchor\" id=\"create_graph\"></a>"
   ]
  },
  {
   "cell_type": "code",
   "execution_count": 18,
   "id": "affiliated-presence",
   "metadata": {},
   "outputs": [],
   "source": [
    "# Extracts the dictionaries of Companies and Technologies from the dataset and create the network\n",
    "[dict_companies, dict_tech, B] = extract_classes_company_tech(df)"
   ]
  },
  {
   "cell_type": "code",
   "execution_count": 19,
   "id": "other-coating",
   "metadata": {},
   "outputs": [
    {
     "name": "stdout",
     "output_type": "stream",
     "text": [
      "We have 10 companies and 26 technologies\n"
     ]
    }
   ],
   "source": [
    "print(f\"We have {len(dict_companies)} companies and {len(dict_tech)} technologies\")"
   ]
  },
  {
   "cell_type": "markdown",
   "id": "lasting-implementation",
   "metadata": {},
   "source": [
    "## Save dictionaries and network <a class=\"anchor\" id=\"save\"></a>"
   ]
  },
  {
   "cell_type": "code",
   "execution_count": 20,
   "id": "broken-importance",
   "metadata": {},
   "outputs": [],
   "source": [
    "# Save dictionaries in a pickle files\n",
    "\n",
    "if flag_cybersecurity==False: # all fields\n",
    "    name_file_com = \"savings/classes/dict_companies_\" + str(len(dict_companies)) + \".pickle\"\n",
    "    name_file_tech = \"savings/classes/dict_tech_\" + str(len(dict_tech)) + \".pickle\"\n",
    "else: # only companies in cybersecurity\n",
    "    name_file_com = \"savings/classes/dict_companies_cybersecurity_\" + str(len(dict_companies)) + \".pickle\"\n",
    "    name_file_tech = \"savings/classes/dict_tech_cybersecurity_\" + str(len(dict_tech)) + \".pickle\"\n",
    "\n",
    "# companies\n",
    "with open(name_file_com, \"wb\") as f:\n",
    "    pickle.dump(dict_companies, f)\n",
    "\n",
    "#technologies\n",
    "with open(name_file_tech, \"wb\") as f:\n",
    "    pickle.dump(dict_tech, f)"
   ]
  },
  {
   "cell_type": "code",
   "execution_count": 1,
   "id": "sensitive-process",
   "metadata": {},
   "outputs": [
    {
     "ename": "NameError",
     "evalue": "name 'flag_cybersecurity' is not defined",
     "output_type": "error",
     "traceback": [
      "\u001b[0;31m---------------------------------------------------------------------------\u001b[0m",
      "\u001b[0;31mNameError\u001b[0m                                 Traceback (most recent call last)",
      "\u001b[0;32m<ipython-input-1-115e076c3962>\u001b[0m in \u001b[0;36m<module>\u001b[0;34m\u001b[0m\n\u001b[1;32m      1\u001b[0m \u001b[0;31m# Save the bipartite graph as gpickle:\u001b[0m\u001b[0;34m\u001b[0m\u001b[0;34m\u001b[0m\u001b[0;34m\u001b[0m\u001b[0m\n\u001b[1;32m      2\u001b[0m \u001b[0;34m\u001b[0m\u001b[0m\n\u001b[0;32m----> 3\u001b[0;31m \u001b[0;32mif\u001b[0m \u001b[0mflag_cybersecurity\u001b[0m\u001b[0;34m==\u001b[0m\u001b[0;32mFalse\u001b[0m\u001b[0;34m:\u001b[0m \u001b[0;31m# all fields\u001b[0m\u001b[0;34m\u001b[0m\u001b[0;34m\u001b[0m\u001b[0m\n\u001b[0m\u001b[1;32m      4\u001b[0m     \u001b[0mname_file_graph\u001b[0m \u001b[0;34m=\u001b[0m \u001b[0;34m'savings/networks/comp_'\u001b[0m \u001b[0;34m+\u001b[0m \u001b[0mstr\u001b[0m\u001b[0;34m(\u001b[0m\u001b[0mlen\u001b[0m\u001b[0;34m(\u001b[0m\u001b[0mdict_companies\u001b[0m\u001b[0;34m)\u001b[0m\u001b[0;34m)\u001b[0m \u001b[0;34m+\u001b[0m \u001b[0;34m'_tech_'\u001b[0m \u001b[0;34m+\u001b[0m \u001b[0mstr\u001b[0m\u001b[0;34m(\u001b[0m\u001b[0mlen\u001b[0m\u001b[0;34m(\u001b[0m\u001b[0mdict_tech\u001b[0m\u001b[0;34m)\u001b[0m\u001b[0;34m)\u001b[0m \u001b[0;34m+\u001b[0m \u001b[0;34m'.gpickle'\u001b[0m\u001b[0;34m\u001b[0m\u001b[0;34m\u001b[0m\u001b[0m\n\u001b[1;32m      5\u001b[0m \u001b[0;32melse\u001b[0m\u001b[0;34m:\u001b[0m \u001b[0;31m# only companies in cybersecurity\u001b[0m\u001b[0;34m\u001b[0m\u001b[0;34m\u001b[0m\u001b[0m\n",
      "\u001b[0;31mNameError\u001b[0m: name 'flag_cybersecurity' is not defined"
     ]
    }
   ],
   "source": [
    "# Save the bipartite graph as gpickle:\n",
    "\n",
    "if flag_cybersecurity==False: # all fields\n",
    "    name_file_graph = 'savings/networks/comp_' + str(len(dict_companies)) + '_tech_' + str(len(dict_tech)) + '.gpickle'                                     \n",
    "else: # only companies in cybersecurity\n",
    "    name_file_graph = 'savings/networks/cybersecurity_comp_'+ str(len(dict_companies)) + '_tech_' + str(len(dict_tech)) + '.gpickle'\n",
    "                                                       \n",
    "nx.write_gpickle(B, name_file_graph)"
   ]
  },
  {
   "cell_type": "code",
   "execution_count": null,
   "id": "circular-stations",
   "metadata": {},
   "outputs": [],
   "source": []
  }
 ],
 "metadata": {
  "kernelspec": {
   "display_name": "Python 3",
   "language": "python",
   "name": "python3"
  },
  "language_info": {
   "codemirror_mode": {
    "name": "ipython",
    "version": 3
   },
   "file_extension": ".py",
   "mimetype": "text/x-python",
   "name": "python",
   "nbconvert_exporter": "python",
   "pygments_lexer": "ipython3",
   "version": "3.8.5"
  }
 },
 "nbformat": 4,
 "nbformat_minor": 5
}
