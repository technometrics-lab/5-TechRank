{
 "cells": [
  {
   "cell_type": "markdown",
   "id": "separate-lewis",
   "metadata": {},
   "source": [
    "### Table of contents:\n",
    "\n",
    "* [Upload needed data](#upload)\n",
    "* [Triangular matrix](#M)\n",
    "* [Parameters calibration with exogenous variables](#pal_cal)\n",
    "    * [Companies](#pal_cal_com)\n",
    "    * [Technologies](#pal_cal_tech)\n",
    "* [Rank](#rank)\n",
    "    * [Companies](#rank_com)\n",
    "    * [Technologies](#rank_tech)\n",
    "* [Keep track of the optimal parameters and the number of iterations](#track)    "
   ]
  },
  {
   "cell_type": "code",
   "execution_count": 1,
   "id": "novel-manufacturer",
   "metadata": {},
   "outputs": [],
   "source": [
    "import math\n",
    "import arrow\n",
    "import ipynb \n",
    "import os.path\n",
    "import json\n",
    "import pickle\n",
    "import sys\n",
    "import atexit\n",
    "import time\n",
    "import random\n",
    "import operator\n",
    "\n",
    "import pandas as pd\n",
    "import networkx as nx\n",
    "import matplotlib.pyplot as plt\n",
    "import seaborn as sns\n",
    "import scipy.stats as ss\n",
    "import numpy as np\n",
    "\n",
    "from dotenv import load_dotenv\n",
    "from networkx.algorithms.bipartite.matrix import biadjacency_matrix\n",
    "from networkx.algorithms import bipartite\n",
    "from importlib import reload\n",
    "from typing import List\n"
   ]
  },
  {
   "cell_type": "code",
   "execution_count": 2,
   "id": "twelve-leather",
   "metadata": {},
   "outputs": [],
   "source": [
    "# import functions from py file \n",
    "\n",
    "import functions.fun\n",
    "reload(functions.fun)\n",
    "from functions.fun import CB_data_cleaning, df_from_api_CB, extract_nodes, extract_data_from_column\n",
    "from functions.fun import nx_dip_graph_from_pandas, filter_dict, check_desc\n",
    "from functions.fun import extract_classes_company_tech, degree_bip, insert_data_classes"
   ]
  },
  {
   "cell_type": "code",
   "execution_count": 3,
   "id": "adjustable-stranger",
   "metadata": {},
   "outputs": [],
   "source": [
    "# import functions from py file \n",
    "\n",
    "import functions.fun_meth_reflections\n",
    "reload(functions.fun_meth_reflections)\n",
    "from functions.fun_meth_reflections import zero_order_score, Gct_beta, Gtc_alpha, make_G_hat, next_order_score, generator_order_w\n",
    "from functions.fun_meth_reflections import M_test_triangular, w_stream, find_convergence, rank_df_class, w_star_analytic"
   ]
  },
  {
   "cell_type": "code",
   "execution_count": 4,
   "id": "wrapped-maintenance",
   "metadata": {},
   "outputs": [],
   "source": [
    "# import functions from py file \n",
    "\n",
    "import functions.fun_external_factors\n",
    "reload(functions.fun_external_factors)\n",
    "from functions.fun_external_factors import rank_comparison, calibrate_analytic, create_exogenous_rank"
   ]
  },
  {
   "cell_type": "code",
   "execution_count": 5,
   "id": "aboriginal-north",
   "metadata": {},
   "outputs": [
    {
     "data": {
      "text/plain": [
       "<module 'classes' from '/home/anita.mezzetti/bipartite_network/classes.py'>"
      ]
     },
     "execution_count": 5,
     "metadata": {},
     "output_type": "execute_result"
    }
   ],
   "source": [
    "# import classes \n",
    "\n",
    "import classes\n",
    "reload(classes)"
   ]
  },
  {
   "cell_type": "markdown",
   "id": "initial-emperor",
   "metadata": {},
   "source": [
    "## Upload data <a class=\"anchor\" id=\"upload\"></a>\n",
    "\n",
    "Data in the right structure are created in `create_network_dictionaries.ipynb`. In that notebook, we upload the CSV file of the data of CB, we clean the data and we create two dictionaries and a networkx graph:\n",
    "- dict_companies: dictionary containing all the information about companies \n",
    "    name_company: Company\n",
    "- dict_tech: dictionary containing all the information about technologies \n",
    "    name_tech: Tehcnology\n",
    "- B: bipartite graph of companies and technologies"
   ]
  },
  {
   "cell_type": "code",
   "execution_count": 6,
   "id": "motivated-inspector",
   "metadata": {},
   "outputs": [],
   "source": [
    "# imputs! \n",
    "# change them and teh rest of the code will react accordingly\n",
    "# please make sure to match the num of companies with the right number of technologies\n",
    "\n",
    "num_comp = 100\n",
    "num_tech = 131\n",
    "\n",
    "preferences_comp = {\"previous_investments\":100,\n",
    "                    \"crunchbase_rank\":0}\n",
    "preferences_tech = {\"previous_investments\":100}"
   ]
  },
  {
   "cell_type": "code",
   "execution_count": 7,
   "id": "hollow-consolidation",
   "metadata": {},
   "outputs": [],
   "source": [
    "name_file_com = f'savings/classes/dict_companies_cybersecurity_{num_comp}.pickle'\n",
    "name_file_tech = f'savings/classes/dict_tech_cybersecurity_{num_tech}.pickle'\n",
    "name_file_graph = f'savings/networks/cybersecurity_comp_{num_comp}_tech_{num_tech}.gpickle'\n",
    "name_M = f'savings/M/cybersecurity_comp_{num_comp}_tech_{num_tech}.npy'\n",
    "flag_cybersecurity = True"
   ]
  },
  {
   "cell_type": "code",
   "execution_count": 8,
   "id": "hairy-blood",
   "metadata": {},
   "outputs": [],
   "source": [
    "with open(name_file_com, 'rb') as f:\n",
    "    dict_companies = pickle.load(f)\n",
    "    \n",
    "with open(name_file_tech, 'rb') as f:\n",
    "    dict_tech = pickle.load(f)\n",
    "\n",
    "B = nx.read_gpickle(name_file_graph)\n"
   ]
  },
  {
   "cell_type": "markdown",
   "id": "quiet-charity",
   "metadata": {},
   "source": [
    "## Triangular matrix <a class=\"anchor\" id=\"M\"></a>"
   ]
  },
  {
   "cell_type": "code",
   "execution_count": 10,
   "id": "corresponding-press",
   "metadata": {},
   "outputs": [],
   "source": [
    "set0 = extract_nodes(B, 0)\n",
    "set1 = extract_nodes(B, 1)\n",
    "\n",
    "# adjacency matrix of bipartite graph\n",
    "adj_matrix = biadjacency_matrix(B, set0, set1)"
   ]
  },
  {
   "cell_type": "code",
   "execution_count": 11,
   "id": "iraqi-evidence",
   "metadata": {},
   "outputs": [],
   "source": [
    "adj_matrix_dense = adj_matrix.todense()"
   ]
  },
  {
   "cell_type": "markdown",
   "id": "dynamic-airport",
   "metadata": {},
   "source": [
    "**Representation**"
   ]
  },
  {
   "cell_type": "code",
   "execution_count": 12,
   "id": "sonic-disco",
   "metadata": {},
   "outputs": [],
   "source": [
    "a = np.squeeze(np.asarray(adj_matrix_dense))\n",
    "#a.sum(axis=1)"
   ]
  },
  {
   "cell_type": "code",
   "execution_count": 13,
   "id": "floral-roommate",
   "metadata": {},
   "outputs": [],
   "source": [
    "# M is the array version of the matrix adj_matrix_dense:\n",
    "M = np.squeeze(np.asarray(adj_matrix_dense))"
   ]
  },
  {
   "cell_type": "code",
   "execution_count": 14,
   "id": "southern-luxury",
   "metadata": {},
   "outputs": [],
   "source": [
    "# save M in order to use it in other scripts\n",
    "\n",
    "if flag_cybersecurity==False: # all fields\n",
    "    name_file_M = 'savings/M/comp_' + str(len(dict_companies)) + '_tech_' + str(len(dict_tech)) + '.npy'                                     \n",
    "else: # only companies in cybersecurity\n",
    "    name_file_M = 'savings/M/cybersecurity_comp_'+ str(len(dict_companies)) + '_tech_' + str(len(dict_tech)) + '.npy'\n",
    "\n",
    "np.save(name_file_M, M)"
   ]
  },
  {
   "cell_type": "markdown",
   "id": "different-sentence",
   "metadata": {},
   "source": [
    "### Triangularize matrix"
   ]
  },
  {
   "cell_type": "code",
   "execution_count": 15,
   "id": "correct-hammer",
   "metadata": {},
   "outputs": [
    {
     "data": {
      "image/png": "[encoded data removed]",
      "text/plain": [
       "<Figure size 720x720 with 1 Axes>"
      ]
     },
     "metadata": {
      "needs_background": "light"
     },
     "output_type": "display_data"
    }
   ],
   "source": [
    "M_test_triangular(adj_matrix_dense, flag_cybersecurity)"
   ]
  },
  {
   "cell_type": "markdown",
   "id": "strange-blackberry",
   "metadata": {},
   "source": [
    "## Parameters calibration with exogenous variables.  <a class=\"anchor\" id=\"pal_cal\"></a>\n",
    "\n",
    "An essential step is the calibration of $\\alpha$ and $\\beta$, i.e. find the *optimal* parameters that maximise our correlation between model and actual. \n",
    "\n",
    "We decide to perform just a **grid search**, defining a way to compare our list rankings using the Spearman method from `scipy.stats`. So, we define a landscape, $[-2,2] \\times [-2,2]$, and evaluate at all those points (using the analytic method). Finally we will return the top correlation we found.\n",
    "\n",
    "NB: also for this step, we take inspiration by the work by Klein, Maillart, and Chuang."
   ]
  },
  {
   "cell_type": "markdown",
   "id": "heard-preference",
   "metadata": {},
   "source": [
    "**Companies**  <a class=\"anchor\" id=\"pal_cal_com\"></a>"
   ]
  },
  {
   "cell_type": "code",
   "execution_count": 16,
   "id": "architectural-trouble",
   "metadata": {},
   "outputs": [
    {
     "name": "stderr",
     "output_type": "stream",
     "text": [
      "/home/anita.mezzetti/miniconda3/envs/arma/lib/python3.8/site-packages/scipy/stats/stats.py:4264: SpearmanRConstantInputWarning: An input array is constant; the correlation coefficent is not defined.\n",
      "  warnings.warn(SpearmanRConstantInputWarning())\n"
     ]
    },
    {
     "data": {
      "image/png": "[encoded data removed]",
      "text/plain": [
       "<Figure size 720x720 with 2 Axes>"
      ]
     },
     "metadata": {
      "needs_background": "light"
     },
     "output_type": "display_data"
    }
   ],
   "source": [
    "start_time = time.time()\n",
    "\n",
    "best_par = calibrate_analytic(M=M,\n",
    "                   ua='Companies',\n",
    "                   dict_class=dict_companies, \n",
    "                   exogenous_rank=create_exogenous_rank('Companies', dict_companies, preferences_comp), \n",
    "                   index_function=lambda x: (x-50)/25,\n",
    "                   title='Correlation for Companies',\n",
    "                   do_plot=True)\n",
    "\n",
    "\n",
    "end_time = time.time()"
   ]
  },
  {
   "cell_type": "code",
   "execution_count": 18,
   "id": "suspended-inspector",
   "metadata": {},
   "outputs": [
    {
     "data": {
      "text/plain": [
       "28.922476768493652"
      ]
     },
     "execution_count": 18,
     "metadata": {},
     "output_type": "execute_result"
    }
   ],
   "source": [
    "time_optimal_par_comp = end_time - start_time\n",
    "time_optimal_par_comp"
   ]
  },
  {
   "cell_type": "code",
   "execution_count": 19,
   "id": "sought-occurrence",
   "metadata": {},
   "outputs": [],
   "source": [
    "# highlight bets alpha and beta\n",
    "optimal_alpha_comp = best_par['alpha']\n",
    "optimal_beta_comp = best_par['beta']"
   ]
  },
  {
   "cell_type": "markdown",
   "id": "perceived-impossible",
   "metadata": {},
   "source": [
    "**Technologies**  <a class=\"anchor\" id=\"pal_cal_tech\"></a>"
   ]
  },
  {
   "cell_type": "code",
   "execution_count": 20,
   "id": "starting-praise",
   "metadata": {},
   "outputs": [
    {
     "name": "stdout",
     "output_type": "stream",
     "text": [
      "Probably you have forgotten to first insert the data about previous investments\n"
     ]
    },
    {
     "ename": "AttributeError",
     "evalue": "'NoneType' object has no attribute 'items'",
     "output_type": "error",
     "traceback": [
      "\u001b[0;31m---------------------------------------------------------------------------\u001b[0m",
      "\u001b[0;31mAttributeError\u001b[0m                            Traceback (most recent call last)",
      "\u001b[0;32m<ipython-input-20-a75bbd1077f6>\u001b[0m in \u001b[0;36m<module>\u001b[0;34m\u001b[0m\n\u001b[1;32m      1\u001b[0m \u001b[0mstart_time\u001b[0m \u001b[0;34m=\u001b[0m \u001b[0mtime\u001b[0m\u001b[0;34m.\u001b[0m\u001b[0mtime\u001b[0m\u001b[0;34m(\u001b[0m\u001b[0;34m)\u001b[0m\u001b[0;34m\u001b[0m\u001b[0;34m\u001b[0m\u001b[0m\n\u001b[1;32m      2\u001b[0m \u001b[0;34m\u001b[0m\u001b[0m\n\u001b[0;32m----> 3\u001b[0;31m best_par = calibrate_analytic(M=M,\n\u001b[0m\u001b[1;32m      4\u001b[0m                    \u001b[0mua\u001b[0m\u001b[0;34m=\u001b[0m\u001b[0;34m'Technologies'\u001b[0m\u001b[0;34m,\u001b[0m\u001b[0;34m\u001b[0m\u001b[0;34m\u001b[0m\u001b[0m\n\u001b[1;32m      5\u001b[0m                    \u001b[0mdict_class\u001b[0m\u001b[0;34m=\u001b[0m\u001b[0mdict_tech\u001b[0m\u001b[0;34m,\u001b[0m\u001b[0;34m\u001b[0m\u001b[0;34m\u001b[0m\u001b[0m\n",
      "\u001b[0;32m~/bipartite_network/functions/fun_external_factors.py\u001b[0m in \u001b[0;36mcalibrate_analytic\u001b[0;34m(M, ua, dict_class, exogenous_rank, index_function, title, do_plot, flag_cybersecurity)\u001b[0m\n\u001b[1;32m    126\u001b[0m \u001b[0;34m\u001b[0m\u001b[0m\n\u001b[1;32m    127\u001b[0m             \u001b[0;31m# Spearman correlation between the created rank and the benchmark\u001b[0m\u001b[0;34m\u001b[0m\u001b[0;34m\u001b[0m\u001b[0;34m\u001b[0m\u001b[0m\n\u001b[0;32m--> 128\u001b[0;31m             \u001b[0mspearman\u001b[0m \u001b[0;34m=\u001b[0m \u001b[0mrank_comparison\u001b[0m\u001b[0;34m(\u001b[0m\u001b[0mw_rank\u001b[0m\u001b[0;34m,\u001b[0m \u001b[0mexogenous_rank\u001b[0m\u001b[0;34m)\u001b[0m\u001b[0;34m\u001b[0m\u001b[0;34m\u001b[0m\u001b[0m\n\u001b[0m\u001b[1;32m    129\u001b[0m \u001b[0;34m\u001b[0m\u001b[0m\n\u001b[1;32m    130\u001b[0m             \u001b[0;31m# the spearman variable contains both the correlation and the pvalue:\u001b[0m\u001b[0;34m\u001b[0m\u001b[0;34m\u001b[0m\u001b[0;34m\u001b[0m\u001b[0m\n",
      "\u001b[0;32m~/bipartite_network/functions/fun_external_factors.py\u001b[0m in \u001b[0;36mrank_comparison\u001b[0;34m(a_ranks_sorted, b_ranks_sorted, do_plot)\u001b[0m\n\u001b[1;32m     44\u001b[0m \u001b[0;34m\u001b[0m\u001b[0m\n\u001b[1;32m     45\u001b[0m         \u001b[0;31m#find this element in list b\u001b[0m\u001b[0;34m\u001b[0m\u001b[0;34m\u001b[0m\u001b[0;34m\u001b[0m\u001b[0m\n\u001b[0;32m---> 46\u001b[0;31m         \u001b[0;32mfor\u001b[0m \u001b[0mb_name\u001b[0m\u001b[0;34m,\u001b[0m \u001b[0mb_rank\u001b[0m \u001b[0;32min\u001b[0m \u001b[0mb_ranks_sorted\u001b[0m\u001b[0;34m.\u001b[0m\u001b[0mitems\u001b[0m\u001b[0;34m(\u001b[0m\u001b[0;34m)\u001b[0m\u001b[0;34m:\u001b[0m\u001b[0;34m\u001b[0m\u001b[0;34m\u001b[0m\u001b[0m\n\u001b[0m\u001b[1;32m     47\u001b[0m \u001b[0;34m\u001b[0m\u001b[0m\n\u001b[1;32m     48\u001b[0m             \u001b[0;32mif\u001b[0m \u001b[0ma_name\u001b[0m \u001b[0;34m==\u001b[0m \u001b[0mb_name\u001b[0m\u001b[0;34m:\u001b[0m \u001b[0;31m# if same element in a and b\u001b[0m\u001b[0;34m\u001b[0m\u001b[0;34m\u001b[0m\u001b[0m\n",
      "\u001b[0;31mAttributeError\u001b[0m: 'NoneType' object has no attribute 'items'"
     ]
    }
   ],
   "source": [
    "start_time = time.time()\n",
    "\n",
    "best_par = calibrate_analytic(M=M,\n",
    "                   ua='Technologies',\n",
    "                   dict_class=dict_tech, \n",
    "                   exogenous_rank=create_exogenous_rank('Technologies', dict_tech, preferences_tech), \n",
    "                   index_function=lambda x: (x-50)/25,\n",
    "                   title='Correlation for Companies',\n",
    "                   do_plot=True)\n",
    "\n",
    "\n",
    "end_time = time.time()"
   ]
  },
  {
   "cell_type": "code",
   "execution_count": 69,
   "id": "automated-treasure",
   "metadata": {},
   "outputs": [
    {
     "data": {
      "text/plain": [
       "{'spearman': 0.8489490232528706,\n",
       " 'alpha': -2.0,\n",
       " 'beta': 0.0,\n",
       " 'ua': 'Technologies'}"
      ]
     },
     "execution_count": 69,
     "metadata": {},
     "output_type": "execute_result"
    }
   ],
   "source": [
    "best_par"
   ]
  },
  {
   "cell_type": "code",
   "execution_count": 70,
   "id": "visible-samoa",
   "metadata": {},
   "outputs": [],
   "source": [
    "# highlight bets alpha and beta\n",
    "optimal_alpha_tech = best_par['alpha']\n",
    "optimal_beta_tech = best_par['beta']\n",
    "\n",
    "time_optimal_par_tech = end_time - start_time\n",
    "time_optimal_par_tech"
   ]
  },
  {
   "cell_type": "markdown",
   "id": "ranging-excellence",
   "metadata": {},
   "source": [
    "## Rank <a class=\"anchor\" id=\"rank\"></a>"
   ]
  },
  {
   "cell_type": "markdown",
   "id": "random-sudan",
   "metadata": {},
   "source": [
    "### Zero order score\n",
    "\n",
    "These are an $w_{c}$ editor-vector which is the sums of articles edited by each editor. Or the article-vector $w_{p}$, which is the sum of editors contributing to each article.\n",
    "\n",
    "\\begin{cases}\n",
    " w_{c}^{(0)} = \\sum_{p=1}^{N_{p}} M \\equiv k_c\\\\[7pt]\n",
    " w_{p}^{(0)} = \\sum_{c=1}^{N_{c}} M \\equiv k_p\n",
    "\\end{cases}"
   ]
  },
  {
   "cell_type": "code",
   "execution_count": 38,
   "id": "distributed-surrey",
   "metadata": {},
   "outputs": [],
   "source": [
    "k_c, k_t = zero_order_score(M)"
   ]
  },
  {
   "cell_type": "markdown",
   "id": "concerned-governor",
   "metadata": {},
   "source": [
    "### G - transition probability function\n",
    "\n",
    "Depending on $\\alpha$ and $\\beta$ we non-linearly weight based on the Zeroth order iterations. \n",
    "\n",
    "\\begin{cases}\n",
    "G_{ct}(\\beta) = \\frac{M_{ct} k_{c}^{-\\beta}}{\\sum_{c' = 1}^{N_c} M_{c't} k_{c'}^{-\\beta}}\\\\[10pt]\n",
    "G_{tc}(\\alpha) = \\frac{M_{ct} k_{t}^{-\\alpha}}{\\sum_{t' = 1}^{N_t} M_{ct'} k_{t'}^{-\\alpha}}.\\\\\\end{cases}"
   ]
  },
  {
   "cell_type": "markdown",
   "id": "secret-convert",
   "metadata": {},
   "source": [
    "### Higher cases\n",
    "\n",
    "The first order $w^{1}_c$ is the sum of the articles touched, but weighted by the Zeroth order article-vector (and the $G$ term). So if you've edited better articles that counts. And $w^{1}_c$ is the sum of editors touching, but weighted by the Zeroth order editor-vector (and $G$). So if you're touched by better editors that's also being considered. \n",
    "\n",
    "Beyond the first order interpretation for the higher orders is difficult.\n",
    "\n",
    "\\begin{cases}\n",
    "w^{(n+1)}_c (\\alpha,\\beta) = \\sum_{t=1}^{N_p}  G_{ct}(\\beta) \\,w^{(n)}_t (\\alpha,\\beta)\\\\[7pt]\n",
    "w^{(n+1)}_t (\\alpha,\\beta) = \\sum_{c=1}^{N_c}  G_{tc}(\\alpha) \\, w^{(n)}_c (\\alpha,\\beta)\\\\\n",
    "\\end{cases}"
   ]
  },
  {
   "cell_type": "markdown",
   "id": "surface-compensation",
   "metadata": {},
   "source": [
    "### **Companies**  <a class=\"anchor\" id=\"rank_com\"></a>"
   ]
  },
  {
   "cell_type": "code",
   "execution_count": 39,
   "id": "naughty-documentation",
   "metadata": {},
   "outputs": [
    {
     "name": "stdout",
     "output_type": "stream",
     "text": [
      "converge at 38\n",
      "28\n"
     ]
    },
    {
     "data": {
      "image/png": "[encoded data removed]",
      "text/plain": [
       "<Figure size 720x720 with 1 Axes>"
      ]
     },
     "metadata": {
      "needs_background": "light"
     },
     "output_type": "display_data"
    }
   ],
   "source": [
    "start_time = time.time()\n",
    "\n",
    "convergence_comp = find_convergence(M,\n",
    "                                    alpha=optimal_alpha_comp, \n",
    "                                    beta=optimal_beta_comp, \n",
    "                                    fit_or_ubiq='fitness', \n",
    "                                    do_plot=True, \n",
    "                                    flag_cybersecurity=flag_cybersecurity)\n",
    "\n",
    "end_time = time.time()"
   ]
  },
  {
   "cell_type": "code",
   "execution_count": 40,
   "id": "constitutional-fusion",
   "metadata": {},
   "outputs": [
    {
     "data": {
      "text/plain": [
       "0.6153910160064697"
      ]
     },
     "execution_count": 40,
     "metadata": {},
     "output_type": "execute_result"
    }
   ],
   "source": [
    "time_conv_comp = end_time - start_time\n",
    "time_conv_comp"
   ]
  },
  {
   "cell_type": "code",
   "execution_count": 41,
   "id": "promising-neutral",
   "metadata": {},
   "outputs": [],
   "source": [
    "df_final_companies, dict_companies = rank_df_class(convergence_comp, dict_companies)"
   ]
  },
  {
   "cell_type": "code",
   "execution_count": 42,
   "id": "level-burning",
   "metadata": {},
   "outputs": [
    {
     "data": {
      "text/plain": [
       "{'fitness': array([5.44912502, 5.27928488, 5.22401632, 5.32014947, 5.31517781,\n",
       "        5.33043066, 4.82435341, 6.070171  , 5.49345706, 4.69383437]),\n",
       " 'iteration': 28,\n",
       " 'initial_conf': array([7, 3, 5, 4, 6, 1, 9, 0, 2, 8]),\n",
       " 'final_conf': array([7, 3, 2, 5, 4, 6, 1, 9, 8, 0])}"
      ]
     },
     "execution_count": 42,
     "metadata": {},
     "output_type": "execute_result"
    }
   ],
   "source": [
    "convergence_comp"
   ]
  },
  {
   "cell_type": "code",
   "execution_count": 43,
   "id": "broke-marble",
   "metadata": {},
   "outputs": [],
   "source": [
    "# relative rank\n",
    "df_final_companies['final_rank_normlized'] = df_final_companies['final_rank']/np.max(list(df_final_companies['final_rank']))*10\n",
    "n = np.max(df_final_companies['rank_CB']) + 1\n",
    "df_final_companies['rank_CB_normlized'] = n - df_final_companies['rank_CB']\n",
    "\n",
    "df_final_companies['TeckRank_int'] = df_final_companies.index + 1.0"
   ]
  },
  {
   "cell_type": "code",
   "execution_count": 44,
   "id": "streaming-madagascar",
   "metadata": {},
   "outputs": [
    {
     "data": {
      "text/html": [
       "<div>\n",
       "<style scoped>\n",
       "    .dataframe tbody tr th:only-of-type {\n",
       "        vertical-align: middle;\n",
       "    }\n",
       "\n",
       "    .dataframe tbody tr th {\n",
       "        vertical-align: top;\n",
       "    }\n",
       "\n",
       "    .dataframe thead th {\n",
       "        text-align: right;\n",
       "    }\n",
       "</style>\n",
       "<table border=\"1\" class=\"dataframe\">\n",
       "  <thead>\n",
       "    <tr style=\"text-align: right;\">\n",
       "      <th></th>\n",
       "      <th>initial_position</th>\n",
       "      <th>final_configuration</th>\n",
       "      <th>degree</th>\n",
       "      <th>final_rank</th>\n",
       "      <th>rank_CB</th>\n",
       "      <th>final_rank_normlized</th>\n",
       "      <th>rank_CB_normlized</th>\n",
       "      <th>TeckRank_int</th>\n",
       "    </tr>\n",
       "  </thead>\n",
       "  <tbody>\n",
       "    <tr>\n",
       "      <th>0</th>\n",
       "      <td>8</td>\n",
       "      <td>1Password</td>\n",
       "      <td>0</td>\n",
       "      <td>4.694</td>\n",
       "      <td>1291.0</td>\n",
       "      <td>7.733114</td>\n",
       "      <td>1.0</td>\n",
       "      <td>1.0</td>\n",
       "    </tr>\n",
       "    <tr>\n",
       "      <th>1</th>\n",
       "      <td>9</td>\n",
       "      <td>Acronis</td>\n",
       "      <td>0</td>\n",
       "      <td>4.824</td>\n",
       "      <td>595.0</td>\n",
       "      <td>7.947282</td>\n",
       "      <td>697.0</td>\n",
       "      <td>2.0</td>\n",
       "    </tr>\n",
       "    <tr>\n",
       "      <th>2</th>\n",
       "      <td>5</td>\n",
       "      <td>Zscaler</td>\n",
       "      <td>0</td>\n",
       "      <td>5.224</td>\n",
       "      <td>170.0</td>\n",
       "      <td>8.60626</td>\n",
       "      <td>1122.0</td>\n",
       "      <td>3.0</td>\n",
       "    </tr>\n",
       "    <tr>\n",
       "      <th>3</th>\n",
       "      <td>3</td>\n",
       "      <td>BigID</td>\n",
       "      <td>0</td>\n",
       "      <td>5.279</td>\n",
       "      <td>152.0</td>\n",
       "      <td>8.69687</td>\n",
       "      <td>1140.0</td>\n",
       "      <td>4.0</td>\n",
       "    </tr>\n",
       "    <tr>\n",
       "      <th>4</th>\n",
       "      <td>6</td>\n",
       "      <td>OPSWAT</td>\n",
       "      <td>0</td>\n",
       "      <td>5.315</td>\n",
       "      <td>528.0</td>\n",
       "      <td>8.756178</td>\n",
       "      <td>764.0</td>\n",
       "      <td>5.0</td>\n",
       "    </tr>\n",
       "    <tr>\n",
       "      <th>5</th>\n",
       "      <td>4</td>\n",
       "      <td>AppOmni</td>\n",
       "      <td>0</td>\n",
       "      <td>5.32</td>\n",
       "      <td>280.0</td>\n",
       "      <td>8.764415</td>\n",
       "      <td>1012.0</td>\n",
       "      <td>6.0</td>\n",
       "    </tr>\n",
       "    <tr>\n",
       "      <th>6</th>\n",
       "      <td>1</td>\n",
       "      <td>Lacework</td>\n",
       "      <td>0</td>\n",
       "      <td>5.33</td>\n",
       "      <td>581.0</td>\n",
       "      <td>8.78089</td>\n",
       "      <td>711.0</td>\n",
       "      <td>7.0</td>\n",
       "    </tr>\n",
       "    <tr>\n",
       "      <th>7</th>\n",
       "      <td>7</td>\n",
       "      <td>OneTrust</td>\n",
       "      <td>0</td>\n",
       "      <td>5.449</td>\n",
       "      <td>107.0</td>\n",
       "      <td>8.976936</td>\n",
       "      <td>1185.0</td>\n",
       "      <td>8.0</td>\n",
       "    </tr>\n",
       "    <tr>\n",
       "      <th>8</th>\n",
       "      <td>2</td>\n",
       "      <td>Talend</td>\n",
       "      <td>0</td>\n",
       "      <td>5.493</td>\n",
       "      <td>1264.0</td>\n",
       "      <td>9.049423</td>\n",
       "      <td>28.0</td>\n",
       "      <td>9.0</td>\n",
       "    </tr>\n",
       "    <tr>\n",
       "      <th>9</th>\n",
       "      <td>0</td>\n",
       "      <td>G4S</td>\n",
       "      <td>0</td>\n",
       "      <td>6.07</td>\n",
       "      <td>988.0</td>\n",
       "      <td>10.0</td>\n",
       "      <td>304.0</td>\n",
       "      <td>10.0</td>\n",
       "    </tr>\n",
       "  </tbody>\n",
       "</table>\n",
       "</div>"
      ],
      "text/plain": [
       "  initial_position final_configuration degree final_rank  rank_CB  \\\n",
       "0                8           1Password      0      4.694   1291.0   \n",
       "1                9             Acronis      0      4.824    595.0   \n",
       "2                5             Zscaler      0      5.224    170.0   \n",
       "3                3               BigID      0      5.279    152.0   \n",
       "4                6              OPSWAT      0      5.315    528.0   \n",
       "5                4             AppOmni      0       5.32    280.0   \n",
       "6                1            Lacework      0       5.33    581.0   \n",
       "7                7            OneTrust      0      5.449    107.0   \n",
       "8                2              Talend      0      5.493   1264.0   \n",
       "9                0                 G4S      0       6.07    988.0   \n",
       "\n",
       "  final_rank_normlized  rank_CB_normlized  TeckRank_int  \n",
       "0             7.733114                1.0           1.0  \n",
       "1             7.947282              697.0           2.0  \n",
       "2              8.60626             1122.0           3.0  \n",
       "3              8.69687             1140.0           4.0  \n",
       "4             8.756178              764.0           5.0  \n",
       "5             8.764415             1012.0           6.0  \n",
       "6              8.78089              711.0           7.0  \n",
       "7             8.976936             1185.0           8.0  \n",
       "8             9.049423               28.0           9.0  \n",
       "9                 10.0              304.0          10.0  "
      ]
     },
     "execution_count": 44,
     "metadata": {},
     "output_type": "execute_result"
    }
   ],
   "source": [
    "df_final_companies"
   ]
  },
  {
   "cell_type": "code",
   "execution_count": 45,
   "id": "statutory-publisher",
   "metadata": {},
   "outputs": [
    {
     "data": {
      "text/html": [
       "<div>\n",
       "<style scoped>\n",
       "    .dataframe tbody tr th:only-of-type {\n",
       "        vertical-align: middle;\n",
       "    }\n",
       "\n",
       "    .dataframe tbody tr th {\n",
       "        vertical-align: top;\n",
       "    }\n",
       "\n",
       "    .dataframe thead th {\n",
       "        text-align: right;\n",
       "    }\n",
       "</style>\n",
       "<table border=\"1\" class=\"dataframe\">\n",
       "  <thead>\n",
       "    <tr style=\"text-align: right;\">\n",
       "      <th></th>\n",
       "      <th>TeckRank_int</th>\n",
       "      <th>rank_CB_normlized</th>\n",
       "    </tr>\n",
       "    <tr>\n",
       "      <th>name</th>\n",
       "      <th></th>\n",
       "      <th></th>\n",
       "    </tr>\n",
       "  </thead>\n",
       "  <tbody>\n",
       "    <tr>\n",
       "      <th>1Password</th>\n",
       "      <td>1.0</td>\n",
       "      <td>1.0</td>\n",
       "    </tr>\n",
       "    <tr>\n",
       "      <th>Acronis</th>\n",
       "      <td>2.0</td>\n",
       "      <td>697.0</td>\n",
       "    </tr>\n",
       "    <tr>\n",
       "      <th>Zscaler</th>\n",
       "      <td>3.0</td>\n",
       "      <td>1122.0</td>\n",
       "    </tr>\n",
       "    <tr>\n",
       "      <th>BigID</th>\n",
       "      <td>4.0</td>\n",
       "      <td>1140.0</td>\n",
       "    </tr>\n",
       "    <tr>\n",
       "      <th>OPSWAT</th>\n",
       "      <td>5.0</td>\n",
       "      <td>764.0</td>\n",
       "    </tr>\n",
       "    <tr>\n",
       "      <th>AppOmni</th>\n",
       "      <td>6.0</td>\n",
       "      <td>1012.0</td>\n",
       "    </tr>\n",
       "    <tr>\n",
       "      <th>Lacework</th>\n",
       "      <td>7.0</td>\n",
       "      <td>711.0</td>\n",
       "    </tr>\n",
       "    <tr>\n",
       "      <th>OneTrust</th>\n",
       "      <td>8.0</td>\n",
       "      <td>1185.0</td>\n",
       "    </tr>\n",
       "    <tr>\n",
       "      <th>Talend</th>\n",
       "      <td>9.0</td>\n",
       "      <td>28.0</td>\n",
       "    </tr>\n",
       "    <tr>\n",
       "      <th>G4S</th>\n",
       "      <td>10.0</td>\n",
       "      <td>304.0</td>\n",
       "    </tr>\n",
       "  </tbody>\n",
       "</table>\n",
       "</div>"
      ],
      "text/plain": [
       "           TeckRank_int  rank_CB_normlized\n",
       "name                                      \n",
       "1Password           1.0                1.0\n",
       "Acronis             2.0              697.0\n",
       "Zscaler             3.0             1122.0\n",
       "BigID               4.0             1140.0\n",
       "OPSWAT              5.0              764.0\n",
       "AppOmni             6.0             1012.0\n",
       "Lacework            7.0              711.0\n",
       "OneTrust            8.0             1185.0\n",
       "Talend              9.0               28.0\n",
       "G4S                10.0              304.0"
      ]
     },
     "execution_count": 45,
     "metadata": {},
     "output_type": "execute_result"
    }
   ],
   "source": [
    "df_spearman = df_final_companies[[\"TeckRank_int\", \"rank_CB_normlized\"]]\n",
    "df_spearman = df_spearman.astype(float)\n",
    "df_spearman[\"name\"] = df_final_companies['final_configuration']\n",
    "df_spearman.set_index(\"name\")"
   ]
  },
  {
   "cell_type": "code",
   "execution_count": 46,
   "id": "recognized-secretariat",
   "metadata": {},
   "outputs": [
    {
     "data": {
      "text/html": [
       "<div>\n",
       "<style scoped>\n",
       "    .dataframe tbody tr th:only-of-type {\n",
       "        vertical-align: middle;\n",
       "    }\n",
       "\n",
       "    .dataframe tbody tr th {\n",
       "        vertical-align: top;\n",
       "    }\n",
       "\n",
       "    .dataframe thead th {\n",
       "        text-align: right;\n",
       "    }\n",
       "</style>\n",
       "<table border=\"1\" class=\"dataframe\">\n",
       "  <thead>\n",
       "    <tr style=\"text-align: right;\">\n",
       "      <th></th>\n",
       "      <th>TeckRank_int</th>\n",
       "      <th>rank_CB_normlized</th>\n",
       "      <th>name</th>\n",
       "    </tr>\n",
       "  </thead>\n",
       "  <tbody>\n",
       "    <tr>\n",
       "      <th>0</th>\n",
       "      <td>1.0</td>\n",
       "      <td>1.0</td>\n",
       "      <td>1Password</td>\n",
       "    </tr>\n",
       "    <tr>\n",
       "      <th>1</th>\n",
       "      <td>2.0</td>\n",
       "      <td>697.0</td>\n",
       "      <td>Acronis</td>\n",
       "    </tr>\n",
       "    <tr>\n",
       "      <th>2</th>\n",
       "      <td>3.0</td>\n",
       "      <td>1122.0</td>\n",
       "      <td>Zscaler</td>\n",
       "    </tr>\n",
       "    <tr>\n",
       "      <th>3</th>\n",
       "      <td>4.0</td>\n",
       "      <td>1140.0</td>\n",
       "      <td>BigID</td>\n",
       "    </tr>\n",
       "    <tr>\n",
       "      <th>4</th>\n",
       "      <td>5.0</td>\n",
       "      <td>764.0</td>\n",
       "      <td>OPSWAT</td>\n",
       "    </tr>\n",
       "    <tr>\n",
       "      <th>5</th>\n",
       "      <td>6.0</td>\n",
       "      <td>1012.0</td>\n",
       "      <td>AppOmni</td>\n",
       "    </tr>\n",
       "    <tr>\n",
       "      <th>6</th>\n",
       "      <td>7.0</td>\n",
       "      <td>711.0</td>\n",
       "      <td>Lacework</td>\n",
       "    </tr>\n",
       "    <tr>\n",
       "      <th>7</th>\n",
       "      <td>8.0</td>\n",
       "      <td>1185.0</td>\n",
       "      <td>OneTrust</td>\n",
       "    </tr>\n",
       "    <tr>\n",
       "      <th>8</th>\n",
       "      <td>9.0</td>\n",
       "      <td>28.0</td>\n",
       "      <td>Talend</td>\n",
       "    </tr>\n",
       "    <tr>\n",
       "      <th>9</th>\n",
       "      <td>10.0</td>\n",
       "      <td>304.0</td>\n",
       "      <td>G4S</td>\n",
       "    </tr>\n",
       "  </tbody>\n",
       "</table>\n",
       "</div>"
      ],
      "text/plain": [
       "   TeckRank_int  rank_CB_normlized       name\n",
       "0           1.0                1.0  1Password\n",
       "1           2.0              697.0    Acronis\n",
       "2           3.0             1122.0    Zscaler\n",
       "3           4.0             1140.0      BigID\n",
       "4           5.0              764.0     OPSWAT\n",
       "5           6.0             1012.0    AppOmni\n",
       "6           7.0              711.0   Lacework\n",
       "7           8.0             1185.0   OneTrust\n",
       "8           9.0               28.0     Talend\n",
       "9          10.0              304.0        G4S"
      ]
     },
     "execution_count": 46,
     "metadata": {},
     "output_type": "execute_result"
    }
   ],
   "source": [
    "df_spearman"
   ]
  },
  {
   "cell_type": "code",
   "execution_count": 47,
   "id": "periodic-duration",
   "metadata": {},
   "outputs": [],
   "source": [
    "# save df\n",
    "name = \"csv_results/complete_companies_\" + str(len(dict_companies)) + \".csv\"\n",
    "df_final_companies.to_csv(name, index = False, header=True)"
   ]
  },
  {
   "cell_type": "markdown",
   "id": "metallic-singapore",
   "metadata": {},
   "source": [
    "**Sperman correlation**"
   ]
  },
  {
   "cell_type": "code",
   "execution_count": 48,
   "id": "attended-sauce",
   "metadata": {},
   "outputs": [
    {
     "data": {
      "image/png": "[encoded data removed]",
      "text/plain": [
       "<Figure size 360x360 with 1 Axes>"
      ]
     },
     "metadata": {
      "needs_background": "light"
     },
     "output_type": "display_data"
    }
   ],
   "source": [
    "sns.lmplot(x=\"rank_CB_normlized\", y=\"TeckRank_int\", data=df_spearman)\n",
    "plt.show()"
   ]
  },
  {
   "cell_type": "code",
   "execution_count": 49,
   "id": "sensitive-london",
   "metadata": {},
   "outputs": [
    {
     "data": {
      "text/html": [
       "<div>\n",
       "<style scoped>\n",
       "    .dataframe tbody tr th:only-of-type {\n",
       "        vertical-align: middle;\n",
       "    }\n",
       "\n",
       "    .dataframe tbody tr th {\n",
       "        vertical-align: top;\n",
       "    }\n",
       "\n",
       "    .dataframe thead th {\n",
       "        text-align: right;\n",
       "    }\n",
       "</style>\n",
       "<table border=\"1\" class=\"dataframe\">\n",
       "  <thead>\n",
       "    <tr style=\"text-align: right;\">\n",
       "      <th></th>\n",
       "      <th>TeckRank_int</th>\n",
       "      <th>rank_CB_normlized</th>\n",
       "    </tr>\n",
       "  </thead>\n",
       "  <tbody>\n",
       "    <tr>\n",
       "      <th>TeckRank_int</th>\n",
       "      <td>1.000000</td>\n",
       "      <td>0.018182</td>\n",
       "    </tr>\n",
       "    <tr>\n",
       "      <th>rank_CB_normlized</th>\n",
       "      <td>0.018182</td>\n",
       "      <td>1.000000</td>\n",
       "    </tr>\n",
       "  </tbody>\n",
       "</table>\n",
       "</div>"
      ],
      "text/plain": [
       "                   TeckRank_int  rank_CB_normlized\n",
       "TeckRank_int           1.000000           0.018182\n",
       "rank_CB_normlized      0.018182           1.000000"
      ]
     },
     "execution_count": 49,
     "metadata": {},
     "output_type": "execute_result"
    }
   ],
   "source": [
    "df_spearman.corr(method='spearman')"
   ]
  },
  {
   "cell_type": "markdown",
   "id": "ceramic-separation",
   "metadata": {},
   "source": [
    "### **Technologies**  <a class=\"anchor\" id=\"rank_tech\"></a>"
   ]
  },
  {
   "cell_type": "code",
   "execution_count": 50,
   "id": "large-equity",
   "metadata": {},
   "outputs": [
    {
     "name": "stdout",
     "output_type": "stream",
     "text": [
      "converge at 20\n",
      "10\n"
     ]
    },
    {
     "data": {
      "image/png": "[encoded data removed]",
      "text/plain": [
       "<Figure size 720x720 with 1 Axes>"
      ]
     },
     "metadata": {
      "needs_background": "light"
     },
     "output_type": "display_data"
    }
   ],
   "source": [
    "start_time = time.time()\n",
    "\n",
    "convergence_tech = find_convergence(M,\n",
    "                                    alpha=optimal_alpha_tech, \n",
    "                                    beta=optimal_beta_tech, \n",
    "                                    fit_or_ubiq='ubiquity', \n",
    "                                    do_plot=True, \n",
    "                                    flag_cybersecurity=flag_cybersecurity)\n",
    "\n",
    "end_time = time.time()"
   ]
  },
  {
   "cell_type": "code",
   "execution_count": 51,
   "id": "shared-wrestling",
   "metadata": {},
   "outputs": [
    {
     "data": {
      "text/plain": [
       "0.7174332141876221"
      ]
     },
     "execution_count": 51,
     "metadata": {},
     "output_type": "execute_result"
    }
   ],
   "source": [
    "time_conv_tech = end_time - start_time\n",
    "time_conv_tech"
   ]
  },
  {
   "cell_type": "code",
   "execution_count": 52,
   "id": "scenic-casting",
   "metadata": {},
   "outputs": [],
   "source": [
    "df_final_tech, dict_tech = rank_df_class(convergence_tech, dict_tech)"
   ]
  },
  {
   "cell_type": "code",
   "execution_count": 53,
   "id": "oriented-princeton",
   "metadata": {},
   "outputs": [
    {
     "data": {
      "text/html": [
       "<div>\n",
       "<style scoped>\n",
       "    .dataframe tbody tr th:only-of-type {\n",
       "        vertical-align: middle;\n",
       "    }\n",
       "\n",
       "    .dataframe tbody tr th {\n",
       "        vertical-align: top;\n",
       "    }\n",
       "\n",
       "    .dataframe thead th {\n",
       "        text-align: right;\n",
       "    }\n",
       "</style>\n",
       "<table border=\"1\" class=\"dataframe\">\n",
       "  <thead>\n",
       "    <tr style=\"text-align: right;\">\n",
       "      <th></th>\n",
       "      <th>initial_position</th>\n",
       "      <th>final_configuration</th>\n",
       "      <th>degree</th>\n",
       "      <th>final_rank</th>\n",
       "    </tr>\n",
       "  </thead>\n",
       "  <tbody>\n",
       "    <tr>\n",
       "      <th>0</th>\n",
       "      <td>4</td>\n",
       "      <td>Artificial Intelligence</td>\n",
       "      <td>0</td>\n",
       "      <td>0.052</td>\n",
       "    </tr>\n",
       "    <tr>\n",
       "      <th>1</th>\n",
       "      <td>1</td>\n",
       "      <td>Data Integration</td>\n",
       "      <td>0</td>\n",
       "      <td>0.052</td>\n",
       "    </tr>\n",
       "    <tr>\n",
       "      <th>2</th>\n",
       "      <td>10</td>\n",
       "      <td>Virtualization</td>\n",
       "      <td>0</td>\n",
       "      <td>0.052</td>\n",
       "    </tr>\n",
       "    <tr>\n",
       "      <th>3</th>\n",
       "      <td>9</td>\n",
       "      <td>Information Technology</td>\n",
       "      <td>0</td>\n",
       "      <td>0.052</td>\n",
       "    </tr>\n",
       "    <tr>\n",
       "      <th>4</th>\n",
       "      <td>14</td>\n",
       "      <td>File Sharing</td>\n",
       "      <td>0</td>\n",
       "      <td>0.052</td>\n",
       "    </tr>\n",
       "    <tr>\n",
       "      <th>5</th>\n",
       "      <td>13</td>\n",
       "      <td>Cloud Infrastructure</td>\n",
       "      <td>0</td>\n",
       "      <td>0.052</td>\n",
       "    </tr>\n",
       "    <tr>\n",
       "      <th>6</th>\n",
       "      <td>12</td>\n",
       "      <td>Cloud Computing</td>\n",
       "      <td>0</td>\n",
       "      <td>0.052</td>\n",
       "    </tr>\n",
       "    <tr>\n",
       "      <th>7</th>\n",
       "      <td>11</td>\n",
       "      <td>Blockchain</td>\n",
       "      <td>0</td>\n",
       "      <td>0.052</td>\n",
       "    </tr>\n",
       "    <tr>\n",
       "      <th>8</th>\n",
       "      <td>0</td>\n",
       "      <td>Developer APIs</td>\n",
       "      <td>0</td>\n",
       "      <td>0.052</td>\n",
       "    </tr>\n",
       "    <tr>\n",
       "      <th>9</th>\n",
       "      <td>3</td>\n",
       "      <td>Cloud Management</td>\n",
       "      <td>0</td>\n",
       "      <td>0.052</td>\n",
       "    </tr>\n",
       "    <tr>\n",
       "      <th>10</th>\n",
       "      <td>2</td>\n",
       "      <td>SaaS</td>\n",
       "      <td>0</td>\n",
       "      <td>0.052</td>\n",
       "    </tr>\n",
       "    <tr>\n",
       "      <th>11</th>\n",
       "      <td>5</td>\n",
       "      <td>Identity Management</td>\n",
       "      <td>0</td>\n",
       "      <td>0.052</td>\n",
       "    </tr>\n",
       "    <tr>\n",
       "      <th>12</th>\n",
       "      <td>6</td>\n",
       "      <td>Computer</td>\n",
       "      <td>0</td>\n",
       "      <td>0.052</td>\n",
       "    </tr>\n",
       "    <tr>\n",
       "      <th>13</th>\n",
       "      <td>8</td>\n",
       "      <td>Web Development</td>\n",
       "      <td>0</td>\n",
       "      <td>0.052</td>\n",
       "    </tr>\n",
       "    <tr>\n",
       "      <th>14</th>\n",
       "      <td>7</td>\n",
       "      <td>Mobile Devices</td>\n",
       "      <td>0</td>\n",
       "      <td>0.052</td>\n",
       "    </tr>\n",
       "    <tr>\n",
       "      <th>15</th>\n",
       "      <td>15</td>\n",
       "      <td>Finance</td>\n",
       "      <td>0</td>\n",
       "      <td>0.052</td>\n",
       "    </tr>\n",
       "    <tr>\n",
       "      <th>16</th>\n",
       "      <td>18</td>\n",
       "      <td>Risk Management</td>\n",
       "      <td>0</td>\n",
       "      <td>0.416</td>\n",
       "    </tr>\n",
       "    <tr>\n",
       "      <th>17</th>\n",
       "      <td>16</td>\n",
       "      <td>Big Data</td>\n",
       "      <td>0</td>\n",
       "      <td>0.416</td>\n",
       "    </tr>\n",
       "    <tr>\n",
       "      <th>18</th>\n",
       "      <td>17</td>\n",
       "      <td>Compliance</td>\n",
       "      <td>0</td>\n",
       "      <td>0.416</td>\n",
       "    </tr>\n",
       "    <tr>\n",
       "      <th>19</th>\n",
       "      <td>19</td>\n",
       "      <td>Network Security</td>\n",
       "      <td>0</td>\n",
       "      <td>0.416</td>\n",
       "    </tr>\n",
       "    <tr>\n",
       "      <th>20</th>\n",
       "      <td>21</td>\n",
       "      <td>Privacy</td>\n",
       "      <td>0</td>\n",
       "      <td>1.404</td>\n",
       "    </tr>\n",
       "    <tr>\n",
       "      <th>21</th>\n",
       "      <td>20</td>\n",
       "      <td>Cloud Security</td>\n",
       "      <td>0</td>\n",
       "      <td>1.404</td>\n",
       "    </tr>\n",
       "    <tr>\n",
       "      <th>22</th>\n",
       "      <td>22</td>\n",
       "      <td>Security</td>\n",
       "      <td>0</td>\n",
       "      <td>3.329</td>\n",
       "    </tr>\n",
       "    <tr>\n",
       "      <th>23</th>\n",
       "      <td>23</td>\n",
       "      <td>Enterprise Software</td>\n",
       "      <td>0</td>\n",
       "      <td>6.501</td>\n",
       "    </tr>\n",
       "    <tr>\n",
       "      <th>24</th>\n",
       "      <td>24</td>\n",
       "      <td>Cyber Security</td>\n",
       "      <td>0</td>\n",
       "      <td>11.234</td>\n",
       "    </tr>\n",
       "    <tr>\n",
       "      <th>25</th>\n",
       "      <td>25</td>\n",
       "      <td>Software</td>\n",
       "      <td>0</td>\n",
       "      <td>26.63</td>\n",
       "    </tr>\n",
       "  </tbody>\n",
       "</table>\n",
       "</div>"
      ],
      "text/plain": [
       "   initial_position      final_configuration degree final_rank\n",
       "0                 4  Artificial Intelligence      0      0.052\n",
       "1                 1         Data Integration      0      0.052\n",
       "2                10           Virtualization      0      0.052\n",
       "3                 9   Information Technology      0      0.052\n",
       "4                14             File Sharing      0      0.052\n",
       "5                13     Cloud Infrastructure      0      0.052\n",
       "6                12          Cloud Computing      0      0.052\n",
       "7                11               Blockchain      0      0.052\n",
       "8                 0           Developer APIs      0      0.052\n",
       "9                 3         Cloud Management      0      0.052\n",
       "10                2                     SaaS      0      0.052\n",
       "11                5      Identity Management      0      0.052\n",
       "12                6                 Computer      0      0.052\n",
       "13                8          Web Development      0      0.052\n",
       "14                7           Mobile Devices      0      0.052\n",
       "15               15                  Finance      0      0.052\n",
       "16               18          Risk Management      0      0.416\n",
       "17               16                 Big Data      0      0.416\n",
       "18               17               Compliance      0      0.416\n",
       "19               19         Network Security      0      0.416\n",
       "20               21                  Privacy      0      1.404\n",
       "21               20           Cloud Security      0      1.404\n",
       "22               22                 Security      0      3.329\n",
       "23               23      Enterprise Software      0      6.501\n",
       "24               24           Cyber Security      0     11.234\n",
       "25               25                 Software      0      26.63"
      ]
     },
     "execution_count": 53,
     "metadata": {},
     "output_type": "execute_result"
    }
   ],
   "source": [
    "df_final_tech"
   ]
  },
  {
   "cell_type": "code",
   "execution_count": 54,
   "id": "heavy-exchange",
   "metadata": {},
   "outputs": [],
   "source": [
    "# save df\n",
    "name = \"csv_results/complete_tech_\" + str(len(dict_tech)) + \".csv\"\n",
    "\n",
    "df_final_tech.to_csv(name, index = False, header=True)"
   ]
  },
  {
   "cell_type": "markdown",
   "id": "static-gathering",
   "metadata": {},
   "source": [
    "df_rank_evolu = pd.read_csv('savings/useful_datasets/df_rank_evolu.csv')\n",
    "### Keep track of the optimal parameters and the number of iterations <a class=\"anchor\" id=\"track\"></a>\n",
    "\n",
    "In a dataframe file we track the optimal parameters in each *case* (number of companies/technologies and preferences), in order to have track of everything \n"
   ]
  },
  {
   "cell_type": "code",
   "execution_count": 55,
   "id": "ahead-alberta",
   "metadata": {},
   "outputs": [
    {
     "data": {
      "text/html": [
       "<div>\n",
       "<style scoped>\n",
       "    .dataframe tbody tr th:only-of-type {\n",
       "        vertical-align: middle;\n",
       "    }\n",
       "\n",
       "    .dataframe tbody tr th {\n",
       "        vertical-align: top;\n",
       "    }\n",
       "\n",
       "    .dataframe thead th {\n",
       "        text-align: right;\n",
       "    }\n",
       "</style>\n",
       "<table border=\"1\" class=\"dataframe\">\n",
       "  <thead>\n",
       "    <tr style=\"text-align: right;\">\n",
       "      <th></th>\n",
       "      <th>Unnamed: 0</th>\n",
       "      <th>number_iterations_tech</th>\n",
       "      <th>optimal_alpha_tech</th>\n",
       "      <th>time_conv_total</th>\n",
       "      <th>time_optimal_par_comp</th>\n",
       "      <th>number_iterations_comp</th>\n",
       "      <th>num_comp</th>\n",
       "      <th>time_conv_comp</th>\n",
       "      <th>num_tech</th>\n",
       "      <th>preferences_tech</th>\n",
       "      <th>time_optimal_par_tech</th>\n",
       "      <th>optimal_alpha_comp</th>\n",
       "      <th>optimal_beta_tech</th>\n",
       "      <th>time_conv_tech</th>\n",
       "      <th>preferences_comp</th>\n",
       "      <th>optimal_beta_comp</th>\n",
       "    </tr>\n",
       "  </thead>\n",
       "  <tbody>\n",
       "  </tbody>\n",
       "</table>\n",
       "</div>"
      ],
      "text/plain": [
       "Empty DataFrame\n",
       "Columns: [Unnamed: 0, number_iterations_tech, optimal_alpha_tech, time_conv_total, time_optimal_par_comp, number_iterations_comp, num_comp, time_conv_comp, num_tech, preferences_tech, time_optimal_par_tech, optimal_alpha_comp, optimal_beta_tech, time_conv_tech, preferences_comp, optimal_beta_comp]\n",
       "Index: []"
      ]
     },
     "execution_count": 55,
     "metadata": {},
     "output_type": "execute_result"
    }
   ],
   "source": [
    "df_rank_evolu = pd.read_csv('savings/useful_datasets/df_rank_evolu.csv')\n",
    "df_rank_evolu.head()"
   ]
  },
  {
   "cell_type": "code",
   "execution_count": 56,
   "id": "selected-hayes",
   "metadata": {},
   "outputs": [],
   "source": [
    "# check if that specific case is already in the csv\n",
    "if ((df_rank_evolu['num_comp'] == num_comp) &\n",
    "    (df_rank_evolu['num_tech'] == num_tech) &\n",
    "    (df_rank_evolu['preferences_comp'] == str(preferences_comp)) &\n",
    "    (df_rank_evolu['preferences_tech'] == str(preferences_tech))\n",
    "    ).any(): # present\n",
    "    \n",
    "    print(\"Already analysed\")\n",
    "    \n",
    "    \"\"\"    # find the index (sorry this part is a bit verbose):\n",
    "    a = (df_rank_evolu['num_comp'] == num_comp )\n",
    "    df_sel = df_rank_evolu[a]\n",
    "    a = (df_sel['num_tech'] == num_tech )\n",
    "    df_sel = df_sel[a]\n",
    "    a = (df_sel['preferences_comp'] == preferences_comp )\n",
    "    df_sel = df_sel[a]\n",
    "    a = (df_sel['preferences_tech'] == preferences_tech )\n",
    "    df_sel = df_sel[a]\n",
    "    index = df_sel.index\n",
    "    \n",
    "    print(index)\n",
    "    \n",
    "    df_rank_evolu.loc[index, 'optimal_alpha_comp'] = optimal_alpha_comp\n",
    "    df_rank_evolu.loc[index, 'optimal_beta_comp'] = optimal_beta_comp\n",
    "    df_rank_evolu.loc[index, 'optimal_alpha_tech'] = optimal_alpha_tech\n",
    "    df_rank_evolu.loc[index, 'optimal_beta_tech'] = optimal_beta_tech\"\"\"\n",
    "    \n",
    "else:\n",
    "    new_row = {'num_comp': num_comp,\n",
    "               'num_tech': num_tech,\n",
    "                'preferences_comp': str(preferences_comp),\n",
    "                'preferences_tech': str(preferences_tech),\n",
    "                'optimal_alpha_comp': optimal_alpha_comp,\n",
    "                'optimal_beta_comp': optimal_beta_comp,\n",
    "                'optimal_alpha_tech': optimal_alpha_tech,\n",
    "                'optimal_beta_tech': optimal_beta_tech,\n",
    "                'number_iterations_comp': convergence_comp['iteration'],\n",
    "                'number_iterations_tech': convergence_tech['iteration'],\n",
    "                'time_optimal_par_comp': time_optimal_par_comp,\n",
    "                'time_optimal_par_tech': time_optimal_par_tech,\n",
    "                'time_conv_comp': time_conv_comp,\n",
    "                'time_conv_tech': time_conv_tech,\n",
    "                'time_conv_total' : time_conv_comp + time_conv_tech\n",
    "            }\n",
    "    df_rank_evolu = df_rank_evolu.append(new_row, ignore_index=True)\n",
    "    \n",
    " "
   ]
  },
  {
   "cell_type": "code",
   "execution_count": 58,
   "id": "banner-uncertainty",
   "metadata": {},
   "outputs": [
    {
     "data": {
      "text/html": [
       "<div>\n",
       "<style scoped>\n",
       "    .dataframe tbody tr th:only-of-type {\n",
       "        vertical-align: middle;\n",
       "    }\n",
       "\n",
       "    .dataframe tbody tr th {\n",
       "        vertical-align: top;\n",
       "    }\n",
       "\n",
       "    .dataframe thead th {\n",
       "        text-align: right;\n",
       "    }\n",
       "</style>\n",
       "<table border=\"1\" class=\"dataframe\">\n",
       "  <thead>\n",
       "    <tr style=\"text-align: right;\">\n",
       "      <th></th>\n",
       "      <th>Unnamed: 0</th>\n",
       "      <th>number_iterations_tech</th>\n",
       "      <th>optimal_alpha_tech</th>\n",
       "      <th>time_conv_total</th>\n",
       "      <th>time_optimal_par_comp</th>\n",
       "      <th>number_iterations_comp</th>\n",
       "      <th>num_comp</th>\n",
       "      <th>time_conv_comp</th>\n",
       "      <th>num_tech</th>\n",
       "      <th>preferences_tech</th>\n",
       "      <th>time_optimal_par_tech</th>\n",
       "      <th>optimal_alpha_comp</th>\n",
       "      <th>optimal_beta_tech</th>\n",
       "      <th>time_conv_tech</th>\n",
       "      <th>preferences_comp</th>\n",
       "      <th>optimal_beta_comp</th>\n",
       "    </tr>\n",
       "  </thead>\n",
       "  <tbody>\n",
       "    <tr>\n",
       "      <th>0</th>\n",
       "      <td>NaN</td>\n",
       "      <td>10</td>\n",
       "      <td>-2.0</td>\n",
       "      <td>1.332824</td>\n",
       "      <td>11.11535</td>\n",
       "      <td>28</td>\n",
       "      <td>10</td>\n",
       "      <td>0.615391</td>\n",
       "      <td>26</td>\n",
       "      <td>{'previous_investments': 100}</td>\n",
       "      <td>12.032559</td>\n",
       "      <td>0.12</td>\n",
       "      <td>0.0</td>\n",
       "      <td>0.717433</td>\n",
       "      <td>{'previous_investments': 100, 'crunchbase_rank...</td>\n",
       "      <td>1.2</td>\n",
       "    </tr>\n",
       "  </tbody>\n",
       "</table>\n",
       "</div>"
      ],
      "text/plain": [
       "   Unnamed: 0 number_iterations_tech  optimal_alpha_tech  time_conv_total  \\\n",
       "0         NaN                     10                -2.0         1.332824   \n",
       "\n",
       "   time_optimal_par_comp number_iterations_comp num_comp  time_conv_comp  \\\n",
       "0               11.11535                     28       10        0.615391   \n",
       "\n",
       "  num_tech               preferences_tech  time_optimal_par_tech  \\\n",
       "0       26  {'previous_investments': 100}              12.032559   \n",
       "\n",
       "   optimal_alpha_comp  optimal_beta_tech  time_conv_tech  \\\n",
       "0                0.12                0.0        0.717433   \n",
       "\n",
       "                                    preferences_comp  optimal_beta_comp  \n",
       "0  {'previous_investments': 100, 'crunchbase_rank...                1.2  "
      ]
     },
     "execution_count": 58,
     "metadata": {},
     "output_type": "execute_result"
    }
   ],
   "source": [
    "df_rank_evolu.head()"
   ]
  },
  {
   "cell_type": "code",
   "execution_count": 59,
   "id": "gentle-violence",
   "metadata": {},
   "outputs": [],
   "source": [
    "# save \n",
    "df_rank_evolu.to_csv('savings/useful_datasets/df_rank_evolu.csv')"
   ]
  },
  {
   "cell_type": "code",
   "execution_count": null,
   "id": "renewable-penetration",
   "metadata": {},
   "outputs": [],
   "source": []
  }
 ],
 "metadata": {
  "interpreter": {
   "hash": "b26dfc579e8edf5b1e25967756ce48bf166110ec5e523d5787a4edb107f755fd"
  },
  "kernelspec": {
   "display_name": "Python 3.8.5 64-bit ('arma': conda)",
   "language": "python",
   "name": "python385jvsc74a57bd0b26dfc579e8edf5b1e25967756ce48bf166110ec5e523d5787a4edb107f755fd"
  },
  "language_info": {
   "codemirror_mode": {
    "name": "ipython",
    "version": 3
   },
   "file_extension": ".py",
   "mimetype": "text/x-python",
   "name": "python",
   "nbconvert_exporter": "python",
   "pygments_lexer": "ipython3",
   "version": "3.8.5"
  }
 },
 "nbformat": 4,
 "nbformat_minor": 5
}
